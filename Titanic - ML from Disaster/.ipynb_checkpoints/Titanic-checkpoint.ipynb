{
 "cells": [
  {
   "cell_type": "code",
   "execution_count": 1,
   "metadata": {
    "collapsed": false
   },
   "outputs": [
    {
     "name": "stdout",
     "output_type": "stream",
     "text": [
      "Populating the interactive namespace from numpy and matplotlib\n"
     ]
    }
   ],
   "source": [
    "import numpy as np\n",
    "import pandas as pd\n",
    "import csv as csv\n",
    "%pylab inline"
   ]
  },
  {
   "cell_type": "code",
   "execution_count": 2,
   "metadata": {
    "collapsed": false
   },
   "outputs": [],
   "source": [
    "# Open up the CSV file in to a Python object and \n",
    "# then save it as a numpy array\n",
    "data = []\n",
    "with open('train.csv', 'rb') as f:\n",
    "    reader = csv.reader(f)\n",
    "    data = np.array(list(reader))\n",
    "    header = data[0]\n",
    "    data = data[1:]\n"
   ]
  },
  {
   "cell_type": "code",
   "execution_count": 3,
   "metadata": {
    "collapsed": false
   },
   "outputs": [
    {
     "name": "stdout",
     "output_type": "stream",
     "text": [
      "891\n"
     ]
    }
   ],
   "source": [
    "print len(data)"
   ]
  },
  {
   "cell_type": "code",
   "execution_count": 4,
   "metadata": {
    "collapsed": false
   },
   "outputs": [
    {
     "name": "stdout",
     "output_type": "stream",
     "text": [
      "['PassengerId' 'Survived' 'Pclass' 'Name' 'Sex' 'Age' 'SibSp' 'Parch'\n",
      " 'Ticket' 'Fare' 'Cabin' 'Embarked']\n",
      "['1' '0' '3' 'Braund, Mr. Owen Harris' 'male' '22' '1' '0' 'A/5 21171'\n",
      " '7.25' '' 'S']\n"
     ]
    }
   ],
   "source": [
    "print header\n",
    "print data[0]"
   ]
  },
  {
   "cell_type": "code",
   "execution_count": 5,
   "metadata": {
    "collapsed": true
   },
   "outputs": [],
   "source": [
    "# Find the total number of passengers and the number of survivors\n",
    "number_passengers = np.size(data[0::, 1].astype(np.float))\n",
    "number_survived = np.sum(data[0::, 1].astype(np.float))\n"
   ]
  },
  {
   "cell_type": "code",
   "execution_count": 6,
   "metadata": {
    "collapsed": false
   },
   "outputs": [
    {
     "name": "stdout",
     "output_type": "stream",
     "text": [
      "Total passengers 891\n",
      "Total number of survivors 342.0\n"
     ]
    }
   ],
   "source": [
    "print 'Total passengers', number_passengers\n",
    "print 'Total number of survivors', number_survived"
   ]
  },
  {
   "cell_type": "code",
   "execution_count": 7,
   "metadata": {
    "collapsed": false
   },
   "outputs": [
    {
     "name": "stdout",
     "output_type": "stream",
     "text": [
      "0.383838383838\n"
     ]
    }
   ],
   "source": [
    "# Find the ratio of survivors on the Titanic\n",
    "proportion_survivors = number_survived / number_passengers\n",
    "print proportion_survivors"
   ]
  },
  {
   "cell_type": "markdown",
   "metadata": {},
   "source": [
    "**Search the gender column, find where any elements equal female (and for males, 'do not equal female'), and then use this to determine the number of females and males that survived**"
   ]
  },
  {
   "cell_type": "code",
   "execution_count": 8,
   "metadata": {
    "collapsed": true
   },
   "outputs": [],
   "source": [
    "# Find where all the elements in the gender column are equal to 'female'\n",
    "women = data[0::, 4] == 'female'\n",
    "\n",
    "# Find where all the elements in the gender column are not equal to 'male'\n",
    "men = data[0::, 4] == 'male'"
   ]
  },
  {
   "cell_type": "markdown",
   "metadata": {},
   "source": [
    "- Use These two new variables as a 'mask' on our original train data, so we can select only women and only men on board.\n",
    "- Calculate the proportion of those who survived"
   ]
  },
  {
   "cell_type": "code",
   "execution_count": 9,
   "metadata": {
    "collapsed": false
   },
   "outputs": [],
   "source": [
    "# Using the index from above we select the females and males separately\n",
    "women_onboard = data[women, 1].astype(np.float)\n",
    "men_onboard = data[men, 1].astype(np.float)"
   ]
  },
  {
   "cell_type": "code",
   "execution_count": 10,
   "metadata": {
    "collapsed": false
   },
   "outputs": [
    {
     "name": "stdout",
     "output_type": "stream",
     "text": [
      "Proportion of women who survived is 0.742038216561\n",
      "Proportion of men who survived is 0.188908145581\n"
     ]
    }
   ],
   "source": [
    "# Then find the proportion of them that survived\n",
    "proportion_women_survived = np.sum(women_onboard) / np.size(women_onboard)\n",
    "proportion_men_survived = np.sum(men_onboard) / np.size(men_onboard)\n",
    "print 'Proportion of women who survived is %s' % (proportion_women_survived)\n",
    "print 'Proportion of men who survived is %s' %(proportion_men_survived)"
   ]
  },
  {
   "cell_type": "markdown",
   "metadata": {},
   "source": [
    "## Reading the test data and writing the gender model as csv"
   ]
  },
  {
   "cell_type": "code",
   "execution_count": 11,
   "metadata": {
    "collapsed": true
   },
   "outputs": [],
   "source": [
    "with open('test.csv', 'rb') as test_file:\n",
    "    reader = csv.reader(test_file)\n",
    "    test_data = list(reader)\n",
    "    header = np.array(test_data[0])\n",
    "    test_data = np.array(test_data[1:])\n",
    "    "
   ]
  },
  {
   "cell_type": "code",
   "execution_count": 12,
   "metadata": {
    "collapsed": false
   },
   "outputs": [
    {
     "data": {
      "text/plain": [
       "array(['PassengerId', 'Pclass', 'Name', 'Sex', 'Age', 'SibSp', 'Parch',\n",
       "       'Ticket', 'Fare', 'Cabin', 'Embarked'], \n",
       "      dtype='|S11')"
      ]
     },
     "execution_count": 12,
     "metadata": {},
     "output_type": "execute_result"
    }
   ],
   "source": [
    "header"
   ]
  },
  {
   "cell_type": "code",
   "execution_count": 13,
   "metadata": {
    "collapsed": false
   },
   "outputs": [
    {
     "name": "stdout",
     "output_type": "stream",
     "text": [
      "['892' '3' 'Kelly, Mr. James' 'male' '34.5' '0' '0' '330911' '7.8292' ''\n",
      " 'Q']\n"
     ]
    }
   ],
   "source": [
    "len(test_data)\n",
    "print test_data[0]"
   ]
  },
  {
   "cell_type": "code",
   "execution_count": 14,
   "metadata": {
    "collapsed": false
   },
   "outputs": [],
   "source": [
    "with open('genderbasedmodel.csv', 'wb') as gm:\n",
    "    writer = csv.writer(gm)\n",
    "    \n",
    "    # Write header\n",
    "    writer.writerow(['PassengerId', 'Survived'])\n",
    "    \n",
    "    # We now read the test file  row by row, see if there is female or male\n",
    "    # and  write our survival prediction to new file\n",
    "    \n",
    "    for row in test_data:\n",
    "        if row[3] == 'female':\n",
    "            writer.writerow([row[0], '1'])  # Predict 1\n",
    "            \n",
    "        else:\n",
    "            writer.writerow([row[0], '0'])"
   ]
  },
  {
   "cell_type": "code",
   "execution_count": null,
   "metadata": {
    "collapsed": true
   },
   "outputs": [],
   "source": []
  }
 ],
 "metadata": {
  "anaconda-cloud": {},
  "kernelspec": {
   "display_name": "Python [conda root]",
   "language": "python",
   "name": "conda-root-py"
  },
  "language_info": {
   "codemirror_mode": {
    "name": "ipython",
    "version": 2
   },
   "file_extension": ".py",
   "mimetype": "text/x-python",
   "name": "python",
   "nbconvert_exporter": "python",
   "pygments_lexer": "ipython2",
   "version": "2.7.12"
  }
 },
 "nbformat": 4,
 "nbformat_minor": 1
}
