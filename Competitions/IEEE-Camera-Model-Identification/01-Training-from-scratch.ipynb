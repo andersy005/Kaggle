{
 "cells": [
  {
   "cell_type": "markdown",
   "metadata": {
    "toc": true
   },
   "source": [
    "<h1>Table of Contents<span class=\"tocSkip\"></span></h1>\n",
    "<div class=\"toc\" style=\"margin-top: 1em;\"><ul class=\"toc-item\"><li><span><a href=\"#Loading-the-data\" data-toc-modified-id=\"Loading-the-data-1\"><span class=\"toc-item-num\">1&nbsp;&nbsp;</span>Loading the data</a></span><ul class=\"toc-item\"><li><span><a href=\"#Copying-images-to-training,-validation,-and-test-directories\" data-toc-modified-id=\"Copying-images-to-training,-validation,-and-test-directories-1.1\"><span class=\"toc-item-num\">1.1&nbsp;&nbsp;</span>Copying images to training, validation, and test directories</a></span></li></ul></li><li><span><a href=\"#Model\" data-toc-modified-id=\"Model-2\"><span class=\"toc-item-num\">2&nbsp;&nbsp;</span>Model</a></span><ul class=\"toc-item\"><li><span><a href=\"#Building-the-network\" data-toc-modified-id=\"Building-the-network-2.1\"><span class=\"toc-item-num\">2.1&nbsp;&nbsp;</span>Building the network</a></span></li><li><span><a href=\"#Configure-the-model-for-training\" data-toc-modified-id=\"Configure-the-model-for-training-2.2\"><span class=\"toc-item-num\">2.2&nbsp;&nbsp;</span>Configure the model for training</a></span></li></ul></li><li><span><a href=\"#Data-Preprocessing\" data-toc-modified-id=\"Data-Preprocessing-3\"><span class=\"toc-item-num\">3&nbsp;&nbsp;</span>Data Preprocessing</a></span></li><li><span><a href=\"#Fitting-the-model-using-a-batch-generator\" data-toc-modified-id=\"Fitting-the-model-using-a-batch-generator-4\"><span class=\"toc-item-num\">4&nbsp;&nbsp;</span>Fitting the model using a batch generator</a></span></li></ul></div>"
   ]
  },
  {
   "cell_type": "markdown",
   "metadata": {},
   "source": [
    "# Loading the data"
   ]
  },
  {
   "cell_type": "markdown",
   "metadata": {},
   "source": [
    "## Copying images to training, validation, and test directories"
   ]
  },
  {
   "cell_type": "code",
   "execution_count": 1,
   "metadata": {},
   "outputs": [],
   "source": [
    "import os\n",
    "import shutil"
   ]
  },
  {
   "cell_type": "code",
   "execution_count": 2,
   "metadata": {},
   "outputs": [],
   "source": [
    "original_dataset_dir = '/home/abanihi/Documents/deep-data/kaggle/IEEE-camera-model/train'"
   ]
  },
  {
   "cell_type": "code",
   "execution_count": 3,
   "metadata": {},
   "outputs": [],
   "source": [
    "base_dir = '/home/abanihi/Documents/deep-data/kaggle/IEEE-camera-model/camera_model_small'"
   ]
  },
  {
   "cell_type": "code",
   "execution_count": 4,
   "metadata": {},
   "outputs": [],
   "source": [
    "# Check to see if base_dir exists, if not create it\n",
    "if not os.path.exists(base_dir):\n",
    "    os.mkdir(base_dir)"
   ]
  },
  {
   "cell_type": "code",
   "execution_count": 5,
   "metadata": {},
   "outputs": [
    {
     "data": {
      "text/plain": [
       "['HTC-1-M7',\n",
       " 'iPhone-6',\n",
       " 'iPhone-4s',\n",
       " 'Samsung-Galaxy-Note3',\n",
       " 'Motorola-Nexus-6',\n",
       " 'Motorola-Droid-Maxx',\n",
       " 'LG-Nexus-5x',\n",
       " 'Sony-NEX-7',\n",
       " 'Samsung-Galaxy-S4',\n",
       " 'Motorola-X']"
      ]
     },
     "execution_count": 5,
     "metadata": {},
     "output_type": "execute_result"
    }
   ],
   "source": [
    "# Get camera list\n",
    "cameras = os.listdir(original_dataset_dir)\n",
    "cameras"
   ]
  },
  {
   "cell_type": "code",
   "execution_count": 6,
   "metadata": {},
   "outputs": [],
   "source": [
    "train_dir = os.path.join(base_dir, 'train')\n",
    "if not os.path.exists(train_dir):\n",
    "    os.mkdir(train_dir)\n",
    "validation_dir = os.path.join(base_dir, 'validation')\n",
    "if not os.path.exists(validation_dir):\n",
    "    os.mkdir(validation_dir)\n",
    "test_dir = os.path.join(base_dir, 'test')\n",
    "if not os.path.exists(test_dir):\n",
    "    os.mkdir(test_dir)"
   ]
  },
  {
   "cell_type": "code",
   "execution_count": 7,
   "metadata": {},
   "outputs": [],
   "source": [
    "for camera in cameras:\n",
    "    train_camera_dir = os.path.join(train_dir, camera)\n",
    "    if not os.path.exists(train_camera_dir):\n",
    "        os.mkdir(train_camera_dir)\n",
    "\n",
    "    validation_camera_dir = os.path.join(validation_dir, camera)\n",
    "    if not os.path.exists(validation_camera_dir):\n",
    "        os.mkdir(validation_camera_dir)\n",
    "\n",
    "    test_camera_dir = os.path.join(test_dir, camera)\n",
    "    if not os.path.exists(test_camera_dir):\n",
    "        os.mkdir(test_camera_dir)"
   ]
  },
  {
   "cell_type": "code",
   "execution_count": 8,
   "metadata": {},
   "outputs": [
    {
     "data": {
      "text/plain": [
       "'HTC-1-M7'"
      ]
     },
     "execution_count": 8,
     "metadata": {},
     "output_type": "execute_result"
    }
   ],
   "source": [
    "cameras[0]"
   ]
  },
  {
   "cell_type": "code",
   "execution_count": 9,
   "metadata": {},
   "outputs": [
    {
     "data": {
      "text/plain": [
       "['HTC-1-M7',\n",
       " 'iPhone-6',\n",
       " 'iPhone-4s',\n",
       " 'Samsung-Galaxy-Note3',\n",
       " 'Motorola-Nexus-6',\n",
       " 'Motorola-Droid-Maxx',\n",
       " 'LG-Nexus-5x',\n",
       " 'Sony-NEX-7',\n",
       " 'Samsung-Galaxy-S4',\n",
       " 'Motorola-X']"
      ]
     },
     "execution_count": 9,
     "metadata": {},
     "output_type": "execute_result"
    }
   ],
   "source": [
    "fnames = ['{}'.format(camera) for camera in cameras]\n",
    "fnames"
   ]
  },
  {
   "cell_type": "code",
   "execution_count": 10,
   "metadata": {},
   "outputs": [
    {
     "data": {
      "text/plain": [
       "10"
      ]
     },
     "execution_count": 10,
     "metadata": {},
     "output_type": "execute_result"
    }
   ],
   "source": [
    "camera_photos_names_prefix = [('HTC-1-M7', 'HTC-1-M7'),\n",
    "                              ('iPhone-4s', 'iP4s'),\n",
    "                              ('iPhone-6', 'iP6'),\n",
    "                              ('LG-Nexus-5x', 'LG5x'),\n",
    "                              ('Motorola-Droid-Maxx', 'MotoMax'),\n",
    "                              ('Motorola-Nexus-6', 'MotoNex6'),\n",
    "                              ('Motorola-X', 'MotoX'),\n",
    "                              ('Samsung-Galaxy-Note3', 'GalaxyN3'),\n",
    "                              ('Samsung-Galaxy-S4', 'GalaxyS4'),\n",
    "                              ('Sony-NEX-7', 'Nex7')]\n",
    "len(camera_photos_names_prefix)"
   ]
  },
  {
   "cell_type": "markdown",
   "metadata": {},
   "source": [
    "- Copy the first 50 images from each camera to each camera training dir"
   ]
  },
  {
   "cell_type": "code",
   "execution_count": 11,
   "metadata": {},
   "outputs": [],
   "source": [
    "for camera in camera_photos_names_prefix:\n",
    "    ext1 = '.jpg'\n",
    "    ext2 = '.JPG'\n",
    "\n",
    "    fnames = []\n",
    "    for i in range(100):\n",
    "        if camera[0] != 'Sony-NEX-7':\n",
    "\n",
    "            fnames.append('(' + camera[1] + ')' + str(i + 1) + ext1)\n",
    "\n",
    "        elif camera[0] == 'Sony-NEX-7':\n",
    "\n",
    "            fnames.append('(' + camera[1] + ')' + str(i + 1) + ext2)\n",
    "\n",
    "    for fname in fnames:\n",
    "        src = os.path.join(os.path.join(\n",
    "            original_dataset_dir, camera[0]), fname)\n",
    "        dst = os.path.join(os.path.join(train_dir, camera[0]), fname)\n",
    "        if not os.path.exists(dst):\n",
    "            shutil.copy(src, dst)\n"
   ]
  },
  {
   "cell_type": "markdown",
   "metadata": {},
   "source": [
    "- Copy the next 25 images from each camera to each camera validation dir"
   ]
  },
  {
   "cell_type": "code",
   "execution_count": 12,
   "metadata": {},
   "outputs": [],
   "source": [
    "for camera in camera_photos_names_prefix:\n",
    "    ext1 = '.jpg'\n",
    "    ext2 = '.JPG'\n",
    "\n",
    "    fnames = []\n",
    "    for i in range(100, 150):\n",
    "        if camera[0] != 'Sony-NEX-7':\n",
    "\n",
    "            fnames.append('(' + camera[1] + ')' + str(i + 1) + ext1)\n",
    "\n",
    "        elif camera[0] == 'Sony-NEX-7':\n",
    "\n",
    "            fnames.append('(' + camera[1] + ')' + str(i + 1) + ext2)\n",
    "\n",
    "    for fname in fnames:\n",
    "        src = os.path.join(os.path.join(\n",
    "            original_dataset_dir, camera[0]), fname)\n",
    "        dst = os.path.join(os.path.join(validation_dir, camera[0]), fname)\n",
    "        if not os.path.exists(dst):\n",
    "            shutil.copy(src, dst)\n"
   ]
  },
  {
   "cell_type": "markdown",
   "metadata": {},
   "source": [
    "- Copy the next 25 images from each camera to each camera test dir"
   ]
  },
  {
   "cell_type": "code",
   "execution_count": 13,
   "metadata": {},
   "outputs": [],
   "source": [
    "for camera in camera_photos_names_prefix:\n",
    "    ext1 = '.jpg'\n",
    "    ext2 = '.JPG'\n",
    "\n",
    "    fnames = []\n",
    "    for i in range(150, 200):\n",
    "        if camera[0] != 'Sony-NEX-7':\n",
    "\n",
    "            fnames.append('(' + camera[1] + ')' + str(i + 1) + ext1)\n",
    "\n",
    "        elif camera[0] == 'Sony-NEX-7':\n",
    "\n",
    "            fnames.append('(' + camera[1] + ')' + str(i + 1) + ext2)\n",
    "\n",
    "    for fname in fnames:\n",
    "        src = os.path.join(os.path.join(\n",
    "            original_dataset_dir, camera[0]), fname)\n",
    "        dst = os.path.join(os.path.join(test_dir, camera[0]), fname)\n",
    "        if not os.path.exists(dst):\n",
    "            shutil.copy(src, dst)\n"
   ]
  },
  {
   "cell_type": "markdown",
   "metadata": {},
   "source": [
    "As a sanity check, let's count how many pictures are in each training split (train/validation/test):"
   ]
  },
  {
   "cell_type": "code",
   "execution_count": 14,
   "metadata": {},
   "outputs": [
    {
     "name": "stdout",
     "output_type": "stream",
     "text": [
      "Total training HTC-1-M7 images: 100 \n",
      "Total training iPhone-6 images: 100 \n",
      "Total training iPhone-4s images: 100 \n",
      "Total training Samsung-Galaxy-Note3 images: 100 \n",
      "Total training Motorola-Nexus-6 images: 100 \n",
      "Total training Motorola-Droid-Maxx images: 100 \n",
      "Total training LG-Nexus-5x images: 100 \n",
      "Total training Sony-NEX-7 images: 100 \n",
      "Total training Samsung-Galaxy-S4 images: 100 \n",
      "Total training Motorola-X images: 100 \n"
     ]
    }
   ],
   "source": [
    "for camera in cameras:\n",
    "    camera_dir = os.path.join(train_dir, camera)\n",
    "    print('Total training {} images: {} '.format(camera, len(os.listdir(camera_dir))))"
   ]
  },
  {
   "cell_type": "code",
   "execution_count": 15,
   "metadata": {},
   "outputs": [
    {
     "name": "stdout",
     "output_type": "stream",
     "text": [
      "Total validation HTC-1-M7 images: 75 \n",
      "Total validation iPhone-6 images: 75 \n",
      "Total validation iPhone-4s images: 75 \n",
      "Total validation Samsung-Galaxy-Note3 images: 75 \n",
      "Total validation Motorola-Nexus-6 images: 75 \n",
      "Total validation Motorola-Droid-Maxx images: 75 \n",
      "Total validation LG-Nexus-5x images: 75 \n",
      "Total validation Sony-NEX-7 images: 75 \n",
      "Total validation Samsung-Galaxy-S4 images: 75 \n",
      "Total validation Motorola-X images: 75 \n"
     ]
    }
   ],
   "source": [
    "for camera in cameras:\n",
    "    camera_dir = os.path.join(validation_dir, camera)\n",
    "    print('Total validation {} images: {} '.format(camera, len(os.listdir(camera_dir))))"
   ]
  },
  {
   "cell_type": "code",
   "execution_count": 16,
   "metadata": {},
   "outputs": [
    {
     "name": "stdout",
     "output_type": "stream",
     "text": [
      "Total test HTC-1-M7 images: 75 \n",
      "Total test iPhone-6 images: 75 \n",
      "Total test iPhone-4s images: 75 \n",
      "Total test Samsung-Galaxy-Note3 images: 75 \n",
      "Total test Motorola-Nexus-6 images: 75 \n",
      "Total test Motorola-Droid-Maxx images: 75 \n",
      "Total test LG-Nexus-5x images: 75 \n",
      "Total test Sony-NEX-7 images: 75 \n",
      "Total test Samsung-Galaxy-S4 images: 75 \n",
      "Total test Motorola-X images: 75 \n"
     ]
    }
   ],
   "source": [
    "for camera in cameras:\n",
    "    camera_dir = os.path.join(test_dir, camera)\n",
    "    print('Total test {} images: {} '.format(camera, len(os.listdir(camera_dir))))"
   ]
  },
  {
   "cell_type": "markdown",
   "metadata": {},
   "source": [
    "# Model"
   ]
  },
  {
   "cell_type": "markdown",
   "metadata": {},
   "source": [
    "## Building the network"
   ]
  },
  {
   "cell_type": "code",
   "execution_count": 17,
   "metadata": {},
   "outputs": [
    {
     "name": "stderr",
     "output_type": "stream",
     "text": [
      "Using TensorFlow backend.\n"
     ]
    }
   ],
   "source": [
    "from keras import layers\n",
    "from keras import models"
   ]
  },
  {
   "cell_type": "code",
   "execution_count": 18,
   "metadata": {},
   "outputs": [],
   "source": [
    "model = models.Sequential()\n",
    "model.add(layers.Conv2D(32, (3, 3), activation='relu', input_shape=(150, 150, 3)))\n",
    "model.add(layers.MaxPooling2D((2, 2)))\n",
    "model.add(layers.Conv2D(64, (3, 3), activation='relu'))\n",
    "model.add(layers.MaxPooling2D((2, 2)))\n",
    "model.add(layers.Conv2D(128, (3, 3), activation='relu'))\n",
    "model.add(layers.MaxPooling2D((2, 2)))\n",
    "model.add(layers.Conv2D(128, (3, 3), activation='relu'))\n",
    "model.add(layers.MaxPooling2D((2, 2)))\n",
    "model.add(layers.Flatten())\n",
    "model.add(layers.Dense(512, activation='relu'))\n",
    "model.add(layers.Dense(10, activation='softmax'))"
   ]
  },
  {
   "cell_type": "code",
   "execution_count": 19,
   "metadata": {},
   "outputs": [
    {
     "name": "stdout",
     "output_type": "stream",
     "text": [
      "_________________________________________________________________\n",
      "Layer (type)                 Output Shape              Param #   \n",
      "=================================================================\n",
      "conv2d_1 (Conv2D)            (None, 148, 148, 32)      896       \n",
      "_________________________________________________________________\n",
      "max_pooling2d_1 (MaxPooling2 (None, 74, 74, 32)        0         \n",
      "_________________________________________________________________\n",
      "conv2d_2 (Conv2D)            (None, 72, 72, 64)        18496     \n",
      "_________________________________________________________________\n",
      "max_pooling2d_2 (MaxPooling2 (None, 36, 36, 64)        0         \n",
      "_________________________________________________________________\n",
      "conv2d_3 (Conv2D)            (None, 34, 34, 128)       73856     \n",
      "_________________________________________________________________\n",
      "max_pooling2d_3 (MaxPooling2 (None, 17, 17, 128)       0         \n",
      "_________________________________________________________________\n",
      "conv2d_4 (Conv2D)            (None, 15, 15, 128)       147584    \n",
      "_________________________________________________________________\n",
      "max_pooling2d_4 (MaxPooling2 (None, 7, 7, 128)         0         \n",
      "_________________________________________________________________\n",
      "flatten_1 (Flatten)          (None, 6272)              0         \n",
      "_________________________________________________________________\n",
      "dense_1 (Dense)              (None, 512)               3211776   \n",
      "_________________________________________________________________\n",
      "dense_2 (Dense)              (None, 10)                5130      \n",
      "=================================================================\n",
      "Total params: 3,457,738\n",
      "Trainable params: 3,457,738\n",
      "Non-trainable params: 0\n",
      "_________________________________________________________________\n"
     ]
    }
   ],
   "source": [
    "model.summary()"
   ]
  },
  {
   "cell_type": "markdown",
   "metadata": {},
   "source": [
    "## Configure the model for training"
   ]
  },
  {
   "cell_type": "code",
   "execution_count": 20,
   "metadata": {},
   "outputs": [],
   "source": [
    "from keras import optimizers"
   ]
  },
  {
   "cell_type": "code",
   "execution_count": 21,
   "metadata": {},
   "outputs": [],
   "source": [
    "model.compile(optimizer=optimizers.RMSprop(lr=1e-4),\n",
    "              loss = 'categorical_crossentropy',\n",
    "               metrics=['acc'])\n"
   ]
  },
  {
   "cell_type": "markdown",
   "metadata": {},
   "source": [
    "# Data Preprocessing"
   ]
  },
  {
   "cell_type": "markdown",
   "metadata": {},
   "source": [
    "Currently, the data sits on a drive as JPEG files, so the steps for getting it into the network are roughly as follows:\n",
    "1. Read the picture files\n",
    "2. Decode the JPEG content to RGB grids of pixels\n",
    "3. Convert these into floating point tensors\n",
    "4. Rescale the pixel values to the ```[0-1]``` range"
   ]
  },
  {
   "cell_type": "code",
   "execution_count": 22,
   "metadata": {},
   "outputs": [],
   "source": [
    "from keras.preprocessing.image import ImageDataGenerator"
   ]
  },
  {
   "cell_type": "code",
   "execution_count": 23,
   "metadata": {},
   "outputs": [],
   "source": [
    "train_datagen = ImageDataGenerator(rescale=1./255)\n",
    "test_datagen = ImageDataGenerator(rescale=1./255)"
   ]
  },
  {
   "cell_type": "code",
   "execution_count": 24,
   "metadata": {},
   "outputs": [
    {
     "name": "stdout",
     "output_type": "stream",
     "text": [
      "Found 1000 images belonging to 10 classes.\n"
     ]
    }
   ],
   "source": [
    "train_generator = train_datagen.flow_from_directory(\n",
    "    train_dir,\n",
    "    target_size=(150, 150),\n",
    "    batch_size=10,\n",
    "    class_mode='categorical')"
   ]
  },
  {
   "cell_type": "code",
   "execution_count": 25,
   "metadata": {},
   "outputs": [
    {
     "name": "stdout",
     "output_type": "stream",
     "text": [
      "Found 750 images belonging to 10 classes.\n"
     ]
    }
   ],
   "source": [
    "validation_generator = test_datagen.flow_from_directory(\n",
    "    validation_dir,\n",
    "    target_size=(150, 150),\n",
    "    batch_size=10,\n",
    "    class_mode='categorical')"
   ]
  },
  {
   "cell_type": "code",
   "execution_count": 26,
   "metadata": {},
   "outputs": [
    {
     "name": "stdout",
     "output_type": "stream",
     "text": [
      "data batch shape:  (10, 150, 150, 3)\n",
      "labels batch shape:  (10, 10)\n"
     ]
    }
   ],
   "source": [
    "for data_batch, labels_batch in train_generator:\n",
    "    print('data batch shape: ', data_batch.shape)\n",
    "    print('labels batch shape: ', labels_batch.shape)\n",
    "    break"
   ]
  },
  {
   "cell_type": "code",
   "execution_count": 27,
   "metadata": {},
   "outputs": [
    {
     "data": {
      "text/plain": [
       "array([ 0.,  0.,  0.,  0.,  0.,  0.,  0.,  0.,  0.,  1.], dtype=float32)"
      ]
     },
     "execution_count": 27,
     "metadata": {},
     "output_type": "execute_result"
    }
   ],
   "source": [
    "labels_batch[0]"
   ]
  },
  {
   "cell_type": "markdown",
   "metadata": {},
   "source": [
    "# Fitting the model using a batch generator"
   ]
  },
  {
   "cell_type": "code",
   "execution_count": 28,
   "metadata": {},
   "outputs": [
    {
     "name": "stdout",
     "output_type": "stream",
     "text": [
      "Epoch 1/100\n",
      "50/50 [==============================] - 1171s 23s/step - loss: 2.3024 - acc: 0.1040 - val_loss: 2.2723 - val_acc: 0.1575\n",
      "Epoch 2/100\n",
      "50/50 [==============================] - 596s 12s/step - loss: 2.2513 - acc: 0.1660 - val_loss: 2.1884 - val_acc: 0.2000\n",
      "Epoch 3/100\n",
      "50/50 [==============================] - 557s 11s/step - loss: 2.0893 - acc: 0.2380 - val_loss: 2.0485 - val_acc: 0.2575\n",
      "Epoch 4/100\n",
      "50/50 [==============================] - 426s 9s/step - loss: 1.9235 - acc: 0.3020 - val_loss: 1.9974 - val_acc: 0.2550\n",
      "Epoch 5/100\n",
      "50/50 [==============================] - 419s 8s/step - loss: 1.8499 - acc: 0.3280 - val_loss: 1.9735 - val_acc: 0.2625\n",
      "Epoch 6/100\n",
      "50/50 [==============================] - 421s 8s/step - loss: 1.8085 - acc: 0.3160 - val_loss: 1.9304 - val_acc: 0.2500\n",
      "Epoch 7/100\n",
      "50/50 [==============================] - 410s 8s/step - loss: 1.7252 - acc: 0.3720 - val_loss: 1.8845 - val_acc: 0.2875\n",
      "Epoch 8/100\n",
      "50/50 [==============================] - 309s 6s/step - loss: 1.7275 - acc: 0.3560 - val_loss: 1.8679 - val_acc: 0.2900\n",
      "Epoch 9/100\n",
      "50/50 [==============================] - 244s 5s/step - loss: 1.6046 - acc: 0.4120 - val_loss: 1.8544 - val_acc: 0.3225\n",
      "Epoch 10/100\n",
      "50/50 [==============================] - 233s 5s/step - loss: 1.6034 - acc: 0.4060 - val_loss: 1.8875 - val_acc: 0.2875\n",
      "Epoch 11/100\n",
      "50/50 [==============================] - 229s 5s/step - loss: 1.4865 - acc: 0.4840 - val_loss: 1.8146 - val_acc: 0.3125\n",
      "Epoch 12/100\n",
      "50/50 [==============================] - 229s 5s/step - loss: 1.5095 - acc: 0.4780 - val_loss: 1.7860 - val_acc: 0.3400\n",
      "Epoch 13/100\n",
      "50/50 [==============================] - 225s 4s/step - loss: 1.3958 - acc: 0.5020 - val_loss: 1.8470 - val_acc: 0.3550\n",
      "Epoch 14/100\n",
      "50/50 [==============================] - 226s 5s/step - loss: 1.3977 - acc: 0.4940 - val_loss: 1.9050 - val_acc: 0.3025\n",
      "Epoch 15/100\n",
      "50/50 [==============================] - 226s 5s/step - loss: 1.2733 - acc: 0.5500 - val_loss: 1.7859 - val_acc: 0.3550\n",
      "Epoch 16/100\n",
      "50/50 [==============================] - 225s 5s/step - loss: 1.2952 - acc: 0.5540 - val_loss: 1.8737 - val_acc: 0.3600\n",
      "Epoch 17/100\n",
      "50/50 [==============================] - 220s 4s/step - loss: 1.2023 - acc: 0.5780 - val_loss: 1.7337 - val_acc: 0.3750\n",
      "Epoch 18/100\n",
      "50/50 [==============================] - 230s 5s/step - loss: 1.2223 - acc: 0.5800 - val_loss: 1.7572 - val_acc: 0.4025\n",
      "Epoch 19/100\n",
      "50/50 [==============================] - 226s 5s/step - loss: 1.1237 - acc: 0.6120 - val_loss: 1.7388 - val_acc: 0.4225\n",
      "Epoch 20/100\n",
      "50/50 [==============================] - 229s 5s/step - loss: 1.0778 - acc: 0.6340 - val_loss: 1.8111 - val_acc: 0.4200\n",
      "Epoch 21/100\n",
      "50/50 [==============================] - 227s 5s/step - loss: 1.0455 - acc: 0.6200 - val_loss: 1.8962 - val_acc: 0.3950\n",
      "Epoch 22/100\n",
      "50/50 [==============================] - 224s 4s/step - loss: 0.9194 - acc: 0.6700 - val_loss: 1.8218 - val_acc: 0.4025\n",
      "Epoch 23/100\n",
      "50/50 [==============================] - 226s 5s/step - loss: 0.9122 - acc: 0.6780 - val_loss: 1.7772 - val_acc: 0.4500\n",
      "Epoch 24/100\n",
      "50/50 [==============================] - 225s 5s/step - loss: 0.8936 - acc: 0.7020 - val_loss: 1.7488 - val_acc: 0.4275\n",
      "Epoch 25/100\n",
      "50/50 [==============================] - 226s 5s/step - loss: 0.7862 - acc: 0.7480 - val_loss: 2.0315 - val_acc: 0.4100\n",
      "Epoch 26/100\n",
      "50/50 [==============================] - 223s 4s/step - loss: 0.8591 - acc: 0.6980 - val_loss: 1.7480 - val_acc: 0.4475\n",
      "Epoch 27/100\n",
      "50/50 [==============================] - 224s 4s/step - loss: 0.6631 - acc: 0.7720 - val_loss: 1.7688 - val_acc: 0.4875\n",
      "Epoch 28/100\n",
      "50/50 [==============================] - 226s 5s/step - loss: 0.7170 - acc: 0.7680 - val_loss: 1.8095 - val_acc: 0.4950\n",
      "Epoch 29/100\n",
      "50/50 [==============================] - 221s 4s/step - loss: 0.6305 - acc: 0.7880 - val_loss: 1.8516 - val_acc: 0.4775\n",
      "Epoch 30/100\n",
      "50/50 [==============================] - 227s 5s/step - loss: 0.5451 - acc: 0.8080 - val_loss: 1.8785 - val_acc: 0.4875\n",
      "Epoch 31/100\n",
      "50/50 [==============================] - 224s 4s/step - loss: 0.4792 - acc: 0.8340 - val_loss: 1.8440 - val_acc: 0.5025\n",
      "Epoch 32/100\n",
      "50/50 [==============================] - 223s 4s/step - loss: 0.5169 - acc: 0.8420 - val_loss: 1.9304 - val_acc: 0.5075\n",
      "Epoch 33/100\n",
      "50/50 [==============================] - 225s 4s/step - loss: 0.4400 - acc: 0.8480 - val_loss: 1.8468 - val_acc: 0.5000\n",
      "Epoch 34/100\n",
      "50/50 [==============================] - 225s 4s/step - loss: 0.4236 - acc: 0.8720 - val_loss: 1.8822 - val_acc: 0.5325\n",
      "Epoch 35/100\n",
      "50/50 [==============================] - 225s 5s/step - loss: 0.3617 - acc: 0.8820 - val_loss: 1.9396 - val_acc: 0.5325\n",
      "Epoch 36/100\n",
      "50/50 [==============================] - 225s 5s/step - loss: 0.3777 - acc: 0.8780 - val_loss: 1.9676 - val_acc: 0.5125\n",
      "Epoch 37/100\n",
      "50/50 [==============================] - 222s 4s/step - loss: 0.2769 - acc: 0.9160 - val_loss: 2.0176 - val_acc: 0.5450\n",
      "Epoch 38/100\n",
      "50/50 [==============================] - 227s 5s/step - loss: 0.2611 - acc: 0.9140 - val_loss: 2.1434 - val_acc: 0.5325\n",
      "Epoch 39/100\n",
      "50/50 [==============================] - 224s 4s/step - loss: 0.2505 - acc: 0.9240 - val_loss: 2.0655 - val_acc: 0.5625\n",
      "Epoch 40/100\n",
      "50/50 [==============================] - 223s 4s/step - loss: 0.2061 - acc: 0.9460 - val_loss: 2.2447 - val_acc: 0.5450\n",
      "Epoch 41/100\n",
      "50/50 [==============================] - 223s 4s/step - loss: 0.1892 - acc: 0.9520 - val_loss: 2.1370 - val_acc: 0.5600\n",
      "Epoch 42/100\n",
      "50/50 [==============================] - 224s 4s/step - loss: 0.1953 - acc: 0.9440 - val_loss: 2.3431 - val_acc: 0.5375\n",
      "Epoch 43/100\n",
      "50/50 [==============================] - 222s 4s/step - loss: 0.1652 - acc: 0.9520 - val_loss: 2.7292 - val_acc: 0.5000\n",
      "Epoch 44/100\n",
      "50/50 [==============================] - 228s 5s/step - loss: 0.1555 - acc: 0.9580 - val_loss: 2.4364 - val_acc: 0.5475\n",
      "Epoch 45/100\n",
      "50/50 [==============================] - 225s 4s/step - loss: 0.1322 - acc: 0.9740 - val_loss: 2.3125 - val_acc: 0.5800\n",
      "Epoch 46/100\n",
      "50/50 [==============================] - 224s 4s/step - loss: 0.1418 - acc: 0.9500 - val_loss: 2.2686 - val_acc: 0.5700\n",
      "Epoch 47/100\n",
      "50/50 [==============================] - 224s 4s/step - loss: 0.0881 - acc: 0.9780 - val_loss: 2.5019 - val_acc: 0.5475\n",
      "Epoch 48/100\n",
      "50/50 [==============================] - 225s 4s/step - loss: 0.1343 - acc: 0.9640 - val_loss: 2.5590 - val_acc: 0.5575\n",
      "Epoch 49/100\n",
      "50/50 [==============================] - 224s 4s/step - loss: 0.0814 - acc: 0.9760 - val_loss: 2.8609 - val_acc: 0.5325\n",
      "Epoch 50/100\n",
      "50/50 [==============================] - 225s 5s/step - loss: 0.0813 - acc: 0.9740 - val_loss: 2.6668 - val_acc: 0.5650\n",
      "Epoch 51/100\n",
      "50/50 [==============================] - 226s 5s/step - loss: 0.0608 - acc: 0.9800 - val_loss: 2.6417 - val_acc: 0.5600\n",
      "Epoch 52/100\n",
      "50/50 [==============================] - 223s 4s/step - loss: 0.0609 - acc: 0.9900 - val_loss: 2.9764 - val_acc: 0.5400\n",
      "Epoch 53/100\n",
      "50/50 [==============================] - 224s 4s/step - loss: 0.0859 - acc: 0.9720 - val_loss: 3.0530 - val_acc: 0.5225\n",
      "Epoch 54/100\n",
      "50/50 [==============================] - 223s 4s/step - loss: 0.0720 - acc: 0.9760 - val_loss: 2.7493 - val_acc: 0.5725\n",
      "Epoch 55/100\n",
      "50/50 [==============================] - 226s 5s/step - loss: 0.0460 - acc: 0.9840 - val_loss: 2.9931 - val_acc: 0.5425\n",
      "Epoch 56/100\n",
      "50/50 [==============================] - 225s 5s/step - loss: 0.0785 - acc: 0.9780 - val_loss: 2.8169 - val_acc: 0.5600\n",
      "Epoch 57/100\n",
      "50/50 [==============================] - 225s 5s/step - loss: 0.0264 - acc: 0.9980 - val_loss: 2.8678 - val_acc: 0.5950\n",
      "Epoch 58/100\n",
      "50/50 [==============================] - 222s 4s/step - loss: 0.0475 - acc: 0.9840 - val_loss: 2.9406 - val_acc: 0.5725\n",
      "Epoch 59/100\n",
      "50/50 [==============================] - 226s 5s/step - loss: 0.0311 - acc: 0.9900 - val_loss: 3.0302 - val_acc: 0.5725\n",
      "Epoch 60/100\n",
      "50/50 [==============================] - 223s 4s/step - loss: 0.0407 - acc: 0.9860 - val_loss: 3.1449 - val_acc: 0.5625\n",
      "Epoch 61/100\n",
      "50/50 [==============================] - 224s 4s/step - loss: 0.0320 - acc: 0.9920 - val_loss: 3.3835 - val_acc: 0.5575\n",
      "Epoch 62/100\n",
      "50/50 [==============================] - 222s 4s/step - loss: 0.0424 - acc: 0.9840 - val_loss: 3.8742 - val_acc: 0.5000\n",
      "Epoch 63/100\n",
      "50/50 [==============================] - 225s 4s/step - loss: 0.0327 - acc: 0.9900 - val_loss: 3.0481 - val_acc: 0.5825\n",
      "Epoch 64/100\n",
      "50/50 [==============================] - 222s 4s/step - loss: 0.0368 - acc: 0.9860 - val_loss: 3.1977 - val_acc: 0.5600\n",
      "Epoch 65/100\n",
      "50/50 [==============================] - 226s 5s/step - loss: 0.0203 - acc: 0.9920 - val_loss: 3.0944 - val_acc: 0.5950\n",
      "Epoch 66/100\n",
      "50/50 [==============================] - 224s 4s/step - loss: 0.0689 - acc: 0.9820 - val_loss: 3.2506 - val_acc: 0.5725\n",
      "Epoch 67/100\n",
      "50/50 [==============================] - 227s 5s/step - loss: 0.0092 - acc: 0.9980 - val_loss: 3.2091 - val_acc: 0.5725\n",
      "Epoch 68/100\n",
      "50/50 [==============================] - 224s 4s/step - loss: 0.0686 - acc: 0.9800 - val_loss: 3.5041 - val_acc: 0.5525\n",
      "Epoch 69/100\n",
      "50/50 [==============================] - 223s 4s/step - loss: 0.0133 - acc: 0.9920 - val_loss: 3.4109 - val_acc: 0.5675\n",
      "Epoch 70/100\n",
      "50/50 [==============================] - 227s 5s/step - loss: 0.0204 - acc: 0.9920 - val_loss: 3.3442 - val_acc: 0.5725\n",
      "Epoch 71/100\n",
      "50/50 [==============================] - 224s 4s/step - loss: 0.0320 - acc: 0.9860 - val_loss: 3.4832 - val_acc: 0.5650\n",
      "Epoch 72/100\n",
      "50/50 [==============================] - 226s 5s/step - loss: 0.0315 - acc: 0.9900 - val_loss: 3.4820 - val_acc: 0.5500\n",
      "Epoch 73/100\n",
      "50/50 [==============================] - 227s 5s/step - loss: 0.0173 - acc: 0.9960 - val_loss: 3.6604 - val_acc: 0.5450\n",
      "Epoch 74/100\n",
      "50/50 [==============================] - 225s 5s/step - loss: 0.0166 - acc: 0.9960 - val_loss: 3.4932 - val_acc: 0.5725\n",
      "Epoch 75/100\n",
      "50/50 [==============================] - 226s 5s/step - loss: 0.0259 - acc: 0.9920 - val_loss: 3.6459 - val_acc: 0.5700\n",
      "Epoch 76/100\n",
      "50/50 [==============================] - 222s 4s/step - loss: 0.0319 - acc: 0.9940 - val_loss: 3.5994 - val_acc: 0.5550\n",
      "Epoch 77/100\n",
      "50/50 [==============================] - 228s 5s/step - loss: 0.0077 - acc: 1.0000 - val_loss: 3.9045 - val_acc: 0.5525\n",
      "Epoch 78/100\n",
      "50/50 [==============================] - 275s 6s/step - loss: 0.0404 - acc: 0.9840 - val_loss: 3.7247 - val_acc: 0.5650\n",
      "Epoch 79/100\n",
      "50/50 [==============================] - 340s 7s/step - loss: 5.5468e-04 - acc: 1.0000 - val_loss: 3.6558 - val_acc: 0.5625\n",
      "Epoch 80/100\n",
      "50/50 [==============================] - 307s 6s/step - loss: 0.0448 - acc: 0.9900 - val_loss: 3.5856 - val_acc: 0.5750\n",
      "Epoch 81/100\n",
      "50/50 [==============================] - 288s 6s/step - loss: 0.0155 - acc: 0.9940 - val_loss: 3.9941 - val_acc: 0.5375\n",
      "Epoch 82/100\n",
      "50/50 [==============================] - 390s 8s/step - loss: 0.0053 - acc: 1.0000 - val_loss: 4.1189 - val_acc: 0.5375\n",
      "Epoch 83/100\n",
      "50/50 [==============================] - 328s 7s/step - loss: 0.0265 - acc: 0.9980 - val_loss: 3.7274 - val_acc: 0.5625\n",
      "Epoch 84/100\n",
      "50/50 [==============================] - 399s 8s/step - loss: 0.0178 - acc: 0.9980 - val_loss: 3.8755 - val_acc: 0.5500\n",
      "Epoch 85/100\n",
      "50/50 [==============================] - 269s 5s/step - loss: 0.0196 - acc: 0.9940 - val_loss: 3.5868 - val_acc: 0.5775\n",
      "Epoch 86/100\n",
      "50/50 [==============================] - 331s 7s/step - loss: 0.0194 - acc: 0.9940 - val_loss: 3.8282 - val_acc: 0.5700\n",
      "Epoch 87/100\n",
      "50/50 [==============================] - 366s 7s/step - loss: 0.0262 - acc: 0.9900 - val_loss: 4.0202 - val_acc: 0.5600\n",
      "Epoch 88/100\n",
      "50/50 [==============================] - 380s 8s/step - loss: 2.6054e-04 - acc: 1.0000 - val_loss: 3.9089 - val_acc: 0.5650\n",
      "Epoch 89/100\n",
      "50/50 [==============================] - 345s 7s/step - loss: 0.0095 - acc: 0.9960 - val_loss: 3.8497 - val_acc: 0.5775\n",
      "Epoch 90/100\n",
      "50/50 [==============================] - 349s 7s/step - loss: 3.2957e-04 - acc: 1.0000 - val_loss: 3.9049 - val_acc: 0.5700\n",
      "Epoch 91/100\n",
      "50/50 [==============================] - 321s 6s/step - loss: 0.0125 - acc: 0.9940 - val_loss: 3.9716 - val_acc: 0.5850\n",
      "Epoch 92/100\n",
      "50/50 [==============================] - 341s 7s/step - loss: 0.0036 - acc: 1.0000 - val_loss: 3.8834 - val_acc: 0.5600\n",
      "Epoch 93/100\n",
      "50/50 [==============================] - 300s 6s/step - loss: 0.0223 - acc: 0.9960 - val_loss: 4.0100 - val_acc: 0.5425\n",
      "Epoch 94/100\n",
      "50/50 [==============================] - 333s 7s/step - loss: 0.0074 - acc: 0.9980 - val_loss: 4.0448 - val_acc: 0.5750\n",
      "Epoch 95/100\n",
      "50/50 [==============================] - 314s 6s/step - loss: 0.0317 - acc: 0.9940 - val_loss: 3.8714 - val_acc: 0.5550\n",
      "Epoch 96/100\n",
      "50/50 [==============================] - 325s 6s/step - loss: 6.2420e-04 - acc: 1.0000 - val_loss: 4.0370 - val_acc: 0.5550\n",
      "Epoch 97/100\n",
      "50/50 [==============================] - 301s 6s/step - loss: 0.0165 - acc: 0.9960 - val_loss: 4.1412 - val_acc: 0.5625\n",
      "Epoch 98/100\n",
      "50/50 [==============================] - 327s 7s/step - loss: 0.0347 - acc: 0.9920 - val_loss: 3.9698 - val_acc: 0.5675\n",
      "Epoch 99/100\n",
      "50/50 [==============================] - 295s 6s/step - loss: 2.3623e-04 - acc: 1.0000 - val_loss: 3.9614 - val_acc: 0.5750\n",
      "Epoch 100/100\n",
      "50/50 [==============================] - 310s 6s/step - loss: 0.0202 - acc: 0.9900 - val_loss: 4.0579 - val_acc: 0.5725\n",
      "CPU times: user 7h 28min 5s, sys: 8min 23s, total: 7h 36min 29s\n",
      "Wall time: 7h 36min 27s\n"
     ]
    }
   ],
   "source": [
    "%%time\n",
    "history = model.fit_generator(\n",
    "    train_generator,\n",
    "    steps_per_epoch=50,\n",
    "    epochs=100,\n",
    "    validation_data=validation_generator,\n",
    "    validation_steps=40)"
   ]
  },
  {
   "cell_type": "code",
   "execution_count": 29,
   "metadata": {},
   "outputs": [
    {
     "data": {
      "text/plain": [
       "'./saved_models'"
      ]
     },
     "execution_count": 29,
     "metadata": {},
     "output_type": "execute_result"
    }
   ],
   "source": [
    "models_dir = os.path.join(os.curdir, 'saved_models')\n",
    "models_dir"
   ]
  },
  {
   "cell_type": "code",
   "execution_count": 30,
   "metadata": {},
   "outputs": [],
   "source": [
    "if not os.path.exists(models_dir):\n",
    "    os.mkdir(models_dir)"
   ]
  },
  {
   "cell_type": "code",
   "execution_count": 31,
   "metadata": {},
   "outputs": [
    {
     "data": {
      "text/plain": [
       "['01-Training-from-scratch.ipynb', 'saved_models', '.ipynb_checkpoints']"
      ]
     },
     "execution_count": 31,
     "metadata": {},
     "output_type": "execute_result"
    }
   ],
   "source": [
    "os.listdir(os.curdir)"
   ]
  }
 ],
 "metadata": {
  "kernelspec": {
   "display_name": "Python [default]",
   "language": "python",
   "name": "python3"
  },
  "language_info": {
   "codemirror_mode": {
    "name": "ipython",
    "version": 3
   },
   "file_extension": ".py",
   "mimetype": "text/x-python",
   "name": "python",
   "nbconvert_exporter": "python",
   "pygments_lexer": "ipython3",
   "version": "3.6.3"
  },
  "toc": {
   "nav_menu": {},
   "number_sections": true,
   "sideBar": true,
   "skip_h1_title": false,
   "toc_cell": true,
   "toc_position": {},
   "toc_section_display": "block",
   "toc_window_display": true
  }
 },
 "nbformat": 4,
 "nbformat_minor": 2
}
