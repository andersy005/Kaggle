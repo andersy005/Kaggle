{
 "cells": [
  {
   "cell_type": "markdown",
   "metadata": {
    "toc": true
   },
   "source": [
    "<h1>Table of Contents<span class=\"tocSkip\"></span></h1>\n",
    "<div class=\"toc\" style=\"margin-top: 1em;\"><ul class=\"toc-item\"></ul></div>"
   ]
  },
  {
   "cell_type": "code",
   "execution_count": 1,
   "metadata": {},
   "outputs": [
    {
     "name": "stderr",
     "output_type": "stream",
     "text": [
      "Using TensorFlow backend.\n"
     ]
    }
   ],
   "source": [
    "import os\n",
    "import sys\n",
    "from pathlib import Path\n",
    "import multiprocessing as mp\n",
    "from skimage.data import imread\n",
    "import gc\n",
    "import numpy as np\n",
    "import pandas as pd\n",
    "from tqdm import tqdm\n",
    "from PIL import Image\n",
    "from itertools import chain\n",
    "from multiprocessing import cpu_count\n",
    "from concurrent.futures import ThreadPoolExecutor\n",
    "from sklearn.model_selection import StratifiedShuffleSplit\n",
    "from keras.preprocessing.image import ImageDataGenerator"
   ]
  },
  {
   "cell_type": "markdown",
   "metadata": {},
   "source": [
    "class IEEEPreprocessor:\n",
    "    def __init__(self, train_dir, test_dir, img_resize=(32, 32), validation_split=0.2, process_count=cpu_count()):\n",
    "        \"\"\"\n",
    "        This class is used by the classifier to preprocess data, don't forget to call the init() method\n",
    "        after an object from this class gets created.\n",
    "        :param train_dir: string\n",
    "            The directory of training files\n",
    "            \n",
    "        :param test_dir: string\n",
    "            The directory of test files\n",
    "            \n",
    "        :param img_resize: tuple(int, int)\n",
    "            The resize size of the original image given by the file_path argument\n",
    "            \n",
    "        :param process_count: int\n",
    "            The number of process you want to use to process the data.\n",
    "            If you run into issues, lower this number. Its default value is equal to the number\n",
    "            of cores of your CPU\n",
    "        \"\"\"\n",
    "        \n",
    "        self.process_count = process_count\n",
    "        self.img_resize = img_resize\n",
    "        self.train_dir = train_dir\n",
    "        self.test_dir = test_dir\n",
    "        self."
   ]
  },
  {
   "cell_type": "code",
   "execution_count": 2,
   "metadata": {},
   "outputs": [],
   "source": [
    "train_dir = Path('/home/abanihi/Documents/deep-data/kaggle/IEEE-camera-model/train')"
   ]
  },
  {
   "cell_type": "code",
   "execution_count": 3,
   "metadata": {},
   "outputs": [],
   "source": [
    "test_dir = Path('/home/abanihi/Documents/deep-data/kaggle/IEEE-camera-model/test')"
   ]
  },
  {
   "cell_type": "code",
   "execution_count": 4,
   "metadata": {},
   "outputs": [
    {
     "data": {
      "text/plain": [
       "['HTC-1-M7',\n",
       " 'iPhone-6',\n",
       " 'iPhone-4s',\n",
       " 'Samsung-Galaxy-Note3',\n",
       " 'Motorola-Nexus-6',\n",
       " 'Motorola-Droid-Maxx',\n",
       " 'LG-Nexus-5x',\n",
       " 'Sony-NEX-7',\n",
       " 'Samsung-Galaxy-S4',\n",
       " 'Motorola-X']"
      ]
     },
     "execution_count": 4,
     "metadata": {},
     "output_type": "execute_result"
    }
   ],
   "source": [
    "cameras = os.listdir(train_dir)\n",
    "cameras"
   ]
  },
  {
   "cell_type": "code",
   "execution_count": 5,
   "metadata": {},
   "outputs": [],
   "source": [
    "train_images = []\n",
    "for camera in cameras:\n",
    "    for fname in sorted(os.listdir(train_dir / camera)):\n",
    "        train_images.append((camera, fname))"
   ]
  },
  {
   "cell_type": "code",
   "execution_count": 6,
   "metadata": {},
   "outputs": [],
   "source": [
    "train_data = pd.DataFrame(train_images, columns=['camera', 'fname'])"
   ]
  },
  {
   "cell_type": "code",
   "execution_count": 7,
   "metadata": {},
   "outputs": [
    {
     "data": {
      "text/html": [
       "<div>\n",
       "<style scoped>\n",
       "    .dataframe tbody tr th:only-of-type {\n",
       "        vertical-align: middle;\n",
       "    }\n",
       "\n",
       "    .dataframe tbody tr th {\n",
       "        vertical-align: top;\n",
       "    }\n",
       "\n",
       "    .dataframe thead th {\n",
       "        text-align: right;\n",
       "    }\n",
       "</style>\n",
       "<table border=\"1\" class=\"dataframe\">\n",
       "  <thead>\n",
       "    <tr style=\"text-align: right;\">\n",
       "      <th></th>\n",
       "      <th>camera</th>\n",
       "      <th>fname</th>\n",
       "    </tr>\n",
       "  </thead>\n",
       "  <tbody>\n",
       "    <tr>\n",
       "      <th>0</th>\n",
       "      <td>HTC-1-M7</td>\n",
       "      <td>(HTC-1-M7)1.jpg</td>\n",
       "    </tr>\n",
       "    <tr>\n",
       "      <th>1</th>\n",
       "      <td>HTC-1-M7</td>\n",
       "      <td>(HTC-1-M7)10.jpg</td>\n",
       "    </tr>\n",
       "    <tr>\n",
       "      <th>2</th>\n",
       "      <td>HTC-1-M7</td>\n",
       "      <td>(HTC-1-M7)100.jpg</td>\n",
       "    </tr>\n",
       "    <tr>\n",
       "      <th>3</th>\n",
       "      <td>HTC-1-M7</td>\n",
       "      <td>(HTC-1-M7)101.jpg</td>\n",
       "    </tr>\n",
       "    <tr>\n",
       "      <th>4</th>\n",
       "      <td>HTC-1-M7</td>\n",
       "      <td>(HTC-1-M7)102.jpg</td>\n",
       "    </tr>\n",
       "  </tbody>\n",
       "</table>\n",
       "</div>"
      ],
      "text/plain": [
       "     camera              fname\n",
       "0  HTC-1-M7    (HTC-1-M7)1.jpg\n",
       "1  HTC-1-M7   (HTC-1-M7)10.jpg\n",
       "2  HTC-1-M7  (HTC-1-M7)100.jpg\n",
       "3  HTC-1-M7  (HTC-1-M7)101.jpg\n",
       "4  HTC-1-M7  (HTC-1-M7)102.jpg"
      ]
     },
     "execution_count": 7,
     "metadata": {},
     "output_type": "execute_result"
    }
   ],
   "source": [
    "train_data.head()"
   ]
  },
  {
   "cell_type": "code",
   "execution_count": 8,
   "metadata": {},
   "outputs": [
    {
     "data": {
      "text/plain": [
       "(2750, 2)"
      ]
     },
     "execution_count": 8,
     "metadata": {},
     "output_type": "execute_result"
    }
   ],
   "source": [
    "train_data.shape"
   ]
  },
  {
   "cell_type": "code",
   "execution_count": 9,
   "metadata": {},
   "outputs": [
    {
     "name": "stdout",
     "output_type": "stream",
     "text": [
      "<class 'pandas.core.frame.DataFrame'>\n",
      "RangeIndex: 2750 entries, 0 to 2749\n",
      "Data columns (total 2 columns):\n",
      "camera    2750 non-null object\n",
      "fname     2750 non-null object\n",
      "dtypes: object(2)\n",
      "memory usage: 43.0+ KB\n"
     ]
    }
   ],
   "source": [
    "train_data.info()"
   ]
  },
  {
   "cell_type": "code",
   "execution_count": 10,
   "metadata": {},
   "outputs": [],
   "source": [
    "test_images = []\n",
    "for fname in sorted(os.listdir(test_dir)):\n",
    "    test_images.append(fname)"
   ]
  },
  {
   "cell_type": "code",
   "execution_count": 11,
   "metadata": {},
   "outputs": [],
   "source": [
    "test_data = pd.DataFrame(test_images, columns=['fname'])"
   ]
  },
  {
   "cell_type": "code",
   "execution_count": 12,
   "metadata": {},
   "outputs": [
    {
     "data": {
      "text/html": [
       "<div>\n",
       "<style scoped>\n",
       "    .dataframe tbody tr th:only-of-type {\n",
       "        vertical-align: middle;\n",
       "    }\n",
       "\n",
       "    .dataframe tbody tr th {\n",
       "        vertical-align: top;\n",
       "    }\n",
       "\n",
       "    .dataframe thead th {\n",
       "        text-align: right;\n",
       "    }\n",
       "</style>\n",
       "<table border=\"1\" class=\"dataframe\">\n",
       "  <thead>\n",
       "    <tr style=\"text-align: right;\">\n",
       "      <th></th>\n",
       "      <th>fname</th>\n",
       "    </tr>\n",
       "  </thead>\n",
       "  <tbody>\n",
       "    <tr>\n",
       "      <th>0</th>\n",
       "      <td>img_0002a04_manip.tif</td>\n",
       "    </tr>\n",
       "    <tr>\n",
       "      <th>1</th>\n",
       "      <td>img_001e31c_unalt.tif</td>\n",
       "    </tr>\n",
       "    <tr>\n",
       "      <th>2</th>\n",
       "      <td>img_00275cf_manip.tif</td>\n",
       "    </tr>\n",
       "    <tr>\n",
       "      <th>3</th>\n",
       "      <td>img_0034113_unalt.tif</td>\n",
       "    </tr>\n",
       "    <tr>\n",
       "      <th>4</th>\n",
       "      <td>img_00344b7_unalt.tif</td>\n",
       "    </tr>\n",
       "  </tbody>\n",
       "</table>\n",
       "</div>"
      ],
      "text/plain": [
       "                   fname\n",
       "0  img_0002a04_manip.tif\n",
       "1  img_001e31c_unalt.tif\n",
       "2  img_00275cf_manip.tif\n",
       "3  img_0034113_unalt.tif\n",
       "4  img_00344b7_unalt.tif"
      ]
     },
     "execution_count": 12,
     "metadata": {},
     "output_type": "execute_result"
    }
   ],
   "source": [
    "test_data.head()"
   ]
  },
  {
   "cell_type": "code",
   "execution_count": 13,
   "metadata": {},
   "outputs": [
    {
     "name": "stdout",
     "output_type": "stream",
     "text": [
      "<class 'pandas.core.frame.DataFrame'>\n",
      "RangeIndex: 2640 entries, 0 to 2639\n",
      "Data columns (total 1 columns):\n",
      "fname    2640 non-null object\n",
      "dtypes: object(1)\n",
      "memory usage: 20.7+ KB\n"
     ]
    }
   ],
   "source": [
    "test_data.info()"
   ]
  },
  {
   "cell_type": "code",
   "execution_count": 20,
   "metadata": {},
   "outputs": [],
   "source": [
    "def color_stats(queue, iolock):\n",
    "    while True:\n",
    "        img_path = queue.get()\n",
    "        if img_path is None:\n",
    "            break\n",
    "            \n",
    "        if type(img_path) is tuple:\n",
    "            img = imread(train_dir / img_path[0] / img_path[1])\n",
    "            key = img_path[1]\n",
    "            \n",
    "        else:\n",
    "            img = imread(test_dir / img_path)\n",
    "            key = img_path\n",
    "            \n",
    "        # Some images read return info in a 2nd dim. We only want the first dim\n",
    "        if img.shape == (2, ):\n",
    "            img = img[0]\n",
    "            \n",
    "        color_info[key] = (img[:, :, 0].mean(), img[:, :, 1].mean(), img[:, :, 2].mean(),\n",
    "                           img[:, :, 0].std(),  img[:, :, 1].std(),  img[:, :, 2].std())\n",
    "\n",
    "            \n",
    "            "
   ]
  },
  {
   "cell_type": "code",
   "execution_count": 14,
   "metadata": {},
   "outputs": [],
   "source": [
    "img = imread('/home/abanihi/Documents/deep-data/kaggle/IEEE-camera-model/train/HTC-1-M7/(HTC-1-M7)1.jpg')"
   ]
  },
  {
   "cell_type": "code",
   "execution_count": 15,
   "metadata": {},
   "outputs": [
    {
     "data": {
      "text/plain": [
       "(2688, 1520, 3)"
      ]
     },
     "execution_count": 15,
     "metadata": {},
     "output_type": "execute_result"
    }
   ],
   "source": [
    "img.shape"
   ]
  },
  {
   "cell_type": "code",
   "execution_count": 22,
   "metadata": {},
   "outputs": [],
   "source": [
    "cols = ['a0', 'a1', 'a2', 's0', 's1', 's2']\n",
    "\n",
    "for col in cols:\n",
    "    train_data[col] = None\n",
    "    test_data[col] = None"
   ]
  },
  {
   "cell_type": "code",
   "execution_count": 23,
   "metadata": {},
   "outputs": [
    {
     "data": {
      "text/html": [
       "<div>\n",
       "<style scoped>\n",
       "    .dataframe tbody tr th:only-of-type {\n",
       "        vertical-align: middle;\n",
       "    }\n",
       "\n",
       "    .dataframe tbody tr th {\n",
       "        vertical-align: top;\n",
       "    }\n",
       "\n",
       "    .dataframe thead th {\n",
       "        text-align: right;\n",
       "    }\n",
       "</style>\n",
       "<table border=\"1\" class=\"dataframe\">\n",
       "  <thead>\n",
       "    <tr style=\"text-align: right;\">\n",
       "      <th></th>\n",
       "      <th>camera</th>\n",
       "      <th>fname</th>\n",
       "      <th>a0</th>\n",
       "      <th>a1</th>\n",
       "      <th>a2</th>\n",
       "      <th>s0</th>\n",
       "      <th>s1</th>\n",
       "      <th>s2</th>\n",
       "    </tr>\n",
       "  </thead>\n",
       "  <tbody>\n",
       "    <tr>\n",
       "      <th>0</th>\n",
       "      <td>HTC-1-M7</td>\n",
       "      <td>(HTC-1-M7)1.jpg</td>\n",
       "      <td>None</td>\n",
       "      <td>None</td>\n",
       "      <td>None</td>\n",
       "      <td>None</td>\n",
       "      <td>None</td>\n",
       "      <td>None</td>\n",
       "    </tr>\n",
       "    <tr>\n",
       "      <th>1</th>\n",
       "      <td>HTC-1-M7</td>\n",
       "      <td>(HTC-1-M7)10.jpg</td>\n",
       "      <td>None</td>\n",
       "      <td>None</td>\n",
       "      <td>None</td>\n",
       "      <td>None</td>\n",
       "      <td>None</td>\n",
       "      <td>None</td>\n",
       "    </tr>\n",
       "    <tr>\n",
       "      <th>2</th>\n",
       "      <td>HTC-1-M7</td>\n",
       "      <td>(HTC-1-M7)100.jpg</td>\n",
       "      <td>None</td>\n",
       "      <td>None</td>\n",
       "      <td>None</td>\n",
       "      <td>None</td>\n",
       "      <td>None</td>\n",
       "      <td>None</td>\n",
       "    </tr>\n",
       "    <tr>\n",
       "      <th>3</th>\n",
       "      <td>HTC-1-M7</td>\n",
       "      <td>(HTC-1-M7)101.jpg</td>\n",
       "      <td>None</td>\n",
       "      <td>None</td>\n",
       "      <td>None</td>\n",
       "      <td>None</td>\n",
       "      <td>None</td>\n",
       "      <td>None</td>\n",
       "    </tr>\n",
       "    <tr>\n",
       "      <th>4</th>\n",
       "      <td>HTC-1-M7</td>\n",
       "      <td>(HTC-1-M7)102.jpg</td>\n",
       "      <td>None</td>\n",
       "      <td>None</td>\n",
       "      <td>None</td>\n",
       "      <td>None</td>\n",
       "      <td>None</td>\n",
       "      <td>None</td>\n",
       "    </tr>\n",
       "  </tbody>\n",
       "</table>\n",
       "</div>"
      ],
      "text/plain": [
       "     camera              fname    a0    a1    a2    s0    s1    s2\n",
       "0  HTC-1-M7    (HTC-1-M7)1.jpg  None  None  None  None  None  None\n",
       "1  HTC-1-M7   (HTC-1-M7)10.jpg  None  None  None  None  None  None\n",
       "2  HTC-1-M7  (HTC-1-M7)100.jpg  None  None  None  None  None  None\n",
       "3  HTC-1-M7  (HTC-1-M7)101.jpg  None  None  None  None  None  None\n",
       "4  HTC-1-M7  (HTC-1-M7)102.jpg  None  None  None  None  None  None"
      ]
     },
     "execution_count": 23,
     "metadata": {},
     "output_type": "execute_result"
    }
   ],
   "source": [
    "train_data.head()"
   ]
  },
  {
   "cell_type": "code",
   "execution_count": 24,
   "metadata": {},
   "outputs": [
    {
     "data": {
      "text/plain": [
       "4"
      ]
     },
     "execution_count": 24,
     "metadata": {},
     "output_type": "execute_result"
    }
   ],
   "source": [
    "NCORE = cpu_count()\n",
    "NCORE"
   ]
  },
  {
   "cell_type": "code",
   "execution_count": 25,
   "metadata": {},
   "outputs": [
    {
     "data": {
      "text/plain": [
       "<DictProxy object, typeid 'dict' at 0x7f101f9c81d0>"
      ]
     },
     "execution_count": 25,
     "metadata": {},
     "output_type": "execute_result"
    }
   ],
   "source": [
    "color_info = mp.Manager().dict()\n",
    "color_info"
   ]
  },
  {
   "cell_type": "code",
   "execution_count": 26,
   "metadata": {},
   "outputs": [],
   "source": [
    "# Use a queue since the image reading is a bottlenect\n",
    "queue = mp.Queue(maxsize=NCORE)\n",
    "iolock = mp.Lock()"
   ]
  },
  {
   "cell_type": "code",
   "execution_count": 27,
   "metadata": {},
   "outputs": [],
   "source": [
    "pool = mp.Pool(NCORE, initializer=color_stats, initargs=(queue, iolock))"
   ]
  },
  {
   "cell_type": "code",
   "execution_count": 28,
   "metadata": {},
   "outputs": [],
   "source": [
    "for image in train_images:\n",
    "    queue.put(image) # Blocks until queue below its max size"
   ]
  },
  {
   "cell_type": "code",
   "execution_count": 29,
   "metadata": {},
   "outputs": [],
   "source": [
    "for image in test_images:\n",
    "    queue.put(image)"
   ]
  },
  {
   "cell_type": "code",
   "execution_count": 30,
   "metadata": {},
   "outputs": [],
   "source": [
    "# Tell workers we are done\n",
    "for _ in range(NCORE):\n",
    "    queue.put(None)"
   ]
  },
  {
   "cell_type": "code",
   "execution_count": 31,
   "metadata": {},
   "outputs": [],
   "source": [
    "pool.close()\n",
    "pool.join()"
   ]
  },
  {
   "cell_type": "code",
   "execution_count": 32,
   "metadata": {},
   "outputs": [],
   "source": [
    "color_info = dict(color_info)"
   ]
  },
  {
   "cell_type": "code",
   "execution_count": 33,
   "metadata": {},
   "outputs": [],
   "source": [
    "for n, col in enumerate(cols):\n",
    "    train_data[col] = train_data['fname'].apply(lambda x: color_info[x][n])\n",
    "    test_data[col] = test_data['fname'].apply(lambda x: color_info[x][n])"
   ]
  },
  {
   "cell_type": "code",
   "execution_count": 34,
   "metadata": {},
   "outputs": [
    {
     "data": {
      "text/html": [
       "<div>\n",
       "<style scoped>\n",
       "    .dataframe tbody tr th:only-of-type {\n",
       "        vertical-align: middle;\n",
       "    }\n",
       "\n",
       "    .dataframe tbody tr th {\n",
       "        vertical-align: top;\n",
       "    }\n",
       "\n",
       "    .dataframe thead th {\n",
       "        text-align: right;\n",
       "    }\n",
       "</style>\n",
       "<table border=\"1\" class=\"dataframe\">\n",
       "  <thead>\n",
       "    <tr style=\"text-align: right;\">\n",
       "      <th></th>\n",
       "      <th>camera</th>\n",
       "      <th>fname</th>\n",
       "      <th>a0</th>\n",
       "      <th>a1</th>\n",
       "      <th>a2</th>\n",
       "      <th>s0</th>\n",
       "      <th>s1</th>\n",
       "      <th>s2</th>\n",
       "    </tr>\n",
       "  </thead>\n",
       "  <tbody>\n",
       "    <tr>\n",
       "      <th>0</th>\n",
       "      <td>HTC-1-M7</td>\n",
       "      <td>(HTC-1-M7)1.jpg</td>\n",
       "      <td>118.223227</td>\n",
       "      <td>115.003896</td>\n",
       "      <td>111.967798</td>\n",
       "      <td>57.210818</td>\n",
       "      <td>54.533104</td>\n",
       "      <td>64.853878</td>\n",
       "    </tr>\n",
       "    <tr>\n",
       "      <th>1</th>\n",
       "      <td>HTC-1-M7</td>\n",
       "      <td>(HTC-1-M7)10.jpg</td>\n",
       "      <td>128.141141</td>\n",
       "      <td>122.825341</td>\n",
       "      <td>107.254211</td>\n",
       "      <td>56.619943</td>\n",
       "      <td>55.002498</td>\n",
       "      <td>59.375556</td>\n",
       "    </tr>\n",
       "    <tr>\n",
       "      <th>2</th>\n",
       "      <td>HTC-1-M7</td>\n",
       "      <td>(HTC-1-M7)100.jpg</td>\n",
       "      <td>98.610660</td>\n",
       "      <td>89.714463</td>\n",
       "      <td>82.452863</td>\n",
       "      <td>68.868366</td>\n",
       "      <td>73.298074</td>\n",
       "      <td>73.463918</td>\n",
       "    </tr>\n",
       "    <tr>\n",
       "      <th>3</th>\n",
       "      <td>HTC-1-M7</td>\n",
       "      <td>(HTC-1-M7)101.jpg</td>\n",
       "      <td>109.477162</td>\n",
       "      <td>104.011235</td>\n",
       "      <td>102.435257</td>\n",
       "      <td>46.961676</td>\n",
       "      <td>50.286467</td>\n",
       "      <td>54.133753</td>\n",
       "    </tr>\n",
       "    <tr>\n",
       "      <th>4</th>\n",
       "      <td>HTC-1-M7</td>\n",
       "      <td>(HTC-1-M7)102.jpg</td>\n",
       "      <td>105.730427</td>\n",
       "      <td>70.830199</td>\n",
       "      <td>103.631270</td>\n",
       "      <td>17.310780</td>\n",
       "      <td>18.811962</td>\n",
       "      <td>15.008880</td>\n",
       "    </tr>\n",
       "  </tbody>\n",
       "</table>\n",
       "</div>"
      ],
      "text/plain": [
       "     camera              fname          a0          a1          a2         s0  \\\n",
       "0  HTC-1-M7    (HTC-1-M7)1.jpg  118.223227  115.003896  111.967798  57.210818   \n",
       "1  HTC-1-M7   (HTC-1-M7)10.jpg  128.141141  122.825341  107.254211  56.619943   \n",
       "2  HTC-1-M7  (HTC-1-M7)100.jpg   98.610660   89.714463   82.452863  68.868366   \n",
       "3  HTC-1-M7  (HTC-1-M7)101.jpg  109.477162  104.011235  102.435257  46.961676   \n",
       "4  HTC-1-M7  (HTC-1-M7)102.jpg  105.730427   70.830199  103.631270  17.310780   \n",
       "\n",
       "          s1         s2  \n",
       "0  54.533104  64.853878  \n",
       "1  55.002498  59.375556  \n",
       "2  73.298074  73.463918  \n",
       "3  50.286467  54.133753  \n",
       "4  18.811962  15.008880  "
      ]
     },
     "execution_count": 34,
     "metadata": {},
     "output_type": "execute_result"
    }
   ],
   "source": [
    "train_data.head()"
   ]
  },
  {
   "cell_type": "code",
   "execution_count": 35,
   "metadata": {},
   "outputs": [
    {
     "data": {
      "text/html": [
       "<div>\n",
       "<style scoped>\n",
       "    .dataframe tbody tr th:only-of-type {\n",
       "        vertical-align: middle;\n",
       "    }\n",
       "\n",
       "    .dataframe tbody tr th {\n",
       "        vertical-align: top;\n",
       "    }\n",
       "\n",
       "    .dataframe thead th {\n",
       "        text-align: right;\n",
       "    }\n",
       "</style>\n",
       "<table border=\"1\" class=\"dataframe\">\n",
       "  <thead>\n",
       "    <tr style=\"text-align: right;\">\n",
       "      <th></th>\n",
       "      <th>fname</th>\n",
       "      <th>a0</th>\n",
       "      <th>a1</th>\n",
       "      <th>a2</th>\n",
       "      <th>s0</th>\n",
       "      <th>s1</th>\n",
       "      <th>s2</th>\n",
       "    </tr>\n",
       "  </thead>\n",
       "  <tbody>\n",
       "    <tr>\n",
       "      <th>0</th>\n",
       "      <td>img_0002a04_manip.tif</td>\n",
       "      <td>187.380531</td>\n",
       "      <td>181.926029</td>\n",
       "      <td>173.161304</td>\n",
       "      <td>34.441726</td>\n",
       "      <td>34.237523</td>\n",
       "      <td>28.067430</td>\n",
       "    </tr>\n",
       "    <tr>\n",
       "      <th>1</th>\n",
       "      <td>img_001e31c_unalt.tif</td>\n",
       "      <td>171.232990</td>\n",
       "      <td>140.817070</td>\n",
       "      <td>121.201546</td>\n",
       "      <td>66.119656</td>\n",
       "      <td>69.017232</td>\n",
       "      <td>71.617331</td>\n",
       "    </tr>\n",
       "    <tr>\n",
       "      <th>2</th>\n",
       "      <td>img_00275cf_manip.tif</td>\n",
       "      <td>86.310349</td>\n",
       "      <td>85.689690</td>\n",
       "      <td>79.065269</td>\n",
       "      <td>52.221585</td>\n",
       "      <td>54.244189</td>\n",
       "      <td>53.314759</td>\n",
       "    </tr>\n",
       "    <tr>\n",
       "      <th>3</th>\n",
       "      <td>img_0034113_unalt.tif</td>\n",
       "      <td>152.006332</td>\n",
       "      <td>140.768970</td>\n",
       "      <td>132.285995</td>\n",
       "      <td>70.564771</td>\n",
       "      <td>65.590737</td>\n",
       "      <td>58.753384</td>\n",
       "    </tr>\n",
       "    <tr>\n",
       "      <th>4</th>\n",
       "      <td>img_00344b7_unalt.tif</td>\n",
       "      <td>95.538319</td>\n",
       "      <td>100.303024</td>\n",
       "      <td>92.712677</td>\n",
       "      <td>70.115464</td>\n",
       "      <td>65.860571</td>\n",
       "      <td>64.039072</td>\n",
       "    </tr>\n",
       "  </tbody>\n",
       "</table>\n",
       "</div>"
      ],
      "text/plain": [
       "                   fname          a0          a1          a2         s0  \\\n",
       "0  img_0002a04_manip.tif  187.380531  181.926029  173.161304  34.441726   \n",
       "1  img_001e31c_unalt.tif  171.232990  140.817070  121.201546  66.119656   \n",
       "2  img_00275cf_manip.tif   86.310349   85.689690   79.065269  52.221585   \n",
       "3  img_0034113_unalt.tif  152.006332  140.768970  132.285995  70.564771   \n",
       "4  img_00344b7_unalt.tif   95.538319  100.303024   92.712677  70.115464   \n",
       "\n",
       "          s1         s2  \n",
       "0  34.237523  28.067430  \n",
       "1  69.017232  71.617331  \n",
       "2  54.244189  53.314759  \n",
       "3  65.590737  58.753384  \n",
       "4  65.860571  64.039072  "
      ]
     },
     "execution_count": 35,
     "metadata": {},
     "output_type": "execute_result"
    }
   ],
   "source": [
    "test_data.head()"
   ]
  },
  {
   "cell_type": "code",
   "execution_count": 36,
   "metadata": {},
   "outputs": [],
   "source": [
    "train_data.to_csv('train.csv')"
   ]
  },
  {
   "cell_type": "code",
   "execution_count": 37,
   "metadata": {},
   "outputs": [],
   "source": [
    "test_data.to_csv('test.csv')"
   ]
  },
  {
   "cell_type": "code",
   "execution_count": null,
   "metadata": {},
   "outputs": [],
   "source": [
    "train_data.to_n"
   ]
  }
 ],
 "metadata": {
  "kernelspec": {
   "display_name": "Python [conda env:dl-gpu]",
   "language": "python",
   "name": "conda-env-dl-gpu-py"
  },
  "language_info": {
   "codemirror_mode": {
    "name": "ipython",
    "version": 3
   },
   "file_extension": ".py",
   "mimetype": "text/x-python",
   "name": "python",
   "nbconvert_exporter": "python",
   "pygments_lexer": "ipython3",
   "version": "3.6.3"
  },
  "toc": {
   "nav_menu": {},
   "number_sections": true,
   "sideBar": true,
   "skip_h1_title": false,
   "toc_cell": true,
   "toc_position": {},
   "toc_section_display": "block",
   "toc_window_display": false
  }
 },
 "nbformat": 4,
 "nbformat_minor": 2
}
