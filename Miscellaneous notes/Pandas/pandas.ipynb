{
 "cells": [
  {
   "cell_type": "code",
   "execution_count": 1,
   "metadata": {
    "collapsed": false
   },
   "outputs": [
    {
     "name": "stdout",
     "output_type": "stream",
     "text": [
      "Populating the interactive namespace from numpy and matplotlib\n"
     ]
    }
   ],
   "source": [
    "import pandas as pd\n",
    "from pandas import Series, DataFrame\n",
    "%pylab inline"
   ]
  },
  {
   "cell_type": "markdown",
   "metadata": {},
   "source": [
    "This notebook was prepared by Anderson B.\n",
    "\n",
    "\n",
    "Pandas\n",
    "============\n",
    "The following are notes taken while working through Pandas(version 0.18.0) Documentation.\n",
    "\n",
    "# Table of Content\n",
    "\n",
    "## 1. Data Structures \n",
    "| Dimensions | Name      | Description                                                                  |\n",
    "|------------|-----------|------------------------------------------------------------------------------|\n",
    "| 1          | Series    | 1D labeled homogeneously-type array                                          |\n",
    "| 2          | DataFrame | 2D labeled, size-mutable tabular structure with heterogeneously-type columns |\n",
    "| 3          | Panel     | 3D labeled, also size-mutable array                                          |"
   ]
  },
  {
   "cell_type": "code",
   "execution_count": 2,
   "metadata": {
    "collapsed": false
   },
   "outputs": [
    {
     "data": {
      "text/plain": [
       "u'0.18.1'"
      ]
     },
     "execution_count": 2,
     "metadata": {},
     "output_type": "execute_result"
    }
   ],
   "source": [
    "pd.__version__"
   ]
  },
  {
   "cell_type": "markdown",
   "metadata": {
    "collapsed": false
   },
   "source": [
    "## 2. Series and DataFrame\n",
    "\n",
    "### Creation"
   ]
  },
  {
   "cell_type": "code",
   "execution_count": 3,
   "metadata": {
    "collapsed": true
   },
   "outputs": [],
   "source": [
    "s = pd.Series([1,3,5,np.nan,6,8])"
   ]
  },
  {
   "cell_type": "code",
   "execution_count": 4,
   "metadata": {
    "collapsed": false
   },
   "outputs": [
    {
     "data": {
      "text/plain": [
       "0    1.0\n",
       "1    3.0\n",
       "2    5.0\n",
       "3    NaN\n",
       "4    6.0\n",
       "5    8.0\n",
       "dtype: float64"
      ]
     },
     "execution_count": 4,
     "metadata": {},
     "output_type": "execute_result"
    }
   ],
   "source": [
    "s"
   ]
  },
  {
   "cell_type": "code",
   "execution_count": 5,
   "metadata": {
    "collapsed": false
   },
   "outputs": [
    {
     "data": {
      "text/plain": [
       "DatetimeIndex(['2016-01-01', '2016-01-02', '2016-01-03', '2016-01-04',\n",
       "               '2016-01-05', '2016-01-06'],\n",
       "              dtype='datetime64[ns]', freq='D')"
      ]
     },
     "execution_count": 5,
     "metadata": {},
     "output_type": "execute_result"
    }
   ],
   "source": [
    "dates = pd.date_range('20160101', periods=6)\n",
    "dates"
   ]
  },
  {
   "cell_type": "code",
   "execution_count": 6,
   "metadata": {
    "collapsed": false
   },
   "outputs": [
    {
     "data": {
      "text/html": [
       "<div>\n",
       "<table border=\"1\" class=\"dataframe\">\n",
       "  <thead>\n",
       "    <tr style=\"text-align: right;\">\n",
       "      <th></th>\n",
       "      <th>A</th>\n",
       "      <th>B</th>\n",
       "      <th>D</th>\n",
       "      <th>C</th>\n",
       "    </tr>\n",
       "  </thead>\n",
       "  <tbody>\n",
       "    <tr>\n",
       "      <th>2016-01-01</th>\n",
       "      <td>0.801671</td>\n",
       "      <td>0.031857</td>\n",
       "      <td>-1.225618</td>\n",
       "      <td>-1.711436</td>\n",
       "    </tr>\n",
       "    <tr>\n",
       "      <th>2016-01-02</th>\n",
       "      <td>-0.889030</td>\n",
       "      <td>0.359829</td>\n",
       "      <td>0.518997</td>\n",
       "      <td>1.174663</td>\n",
       "    </tr>\n",
       "    <tr>\n",
       "      <th>2016-01-03</th>\n",
       "      <td>0.694779</td>\n",
       "      <td>1.905505</td>\n",
       "      <td>-0.246403</td>\n",
       "      <td>0.364373</td>\n",
       "    </tr>\n",
       "    <tr>\n",
       "      <th>2016-01-04</th>\n",
       "      <td>-0.489764</td>\n",
       "      <td>-0.600708</td>\n",
       "      <td>-0.666294</td>\n",
       "      <td>-0.616735</td>\n",
       "    </tr>\n",
       "    <tr>\n",
       "      <th>2016-01-05</th>\n",
       "      <td>0.917680</td>\n",
       "      <td>1.045710</td>\n",
       "      <td>0.040747</td>\n",
       "      <td>-0.256552</td>\n",
       "    </tr>\n",
       "    <tr>\n",
       "      <th>2016-01-06</th>\n",
       "      <td>-0.358480</td>\n",
       "      <td>-0.824482</td>\n",
       "      <td>-0.521434</td>\n",
       "      <td>-0.002040</td>\n",
       "    </tr>\n",
       "  </tbody>\n",
       "</table>\n",
       "</div>"
      ],
      "text/plain": [
       "                   A         B         D         C\n",
       "2016-01-01  0.801671  0.031857 -1.225618 -1.711436\n",
       "2016-01-02 -0.889030  0.359829  0.518997  1.174663\n",
       "2016-01-03  0.694779  1.905505 -0.246403  0.364373\n",
       "2016-01-04 -0.489764 -0.600708 -0.666294 -0.616735\n",
       "2016-01-05  0.917680  1.045710  0.040747 -0.256552\n",
       "2016-01-06 -0.358480 -0.824482 -0.521434 -0.002040"
      ]
     },
     "execution_count": 6,
     "metadata": {},
     "output_type": "execute_result"
    }
   ],
   "source": [
    "df = pd.DataFrame(np.random.randn(6, 4), index=dates, columns=list('ABDC'))\n",
    "df"
   ]
  },
  {
   "cell_type": "code",
   "execution_count": 7,
   "metadata": {
    "collapsed": true
   },
   "outputs": [],
   "source": [
    "# creating a DataFrame by passing a dict of objects that can be converted\n",
    "# series-like\n",
    "\n",
    "df2 = pd.DataFrame({ 'A': 1.,\n",
    "                     'B': pd.Timestamp('20161115'),\n",
    "                     'C': pd.Series(1, index=list(range(4)), dtype='float32'),\n",
    "                     'D': np.array([3] * 4, dtype='int32'),\n",
    "                     'E': pd.Categorical([\"test\", \"train\", \"test\", \"train\"]),\n",
    "                     'F': 'foo'})"
   ]
  },
  {
   "cell_type": "code",
   "execution_count": 8,
   "metadata": {
    "collapsed": false
   },
   "outputs": [
    {
     "data": {
      "text/html": [
       "<div>\n",
       "<table border=\"1\" class=\"dataframe\">\n",
       "  <thead>\n",
       "    <tr style=\"text-align: right;\">\n",
       "      <th></th>\n",
       "      <th>A</th>\n",
       "      <th>B</th>\n",
       "      <th>C</th>\n",
       "      <th>D</th>\n",
       "      <th>E</th>\n",
       "      <th>F</th>\n",
       "    </tr>\n",
       "  </thead>\n",
       "  <tbody>\n",
       "    <tr>\n",
       "      <th>0</th>\n",
       "      <td>1.0</td>\n",
       "      <td>2016-11-15</td>\n",
       "      <td>1.0</td>\n",
       "      <td>3</td>\n",
       "      <td>test</td>\n",
       "      <td>foo</td>\n",
       "    </tr>\n",
       "    <tr>\n",
       "      <th>1</th>\n",
       "      <td>1.0</td>\n",
       "      <td>2016-11-15</td>\n",
       "      <td>1.0</td>\n",
       "      <td>3</td>\n",
       "      <td>train</td>\n",
       "      <td>foo</td>\n",
       "    </tr>\n",
       "    <tr>\n",
       "      <th>2</th>\n",
       "      <td>1.0</td>\n",
       "      <td>2016-11-15</td>\n",
       "      <td>1.0</td>\n",
       "      <td>3</td>\n",
       "      <td>test</td>\n",
       "      <td>foo</td>\n",
       "    </tr>\n",
       "    <tr>\n",
       "      <th>3</th>\n",
       "      <td>1.0</td>\n",
       "      <td>2016-11-15</td>\n",
       "      <td>1.0</td>\n",
       "      <td>3</td>\n",
       "      <td>train</td>\n",
       "      <td>foo</td>\n",
       "    </tr>\n",
       "  </tbody>\n",
       "</table>\n",
       "</div>"
      ],
      "text/plain": [
       "     A          B    C  D      E    F\n",
       "0  1.0 2016-11-15  1.0  3   test  foo\n",
       "1  1.0 2016-11-15  1.0  3  train  foo\n",
       "2  1.0 2016-11-15  1.0  3   test  foo\n",
       "3  1.0 2016-11-15  1.0  3  train  foo"
      ]
     },
     "execution_count": 8,
     "metadata": {},
     "output_type": "execute_result"
    }
   ],
   "source": [
    "df2"
   ]
  },
  {
   "cell_type": "code",
   "execution_count": 10,
   "metadata": {
    "collapsed": false
   },
   "outputs": [
    {
     "data": {
      "text/plain": [
       "A           float64\n",
       "B    datetime64[ns]\n",
       "C           float32\n",
       "D             int32\n",
       "E          category\n",
       "F            object\n",
       "dtype: object"
      ]
     },
     "execution_count": 10,
     "metadata": {},
     "output_type": "execute_result"
    }
   ],
   "source": [
    "df2.dtypes"
   ]
  },
  {
   "cell_type": "markdown",
   "metadata": {},
   "source": [
    "### Viewing Data"
   ]
  },
  {
   "cell_type": "code",
   "execution_count": 12,
   "metadata": {
    "collapsed": false
   },
   "outputs": [
    {
     "data": {
      "text/html": [
       "<div>\n",
       "<table border=\"1\" class=\"dataframe\">\n",
       "  <thead>\n",
       "    <tr style=\"text-align: right;\">\n",
       "      <th></th>\n",
       "      <th>A</th>\n",
       "      <th>B</th>\n",
       "      <th>D</th>\n",
       "      <th>C</th>\n",
       "    </tr>\n",
       "  </thead>\n",
       "  <tbody>\n",
       "    <tr>\n",
       "      <th>2016-01-01</th>\n",
       "      <td>0.801671</td>\n",
       "      <td>0.031857</td>\n",
       "      <td>-1.225618</td>\n",
       "      <td>-1.711436</td>\n",
       "    </tr>\n",
       "    <tr>\n",
       "      <th>2016-01-02</th>\n",
       "      <td>-0.889030</td>\n",
       "      <td>0.359829</td>\n",
       "      <td>0.518997</td>\n",
       "      <td>1.174663</td>\n",
       "    </tr>\n",
       "    <tr>\n",
       "      <th>2016-01-03</th>\n",
       "      <td>0.694779</td>\n",
       "      <td>1.905505</td>\n",
       "      <td>-0.246403</td>\n",
       "      <td>0.364373</td>\n",
       "    </tr>\n",
       "    <tr>\n",
       "      <th>2016-01-04</th>\n",
       "      <td>-0.489764</td>\n",
       "      <td>-0.600708</td>\n",
       "      <td>-0.666294</td>\n",
       "      <td>-0.616735</td>\n",
       "    </tr>\n",
       "    <tr>\n",
       "      <th>2016-01-05</th>\n",
       "      <td>0.917680</td>\n",
       "      <td>1.045710</td>\n",
       "      <td>0.040747</td>\n",
       "      <td>-0.256552</td>\n",
       "    </tr>\n",
       "  </tbody>\n",
       "</table>\n",
       "</div>"
      ],
      "text/plain": [
       "                   A         B         D         C\n",
       "2016-01-01  0.801671  0.031857 -1.225618 -1.711436\n",
       "2016-01-02 -0.889030  0.359829  0.518997  1.174663\n",
       "2016-01-03  0.694779  1.905505 -0.246403  0.364373\n",
       "2016-01-04 -0.489764 -0.600708 -0.666294 -0.616735\n",
       "2016-01-05  0.917680  1.045710  0.040747 -0.256552"
      ]
     },
     "execution_count": 12,
     "metadata": {},
     "output_type": "execute_result"
    }
   ],
   "source": [
    "df.head()"
   ]
  },
  {
   "cell_type": "code",
   "execution_count": 13,
   "metadata": {
    "collapsed": false
   },
   "outputs": [
    {
     "data": {
      "text/html": [
       "<div>\n",
       "<table border=\"1\" class=\"dataframe\">\n",
       "  <thead>\n",
       "    <tr style=\"text-align: right;\">\n",
       "      <th></th>\n",
       "      <th>A</th>\n",
       "      <th>B</th>\n",
       "      <th>D</th>\n",
       "      <th>C</th>\n",
       "    </tr>\n",
       "  </thead>\n",
       "  <tbody>\n",
       "    <tr>\n",
       "      <th>2016-01-04</th>\n",
       "      <td>-0.489764</td>\n",
       "      <td>-0.600708</td>\n",
       "      <td>-0.666294</td>\n",
       "      <td>-0.616735</td>\n",
       "    </tr>\n",
       "    <tr>\n",
       "      <th>2016-01-05</th>\n",
       "      <td>0.917680</td>\n",
       "      <td>1.045710</td>\n",
       "      <td>0.040747</td>\n",
       "      <td>-0.256552</td>\n",
       "    </tr>\n",
       "    <tr>\n",
       "      <th>2016-01-06</th>\n",
       "      <td>-0.358480</td>\n",
       "      <td>-0.824482</td>\n",
       "      <td>-0.521434</td>\n",
       "      <td>-0.002040</td>\n",
       "    </tr>\n",
       "  </tbody>\n",
       "</table>\n",
       "</div>"
      ],
      "text/plain": [
       "                   A         B         D         C\n",
       "2016-01-04 -0.489764 -0.600708 -0.666294 -0.616735\n",
       "2016-01-05  0.917680  1.045710  0.040747 -0.256552\n",
       "2016-01-06 -0.358480 -0.824482 -0.521434 -0.002040"
      ]
     },
     "execution_count": 13,
     "metadata": {},
     "output_type": "execute_result"
    }
   ],
   "source": [
    "df.tail(3)"
   ]
  },
  {
   "cell_type": "code",
   "execution_count": 14,
   "metadata": {
    "collapsed": false
   },
   "outputs": [
    {
     "data": {
      "text/html": [
       "<div>\n",
       "<table border=\"1\" class=\"dataframe\">\n",
       "  <thead>\n",
       "    <tr style=\"text-align: right;\">\n",
       "      <th></th>\n",
       "      <th>A</th>\n",
       "      <th>B</th>\n",
       "      <th>D</th>\n",
       "      <th>C</th>\n",
       "    </tr>\n",
       "  </thead>\n",
       "  <tbody>\n",
       "    <tr>\n",
       "      <th>count</th>\n",
       "      <td>6.000000</td>\n",
       "      <td>6.000000</td>\n",
       "      <td>6.000000</td>\n",
       "      <td>6.000000</td>\n",
       "    </tr>\n",
       "    <tr>\n",
       "      <th>mean</th>\n",
       "      <td>0.112809</td>\n",
       "      <td>0.319618</td>\n",
       "      <td>-0.350001</td>\n",
       "      <td>-0.174621</td>\n",
       "    </tr>\n",
       "    <tr>\n",
       "      <th>std</th>\n",
       "      <td>0.781015</td>\n",
       "      <td>1.027875</td>\n",
       "      <td>0.602447</td>\n",
       "      <td>0.970036</td>\n",
       "    </tr>\n",
       "    <tr>\n",
       "      <th>min</th>\n",
       "      <td>-0.889030</td>\n",
       "      <td>-0.824482</td>\n",
       "      <td>-1.225618</td>\n",
       "      <td>-1.711436</td>\n",
       "    </tr>\n",
       "    <tr>\n",
       "      <th>25%</th>\n",
       "      <td>-0.456943</td>\n",
       "      <td>-0.442567</td>\n",
       "      <td>-0.630079</td>\n",
       "      <td>-0.526689</td>\n",
       "    </tr>\n",
       "    <tr>\n",
       "      <th>50%</th>\n",
       "      <td>0.168149</td>\n",
       "      <td>0.195843</td>\n",
       "      <td>-0.383918</td>\n",
       "      <td>-0.129296</td>\n",
       "    </tr>\n",
       "    <tr>\n",
       "      <th>75%</th>\n",
       "      <td>0.774948</td>\n",
       "      <td>0.874240</td>\n",
       "      <td>-0.031040</td>\n",
       "      <td>0.272770</td>\n",
       "    </tr>\n",
       "    <tr>\n",
       "      <th>max</th>\n",
       "      <td>0.917680</td>\n",
       "      <td>1.905505</td>\n",
       "      <td>0.518997</td>\n",
       "      <td>1.174663</td>\n",
       "    </tr>\n",
       "  </tbody>\n",
       "</table>\n",
       "</div>"
      ],
      "text/plain": [
       "              A         B         D         C\n",
       "count  6.000000  6.000000  6.000000  6.000000\n",
       "mean   0.112809  0.319618 -0.350001 -0.174621\n",
       "std    0.781015  1.027875  0.602447  0.970036\n",
       "min   -0.889030 -0.824482 -1.225618 -1.711436\n",
       "25%   -0.456943 -0.442567 -0.630079 -0.526689\n",
       "50%    0.168149  0.195843 -0.383918 -0.129296\n",
       "75%    0.774948  0.874240 -0.031040  0.272770\n",
       "max    0.917680  1.905505  0.518997  1.174663"
      ]
     },
     "execution_count": 14,
     "metadata": {},
     "output_type": "execute_result"
    }
   ],
   "source": [
    "df.describe()"
   ]
  },
  {
   "cell_type": "code",
   "execution_count": 15,
   "metadata": {
    "collapsed": false
   },
   "outputs": [
    {
     "data": {
      "text/html": [
       "<div>\n",
       "<table border=\"1\" class=\"dataframe\">\n",
       "  <thead>\n",
       "    <tr style=\"text-align: right;\">\n",
       "      <th></th>\n",
       "      <th>2016-01-01 00:00:00</th>\n",
       "      <th>2016-01-02 00:00:00</th>\n",
       "      <th>2016-01-03 00:00:00</th>\n",
       "      <th>2016-01-04 00:00:00</th>\n",
       "      <th>2016-01-05 00:00:00</th>\n",
       "      <th>2016-01-06 00:00:00</th>\n",
       "    </tr>\n",
       "  </thead>\n",
       "  <tbody>\n",
       "    <tr>\n",
       "      <th>A</th>\n",
       "      <td>0.801671</td>\n",
       "      <td>-0.889030</td>\n",
       "      <td>0.694779</td>\n",
       "      <td>-0.489764</td>\n",
       "      <td>0.917680</td>\n",
       "      <td>-0.358480</td>\n",
       "    </tr>\n",
       "    <tr>\n",
       "      <th>B</th>\n",
       "      <td>0.031857</td>\n",
       "      <td>0.359829</td>\n",
       "      <td>1.905505</td>\n",
       "      <td>-0.600708</td>\n",
       "      <td>1.045710</td>\n",
       "      <td>-0.824482</td>\n",
       "    </tr>\n",
       "    <tr>\n",
       "      <th>D</th>\n",
       "      <td>-1.225618</td>\n",
       "      <td>0.518997</td>\n",
       "      <td>-0.246403</td>\n",
       "      <td>-0.666294</td>\n",
       "      <td>0.040747</td>\n",
       "      <td>-0.521434</td>\n",
       "    </tr>\n",
       "    <tr>\n",
       "      <th>C</th>\n",
       "      <td>-1.711436</td>\n",
       "      <td>1.174663</td>\n",
       "      <td>0.364373</td>\n",
       "      <td>-0.616735</td>\n",
       "      <td>-0.256552</td>\n",
       "      <td>-0.002040</td>\n",
       "    </tr>\n",
       "  </tbody>\n",
       "</table>\n",
       "</div>"
      ],
      "text/plain": [
       "   2016-01-01  2016-01-02  2016-01-03  2016-01-04  2016-01-05  2016-01-06\n",
       "A    0.801671   -0.889030    0.694779   -0.489764    0.917680   -0.358480\n",
       "B    0.031857    0.359829    1.905505   -0.600708    1.045710   -0.824482\n",
       "D   -1.225618    0.518997   -0.246403   -0.666294    0.040747   -0.521434\n",
       "C   -1.711436    1.174663    0.364373   -0.616735   -0.256552   -0.002040"
      ]
     },
     "execution_count": 15,
     "metadata": {},
     "output_type": "execute_result"
    }
   ],
   "source": [
    "# transposing the data\n",
    "df.T"
   ]
  },
  {
   "cell_type": "code",
   "execution_count": 16,
   "metadata": {
    "collapsed": false
   },
   "outputs": [
    {
     "data": {
      "text/html": [
       "<div>\n",
       "<table border=\"1\" class=\"dataframe\">\n",
       "  <thead>\n",
       "    <tr style=\"text-align: right;\">\n",
       "      <th></th>\n",
       "      <th>D</th>\n",
       "      <th>C</th>\n",
       "      <th>B</th>\n",
       "      <th>A</th>\n",
       "    </tr>\n",
       "  </thead>\n",
       "  <tbody>\n",
       "    <tr>\n",
       "      <th>2016-01-01</th>\n",
       "      <td>-1.225618</td>\n",
       "      <td>-1.711436</td>\n",
       "      <td>0.031857</td>\n",
       "      <td>0.801671</td>\n",
       "    </tr>\n",
       "    <tr>\n",
       "      <th>2016-01-02</th>\n",
       "      <td>0.518997</td>\n",
       "      <td>1.174663</td>\n",
       "      <td>0.359829</td>\n",
       "      <td>-0.889030</td>\n",
       "    </tr>\n",
       "    <tr>\n",
       "      <th>2016-01-03</th>\n",
       "      <td>-0.246403</td>\n",
       "      <td>0.364373</td>\n",
       "      <td>1.905505</td>\n",
       "      <td>0.694779</td>\n",
       "    </tr>\n",
       "    <tr>\n",
       "      <th>2016-01-04</th>\n",
       "      <td>-0.666294</td>\n",
       "      <td>-0.616735</td>\n",
       "      <td>-0.600708</td>\n",
       "      <td>-0.489764</td>\n",
       "    </tr>\n",
       "    <tr>\n",
       "      <th>2016-01-05</th>\n",
       "      <td>0.040747</td>\n",
       "      <td>-0.256552</td>\n",
       "      <td>1.045710</td>\n",
       "      <td>0.917680</td>\n",
       "    </tr>\n",
       "    <tr>\n",
       "      <th>2016-01-06</th>\n",
       "      <td>-0.521434</td>\n",
       "      <td>-0.002040</td>\n",
       "      <td>-0.824482</td>\n",
       "      <td>-0.358480</td>\n",
       "    </tr>\n",
       "  </tbody>\n",
       "</table>\n",
       "</div>"
      ],
      "text/plain": [
       "                   D         C         B         A\n",
       "2016-01-01 -1.225618 -1.711436  0.031857  0.801671\n",
       "2016-01-02  0.518997  1.174663  0.359829 -0.889030\n",
       "2016-01-03 -0.246403  0.364373  1.905505  0.694779\n",
       "2016-01-04 -0.666294 -0.616735 -0.600708 -0.489764\n",
       "2016-01-05  0.040747 -0.256552  1.045710  0.917680\n",
       "2016-01-06 -0.521434 -0.002040 -0.824482 -0.358480"
      ]
     },
     "execution_count": 16,
     "metadata": {},
     "output_type": "execute_result"
    }
   ],
   "source": [
    "# Sorting by an axis\n",
    "df.sort_index(axis=1, ascending=False)"
   ]
  },
  {
   "cell_type": "code",
   "execution_count": 17,
   "metadata": {
    "collapsed": false
   },
   "outputs": [
    {
     "data": {
      "text/html": [
       "<div>\n",
       "<table border=\"1\" class=\"dataframe\">\n",
       "  <thead>\n",
       "    <tr style=\"text-align: right;\">\n",
       "      <th></th>\n",
       "      <th>A</th>\n",
       "      <th>B</th>\n",
       "      <th>D</th>\n",
       "      <th>C</th>\n",
       "    </tr>\n",
       "  </thead>\n",
       "  <tbody>\n",
       "    <tr>\n",
       "      <th>2016-01-06</th>\n",
       "      <td>-0.358480</td>\n",
       "      <td>-0.824482</td>\n",
       "      <td>-0.521434</td>\n",
       "      <td>-0.002040</td>\n",
       "    </tr>\n",
       "    <tr>\n",
       "      <th>2016-01-04</th>\n",
       "      <td>-0.489764</td>\n",
       "      <td>-0.600708</td>\n",
       "      <td>-0.666294</td>\n",
       "      <td>-0.616735</td>\n",
       "    </tr>\n",
       "    <tr>\n",
       "      <th>2016-01-01</th>\n",
       "      <td>0.801671</td>\n",
       "      <td>0.031857</td>\n",
       "      <td>-1.225618</td>\n",
       "      <td>-1.711436</td>\n",
       "    </tr>\n",
       "    <tr>\n",
       "      <th>2016-01-02</th>\n",
       "      <td>-0.889030</td>\n",
       "      <td>0.359829</td>\n",
       "      <td>0.518997</td>\n",
       "      <td>1.174663</td>\n",
       "    </tr>\n",
       "    <tr>\n",
       "      <th>2016-01-05</th>\n",
       "      <td>0.917680</td>\n",
       "      <td>1.045710</td>\n",
       "      <td>0.040747</td>\n",
       "      <td>-0.256552</td>\n",
       "    </tr>\n",
       "    <tr>\n",
       "      <th>2016-01-03</th>\n",
       "      <td>0.694779</td>\n",
       "      <td>1.905505</td>\n",
       "      <td>-0.246403</td>\n",
       "      <td>0.364373</td>\n",
       "    </tr>\n",
       "  </tbody>\n",
       "</table>\n",
       "</div>"
      ],
      "text/plain": [
       "                   A         B         D         C\n",
       "2016-01-06 -0.358480 -0.824482 -0.521434 -0.002040\n",
       "2016-01-04 -0.489764 -0.600708 -0.666294 -0.616735\n",
       "2016-01-01  0.801671  0.031857 -1.225618 -1.711436\n",
       "2016-01-02 -0.889030  0.359829  0.518997  1.174663\n",
       "2016-01-05  0.917680  1.045710  0.040747 -0.256552\n",
       "2016-01-03  0.694779  1.905505 -0.246403  0.364373"
      ]
     },
     "execution_count": 17,
     "metadata": {},
     "output_type": "execute_result"
    }
   ],
   "source": [
    "df.sort_values(by='B')"
   ]
  },
  {
   "cell_type": "markdown",
   "metadata": {},
   "source": [
    "### Selection\n"
   ]
  },
  {
   "cell_type": "code",
   "execution_count": 18,
   "metadata": {
    "collapsed": false
   },
   "outputs": [
    {
     "data": {
      "text/plain": [
       "2016-01-01    0.801671\n",
       "2016-01-02   -0.889030\n",
       "2016-01-03    0.694779\n",
       "2016-01-04   -0.489764\n",
       "2016-01-05    0.917680\n",
       "2016-01-06   -0.358480\n",
       "Freq: D, Name: A, dtype: float64"
      ]
     },
     "execution_count": 18,
     "metadata": {},
     "output_type": "execute_result"
    }
   ],
   "source": [
    "df['A']"
   ]
  },
  {
   "cell_type": "code",
   "execution_count": 19,
   "metadata": {
    "collapsed": false
   },
   "outputs": [
    {
     "data": {
      "text/html": [
       "<div>\n",
       "<table border=\"1\" class=\"dataframe\">\n",
       "  <thead>\n",
       "    <tr style=\"text-align: right;\">\n",
       "      <th></th>\n",
       "      <th>A</th>\n",
       "      <th>B</th>\n",
       "      <th>D</th>\n",
       "      <th>C</th>\n",
       "    </tr>\n",
       "  </thead>\n",
       "  <tbody>\n",
       "    <tr>\n",
       "      <th>2016-01-01</th>\n",
       "      <td>0.801671</td>\n",
       "      <td>0.031857</td>\n",
       "      <td>-1.225618</td>\n",
       "      <td>-1.711436</td>\n",
       "    </tr>\n",
       "    <tr>\n",
       "      <th>2016-01-02</th>\n",
       "      <td>-0.889030</td>\n",
       "      <td>0.359829</td>\n",
       "      <td>0.518997</td>\n",
       "      <td>1.174663</td>\n",
       "    </tr>\n",
       "    <tr>\n",
       "      <th>2016-01-03</th>\n",
       "      <td>0.694779</td>\n",
       "      <td>1.905505</td>\n",
       "      <td>-0.246403</td>\n",
       "      <td>0.364373</td>\n",
       "    </tr>\n",
       "  </tbody>\n",
       "</table>\n",
       "</div>"
      ],
      "text/plain": [
       "                   A         B         D         C\n",
       "2016-01-01  0.801671  0.031857 -1.225618 -1.711436\n",
       "2016-01-02 -0.889030  0.359829  0.518997  1.174663\n",
       "2016-01-03  0.694779  1.905505 -0.246403  0.364373"
      ]
     },
     "execution_count": 19,
     "metadata": {},
     "output_type": "execute_result"
    }
   ],
   "source": [
    "df[0:3]"
   ]
  },
  {
   "cell_type": "code",
   "execution_count": 20,
   "metadata": {
    "collapsed": false
   },
   "outputs": [
    {
     "data": {
      "text/plain": [
       "A    0.801671\n",
       "B    0.031857\n",
       "D   -1.225618\n",
       "C   -1.711436\n",
       "Name: 2016-01-01 00:00:00, dtype: float64"
      ]
     },
     "execution_count": 20,
     "metadata": {},
     "output_type": "execute_result"
    }
   ],
   "source": [
    "# selection by label\n",
    "df.loc[dates[0]]"
   ]
  },
  {
   "cell_type": "code",
   "execution_count": 21,
   "metadata": {
    "collapsed": false
   },
   "outputs": [
    {
     "data": {
      "text/html": [
       "<div>\n",
       "<table border=\"1\" class=\"dataframe\">\n",
       "  <thead>\n",
       "    <tr style=\"text-align: right;\">\n",
       "      <th></th>\n",
       "      <th>A</th>\n",
       "      <th>B</th>\n",
       "    </tr>\n",
       "  </thead>\n",
       "  <tbody>\n",
       "    <tr>\n",
       "      <th>2016-01-01</th>\n",
       "      <td>0.801671</td>\n",
       "      <td>0.031857</td>\n",
       "    </tr>\n",
       "    <tr>\n",
       "      <th>2016-01-02</th>\n",
       "      <td>-0.889030</td>\n",
       "      <td>0.359829</td>\n",
       "    </tr>\n",
       "    <tr>\n",
       "      <th>2016-01-03</th>\n",
       "      <td>0.694779</td>\n",
       "      <td>1.905505</td>\n",
       "    </tr>\n",
       "    <tr>\n",
       "      <th>2016-01-04</th>\n",
       "      <td>-0.489764</td>\n",
       "      <td>-0.600708</td>\n",
       "    </tr>\n",
       "    <tr>\n",
       "      <th>2016-01-05</th>\n",
       "      <td>0.917680</td>\n",
       "      <td>1.045710</td>\n",
       "    </tr>\n",
       "    <tr>\n",
       "      <th>2016-01-06</th>\n",
       "      <td>-0.358480</td>\n",
       "      <td>-0.824482</td>\n",
       "    </tr>\n",
       "  </tbody>\n",
       "</table>\n",
       "</div>"
      ],
      "text/plain": [
       "                   A         B\n",
       "2016-01-01  0.801671  0.031857\n",
       "2016-01-02 -0.889030  0.359829\n",
       "2016-01-03  0.694779  1.905505\n",
       "2016-01-04 -0.489764 -0.600708\n",
       "2016-01-05  0.917680  1.045710\n",
       "2016-01-06 -0.358480 -0.824482"
      ]
     },
     "execution_count": 21,
     "metadata": {},
     "output_type": "execute_result"
    }
   ],
   "source": [
    "df.loc[:, ['A', 'B']]"
   ]
  },
  {
   "cell_type": "code",
   "execution_count": 22,
   "metadata": {
    "collapsed": false
   },
   "outputs": [
    {
     "data": {
      "text/plain": [
       "0.80167122482150577"
      ]
     },
     "execution_count": 22,
     "metadata": {},
     "output_type": "execute_result"
    }
   ],
   "source": [
    "df.loc[dates[0], 'A']"
   ]
  },
  {
   "cell_type": "code",
   "execution_count": 23,
   "metadata": {
    "collapsed": false
   },
   "outputs": [
    {
     "data": {
      "text/plain": [
       "0.80167122482150577"
      ]
     },
     "execution_count": 23,
     "metadata": {},
     "output_type": "execute_result"
    }
   ],
   "source": [
    "df.at[dates[0], 'A']"
   ]
  },
  {
   "cell_type": "code",
   "execution_count": 24,
   "metadata": {
    "collapsed": false
   },
   "outputs": [
    {
     "data": {
      "text/plain": [
       "A   -0.489764\n",
       "B   -0.600708\n",
       "D   -0.666294\n",
       "C   -0.616735\n",
       "Name: 2016-01-04 00:00:00, dtype: float64"
      ]
     },
     "execution_count": 24,
     "metadata": {},
     "output_type": "execute_result"
    }
   ],
   "source": [
    "# Selection by Position\n",
    "df.iloc[3]"
   ]
  },
  {
   "cell_type": "code",
   "execution_count": 26,
   "metadata": {
    "collapsed": false
   },
   "outputs": [
    {
     "data": {
      "text/html": [
       "<div>\n",
       "<table border=\"1\" class=\"dataframe\">\n",
       "  <thead>\n",
       "    <tr style=\"text-align: right;\">\n",
       "      <th></th>\n",
       "      <th>A</th>\n",
       "      <th>B</th>\n",
       "    </tr>\n",
       "  </thead>\n",
       "  <tbody>\n",
       "    <tr>\n",
       "      <th>2016-01-04</th>\n",
       "      <td>-0.489764</td>\n",
       "      <td>-0.600708</td>\n",
       "    </tr>\n",
       "    <tr>\n",
       "      <th>2016-01-05</th>\n",
       "      <td>0.917680</td>\n",
       "      <td>1.045710</td>\n",
       "    </tr>\n",
       "  </tbody>\n",
       "</table>\n",
       "</div>"
      ],
      "text/plain": [
       "                   A         B\n",
       "2016-01-04 -0.489764 -0.600708\n",
       "2016-01-05  0.917680  1.045710"
      ]
     },
     "execution_count": 26,
     "metadata": {},
     "output_type": "execute_result"
    }
   ],
   "source": [
    "df.iloc[3:5, 0:2]"
   ]
  },
  {
   "cell_type": "code",
   "execution_count": 27,
   "metadata": {
    "collapsed": false
   },
   "outputs": [
    {
     "data": {
      "text/plain": [
       "0.3598292258712979"
      ]
     },
     "execution_count": 27,
     "metadata": {},
     "output_type": "execute_result"
    }
   ],
   "source": [
    "df.iat[1,1]"
   ]
  },
  {
   "cell_type": "code",
   "execution_count": 28,
   "metadata": {
    "collapsed": false
   },
   "outputs": [
    {
     "data": {
      "text/html": [
       "<div>\n",
       "<table border=\"1\" class=\"dataframe\">\n",
       "  <thead>\n",
       "    <tr style=\"text-align: right;\">\n",
       "      <th></th>\n",
       "      <th>A</th>\n",
       "      <th>B</th>\n",
       "      <th>D</th>\n",
       "      <th>C</th>\n",
       "    </tr>\n",
       "  </thead>\n",
       "  <tbody>\n",
       "    <tr>\n",
       "      <th>2016-01-01</th>\n",
       "      <td>0.801671</td>\n",
       "      <td>0.031857</td>\n",
       "      <td>-1.225618</td>\n",
       "      <td>-1.711436</td>\n",
       "    </tr>\n",
       "    <tr>\n",
       "      <th>2016-01-03</th>\n",
       "      <td>0.694779</td>\n",
       "      <td>1.905505</td>\n",
       "      <td>-0.246403</td>\n",
       "      <td>0.364373</td>\n",
       "    </tr>\n",
       "    <tr>\n",
       "      <th>2016-01-05</th>\n",
       "      <td>0.917680</td>\n",
       "      <td>1.045710</td>\n",
       "      <td>0.040747</td>\n",
       "      <td>-0.256552</td>\n",
       "    </tr>\n",
       "  </tbody>\n",
       "</table>\n",
       "</div>"
      ],
      "text/plain": [
       "                   A         B         D         C\n",
       "2016-01-01  0.801671  0.031857 -1.225618 -1.711436\n",
       "2016-01-03  0.694779  1.905505 -0.246403  0.364373\n",
       "2016-01-05  0.917680  1.045710  0.040747 -0.256552"
      ]
     },
     "execution_count": 28,
     "metadata": {},
     "output_type": "execute_result"
    }
   ],
   "source": [
    "# Boolean Indexing\n",
    "df[df.A > 0]"
   ]
  },
  {
   "cell_type": "code",
   "execution_count": 29,
   "metadata": {
    "collapsed": false
   },
   "outputs": [
    {
     "data": {
      "text/html": [
       "<div>\n",
       "<table border=\"1\" class=\"dataframe\">\n",
       "  <thead>\n",
       "    <tr style=\"text-align: right;\">\n",
       "      <th></th>\n",
       "      <th>A</th>\n",
       "      <th>B</th>\n",
       "      <th>D</th>\n",
       "      <th>C</th>\n",
       "    </tr>\n",
       "  </thead>\n",
       "  <tbody>\n",
       "    <tr>\n",
       "      <th>2016-01-01</th>\n",
       "      <td>0.801671</td>\n",
       "      <td>0.031857</td>\n",
       "      <td>NaN</td>\n",
       "      <td>NaN</td>\n",
       "    </tr>\n",
       "    <tr>\n",
       "      <th>2016-01-02</th>\n",
       "      <td>NaN</td>\n",
       "      <td>0.359829</td>\n",
       "      <td>0.518997</td>\n",
       "      <td>1.174663</td>\n",
       "    </tr>\n",
       "    <tr>\n",
       "      <th>2016-01-03</th>\n",
       "      <td>0.694779</td>\n",
       "      <td>1.905505</td>\n",
       "      <td>NaN</td>\n",
       "      <td>0.364373</td>\n",
       "    </tr>\n",
       "    <tr>\n",
       "      <th>2016-01-04</th>\n",
       "      <td>NaN</td>\n",
       "      <td>NaN</td>\n",
       "      <td>NaN</td>\n",
       "      <td>NaN</td>\n",
       "    </tr>\n",
       "    <tr>\n",
       "      <th>2016-01-05</th>\n",
       "      <td>0.917680</td>\n",
       "      <td>1.045710</td>\n",
       "      <td>0.040747</td>\n",
       "      <td>NaN</td>\n",
       "    </tr>\n",
       "    <tr>\n",
       "      <th>2016-01-06</th>\n",
       "      <td>NaN</td>\n",
       "      <td>NaN</td>\n",
       "      <td>NaN</td>\n",
       "      <td>NaN</td>\n",
       "    </tr>\n",
       "  </tbody>\n",
       "</table>\n",
       "</div>"
      ],
      "text/plain": [
       "                   A         B         D         C\n",
       "2016-01-01  0.801671  0.031857       NaN       NaN\n",
       "2016-01-02       NaN  0.359829  0.518997  1.174663\n",
       "2016-01-03  0.694779  1.905505       NaN  0.364373\n",
       "2016-01-04       NaN       NaN       NaN       NaN\n",
       "2016-01-05  0.917680  1.045710  0.040747       NaN\n",
       "2016-01-06       NaN       NaN       NaN       NaN"
      ]
     },
     "execution_count": 29,
     "metadata": {},
     "output_type": "execute_result"
    }
   ],
   "source": [
    "df[df > 0]"
   ]
  },
  {
   "cell_type": "code",
   "execution_count": 30,
   "metadata": {
    "collapsed": false
   },
   "outputs": [
    {
     "data": {
      "text/html": [
       "<div>\n",
       "<table border=\"1\" class=\"dataframe\">\n",
       "  <thead>\n",
       "    <tr style=\"text-align: right;\">\n",
       "      <th></th>\n",
       "      <th>A</th>\n",
       "      <th>B</th>\n",
       "      <th>D</th>\n",
       "      <th>C</th>\n",
       "    </tr>\n",
       "  </thead>\n",
       "  <tbody>\n",
       "    <tr>\n",
       "      <th>2016-01-01</th>\n",
       "      <td>0.801671</td>\n",
       "      <td>0.031857</td>\n",
       "      <td>-1.225618</td>\n",
       "      <td>-1.711436</td>\n",
       "    </tr>\n",
       "    <tr>\n",
       "      <th>2016-01-02</th>\n",
       "      <td>-0.889030</td>\n",
       "      <td>0.359829</td>\n",
       "      <td>0.518997</td>\n",
       "      <td>1.174663</td>\n",
       "    </tr>\n",
       "    <tr>\n",
       "      <th>2016-01-03</th>\n",
       "      <td>0.694779</td>\n",
       "      <td>1.905505</td>\n",
       "      <td>-0.246403</td>\n",
       "      <td>0.364373</td>\n",
       "    </tr>\n",
       "    <tr>\n",
       "      <th>2016-01-04</th>\n",
       "      <td>-0.489764</td>\n",
       "      <td>-0.600708</td>\n",
       "      <td>-0.666294</td>\n",
       "      <td>-0.616735</td>\n",
       "    </tr>\n",
       "    <tr>\n",
       "      <th>2016-01-05</th>\n",
       "      <td>0.917680</td>\n",
       "      <td>1.045710</td>\n",
       "      <td>0.040747</td>\n",
       "      <td>-0.256552</td>\n",
       "    </tr>\n",
       "    <tr>\n",
       "      <th>2016-01-06</th>\n",
       "      <td>-0.358480</td>\n",
       "      <td>-0.824482</td>\n",
       "      <td>-0.521434</td>\n",
       "      <td>-0.002040</td>\n",
       "    </tr>\n",
       "  </tbody>\n",
       "</table>\n",
       "</div>"
      ],
      "text/plain": [
       "                   A         B         D         C\n",
       "2016-01-01  0.801671  0.031857 -1.225618 -1.711436\n",
       "2016-01-02 -0.889030  0.359829  0.518997  1.174663\n",
       "2016-01-03  0.694779  1.905505 -0.246403  0.364373\n",
       "2016-01-04 -0.489764 -0.600708 -0.666294 -0.616735\n",
       "2016-01-05  0.917680  1.045710  0.040747 -0.256552\n",
       "2016-01-06 -0.358480 -0.824482 -0.521434 -0.002040"
      ]
     },
     "execution_count": 30,
     "metadata": {},
     "output_type": "execute_result"
    }
   ],
   "source": [
    "df"
   ]
  },
  {
   "cell_type": "code",
   "execution_count": 31,
   "metadata": {
    "collapsed": true
   },
   "outputs": [],
   "source": [
    "df2 = df.copy()"
   ]
  },
  {
   "cell_type": "code",
   "execution_count": 32,
   "metadata": {
    "collapsed": true
   },
   "outputs": [],
   "source": [
    "df2['E'] = ['one', 'one', 'two', 'three', 'four', 'three']"
   ]
  },
  {
   "cell_type": "code",
   "execution_count": 33,
   "metadata": {
    "collapsed": false
   },
   "outputs": [
    {
     "data": {
      "text/html": [
       "<div>\n",
       "<table border=\"1\" class=\"dataframe\">\n",
       "  <thead>\n",
       "    <tr style=\"text-align: right;\">\n",
       "      <th></th>\n",
       "      <th>A</th>\n",
       "      <th>B</th>\n",
       "      <th>D</th>\n",
       "      <th>C</th>\n",
       "      <th>E</th>\n",
       "    </tr>\n",
       "  </thead>\n",
       "  <tbody>\n",
       "    <tr>\n",
       "      <th>2016-01-01</th>\n",
       "      <td>0.801671</td>\n",
       "      <td>0.031857</td>\n",
       "      <td>-1.225618</td>\n",
       "      <td>-1.711436</td>\n",
       "      <td>one</td>\n",
       "    </tr>\n",
       "    <tr>\n",
       "      <th>2016-01-02</th>\n",
       "      <td>-0.889030</td>\n",
       "      <td>0.359829</td>\n",
       "      <td>0.518997</td>\n",
       "      <td>1.174663</td>\n",
       "      <td>one</td>\n",
       "    </tr>\n",
       "    <tr>\n",
       "      <th>2016-01-03</th>\n",
       "      <td>0.694779</td>\n",
       "      <td>1.905505</td>\n",
       "      <td>-0.246403</td>\n",
       "      <td>0.364373</td>\n",
       "      <td>two</td>\n",
       "    </tr>\n",
       "    <tr>\n",
       "      <th>2016-01-04</th>\n",
       "      <td>-0.489764</td>\n",
       "      <td>-0.600708</td>\n",
       "      <td>-0.666294</td>\n",
       "      <td>-0.616735</td>\n",
       "      <td>three</td>\n",
       "    </tr>\n",
       "    <tr>\n",
       "      <th>2016-01-05</th>\n",
       "      <td>0.917680</td>\n",
       "      <td>1.045710</td>\n",
       "      <td>0.040747</td>\n",
       "      <td>-0.256552</td>\n",
       "      <td>four</td>\n",
       "    </tr>\n",
       "    <tr>\n",
       "      <th>2016-01-06</th>\n",
       "      <td>-0.358480</td>\n",
       "      <td>-0.824482</td>\n",
       "      <td>-0.521434</td>\n",
       "      <td>-0.002040</td>\n",
       "      <td>three</td>\n",
       "    </tr>\n",
       "  </tbody>\n",
       "</table>\n",
       "</div>"
      ],
      "text/plain": [
       "                   A         B         D         C      E\n",
       "2016-01-01  0.801671  0.031857 -1.225618 -1.711436    one\n",
       "2016-01-02 -0.889030  0.359829  0.518997  1.174663    one\n",
       "2016-01-03  0.694779  1.905505 -0.246403  0.364373    two\n",
       "2016-01-04 -0.489764 -0.600708 -0.666294 -0.616735  three\n",
       "2016-01-05  0.917680  1.045710  0.040747 -0.256552   four\n",
       "2016-01-06 -0.358480 -0.824482 -0.521434 -0.002040  three"
      ]
     },
     "execution_count": 33,
     "metadata": {},
     "output_type": "execute_result"
    }
   ],
   "source": [
    "df2"
   ]
  },
  {
   "cell_type": "code",
   "execution_count": 34,
   "metadata": {
    "collapsed": false
   },
   "outputs": [
    {
     "data": {
      "text/html": [
       "<div>\n",
       "<table border=\"1\" class=\"dataframe\">\n",
       "  <thead>\n",
       "    <tr style=\"text-align: right;\">\n",
       "      <th></th>\n",
       "      <th>A</th>\n",
       "      <th>B</th>\n",
       "      <th>D</th>\n",
       "      <th>C</th>\n",
       "      <th>E</th>\n",
       "    </tr>\n",
       "  </thead>\n",
       "  <tbody>\n",
       "    <tr>\n",
       "      <th>2016-01-03</th>\n",
       "      <td>0.694779</td>\n",
       "      <td>1.905505</td>\n",
       "      <td>-0.246403</td>\n",
       "      <td>0.364373</td>\n",
       "      <td>two</td>\n",
       "    </tr>\n",
       "    <tr>\n",
       "      <th>2016-01-05</th>\n",
       "      <td>0.917680</td>\n",
       "      <td>1.045710</td>\n",
       "      <td>0.040747</td>\n",
       "      <td>-0.256552</td>\n",
       "      <td>four</td>\n",
       "    </tr>\n",
       "  </tbody>\n",
       "</table>\n",
       "</div>"
      ],
      "text/plain": [
       "                   A         B         D         C     E\n",
       "2016-01-03  0.694779  1.905505 -0.246403  0.364373   two\n",
       "2016-01-05  0.917680  1.045710  0.040747 -0.256552  four"
      ]
     },
     "execution_count": 34,
     "metadata": {},
     "output_type": "execute_result"
    }
   ],
   "source": [
    "df2[df2['E'].isin(['two', 'four'])]"
   ]
  },
  {
   "cell_type": "code",
   "execution_count": 35,
   "metadata": {
    "collapsed": true
   },
   "outputs": [],
   "source": [
    "# Setting\n",
    "s1 = pd.Series([1,2,3,4,5,6], index=pd.date_range('20160101', periods=6))"
   ]
  },
  {
   "cell_type": "code",
   "execution_count": 36,
   "metadata": {
    "collapsed": false
   },
   "outputs": [
    {
     "data": {
      "text/plain": [
       "2016-01-01    1\n",
       "2016-01-02    2\n",
       "2016-01-03    3\n",
       "2016-01-04    4\n",
       "2016-01-05    5\n",
       "2016-01-06    6\n",
       "Freq: D, dtype: int64"
      ]
     },
     "execution_count": 36,
     "metadata": {},
     "output_type": "execute_result"
    }
   ],
   "source": [
    "s1"
   ]
  },
  {
   "cell_type": "code",
   "execution_count": 37,
   "metadata": {
    "collapsed": true
   },
   "outputs": [],
   "source": [
    "df['F'] = s1"
   ]
  },
  {
   "cell_type": "code",
   "execution_count": 38,
   "metadata": {
    "collapsed": false
   },
   "outputs": [
    {
     "data": {
      "text/html": [
       "<div>\n",
       "<table border=\"1\" class=\"dataframe\">\n",
       "  <thead>\n",
       "    <tr style=\"text-align: right;\">\n",
       "      <th></th>\n",
       "      <th>A</th>\n",
       "      <th>B</th>\n",
       "      <th>D</th>\n",
       "      <th>C</th>\n",
       "      <th>F</th>\n",
       "    </tr>\n",
       "  </thead>\n",
       "  <tbody>\n",
       "    <tr>\n",
       "      <th>2016-01-01</th>\n",
       "      <td>0.801671</td>\n",
       "      <td>0.031857</td>\n",
       "      <td>-1.225618</td>\n",
       "      <td>-1.711436</td>\n",
       "      <td>1</td>\n",
       "    </tr>\n",
       "    <tr>\n",
       "      <th>2016-01-02</th>\n",
       "      <td>-0.889030</td>\n",
       "      <td>0.359829</td>\n",
       "      <td>0.518997</td>\n",
       "      <td>1.174663</td>\n",
       "      <td>2</td>\n",
       "    </tr>\n",
       "    <tr>\n",
       "      <th>2016-01-03</th>\n",
       "      <td>0.694779</td>\n",
       "      <td>1.905505</td>\n",
       "      <td>-0.246403</td>\n",
       "      <td>0.364373</td>\n",
       "      <td>3</td>\n",
       "    </tr>\n",
       "    <tr>\n",
       "      <th>2016-01-04</th>\n",
       "      <td>-0.489764</td>\n",
       "      <td>-0.600708</td>\n",
       "      <td>-0.666294</td>\n",
       "      <td>-0.616735</td>\n",
       "      <td>4</td>\n",
       "    </tr>\n",
       "    <tr>\n",
       "      <th>2016-01-05</th>\n",
       "      <td>0.917680</td>\n",
       "      <td>1.045710</td>\n",
       "      <td>0.040747</td>\n",
       "      <td>-0.256552</td>\n",
       "      <td>5</td>\n",
       "    </tr>\n",
       "    <tr>\n",
       "      <th>2016-01-06</th>\n",
       "      <td>-0.358480</td>\n",
       "      <td>-0.824482</td>\n",
       "      <td>-0.521434</td>\n",
       "      <td>-0.002040</td>\n",
       "      <td>6</td>\n",
       "    </tr>\n",
       "  </tbody>\n",
       "</table>\n",
       "</div>"
      ],
      "text/plain": [
       "                   A         B         D         C  F\n",
       "2016-01-01  0.801671  0.031857 -1.225618 -1.711436  1\n",
       "2016-01-02 -0.889030  0.359829  0.518997  1.174663  2\n",
       "2016-01-03  0.694779  1.905505 -0.246403  0.364373  3\n",
       "2016-01-04 -0.489764 -0.600708 -0.666294 -0.616735  4\n",
       "2016-01-05  0.917680  1.045710  0.040747 -0.256552  5\n",
       "2016-01-06 -0.358480 -0.824482 -0.521434 -0.002040  6"
      ]
     },
     "execution_count": 38,
     "metadata": {},
     "output_type": "execute_result"
    }
   ],
   "source": [
    "df"
   ]
  },
  {
   "cell_type": "code",
   "execution_count": 40,
   "metadata": {
    "collapsed": false
   },
   "outputs": [],
   "source": [
    "df.at[dates[0], 'A'] = 0"
   ]
  },
  {
   "cell_type": "code",
   "execution_count": 41,
   "metadata": {
    "collapsed": false
   },
   "outputs": [
    {
     "data": {
      "text/html": [
       "<div>\n",
       "<table border=\"1\" class=\"dataframe\">\n",
       "  <thead>\n",
       "    <tr style=\"text-align: right;\">\n",
       "      <th></th>\n",
       "      <th>A</th>\n",
       "      <th>B</th>\n",
       "      <th>D</th>\n",
       "      <th>C</th>\n",
       "      <th>F</th>\n",
       "    </tr>\n",
       "  </thead>\n",
       "  <tbody>\n",
       "    <tr>\n",
       "      <th>2016-01-01</th>\n",
       "      <td>0.000000</td>\n",
       "      <td>0.031857</td>\n",
       "      <td>-1.225618</td>\n",
       "      <td>-1.711436</td>\n",
       "      <td>1</td>\n",
       "    </tr>\n",
       "    <tr>\n",
       "      <th>2016-01-02</th>\n",
       "      <td>-0.889030</td>\n",
       "      <td>0.359829</td>\n",
       "      <td>0.518997</td>\n",
       "      <td>1.174663</td>\n",
       "      <td>2</td>\n",
       "    </tr>\n",
       "    <tr>\n",
       "      <th>2016-01-03</th>\n",
       "      <td>0.694779</td>\n",
       "      <td>1.905505</td>\n",
       "      <td>-0.246403</td>\n",
       "      <td>0.364373</td>\n",
       "      <td>3</td>\n",
       "    </tr>\n",
       "    <tr>\n",
       "      <th>2016-01-04</th>\n",
       "      <td>-0.489764</td>\n",
       "      <td>-0.600708</td>\n",
       "      <td>-0.666294</td>\n",
       "      <td>-0.616735</td>\n",
       "      <td>4</td>\n",
       "    </tr>\n",
       "    <tr>\n",
       "      <th>2016-01-05</th>\n",
       "      <td>0.917680</td>\n",
       "      <td>1.045710</td>\n",
       "      <td>0.040747</td>\n",
       "      <td>-0.256552</td>\n",
       "      <td>5</td>\n",
       "    </tr>\n",
       "    <tr>\n",
       "      <th>2016-01-06</th>\n",
       "      <td>-0.358480</td>\n",
       "      <td>-0.824482</td>\n",
       "      <td>-0.521434</td>\n",
       "      <td>-0.002040</td>\n",
       "      <td>6</td>\n",
       "    </tr>\n",
       "  </tbody>\n",
       "</table>\n",
       "</div>"
      ],
      "text/plain": [
       "                   A         B         D         C  F\n",
       "2016-01-01  0.000000  0.031857 -1.225618 -1.711436  1\n",
       "2016-01-02 -0.889030  0.359829  0.518997  1.174663  2\n",
       "2016-01-03  0.694779  1.905505 -0.246403  0.364373  3\n",
       "2016-01-04 -0.489764 -0.600708 -0.666294 -0.616735  4\n",
       "2016-01-05  0.917680  1.045710  0.040747 -0.256552  5\n",
       "2016-01-06 -0.358480 -0.824482 -0.521434 -0.002040  6"
      ]
     },
     "execution_count": 41,
     "metadata": {},
     "output_type": "execute_result"
    }
   ],
   "source": [
    "df"
   ]
  },
  {
   "cell_type": "code",
   "execution_count": 42,
   "metadata": {
    "collapsed": true
   },
   "outputs": [],
   "source": [
    "df.iat[0, 1] = 0"
   ]
  },
  {
   "cell_type": "code",
   "execution_count": 43,
   "metadata": {
    "collapsed": false
   },
   "outputs": [
    {
     "data": {
      "text/html": [
       "<div>\n",
       "<table border=\"1\" class=\"dataframe\">\n",
       "  <thead>\n",
       "    <tr style=\"text-align: right;\">\n",
       "      <th></th>\n",
       "      <th>A</th>\n",
       "      <th>B</th>\n",
       "      <th>D</th>\n",
       "      <th>C</th>\n",
       "      <th>F</th>\n",
       "    </tr>\n",
       "  </thead>\n",
       "  <tbody>\n",
       "    <tr>\n",
       "      <th>2016-01-01</th>\n",
       "      <td>0.000000</td>\n",
       "      <td>0.000000</td>\n",
       "      <td>-1.225618</td>\n",
       "      <td>-1.711436</td>\n",
       "      <td>1</td>\n",
       "    </tr>\n",
       "    <tr>\n",
       "      <th>2016-01-02</th>\n",
       "      <td>-0.889030</td>\n",
       "      <td>0.359829</td>\n",
       "      <td>0.518997</td>\n",
       "      <td>1.174663</td>\n",
       "      <td>2</td>\n",
       "    </tr>\n",
       "    <tr>\n",
       "      <th>2016-01-03</th>\n",
       "      <td>0.694779</td>\n",
       "      <td>1.905505</td>\n",
       "      <td>-0.246403</td>\n",
       "      <td>0.364373</td>\n",
       "      <td>3</td>\n",
       "    </tr>\n",
       "    <tr>\n",
       "      <th>2016-01-04</th>\n",
       "      <td>-0.489764</td>\n",
       "      <td>-0.600708</td>\n",
       "      <td>-0.666294</td>\n",
       "      <td>-0.616735</td>\n",
       "      <td>4</td>\n",
       "    </tr>\n",
       "    <tr>\n",
       "      <th>2016-01-05</th>\n",
       "      <td>0.917680</td>\n",
       "      <td>1.045710</td>\n",
       "      <td>0.040747</td>\n",
       "      <td>-0.256552</td>\n",
       "      <td>5</td>\n",
       "    </tr>\n",
       "    <tr>\n",
       "      <th>2016-01-06</th>\n",
       "      <td>-0.358480</td>\n",
       "      <td>-0.824482</td>\n",
       "      <td>-0.521434</td>\n",
       "      <td>-0.002040</td>\n",
       "      <td>6</td>\n",
       "    </tr>\n",
       "  </tbody>\n",
       "</table>\n",
       "</div>"
      ],
      "text/plain": [
       "                   A         B         D         C  F\n",
       "2016-01-01  0.000000  0.000000 -1.225618 -1.711436  1\n",
       "2016-01-02 -0.889030  0.359829  0.518997  1.174663  2\n",
       "2016-01-03  0.694779  1.905505 -0.246403  0.364373  3\n",
       "2016-01-04 -0.489764 -0.600708 -0.666294 -0.616735  4\n",
       "2016-01-05  0.917680  1.045710  0.040747 -0.256552  5\n",
       "2016-01-06 -0.358480 -0.824482 -0.521434 -0.002040  6"
      ]
     },
     "execution_count": 43,
     "metadata": {},
     "output_type": "execute_result"
    }
   ],
   "source": [
    "df"
   ]
  },
  {
   "cell_type": "code",
   "execution_count": 44,
   "metadata": {
    "collapsed": true
   },
   "outputs": [],
   "source": [
    "df.loc[:, 'D'] = np.array([5] * len(df))"
   ]
  },
  {
   "cell_type": "code",
   "execution_count": 45,
   "metadata": {
    "collapsed": false
   },
   "outputs": [
    {
     "data": {
      "text/html": [
       "<div>\n",
       "<table border=\"1\" class=\"dataframe\">\n",
       "  <thead>\n",
       "    <tr style=\"text-align: right;\">\n",
       "      <th></th>\n",
       "      <th>A</th>\n",
       "      <th>B</th>\n",
       "      <th>D</th>\n",
       "      <th>C</th>\n",
       "      <th>F</th>\n",
       "    </tr>\n",
       "  </thead>\n",
       "  <tbody>\n",
       "    <tr>\n",
       "      <th>2016-01-01</th>\n",
       "      <td>0.000000</td>\n",
       "      <td>0.000000</td>\n",
       "      <td>5</td>\n",
       "      <td>-1.711436</td>\n",
       "      <td>1</td>\n",
       "    </tr>\n",
       "    <tr>\n",
       "      <th>2016-01-02</th>\n",
       "      <td>-0.889030</td>\n",
       "      <td>0.359829</td>\n",
       "      <td>5</td>\n",
       "      <td>1.174663</td>\n",
       "      <td>2</td>\n",
       "    </tr>\n",
       "    <tr>\n",
       "      <th>2016-01-03</th>\n",
       "      <td>0.694779</td>\n",
       "      <td>1.905505</td>\n",
       "      <td>5</td>\n",
       "      <td>0.364373</td>\n",
       "      <td>3</td>\n",
       "    </tr>\n",
       "    <tr>\n",
       "      <th>2016-01-04</th>\n",
       "      <td>-0.489764</td>\n",
       "      <td>-0.600708</td>\n",
       "      <td>5</td>\n",
       "      <td>-0.616735</td>\n",
       "      <td>4</td>\n",
       "    </tr>\n",
       "    <tr>\n",
       "      <th>2016-01-05</th>\n",
       "      <td>0.917680</td>\n",
       "      <td>1.045710</td>\n",
       "      <td>5</td>\n",
       "      <td>-0.256552</td>\n",
       "      <td>5</td>\n",
       "    </tr>\n",
       "    <tr>\n",
       "      <th>2016-01-06</th>\n",
       "      <td>-0.358480</td>\n",
       "      <td>-0.824482</td>\n",
       "      <td>5</td>\n",
       "      <td>-0.002040</td>\n",
       "      <td>6</td>\n",
       "    </tr>\n",
       "  </tbody>\n",
       "</table>\n",
       "</div>"
      ],
      "text/plain": [
       "                   A         B  D         C  F\n",
       "2016-01-01  0.000000  0.000000  5 -1.711436  1\n",
       "2016-01-02 -0.889030  0.359829  5  1.174663  2\n",
       "2016-01-03  0.694779  1.905505  5  0.364373  3\n",
       "2016-01-04 -0.489764 -0.600708  5 -0.616735  4\n",
       "2016-01-05  0.917680  1.045710  5 -0.256552  5\n",
       "2016-01-06 -0.358480 -0.824482  5 -0.002040  6"
      ]
     },
     "execution_count": 45,
     "metadata": {},
     "output_type": "execute_result"
    }
   ],
   "source": [
    "df"
   ]
  },
  {
   "cell_type": "markdown",
   "metadata": {},
   "source": [
    "### Missing Data"
   ]
  },
  {
   "cell_type": "code",
   "execution_count": 48,
   "metadata": {
    "collapsed": true
   },
   "outputs": [],
   "source": [
    "df1 = df.reindex(index=dates[0:4], columns=list(df.columns) + ['E'])\n",
    "df1.loc[dates[0]:dates[1], 'E'] = 1"
   ]
  },
  {
   "cell_type": "code",
   "execution_count": 49,
   "metadata": {
    "collapsed": false
   },
   "outputs": [
    {
     "data": {
      "text/html": [
       "<div>\n",
       "<table border=\"1\" class=\"dataframe\">\n",
       "  <thead>\n",
       "    <tr style=\"text-align: right;\">\n",
       "      <th></th>\n",
       "      <th>A</th>\n",
       "      <th>B</th>\n",
       "      <th>D</th>\n",
       "      <th>C</th>\n",
       "      <th>F</th>\n",
       "      <th>E</th>\n",
       "    </tr>\n",
       "  </thead>\n",
       "  <tbody>\n",
       "    <tr>\n",
       "      <th>2016-01-01</th>\n",
       "      <td>0.000000</td>\n",
       "      <td>0.000000</td>\n",
       "      <td>5</td>\n",
       "      <td>-1.711436</td>\n",
       "      <td>1</td>\n",
       "      <td>1.0</td>\n",
       "    </tr>\n",
       "    <tr>\n",
       "      <th>2016-01-02</th>\n",
       "      <td>-0.889030</td>\n",
       "      <td>0.359829</td>\n",
       "      <td>5</td>\n",
       "      <td>1.174663</td>\n",
       "      <td>2</td>\n",
       "      <td>1.0</td>\n",
       "    </tr>\n",
       "    <tr>\n",
       "      <th>2016-01-03</th>\n",
       "      <td>0.694779</td>\n",
       "      <td>1.905505</td>\n",
       "      <td>5</td>\n",
       "      <td>0.364373</td>\n",
       "      <td>3</td>\n",
       "      <td>NaN</td>\n",
       "    </tr>\n",
       "    <tr>\n",
       "      <th>2016-01-04</th>\n",
       "      <td>-0.489764</td>\n",
       "      <td>-0.600708</td>\n",
       "      <td>5</td>\n",
       "      <td>-0.616735</td>\n",
       "      <td>4</td>\n",
       "      <td>NaN</td>\n",
       "    </tr>\n",
       "  </tbody>\n",
       "</table>\n",
       "</div>"
      ],
      "text/plain": [
       "                   A         B  D         C  F    E\n",
       "2016-01-01  0.000000  0.000000  5 -1.711436  1  1.0\n",
       "2016-01-02 -0.889030  0.359829  5  1.174663  2  1.0\n",
       "2016-01-03  0.694779  1.905505  5  0.364373  3  NaN\n",
       "2016-01-04 -0.489764 -0.600708  5 -0.616735  4  NaN"
      ]
     },
     "execution_count": 49,
     "metadata": {},
     "output_type": "execute_result"
    }
   ],
   "source": [
    "df1"
   ]
  },
  {
   "cell_type": "code",
   "execution_count": 50,
   "metadata": {
    "collapsed": false
   },
   "outputs": [
    {
     "data": {
      "text/html": [
       "<div>\n",
       "<table border=\"1\" class=\"dataframe\">\n",
       "  <thead>\n",
       "    <tr style=\"text-align: right;\">\n",
       "      <th></th>\n",
       "      <th>A</th>\n",
       "      <th>B</th>\n",
       "      <th>D</th>\n",
       "      <th>C</th>\n",
       "      <th>F</th>\n",
       "      <th>E</th>\n",
       "    </tr>\n",
       "  </thead>\n",
       "  <tbody>\n",
       "    <tr>\n",
       "      <th>2016-01-01</th>\n",
       "      <td>0.00000</td>\n",
       "      <td>0.000000</td>\n",
       "      <td>5</td>\n",
       "      <td>-1.711436</td>\n",
       "      <td>1</td>\n",
       "      <td>1.0</td>\n",
       "    </tr>\n",
       "    <tr>\n",
       "      <th>2016-01-02</th>\n",
       "      <td>-0.88903</td>\n",
       "      <td>0.359829</td>\n",
       "      <td>5</td>\n",
       "      <td>1.174663</td>\n",
       "      <td>2</td>\n",
       "      <td>1.0</td>\n",
       "    </tr>\n",
       "  </tbody>\n",
       "</table>\n",
       "</div>"
      ],
      "text/plain": [
       "                  A         B  D         C  F    E\n",
       "2016-01-01  0.00000  0.000000  5 -1.711436  1  1.0\n",
       "2016-01-02 -0.88903  0.359829  5  1.174663  2  1.0"
      ]
     },
     "execution_count": 50,
     "metadata": {},
     "output_type": "execute_result"
    }
   ],
   "source": [
    "# drop any rows that have missing data\n",
    "df1.dropna(how='any')"
   ]
  },
  {
   "cell_type": "code",
   "execution_count": 52,
   "metadata": {
    "collapsed": false
   },
   "outputs": [
    {
     "data": {
      "text/html": [
       "<div>\n",
       "<table border=\"1\" class=\"dataframe\">\n",
       "  <thead>\n",
       "    <tr style=\"text-align: right;\">\n",
       "      <th></th>\n",
       "      <th>A</th>\n",
       "      <th>B</th>\n",
       "      <th>D</th>\n",
       "      <th>C</th>\n",
       "      <th>F</th>\n",
       "      <th>E</th>\n",
       "    </tr>\n",
       "  </thead>\n",
       "  <tbody>\n",
       "    <tr>\n",
       "      <th>2016-01-01</th>\n",
       "      <td>0.000000</td>\n",
       "      <td>0.000000</td>\n",
       "      <td>5</td>\n",
       "      <td>-1.711436</td>\n",
       "      <td>1</td>\n",
       "      <td>1.0</td>\n",
       "    </tr>\n",
       "    <tr>\n",
       "      <th>2016-01-02</th>\n",
       "      <td>-0.889030</td>\n",
       "      <td>0.359829</td>\n",
       "      <td>5</td>\n",
       "      <td>1.174663</td>\n",
       "      <td>2</td>\n",
       "      <td>1.0</td>\n",
       "    </tr>\n",
       "    <tr>\n",
       "      <th>2016-01-03</th>\n",
       "      <td>0.694779</td>\n",
       "      <td>1.905505</td>\n",
       "      <td>5</td>\n",
       "      <td>0.364373</td>\n",
       "      <td>3</td>\n",
       "      <td>5.0</td>\n",
       "    </tr>\n",
       "    <tr>\n",
       "      <th>2016-01-04</th>\n",
       "      <td>-0.489764</td>\n",
       "      <td>-0.600708</td>\n",
       "      <td>5</td>\n",
       "      <td>-0.616735</td>\n",
       "      <td>4</td>\n",
       "      <td>5.0</td>\n",
       "    </tr>\n",
       "  </tbody>\n",
       "</table>\n",
       "</div>"
      ],
      "text/plain": [
       "                   A         B  D         C  F    E\n",
       "2016-01-01  0.000000  0.000000  5 -1.711436  1  1.0\n",
       "2016-01-02 -0.889030  0.359829  5  1.174663  2  1.0\n",
       "2016-01-03  0.694779  1.905505  5  0.364373  3  5.0\n",
       "2016-01-04 -0.489764 -0.600708  5 -0.616735  4  5.0"
      ]
     },
     "execution_count": 52,
     "metadata": {},
     "output_type": "execute_result"
    }
   ],
   "source": [
    "# Filling missing data\n",
    "df1.fillna(value=5)"
   ]
  },
  {
   "cell_type": "code",
   "execution_count": 53,
   "metadata": {
    "collapsed": false
   },
   "outputs": [
    {
     "data": {
      "text/html": [
       "<div>\n",
       "<table border=\"1\" class=\"dataframe\">\n",
       "  <thead>\n",
       "    <tr style=\"text-align: right;\">\n",
       "      <th></th>\n",
       "      <th>A</th>\n",
       "      <th>B</th>\n",
       "      <th>D</th>\n",
       "      <th>C</th>\n",
       "      <th>F</th>\n",
       "      <th>E</th>\n",
       "    </tr>\n",
       "  </thead>\n",
       "  <tbody>\n",
       "    <tr>\n",
       "      <th>2016-01-01</th>\n",
       "      <td>False</td>\n",
       "      <td>False</td>\n",
       "      <td>False</td>\n",
       "      <td>False</td>\n",
       "      <td>False</td>\n",
       "      <td>False</td>\n",
       "    </tr>\n",
       "    <tr>\n",
       "      <th>2016-01-02</th>\n",
       "      <td>False</td>\n",
       "      <td>False</td>\n",
       "      <td>False</td>\n",
       "      <td>False</td>\n",
       "      <td>False</td>\n",
       "      <td>False</td>\n",
       "    </tr>\n",
       "    <tr>\n",
       "      <th>2016-01-03</th>\n",
       "      <td>False</td>\n",
       "      <td>False</td>\n",
       "      <td>False</td>\n",
       "      <td>False</td>\n",
       "      <td>False</td>\n",
       "      <td>True</td>\n",
       "    </tr>\n",
       "    <tr>\n",
       "      <th>2016-01-04</th>\n",
       "      <td>False</td>\n",
       "      <td>False</td>\n",
       "      <td>False</td>\n",
       "      <td>False</td>\n",
       "      <td>False</td>\n",
       "      <td>True</td>\n",
       "    </tr>\n",
       "  </tbody>\n",
       "</table>\n",
       "</div>"
      ],
      "text/plain": [
       "                A      B      D      C      F      E\n",
       "2016-01-01  False  False  False  False  False  False\n",
       "2016-01-02  False  False  False  False  False  False\n",
       "2016-01-03  False  False  False  False  False   True\n",
       "2016-01-04  False  False  False  False  False   True"
      ]
     },
     "execution_count": 53,
     "metadata": {},
     "output_type": "execute_result"
    }
   ],
   "source": [
    "# to get the boolean mask where values are nan\n",
    "pd.isnull(df1)"
   ]
  },
  {
   "cell_type": "markdown",
   "metadata": {},
   "source": [
    "### Operations"
   ]
  },
  {
   "cell_type": "code",
   "execution_count": 54,
   "metadata": {
    "collapsed": false
   },
   "outputs": [
    {
     "data": {
      "text/plain": [
       "A   -0.020803\n",
       "B    0.314309\n",
       "D    5.000000\n",
       "C   -0.174621\n",
       "F    3.500000\n",
       "dtype: float64"
      ]
     },
     "execution_count": 54,
     "metadata": {},
     "output_type": "execute_result"
    }
   ],
   "source": [
    "# stats\n",
    "df.mean()"
   ]
  },
  {
   "cell_type": "code",
   "execution_count": 55,
   "metadata": {
    "collapsed": false
   },
   "outputs": [
    {
     "data": {
      "text/plain": [
       "2016-01-01    0.857713\n",
       "2016-01-02    1.529092\n",
       "2016-01-03    2.192931\n",
       "2016-01-04    1.458559\n",
       "2016-01-05    2.341367\n",
       "2016-01-06    1.963000\n",
       "Freq: D, dtype: float64"
      ]
     },
     "execution_count": 55,
     "metadata": {},
     "output_type": "execute_result"
    }
   ],
   "source": [
    "# same operation on the other axis\n",
    "df.mean(1)"
   ]
  },
  {
   "cell_type": "code",
   "execution_count": 56,
   "metadata": {
    "collapsed": true
   },
   "outputs": [],
   "source": [
    "s = pd.DataFrame([1,3,5,np.nan, 6,8], index=dates).shift(2)"
   ]
  },
  {
   "cell_type": "code",
   "execution_count": 57,
   "metadata": {
    "collapsed": false
   },
   "outputs": [
    {
     "data": {
      "text/html": [
       "<div>\n",
       "<table border=\"1\" class=\"dataframe\">\n",
       "  <thead>\n",
       "    <tr style=\"text-align: right;\">\n",
       "      <th></th>\n",
       "      <th>0</th>\n",
       "    </tr>\n",
       "  </thead>\n",
       "  <tbody>\n",
       "    <tr>\n",
       "      <th>2016-01-01</th>\n",
       "      <td>NaN</td>\n",
       "    </tr>\n",
       "    <tr>\n",
       "      <th>2016-01-02</th>\n",
       "      <td>NaN</td>\n",
       "    </tr>\n",
       "    <tr>\n",
       "      <th>2016-01-03</th>\n",
       "      <td>1.0</td>\n",
       "    </tr>\n",
       "    <tr>\n",
       "      <th>2016-01-04</th>\n",
       "      <td>3.0</td>\n",
       "    </tr>\n",
       "    <tr>\n",
       "      <th>2016-01-05</th>\n",
       "      <td>5.0</td>\n",
       "    </tr>\n",
       "    <tr>\n",
       "      <th>2016-01-06</th>\n",
       "      <td>NaN</td>\n",
       "    </tr>\n",
       "  </tbody>\n",
       "</table>\n",
       "</div>"
      ],
      "text/plain": [
       "              0\n",
       "2016-01-01  NaN\n",
       "2016-01-02  NaN\n",
       "2016-01-03  1.0\n",
       "2016-01-04  3.0\n",
       "2016-01-05  5.0\n",
       "2016-01-06  NaN"
      ]
     },
     "execution_count": 57,
     "metadata": {},
     "output_type": "execute_result"
    }
   ],
   "source": [
    "s"
   ]
  },
  {
   "cell_type": "code",
   "execution_count": 58,
   "metadata": {
    "collapsed": false
   },
   "outputs": [
    {
     "data": {
      "text/html": [
       "<div>\n",
       "<table border=\"1\" class=\"dataframe\">\n",
       "  <thead>\n",
       "    <tr style=\"text-align: right;\">\n",
       "      <th></th>\n",
       "      <th>0</th>\n",
       "      <th>A</th>\n",
       "      <th>B</th>\n",
       "      <th>C</th>\n",
       "      <th>D</th>\n",
       "      <th>F</th>\n",
       "    </tr>\n",
       "  </thead>\n",
       "  <tbody>\n",
       "    <tr>\n",
       "      <th>2016-01-01</th>\n",
       "      <td>NaN</td>\n",
       "      <td>NaN</td>\n",
       "      <td>NaN</td>\n",
       "      <td>NaN</td>\n",
       "      <td>NaN</td>\n",
       "      <td>NaN</td>\n",
       "    </tr>\n",
       "    <tr>\n",
       "      <th>2016-01-02</th>\n",
       "      <td>NaN</td>\n",
       "      <td>NaN</td>\n",
       "      <td>NaN</td>\n",
       "      <td>NaN</td>\n",
       "      <td>NaN</td>\n",
       "      <td>NaN</td>\n",
       "    </tr>\n",
       "    <tr>\n",
       "      <th>2016-01-03</th>\n",
       "      <td>NaN</td>\n",
       "      <td>NaN</td>\n",
       "      <td>NaN</td>\n",
       "      <td>NaN</td>\n",
       "      <td>NaN</td>\n",
       "      <td>NaN</td>\n",
       "    </tr>\n",
       "    <tr>\n",
       "      <th>2016-01-04</th>\n",
       "      <td>NaN</td>\n",
       "      <td>NaN</td>\n",
       "      <td>NaN</td>\n",
       "      <td>NaN</td>\n",
       "      <td>NaN</td>\n",
       "      <td>NaN</td>\n",
       "    </tr>\n",
       "    <tr>\n",
       "      <th>2016-01-05</th>\n",
       "      <td>NaN</td>\n",
       "      <td>NaN</td>\n",
       "      <td>NaN</td>\n",
       "      <td>NaN</td>\n",
       "      <td>NaN</td>\n",
       "      <td>NaN</td>\n",
       "    </tr>\n",
       "    <tr>\n",
       "      <th>2016-01-06</th>\n",
       "      <td>NaN</td>\n",
       "      <td>NaN</td>\n",
       "      <td>NaN</td>\n",
       "      <td>NaN</td>\n",
       "      <td>NaN</td>\n",
       "      <td>NaN</td>\n",
       "    </tr>\n",
       "  </tbody>\n",
       "</table>\n",
       "</div>"
      ],
      "text/plain": [
       "             0   A   B   C   D   F\n",
       "2016-01-01 NaN NaN NaN NaN NaN NaN\n",
       "2016-01-02 NaN NaN NaN NaN NaN NaN\n",
       "2016-01-03 NaN NaN NaN NaN NaN NaN\n",
       "2016-01-04 NaN NaN NaN NaN NaN NaN\n",
       "2016-01-05 NaN NaN NaN NaN NaN NaN\n",
       "2016-01-06 NaN NaN NaN NaN NaN NaN"
      ]
     },
     "execution_count": 58,
     "metadata": {},
     "output_type": "execute_result"
    }
   ],
   "source": [
    "df.sub(s, axis='index')"
   ]
  },
  {
   "cell_type": "code",
   "execution_count": 59,
   "metadata": {
    "collapsed": false
   },
   "outputs": [
    {
     "data": {
      "text/html": [
       "<div>\n",
       "<table border=\"1\" class=\"dataframe\">\n",
       "  <thead>\n",
       "    <tr style=\"text-align: right;\">\n",
       "      <th></th>\n",
       "      <th>A</th>\n",
       "      <th>B</th>\n",
       "      <th>D</th>\n",
       "      <th>C</th>\n",
       "      <th>F</th>\n",
       "    </tr>\n",
       "  </thead>\n",
       "  <tbody>\n",
       "    <tr>\n",
       "      <th>2016-01-01</th>\n",
       "      <td>0.000000</td>\n",
       "      <td>0.000000</td>\n",
       "      <td>5</td>\n",
       "      <td>-1.711436</td>\n",
       "      <td>1</td>\n",
       "    </tr>\n",
       "    <tr>\n",
       "      <th>2016-01-02</th>\n",
       "      <td>-0.889030</td>\n",
       "      <td>0.359829</td>\n",
       "      <td>5</td>\n",
       "      <td>1.174663</td>\n",
       "      <td>2</td>\n",
       "    </tr>\n",
       "    <tr>\n",
       "      <th>2016-01-03</th>\n",
       "      <td>0.694779</td>\n",
       "      <td>1.905505</td>\n",
       "      <td>5</td>\n",
       "      <td>0.364373</td>\n",
       "      <td>3</td>\n",
       "    </tr>\n",
       "    <tr>\n",
       "      <th>2016-01-04</th>\n",
       "      <td>-0.489764</td>\n",
       "      <td>-0.600708</td>\n",
       "      <td>5</td>\n",
       "      <td>-0.616735</td>\n",
       "      <td>4</td>\n",
       "    </tr>\n",
       "    <tr>\n",
       "      <th>2016-01-05</th>\n",
       "      <td>0.917680</td>\n",
       "      <td>1.045710</td>\n",
       "      <td>5</td>\n",
       "      <td>-0.256552</td>\n",
       "      <td>5</td>\n",
       "    </tr>\n",
       "    <tr>\n",
       "      <th>2016-01-06</th>\n",
       "      <td>-0.358480</td>\n",
       "      <td>-0.824482</td>\n",
       "      <td>5</td>\n",
       "      <td>-0.002040</td>\n",
       "      <td>6</td>\n",
       "    </tr>\n",
       "  </tbody>\n",
       "</table>\n",
       "</div>"
      ],
      "text/plain": [
       "                   A         B  D         C  F\n",
       "2016-01-01  0.000000  0.000000  5 -1.711436  1\n",
       "2016-01-02 -0.889030  0.359829  5  1.174663  2\n",
       "2016-01-03  0.694779  1.905505  5  0.364373  3\n",
       "2016-01-04 -0.489764 -0.600708  5 -0.616735  4\n",
       "2016-01-05  0.917680  1.045710  5 -0.256552  5\n",
       "2016-01-06 -0.358480 -0.824482  5 -0.002040  6"
      ]
     },
     "execution_count": 59,
     "metadata": {},
     "output_type": "execute_result"
    }
   ],
   "source": [
    "# Apply\n",
    "df"
   ]
  },
  {
   "cell_type": "code",
   "execution_count": 60,
   "metadata": {
    "collapsed": false
   },
   "outputs": [
    {
     "data": {
      "text/html": [
       "<div>\n",
       "<table border=\"1\" class=\"dataframe\">\n",
       "  <thead>\n",
       "    <tr style=\"text-align: right;\">\n",
       "      <th></th>\n",
       "      <th>A</th>\n",
       "      <th>B</th>\n",
       "      <th>D</th>\n",
       "      <th>C</th>\n",
       "      <th>F</th>\n",
       "    </tr>\n",
       "  </thead>\n",
       "  <tbody>\n",
       "    <tr>\n",
       "      <th>2016-01-01</th>\n",
       "      <td>0.000000</td>\n",
       "      <td>0.000000</td>\n",
       "      <td>5</td>\n",
       "      <td>-1.711436</td>\n",
       "      <td>1</td>\n",
       "    </tr>\n",
       "    <tr>\n",
       "      <th>2016-01-02</th>\n",
       "      <td>-0.889030</td>\n",
       "      <td>0.359829</td>\n",
       "      <td>10</td>\n",
       "      <td>-0.536774</td>\n",
       "      <td>3</td>\n",
       "    </tr>\n",
       "    <tr>\n",
       "      <th>2016-01-03</th>\n",
       "      <td>-0.194252</td>\n",
       "      <td>2.265334</td>\n",
       "      <td>15</td>\n",
       "      <td>-0.172401</td>\n",
       "      <td>6</td>\n",
       "    </tr>\n",
       "    <tr>\n",
       "      <th>2016-01-04</th>\n",
       "      <td>-0.684016</td>\n",
       "      <td>1.664626</td>\n",
       "      <td>20</td>\n",
       "      <td>-0.789136</td>\n",
       "      <td>10</td>\n",
       "    </tr>\n",
       "    <tr>\n",
       "      <th>2016-01-05</th>\n",
       "      <td>0.233664</td>\n",
       "      <td>2.710336</td>\n",
       "      <td>25</td>\n",
       "      <td>-1.045688</td>\n",
       "      <td>15</td>\n",
       "    </tr>\n",
       "    <tr>\n",
       "      <th>2016-01-06</th>\n",
       "      <td>-0.124816</td>\n",
       "      <td>1.885854</td>\n",
       "      <td>30</td>\n",
       "      <td>-1.047728</td>\n",
       "      <td>21</td>\n",
       "    </tr>\n",
       "  </tbody>\n",
       "</table>\n",
       "</div>"
      ],
      "text/plain": [
       "                   A         B   D         C   F\n",
       "2016-01-01  0.000000  0.000000   5 -1.711436   1\n",
       "2016-01-02 -0.889030  0.359829  10 -0.536774   3\n",
       "2016-01-03 -0.194252  2.265334  15 -0.172401   6\n",
       "2016-01-04 -0.684016  1.664626  20 -0.789136  10\n",
       "2016-01-05  0.233664  2.710336  25 -1.045688  15\n",
       "2016-01-06 -0.124816  1.885854  30 -1.047728  21"
      ]
     },
     "execution_count": 60,
     "metadata": {},
     "output_type": "execute_result"
    }
   ],
   "source": [
    "df.apply(np.cumsum)"
   ]
  },
  {
   "cell_type": "code",
   "execution_count": 61,
   "metadata": {
    "collapsed": false
   },
   "outputs": [
    {
     "data": {
      "text/plain": [
       "A    1.806710\n",
       "B    2.729986\n",
       "D    0.000000\n",
       "C    2.886099\n",
       "F    5.000000\n",
       "dtype: float64"
      ]
     },
     "execution_count": 61,
     "metadata": {},
     "output_type": "execute_result"
    }
   ],
   "source": [
    "df.apply(lambda x: x.max() - x.min())"
   ]
  },
  {
   "cell_type": "code",
   "execution_count": 63,
   "metadata": {
    "collapsed": false
   },
   "outputs": [],
   "source": [
    "# Histogramming\n",
    "s = pd.Series(np.random.randint(0, 7, size=10))"
   ]
  },
  {
   "cell_type": "code",
   "execution_count": 64,
   "metadata": {
    "collapsed": false
   },
   "outputs": [
    {
     "data": {
      "text/plain": [
       "0    3\n",
       "1    5\n",
       "2    1\n",
       "3    1\n",
       "4    1\n",
       "5    5\n",
       "6    1\n",
       "7    5\n",
       "8    3\n",
       "9    1\n",
       "dtype: int32"
      ]
     },
     "execution_count": 64,
     "metadata": {},
     "output_type": "execute_result"
    }
   ],
   "source": [
    "s"
   ]
  },
  {
   "cell_type": "code",
   "execution_count": 65,
   "metadata": {
    "collapsed": false
   },
   "outputs": [
    {
     "data": {
      "text/plain": [
       "1    5\n",
       "5    3\n",
       "3    2\n",
       "dtype: int64"
      ]
     },
     "execution_count": 65,
     "metadata": {},
     "output_type": "execute_result"
    }
   ],
   "source": [
    "s.value_counts()"
   ]
  },
  {
   "cell_type": "code",
   "execution_count": 66,
   "metadata": {
    "collapsed": true
   },
   "outputs": [],
   "source": [
    "# String Methods\n",
    "s = pd.Series(['A', 'B', 'C', 'Aaaba', 'Baca', np.nan, 'CABA', 'dog', 'cat'])"
   ]
  },
  {
   "cell_type": "code",
   "execution_count": 67,
   "metadata": {
    "collapsed": false
   },
   "outputs": [
    {
     "data": {
      "text/plain": [
       "0        a\n",
       "1        b\n",
       "2        c\n",
       "3    aaaba\n",
       "4     baca\n",
       "5      NaN\n",
       "6     caba\n",
       "7      dog\n",
       "8      cat\n",
       "dtype: object"
      ]
     },
     "execution_count": 67,
     "metadata": {},
     "output_type": "execute_result"
    }
   ],
   "source": [
    "s.str.lower()"
   ]
  },
  {
   "cell_type": "markdown",
   "metadata": {},
   "source": [
    "### Merge"
   ]
  },
  {
   "cell_type": "code",
   "execution_count": 68,
   "metadata": {
    "collapsed": true
   },
   "outputs": [],
   "source": [
    "# concat\n",
    "df = pd.DataFrame(np.random.randn(10, 4))"
   ]
  },
  {
   "cell_type": "code",
   "execution_count": 69,
   "metadata": {
    "collapsed": false
   },
   "outputs": [
    {
     "data": {
      "text/html": [
       "<div>\n",
       "<table border=\"1\" class=\"dataframe\">\n",
       "  <thead>\n",
       "    <tr style=\"text-align: right;\">\n",
       "      <th></th>\n",
       "      <th>0</th>\n",
       "      <th>1</th>\n",
       "      <th>2</th>\n",
       "      <th>3</th>\n",
       "    </tr>\n",
       "  </thead>\n",
       "  <tbody>\n",
       "    <tr>\n",
       "      <th>0</th>\n",
       "      <td>-0.012740</td>\n",
       "      <td>-0.738013</td>\n",
       "      <td>1.165135</td>\n",
       "      <td>0.250059</td>\n",
       "    </tr>\n",
       "    <tr>\n",
       "      <th>1</th>\n",
       "      <td>-0.099545</td>\n",
       "      <td>-0.954238</td>\n",
       "      <td>0.266342</td>\n",
       "      <td>-0.148731</td>\n",
       "    </tr>\n",
       "    <tr>\n",
       "      <th>2</th>\n",
       "      <td>1.953458</td>\n",
       "      <td>0.731405</td>\n",
       "      <td>0.970516</td>\n",
       "      <td>0.921068</td>\n",
       "    </tr>\n",
       "    <tr>\n",
       "      <th>3</th>\n",
       "      <td>1.992101</td>\n",
       "      <td>0.125386</td>\n",
       "      <td>-0.431010</td>\n",
       "      <td>0.415913</td>\n",
       "    </tr>\n",
       "    <tr>\n",
       "      <th>4</th>\n",
       "      <td>0.829363</td>\n",
       "      <td>-0.309257</td>\n",
       "      <td>0.330381</td>\n",
       "      <td>1.102755</td>\n",
       "    </tr>\n",
       "    <tr>\n",
       "      <th>5</th>\n",
       "      <td>-0.159674</td>\n",
       "      <td>-0.570436</td>\n",
       "      <td>0.106097</td>\n",
       "      <td>-0.106276</td>\n",
       "    </tr>\n",
       "    <tr>\n",
       "      <th>6</th>\n",
       "      <td>-0.364742</td>\n",
       "      <td>-0.514235</td>\n",
       "      <td>-0.895570</td>\n",
       "      <td>0.670363</td>\n",
       "    </tr>\n",
       "    <tr>\n",
       "      <th>7</th>\n",
       "      <td>1.254471</td>\n",
       "      <td>3.084058</td>\n",
       "      <td>1.414789</td>\n",
       "      <td>-1.189256</td>\n",
       "    </tr>\n",
       "    <tr>\n",
       "      <th>8</th>\n",
       "      <td>-0.293241</td>\n",
       "      <td>-1.417401</td>\n",
       "      <td>-1.134079</td>\n",
       "      <td>-0.879331</td>\n",
       "    </tr>\n",
       "    <tr>\n",
       "      <th>9</th>\n",
       "      <td>0.173535</td>\n",
       "      <td>0.692362</td>\n",
       "      <td>1.655213</td>\n",
       "      <td>-2.861886</td>\n",
       "    </tr>\n",
       "  </tbody>\n",
       "</table>\n",
       "</div>"
      ],
      "text/plain": [
       "          0         1         2         3\n",
       "0 -0.012740 -0.738013  1.165135  0.250059\n",
       "1 -0.099545 -0.954238  0.266342 -0.148731\n",
       "2  1.953458  0.731405  0.970516  0.921068\n",
       "3  1.992101  0.125386 -0.431010  0.415913\n",
       "4  0.829363 -0.309257  0.330381  1.102755\n",
       "5 -0.159674 -0.570436  0.106097 -0.106276\n",
       "6 -0.364742 -0.514235 -0.895570  0.670363\n",
       "7  1.254471  3.084058  1.414789 -1.189256\n",
       "8 -0.293241 -1.417401 -1.134079 -0.879331\n",
       "9  0.173535  0.692362  1.655213 -2.861886"
      ]
     },
     "execution_count": 69,
     "metadata": {},
     "output_type": "execute_result"
    }
   ],
   "source": [
    "df"
   ]
  },
  {
   "cell_type": "code",
   "execution_count": 72,
   "metadata": {
    "collapsed": false
   },
   "outputs": [
    {
     "data": {
      "text/plain": [
       "[          0         1         2         3\n",
       " 0 -0.012740 -0.738013  1.165135  0.250059\n",
       " 1 -0.099545 -0.954238  0.266342 -0.148731\n",
       " 2  1.953458  0.731405  0.970516  0.921068,\n",
       "           0         1         2         3\n",
       " 3  1.992101  0.125386 -0.431010  0.415913\n",
       " 4  0.829363 -0.309257  0.330381  1.102755\n",
       " 5 -0.159674 -0.570436  0.106097 -0.106276\n",
       " 6 -0.364742 -0.514235 -0.895570  0.670363,\n",
       "           0         1         2         3\n",
       " 7  1.254471  3.084058  1.414789 -1.189256\n",
       " 8 -0.293241 -1.417401 -1.134079 -0.879331\n",
       " 9  0.173535  0.692362  1.655213 -2.861886]"
      ]
     },
     "execution_count": 72,
     "metadata": {},
     "output_type": "execute_result"
    }
   ],
   "source": [
    "pieces = [df[:3], df[3:7], df[7:]]\n",
    "pieces"
   ]
  },
  {
   "cell_type": "code",
   "execution_count": 71,
   "metadata": {
    "collapsed": false
   },
   "outputs": [
    {
     "data": {
      "text/html": [
       "<div>\n",
       "<table border=\"1\" class=\"dataframe\">\n",
       "  <thead>\n",
       "    <tr style=\"text-align: right;\">\n",
       "      <th></th>\n",
       "      <th>0</th>\n",
       "      <th>1</th>\n",
       "      <th>2</th>\n",
       "      <th>3</th>\n",
       "    </tr>\n",
       "  </thead>\n",
       "  <tbody>\n",
       "    <tr>\n",
       "      <th>0</th>\n",
       "      <td>-0.012740</td>\n",
       "      <td>-0.738013</td>\n",
       "      <td>1.165135</td>\n",
       "      <td>0.250059</td>\n",
       "    </tr>\n",
       "    <tr>\n",
       "      <th>1</th>\n",
       "      <td>-0.099545</td>\n",
       "      <td>-0.954238</td>\n",
       "      <td>0.266342</td>\n",
       "      <td>-0.148731</td>\n",
       "    </tr>\n",
       "    <tr>\n",
       "      <th>2</th>\n",
       "      <td>1.953458</td>\n",
       "      <td>0.731405</td>\n",
       "      <td>0.970516</td>\n",
       "      <td>0.921068</td>\n",
       "    </tr>\n",
       "    <tr>\n",
       "      <th>3</th>\n",
       "      <td>1.992101</td>\n",
       "      <td>0.125386</td>\n",
       "      <td>-0.431010</td>\n",
       "      <td>0.415913</td>\n",
       "    </tr>\n",
       "    <tr>\n",
       "      <th>4</th>\n",
       "      <td>0.829363</td>\n",
       "      <td>-0.309257</td>\n",
       "      <td>0.330381</td>\n",
       "      <td>1.102755</td>\n",
       "    </tr>\n",
       "    <tr>\n",
       "      <th>5</th>\n",
       "      <td>-0.159674</td>\n",
       "      <td>-0.570436</td>\n",
       "      <td>0.106097</td>\n",
       "      <td>-0.106276</td>\n",
       "    </tr>\n",
       "    <tr>\n",
       "      <th>6</th>\n",
       "      <td>-0.364742</td>\n",
       "      <td>-0.514235</td>\n",
       "      <td>-0.895570</td>\n",
       "      <td>0.670363</td>\n",
       "    </tr>\n",
       "    <tr>\n",
       "      <th>7</th>\n",
       "      <td>1.254471</td>\n",
       "      <td>3.084058</td>\n",
       "      <td>1.414789</td>\n",
       "      <td>-1.189256</td>\n",
       "    </tr>\n",
       "    <tr>\n",
       "      <th>8</th>\n",
       "      <td>-0.293241</td>\n",
       "      <td>-1.417401</td>\n",
       "      <td>-1.134079</td>\n",
       "      <td>-0.879331</td>\n",
       "    </tr>\n",
       "    <tr>\n",
       "      <th>9</th>\n",
       "      <td>0.173535</td>\n",
       "      <td>0.692362</td>\n",
       "      <td>1.655213</td>\n",
       "      <td>-2.861886</td>\n",
       "    </tr>\n",
       "  </tbody>\n",
       "</table>\n",
       "</div>"
      ],
      "text/plain": [
       "          0         1         2         3\n",
       "0 -0.012740 -0.738013  1.165135  0.250059\n",
       "1 -0.099545 -0.954238  0.266342 -0.148731\n",
       "2  1.953458  0.731405  0.970516  0.921068\n",
       "3  1.992101  0.125386 -0.431010  0.415913\n",
       "4  0.829363 -0.309257  0.330381  1.102755\n",
       "5 -0.159674 -0.570436  0.106097 -0.106276\n",
       "6 -0.364742 -0.514235 -0.895570  0.670363\n",
       "7  1.254471  3.084058  1.414789 -1.189256\n",
       "8 -0.293241 -1.417401 -1.134079 -0.879331\n",
       "9  0.173535  0.692362  1.655213 -2.861886"
      ]
     },
     "execution_count": 71,
     "metadata": {},
     "output_type": "execute_result"
    }
   ],
   "source": [
    "pd.concat(pieces)"
   ]
  },
  {
   "cell_type": "code",
   "execution_count": 73,
   "metadata": {
    "collapsed": true
   },
   "outputs": [],
   "source": [
    "# Join\n",
    "left = pd.DataFrame({'key':['foo', 'foo'], 'lval': [1, 2]})\n",
    "right = pd.DataFrame({'key':['foo', 'foo'], 'rval': [4, 5]})\n"
   ]
  },
  {
   "cell_type": "code",
   "execution_count": 74,
   "metadata": {
    "collapsed": false
   },
   "outputs": [
    {
     "data": {
      "text/html": [
       "<div>\n",
       "<table border=\"1\" class=\"dataframe\">\n",
       "  <thead>\n",
       "    <tr style=\"text-align: right;\">\n",
       "      <th></th>\n",
       "      <th>key</th>\n",
       "      <th>lval</th>\n",
       "    </tr>\n",
       "  </thead>\n",
       "  <tbody>\n",
       "    <tr>\n",
       "      <th>0</th>\n",
       "      <td>foo</td>\n",
       "      <td>1</td>\n",
       "    </tr>\n",
       "    <tr>\n",
       "      <th>1</th>\n",
       "      <td>foo</td>\n",
       "      <td>2</td>\n",
       "    </tr>\n",
       "  </tbody>\n",
       "</table>\n",
       "</div>"
      ],
      "text/plain": [
       "   key  lval\n",
       "0  foo     1\n",
       "1  foo     2"
      ]
     },
     "execution_count": 74,
     "metadata": {},
     "output_type": "execute_result"
    }
   ],
   "source": [
    "left"
   ]
  },
  {
   "cell_type": "code",
   "execution_count": 75,
   "metadata": {
    "collapsed": false
   },
   "outputs": [
    {
     "data": {
      "text/html": [
       "<div>\n",
       "<table border=\"1\" class=\"dataframe\">\n",
       "  <thead>\n",
       "    <tr style=\"text-align: right;\">\n",
       "      <th></th>\n",
       "      <th>key</th>\n",
       "      <th>rval</th>\n",
       "    </tr>\n",
       "  </thead>\n",
       "  <tbody>\n",
       "    <tr>\n",
       "      <th>0</th>\n",
       "      <td>foo</td>\n",
       "      <td>4</td>\n",
       "    </tr>\n",
       "    <tr>\n",
       "      <th>1</th>\n",
       "      <td>foo</td>\n",
       "      <td>5</td>\n",
       "    </tr>\n",
       "  </tbody>\n",
       "</table>\n",
       "</div>"
      ],
      "text/plain": [
       "   key  rval\n",
       "0  foo     4\n",
       "1  foo     5"
      ]
     },
     "execution_count": 75,
     "metadata": {},
     "output_type": "execute_result"
    }
   ],
   "source": [
    "right"
   ]
  },
  {
   "cell_type": "code",
   "execution_count": 76,
   "metadata": {
    "collapsed": false
   },
   "outputs": [
    {
     "data": {
      "text/html": [
       "<div>\n",
       "<table border=\"1\" class=\"dataframe\">\n",
       "  <thead>\n",
       "    <tr style=\"text-align: right;\">\n",
       "      <th></th>\n",
       "      <th>key</th>\n",
       "      <th>lval</th>\n",
       "      <th>rval</th>\n",
       "    </tr>\n",
       "  </thead>\n",
       "  <tbody>\n",
       "    <tr>\n",
       "      <th>0</th>\n",
       "      <td>foo</td>\n",
       "      <td>1</td>\n",
       "      <td>4</td>\n",
       "    </tr>\n",
       "    <tr>\n",
       "      <th>1</th>\n",
       "      <td>foo</td>\n",
       "      <td>1</td>\n",
       "      <td>5</td>\n",
       "    </tr>\n",
       "    <tr>\n",
       "      <th>2</th>\n",
       "      <td>foo</td>\n",
       "      <td>2</td>\n",
       "      <td>4</td>\n",
       "    </tr>\n",
       "    <tr>\n",
       "      <th>3</th>\n",
       "      <td>foo</td>\n",
       "      <td>2</td>\n",
       "      <td>5</td>\n",
       "    </tr>\n",
       "  </tbody>\n",
       "</table>\n",
       "</div>"
      ],
      "text/plain": [
       "   key  lval  rval\n",
       "0  foo     1     4\n",
       "1  foo     1     5\n",
       "2  foo     2     4\n",
       "3  foo     2     5"
      ]
     },
     "execution_count": 76,
     "metadata": {},
     "output_type": "execute_result"
    }
   ],
   "source": [
    "pd.merge(left, right, on='key')"
   ]
  },
  {
   "cell_type": "code",
   "execution_count": 77,
   "metadata": {
    "collapsed": true
   },
   "outputs": [],
   "source": [
    "# Append\n",
    "df = pd.DataFrame(np.random.randn(8, 4), columns=['A', 'B', 'C', 'D'])"
   ]
  },
  {
   "cell_type": "code",
   "execution_count": 78,
   "metadata": {
    "collapsed": false
   },
   "outputs": [
    {
     "data": {
      "text/html": [
       "<div>\n",
       "<table border=\"1\" class=\"dataframe\">\n",
       "  <thead>\n",
       "    <tr style=\"text-align: right;\">\n",
       "      <th></th>\n",
       "      <th>A</th>\n",
       "      <th>B</th>\n",
       "      <th>C</th>\n",
       "      <th>D</th>\n",
       "    </tr>\n",
       "  </thead>\n",
       "  <tbody>\n",
       "    <tr>\n",
       "      <th>0</th>\n",
       "      <td>1.445608</td>\n",
       "      <td>-1.043334</td>\n",
       "      <td>-0.443069</td>\n",
       "      <td>-1.212133</td>\n",
       "    </tr>\n",
       "    <tr>\n",
       "      <th>1</th>\n",
       "      <td>-0.807797</td>\n",
       "      <td>1.115986</td>\n",
       "      <td>0.016476</td>\n",
       "      <td>-1.035449</td>\n",
       "    </tr>\n",
       "    <tr>\n",
       "      <th>2</th>\n",
       "      <td>-0.452222</td>\n",
       "      <td>0.051015</td>\n",
       "      <td>-0.641971</td>\n",
       "      <td>-0.413318</td>\n",
       "    </tr>\n",
       "    <tr>\n",
       "      <th>3</th>\n",
       "      <td>1.175182</td>\n",
       "      <td>1.492502</td>\n",
       "      <td>-2.171085</td>\n",
       "      <td>0.268112</td>\n",
       "    </tr>\n",
       "    <tr>\n",
       "      <th>4</th>\n",
       "      <td>0.585206</td>\n",
       "      <td>-0.361272</td>\n",
       "      <td>0.943717</td>\n",
       "      <td>-1.367869</td>\n",
       "    </tr>\n",
       "    <tr>\n",
       "      <th>5</th>\n",
       "      <td>1.637954</td>\n",
       "      <td>-0.263912</td>\n",
       "      <td>0.716103</td>\n",
       "      <td>0.673212</td>\n",
       "    </tr>\n",
       "    <tr>\n",
       "      <th>6</th>\n",
       "      <td>0.522985</td>\n",
       "      <td>-0.881087</td>\n",
       "      <td>1.556794</td>\n",
       "      <td>-0.246598</td>\n",
       "    </tr>\n",
       "    <tr>\n",
       "      <th>7</th>\n",
       "      <td>0.412733</td>\n",
       "      <td>0.314388</td>\n",
       "      <td>0.363343</td>\n",
       "      <td>-2.481499</td>\n",
       "    </tr>\n",
       "  </tbody>\n",
       "</table>\n",
       "</div>"
      ],
      "text/plain": [
       "          A         B         C         D\n",
       "0  1.445608 -1.043334 -0.443069 -1.212133\n",
       "1 -0.807797  1.115986  0.016476 -1.035449\n",
       "2 -0.452222  0.051015 -0.641971 -0.413318\n",
       "3  1.175182  1.492502 -2.171085  0.268112\n",
       "4  0.585206 -0.361272  0.943717 -1.367869\n",
       "5  1.637954 -0.263912  0.716103  0.673212\n",
       "6  0.522985 -0.881087  1.556794 -0.246598\n",
       "7  0.412733  0.314388  0.363343 -2.481499"
      ]
     },
     "execution_count": 78,
     "metadata": {},
     "output_type": "execute_result"
    }
   ],
   "source": [
    "df"
   ]
  },
  {
   "cell_type": "code",
   "execution_count": 79,
   "metadata": {
    "collapsed": false
   },
   "outputs": [
    {
     "data": {
      "text/plain": [
       "A    1.175182\n",
       "B    1.492502\n",
       "C   -2.171085\n",
       "D    0.268112\n",
       "Name: 3, dtype: float64"
      ]
     },
     "execution_count": 79,
     "metadata": {},
     "output_type": "execute_result"
    }
   ],
   "source": [
    "s = df.iloc[3]\n",
    "s"
   ]
  },
  {
   "cell_type": "code",
   "execution_count": 80,
   "metadata": {
    "collapsed": false
   },
   "outputs": [
    {
     "data": {
      "text/html": [
       "<div>\n",
       "<table border=\"1\" class=\"dataframe\">\n",
       "  <thead>\n",
       "    <tr style=\"text-align: right;\">\n",
       "      <th></th>\n",
       "      <th>A</th>\n",
       "      <th>B</th>\n",
       "      <th>C</th>\n",
       "      <th>D</th>\n",
       "    </tr>\n",
       "  </thead>\n",
       "  <tbody>\n",
       "    <tr>\n",
       "      <th>0</th>\n",
       "      <td>1.445608</td>\n",
       "      <td>-1.043334</td>\n",
       "      <td>-0.443069</td>\n",
       "      <td>-1.212133</td>\n",
       "    </tr>\n",
       "    <tr>\n",
       "      <th>1</th>\n",
       "      <td>-0.807797</td>\n",
       "      <td>1.115986</td>\n",
       "      <td>0.016476</td>\n",
       "      <td>-1.035449</td>\n",
       "    </tr>\n",
       "    <tr>\n",
       "      <th>2</th>\n",
       "      <td>-0.452222</td>\n",
       "      <td>0.051015</td>\n",
       "      <td>-0.641971</td>\n",
       "      <td>-0.413318</td>\n",
       "    </tr>\n",
       "    <tr>\n",
       "      <th>3</th>\n",
       "      <td>1.175182</td>\n",
       "      <td>1.492502</td>\n",
       "      <td>-2.171085</td>\n",
       "      <td>0.268112</td>\n",
       "    </tr>\n",
       "    <tr>\n",
       "      <th>4</th>\n",
       "      <td>0.585206</td>\n",
       "      <td>-0.361272</td>\n",
       "      <td>0.943717</td>\n",
       "      <td>-1.367869</td>\n",
       "    </tr>\n",
       "    <tr>\n",
       "      <th>5</th>\n",
       "      <td>1.637954</td>\n",
       "      <td>-0.263912</td>\n",
       "      <td>0.716103</td>\n",
       "      <td>0.673212</td>\n",
       "    </tr>\n",
       "    <tr>\n",
       "      <th>6</th>\n",
       "      <td>0.522985</td>\n",
       "      <td>-0.881087</td>\n",
       "      <td>1.556794</td>\n",
       "      <td>-0.246598</td>\n",
       "    </tr>\n",
       "    <tr>\n",
       "      <th>7</th>\n",
       "      <td>0.412733</td>\n",
       "      <td>0.314388</td>\n",
       "      <td>0.363343</td>\n",
       "      <td>-2.481499</td>\n",
       "    </tr>\n",
       "    <tr>\n",
       "      <th>8</th>\n",
       "      <td>1.175182</td>\n",
       "      <td>1.492502</td>\n",
       "      <td>-2.171085</td>\n",
       "      <td>0.268112</td>\n",
       "    </tr>\n",
       "  </tbody>\n",
       "</table>\n",
       "</div>"
      ],
      "text/plain": [
       "          A         B         C         D\n",
       "0  1.445608 -1.043334 -0.443069 -1.212133\n",
       "1 -0.807797  1.115986  0.016476 -1.035449\n",
       "2 -0.452222  0.051015 -0.641971 -0.413318\n",
       "3  1.175182  1.492502 -2.171085  0.268112\n",
       "4  0.585206 -0.361272  0.943717 -1.367869\n",
       "5  1.637954 -0.263912  0.716103  0.673212\n",
       "6  0.522985 -0.881087  1.556794 -0.246598\n",
       "7  0.412733  0.314388  0.363343 -2.481499\n",
       "8  1.175182  1.492502 -2.171085  0.268112"
      ]
     },
     "execution_count": 80,
     "metadata": {},
     "output_type": "execute_result"
    }
   ],
   "source": [
    "df.append(s, ignore_index=True)"
   ]
  },
  {
   "cell_type": "markdown",
   "metadata": {},
   "source": [
    "### Grouping"
   ]
  },
  {
   "cell_type": "code",
   "execution_count": 81,
   "metadata": {
    "collapsed": true
   },
   "outputs": [],
   "source": [
    "df = pd.DataFrame({'A': ['foo', 'bar', 'foo', 'bar',\n",
    "                        'foo', 'bar', 'foo', 'foo'],\n",
    "                  'B': ['one', 'one', 'two', 'three',\n",
    "                       'two', 'two', 'one', 'three'],\n",
    "                  'C': np.random.randn(8),\n",
    "                  'D': np.random.randn(8)})"
   ]
  },
  {
   "cell_type": "code",
   "execution_count": 82,
   "metadata": {
    "collapsed": false
   },
   "outputs": [
    {
     "data": {
      "text/html": [
       "<div>\n",
       "<table border=\"1\" class=\"dataframe\">\n",
       "  <thead>\n",
       "    <tr style=\"text-align: right;\">\n",
       "      <th></th>\n",
       "      <th>A</th>\n",
       "      <th>B</th>\n",
       "      <th>C</th>\n",
       "      <th>D</th>\n",
       "    </tr>\n",
       "  </thead>\n",
       "  <tbody>\n",
       "    <tr>\n",
       "      <th>0</th>\n",
       "      <td>foo</td>\n",
       "      <td>one</td>\n",
       "      <td>-0.907106</td>\n",
       "      <td>-0.347213</td>\n",
       "    </tr>\n",
       "    <tr>\n",
       "      <th>1</th>\n",
       "      <td>bar</td>\n",
       "      <td>one</td>\n",
       "      <td>-1.249549</td>\n",
       "      <td>0.512048</td>\n",
       "    </tr>\n",
       "    <tr>\n",
       "      <th>2</th>\n",
       "      <td>foo</td>\n",
       "      <td>two</td>\n",
       "      <td>0.952391</td>\n",
       "      <td>0.542666</td>\n",
       "    </tr>\n",
       "    <tr>\n",
       "      <th>3</th>\n",
       "      <td>bar</td>\n",
       "      <td>three</td>\n",
       "      <td>0.480540</td>\n",
       "      <td>-0.612076</td>\n",
       "    </tr>\n",
       "    <tr>\n",
       "      <th>4</th>\n",
       "      <td>foo</td>\n",
       "      <td>two</td>\n",
       "      <td>1.172300</td>\n",
       "      <td>-0.069303</td>\n",
       "    </tr>\n",
       "    <tr>\n",
       "      <th>5</th>\n",
       "      <td>bar</td>\n",
       "      <td>two</td>\n",
       "      <td>0.474294</td>\n",
       "      <td>1.519272</td>\n",
       "    </tr>\n",
       "    <tr>\n",
       "      <th>6</th>\n",
       "      <td>foo</td>\n",
       "      <td>one</td>\n",
       "      <td>-0.053573</td>\n",
       "      <td>-1.092624</td>\n",
       "    </tr>\n",
       "    <tr>\n",
       "      <th>7</th>\n",
       "      <td>foo</td>\n",
       "      <td>three</td>\n",
       "      <td>-0.286057</td>\n",
       "      <td>-0.441988</td>\n",
       "    </tr>\n",
       "  </tbody>\n",
       "</table>\n",
       "</div>"
      ],
      "text/plain": [
       "     A      B         C         D\n",
       "0  foo    one -0.907106 -0.347213\n",
       "1  bar    one -1.249549  0.512048\n",
       "2  foo    two  0.952391  0.542666\n",
       "3  bar  three  0.480540 -0.612076\n",
       "4  foo    two  1.172300 -0.069303\n",
       "5  bar    two  0.474294  1.519272\n",
       "6  foo    one -0.053573 -1.092624\n",
       "7  foo  three -0.286057 -0.441988"
      ]
     },
     "execution_count": 82,
     "metadata": {},
     "output_type": "execute_result"
    }
   ],
   "source": [
    "df"
   ]
  },
  {
   "cell_type": "code",
   "execution_count": 83,
   "metadata": {
    "collapsed": false
   },
   "outputs": [
    {
     "data": {
      "text/html": [
       "<div>\n",
       "<table border=\"1\" class=\"dataframe\">\n",
       "  <thead>\n",
       "    <tr style=\"text-align: right;\">\n",
       "      <th></th>\n",
       "      <th>C</th>\n",
       "      <th>D</th>\n",
       "    </tr>\n",
       "    <tr>\n",
       "      <th>A</th>\n",
       "      <th></th>\n",
       "      <th></th>\n",
       "    </tr>\n",
       "  </thead>\n",
       "  <tbody>\n",
       "    <tr>\n",
       "      <th>bar</th>\n",
       "      <td>-0.294716</td>\n",
       "      <td>1.419244</td>\n",
       "    </tr>\n",
       "    <tr>\n",
       "      <th>foo</th>\n",
       "      <td>0.877955</td>\n",
       "      <td>-1.408461</td>\n",
       "    </tr>\n",
       "  </tbody>\n",
       "</table>\n",
       "</div>"
      ],
      "text/plain": [
       "            C         D\n",
       "A                      \n",
       "bar -0.294716  1.419244\n",
       "foo  0.877955 -1.408461"
      ]
     },
     "execution_count": 83,
     "metadata": {},
     "output_type": "execute_result"
    }
   ],
   "source": [
    "df.groupby('A').sum()"
   ]
  },
  {
   "cell_type": "code",
   "execution_count": 84,
   "metadata": {
    "collapsed": false
   },
   "outputs": [
    {
     "data": {
      "text/html": [
       "<div>\n",
       "<table border=\"1\" class=\"dataframe\">\n",
       "  <thead>\n",
       "    <tr style=\"text-align: right;\">\n",
       "      <th></th>\n",
       "      <th></th>\n",
       "      <th>C</th>\n",
       "      <th>D</th>\n",
       "    </tr>\n",
       "    <tr>\n",
       "      <th>A</th>\n",
       "      <th>B</th>\n",
       "      <th></th>\n",
       "      <th></th>\n",
       "    </tr>\n",
       "  </thead>\n",
       "  <tbody>\n",
       "    <tr>\n",
       "      <th rowspan=\"3\" valign=\"top\">bar</th>\n",
       "      <th>one</th>\n",
       "      <td>-1.249549</td>\n",
       "      <td>0.512048</td>\n",
       "    </tr>\n",
       "    <tr>\n",
       "      <th>three</th>\n",
       "      <td>0.480540</td>\n",
       "      <td>-0.612076</td>\n",
       "    </tr>\n",
       "    <tr>\n",
       "      <th>two</th>\n",
       "      <td>0.474294</td>\n",
       "      <td>1.519272</td>\n",
       "    </tr>\n",
       "    <tr>\n",
       "      <th rowspan=\"3\" valign=\"top\">foo</th>\n",
       "      <th>one</th>\n",
       "      <td>-0.960679</td>\n",
       "      <td>-1.439837</td>\n",
       "    </tr>\n",
       "    <tr>\n",
       "      <th>three</th>\n",
       "      <td>-0.286057</td>\n",
       "      <td>-0.441988</td>\n",
       "    </tr>\n",
       "    <tr>\n",
       "      <th>two</th>\n",
       "      <td>2.124691</td>\n",
       "      <td>0.473363</td>\n",
       "    </tr>\n",
       "  </tbody>\n",
       "</table>\n",
       "</div>"
      ],
      "text/plain": [
       "                  C         D\n",
       "A   B                        \n",
       "bar one   -1.249549  0.512048\n",
       "    three  0.480540 -0.612076\n",
       "    two    0.474294  1.519272\n",
       "foo one   -0.960679 -1.439837\n",
       "    three -0.286057 -0.441988\n",
       "    two    2.124691  0.473363"
      ]
     },
     "execution_count": 84,
     "metadata": {},
     "output_type": "execute_result"
    }
   ],
   "source": [
    "df.groupby(['A', 'B']).sum()"
   ]
  },
  {
   "cell_type": "markdown",
   "metadata": {},
   "source": [
    "### Reshaping"
   ]
  },
  {
   "cell_type": "code",
   "execution_count": 85,
   "metadata": {
    "collapsed": true
   },
   "outputs": [],
   "source": [
    "# Stack\n",
    "tuples = list(zip(*[['bar', 'bar', 'baz', 'baz',\n",
    "                    'foo', 'foo', 'qux', 'qux'],\n",
    "                   ['one', 'two', 'one', 'two', \n",
    "                   'one', 'two', 'one', 'two']]))\n"
   ]
  },
  {
   "cell_type": "code",
   "execution_count": 86,
   "metadata": {
    "collapsed": false
   },
   "outputs": [
    {
     "data": {
      "text/plain": [
       "[('bar', 'one'),\n",
       " ('bar', 'two'),\n",
       " ('baz', 'one'),\n",
       " ('baz', 'two'),\n",
       " ('foo', 'one'),\n",
       " ('foo', 'two'),\n",
       " ('qux', 'one'),\n",
       " ('qux', 'two')]"
      ]
     },
     "execution_count": 86,
     "metadata": {},
     "output_type": "execute_result"
    }
   ],
   "source": [
    "tuples"
   ]
  },
  {
   "cell_type": "code",
   "execution_count": 87,
   "metadata": {
    "collapsed": true
   },
   "outputs": [],
   "source": [
    "index = pd.MultiIndex.from_tuples(tuples, names=['first', 'second'])"
   ]
  },
  {
   "cell_type": "code",
   "execution_count": 88,
   "metadata": {
    "collapsed": true
   },
   "outputs": [],
   "source": [
    "df = pd.DataFrame(np.random.randn(8,2), index=index, columns=['A', 'B'])"
   ]
  },
  {
   "cell_type": "code",
   "execution_count": 89,
   "metadata": {
    "collapsed": false
   },
   "outputs": [
    {
     "data": {
      "text/html": [
       "<div>\n",
       "<table border=\"1\" class=\"dataframe\">\n",
       "  <thead>\n",
       "    <tr style=\"text-align: right;\">\n",
       "      <th></th>\n",
       "      <th></th>\n",
       "      <th>A</th>\n",
       "      <th>B</th>\n",
       "    </tr>\n",
       "    <tr>\n",
       "      <th>first</th>\n",
       "      <th>second</th>\n",
       "      <th></th>\n",
       "      <th></th>\n",
       "    </tr>\n",
       "  </thead>\n",
       "  <tbody>\n",
       "    <tr>\n",
       "      <th rowspan=\"2\" valign=\"top\">bar</th>\n",
       "      <th>one</th>\n",
       "      <td>0.461226</td>\n",
       "      <td>-0.112514</td>\n",
       "    </tr>\n",
       "    <tr>\n",
       "      <th>two</th>\n",
       "      <td>0.009405</td>\n",
       "      <td>0.154128</td>\n",
       "    </tr>\n",
       "    <tr>\n",
       "      <th rowspan=\"2\" valign=\"top\">baz</th>\n",
       "      <th>one</th>\n",
       "      <td>0.420013</td>\n",
       "      <td>0.413125</td>\n",
       "    </tr>\n",
       "    <tr>\n",
       "      <th>two</th>\n",
       "      <td>0.604494</td>\n",
       "      <td>-1.603173</td>\n",
       "    </tr>\n",
       "    <tr>\n",
       "      <th rowspan=\"2\" valign=\"top\">foo</th>\n",
       "      <th>one</th>\n",
       "      <td>1.263706</td>\n",
       "      <td>-0.802649</td>\n",
       "    </tr>\n",
       "    <tr>\n",
       "      <th>two</th>\n",
       "      <td>0.737409</td>\n",
       "      <td>-1.117106</td>\n",
       "    </tr>\n",
       "    <tr>\n",
       "      <th rowspan=\"2\" valign=\"top\">qux</th>\n",
       "      <th>one</th>\n",
       "      <td>-1.022240</td>\n",
       "      <td>-0.096821</td>\n",
       "    </tr>\n",
       "    <tr>\n",
       "      <th>two</th>\n",
       "      <td>0.018830</td>\n",
       "      <td>-0.278335</td>\n",
       "    </tr>\n",
       "  </tbody>\n",
       "</table>\n",
       "</div>"
      ],
      "text/plain": [
       "                     A         B\n",
       "first second                    \n",
       "bar   one     0.461226 -0.112514\n",
       "      two     0.009405  0.154128\n",
       "baz   one     0.420013  0.413125\n",
       "      two     0.604494 -1.603173\n",
       "foo   one     1.263706 -0.802649\n",
       "      two     0.737409 -1.117106\n",
       "qux   one    -1.022240 -0.096821\n",
       "      two     0.018830 -0.278335"
      ]
     },
     "execution_count": 89,
     "metadata": {},
     "output_type": "execute_result"
    }
   ],
   "source": [
    "df"
   ]
  },
  {
   "cell_type": "code",
   "execution_count": 90,
   "metadata": {
    "collapsed": true
   },
   "outputs": [],
   "source": [
    "df2 = df[:4]"
   ]
  },
  {
   "cell_type": "code",
   "execution_count": 92,
   "metadata": {
    "collapsed": false
   },
   "outputs": [
    {
     "data": {
      "text/html": [
       "<div>\n",
       "<table border=\"1\" class=\"dataframe\">\n",
       "  <thead>\n",
       "    <tr style=\"text-align: right;\">\n",
       "      <th></th>\n",
       "      <th></th>\n",
       "      <th>A</th>\n",
       "      <th>B</th>\n",
       "    </tr>\n",
       "    <tr>\n",
       "      <th>first</th>\n",
       "      <th>second</th>\n",
       "      <th></th>\n",
       "      <th></th>\n",
       "    </tr>\n",
       "  </thead>\n",
       "  <tbody>\n",
       "    <tr>\n",
       "      <th rowspan=\"2\" valign=\"top\">bar</th>\n",
       "      <th>one</th>\n",
       "      <td>0.461226</td>\n",
       "      <td>-0.112514</td>\n",
       "    </tr>\n",
       "    <tr>\n",
       "      <th>two</th>\n",
       "      <td>0.009405</td>\n",
       "      <td>0.154128</td>\n",
       "    </tr>\n",
       "    <tr>\n",
       "      <th rowspan=\"2\" valign=\"top\">baz</th>\n",
       "      <th>one</th>\n",
       "      <td>0.420013</td>\n",
       "      <td>0.413125</td>\n",
       "    </tr>\n",
       "    <tr>\n",
       "      <th>two</th>\n",
       "      <td>0.604494</td>\n",
       "      <td>-1.603173</td>\n",
       "    </tr>\n",
       "  </tbody>\n",
       "</table>\n",
       "</div>"
      ],
      "text/plain": [
       "                     A         B\n",
       "first second                    \n",
       "bar   one     0.461226 -0.112514\n",
       "      two     0.009405  0.154128\n",
       "baz   one     0.420013  0.413125\n",
       "      two     0.604494 -1.603173"
      ]
     },
     "execution_count": 92,
     "metadata": {},
     "output_type": "execute_result"
    }
   ],
   "source": [
    "df2"
   ]
  },
  {
   "cell_type": "code",
   "execution_count": 93,
   "metadata": {
    "collapsed": true
   },
   "outputs": [],
   "source": [
    "# stack method\n",
    "stacked = df2.stack()"
   ]
  },
  {
   "cell_type": "code",
   "execution_count": 94,
   "metadata": {
    "collapsed": false
   },
   "outputs": [
    {
     "data": {
      "text/plain": [
       "first  second   \n",
       "bar    one     A    0.461226\n",
       "               B   -0.112514\n",
       "       two     A    0.009405\n",
       "               B    0.154128\n",
       "baz    one     A    0.420013\n",
       "               B    0.413125\n",
       "       two     A    0.604494\n",
       "               B   -1.603173\n",
       "dtype: float64"
      ]
     },
     "execution_count": 94,
     "metadata": {},
     "output_type": "execute_result"
    }
   ],
   "source": [
    "stacked"
   ]
  },
  {
   "cell_type": "code",
   "execution_count": 95,
   "metadata": {
    "collapsed": false
   },
   "outputs": [
    {
     "data": {
      "text/html": [
       "<div>\n",
       "<table border=\"1\" class=\"dataframe\">\n",
       "  <thead>\n",
       "    <tr style=\"text-align: right;\">\n",
       "      <th></th>\n",
       "      <th></th>\n",
       "      <th>A</th>\n",
       "      <th>B</th>\n",
       "    </tr>\n",
       "    <tr>\n",
       "      <th>first</th>\n",
       "      <th>second</th>\n",
       "      <th></th>\n",
       "      <th></th>\n",
       "    </tr>\n",
       "  </thead>\n",
       "  <tbody>\n",
       "    <tr>\n",
       "      <th rowspan=\"2\" valign=\"top\">bar</th>\n",
       "      <th>one</th>\n",
       "      <td>0.461226</td>\n",
       "      <td>-0.112514</td>\n",
       "    </tr>\n",
       "    <tr>\n",
       "      <th>two</th>\n",
       "      <td>0.009405</td>\n",
       "      <td>0.154128</td>\n",
       "    </tr>\n",
       "    <tr>\n",
       "      <th rowspan=\"2\" valign=\"top\">baz</th>\n",
       "      <th>one</th>\n",
       "      <td>0.420013</td>\n",
       "      <td>0.413125</td>\n",
       "    </tr>\n",
       "    <tr>\n",
       "      <th>two</th>\n",
       "      <td>0.604494</td>\n",
       "      <td>-1.603173</td>\n",
       "    </tr>\n",
       "  </tbody>\n",
       "</table>\n",
       "</div>"
      ],
      "text/plain": [
       "                     A         B\n",
       "first second                    \n",
       "bar   one     0.461226 -0.112514\n",
       "      two     0.009405  0.154128\n",
       "baz   one     0.420013  0.413125\n",
       "      two     0.604494 -1.603173"
      ]
     },
     "execution_count": 95,
     "metadata": {},
     "output_type": "execute_result"
    }
   ],
   "source": [
    "stacked.unstack()"
   ]
  },
  {
   "cell_type": "markdown",
   "metadata": {},
   "source": [
    "### Time Series"
   ]
  },
  {
   "cell_type": "code",
   "execution_count": 96,
   "metadata": {
    "collapsed": true
   },
   "outputs": [],
   "source": [
    "rng = pd.date_range('1/1/2012', periods=100, freq='S')\n",
    "ts = pd.Series(np.random.randint(0, 500, len(rng)), index=rng)"
   ]
  },
  {
   "cell_type": "code",
   "execution_count": 97,
   "metadata": {
    "collapsed": false
   },
   "outputs": [
    {
     "data": {
      "text/plain": [
       "2012-01-01 00:00:00    121\n",
       "2012-01-01 00:00:01     63\n",
       "2012-01-01 00:00:02      5\n",
       "2012-01-01 00:00:03    145\n",
       "2012-01-01 00:00:04    223\n",
       "2012-01-01 00:00:05    480\n",
       "2012-01-01 00:00:06    284\n",
       "2012-01-01 00:00:07    326\n",
       "2012-01-01 00:00:08    137\n",
       "2012-01-01 00:00:09    101\n",
       "2012-01-01 00:00:10     85\n",
       "2012-01-01 00:00:11     64\n",
       "2012-01-01 00:00:12    363\n",
       "2012-01-01 00:00:13    174\n",
       "2012-01-01 00:00:14    357\n",
       "2012-01-01 00:00:15    110\n",
       "2012-01-01 00:00:16    154\n",
       "2012-01-01 00:00:17    401\n",
       "2012-01-01 00:00:18    258\n",
       "2012-01-01 00:00:19    291\n",
       "2012-01-01 00:00:20    232\n",
       "2012-01-01 00:00:21     82\n",
       "2012-01-01 00:00:22    293\n",
       "2012-01-01 00:00:23    435\n",
       "2012-01-01 00:00:24    115\n",
       "2012-01-01 00:00:25    102\n",
       "2012-01-01 00:00:26    226\n",
       "2012-01-01 00:00:27    148\n",
       "2012-01-01 00:00:28    307\n",
       "2012-01-01 00:00:29    490\n",
       "                      ... \n",
       "2012-01-01 00:01:10    457\n",
       "2012-01-01 00:01:11    308\n",
       "2012-01-01 00:01:12     57\n",
       "2012-01-01 00:01:13    201\n",
       "2012-01-01 00:01:14    444\n",
       "2012-01-01 00:01:15    468\n",
       "2012-01-01 00:01:16    392\n",
       "2012-01-01 00:01:17    267\n",
       "2012-01-01 00:01:18    208\n",
       "2012-01-01 00:01:19    306\n",
       "2012-01-01 00:01:20     39\n",
       "2012-01-01 00:01:21    282\n",
       "2012-01-01 00:01:22     50\n",
       "2012-01-01 00:01:23    165\n",
       "2012-01-01 00:01:24    256\n",
       "2012-01-01 00:01:25    464\n",
       "2012-01-01 00:01:26    180\n",
       "2012-01-01 00:01:27    181\n",
       "2012-01-01 00:01:28    354\n",
       "2012-01-01 00:01:29    287\n",
       "2012-01-01 00:01:30    183\n",
       "2012-01-01 00:01:31     79\n",
       "2012-01-01 00:01:32    143\n",
       "2012-01-01 00:01:33    121\n",
       "2012-01-01 00:01:34    102\n",
       "2012-01-01 00:01:35     54\n",
       "2012-01-01 00:01:36    233\n",
       "2012-01-01 00:01:37    496\n",
       "2012-01-01 00:01:38    490\n",
       "2012-01-01 00:01:39    116\n",
       "Freq: S, dtype: int32"
      ]
     },
     "execution_count": 97,
     "metadata": {},
     "output_type": "execute_result"
    }
   ],
   "source": [
    "ts"
   ]
  },
  {
   "cell_type": "code",
   "execution_count": 98,
   "metadata": {
    "collapsed": false
   },
   "outputs": [
    {
     "data": {
      "text/plain": [
       "2012-01-01    24287\n",
       "Freq: 5T, dtype: int32"
      ]
     },
     "execution_count": 98,
     "metadata": {},
     "output_type": "execute_result"
    }
   ],
   "source": [
    "ts.resample('5Min').sum()"
   ]
  },
  {
   "cell_type": "code",
   "execution_count": 99,
   "metadata": {
    "collapsed": true
   },
   "outputs": [],
   "source": [
    "# Time zone representation\n",
    "rng = pd.date_range('3/6/2012 00:00', periods=5, freq='D')\n",
    "ts = pd.Series(np.random.randn(len(rng)), rng)"
   ]
  },
  {
   "cell_type": "code",
   "execution_count": 100,
   "metadata": {
    "collapsed": false
   },
   "outputs": [
    {
     "data": {
      "text/plain": [
       "2012-03-06    0.044718\n",
       "2012-03-07    0.261997\n",
       "2012-03-08    0.897091\n",
       "2012-03-09    1.275792\n",
       "2012-03-10    1.018369\n",
       "Freq: D, dtype: float64"
      ]
     },
     "execution_count": 100,
     "metadata": {},
     "output_type": "execute_result"
    }
   ],
   "source": [
    "ts"
   ]
  },
  {
   "cell_type": "code",
   "execution_count": 101,
   "metadata": {
    "collapsed": true
   },
   "outputs": [],
   "source": [
    "ts_utc = ts.tz_localize('UTC')"
   ]
  },
  {
   "cell_type": "code",
   "execution_count": 102,
   "metadata": {
    "collapsed": false
   },
   "outputs": [
    {
     "data": {
      "text/plain": [
       "2012-03-06 00:00:00+00:00    0.044718\n",
       "2012-03-07 00:00:00+00:00    0.261997\n",
       "2012-03-08 00:00:00+00:00    0.897091\n",
       "2012-03-09 00:00:00+00:00    1.275792\n",
       "2012-03-10 00:00:00+00:00    1.018369\n",
       "Freq: D, dtype: float64"
      ]
     },
     "execution_count": 102,
     "metadata": {},
     "output_type": "execute_result"
    }
   ],
   "source": [
    "ts_utc"
   ]
  },
  {
   "cell_type": "code",
   "execution_count": 103,
   "metadata": {
    "collapsed": false
   },
   "outputs": [
    {
     "data": {
      "text/plain": [
       "2012-03-05 19:00:00-05:00    0.044718\n",
       "2012-03-06 19:00:00-05:00    0.261997\n",
       "2012-03-07 19:00:00-05:00    0.897091\n",
       "2012-03-08 19:00:00-05:00    1.275792\n",
       "2012-03-09 19:00:00-05:00    1.018369\n",
       "Freq: D, dtype: float64"
      ]
     },
     "execution_count": 103,
     "metadata": {},
     "output_type": "execute_result"
    }
   ],
   "source": [
    "# Convert to another time Zone\n",
    "ts_utc.tz_convert('US/Eastern')"
   ]
  },
  {
   "cell_type": "markdown",
   "metadata": {},
   "source": [
    "### Categoricals"
   ]
  },
  {
   "cell_type": "code",
   "execution_count": 104,
   "metadata": {
    "collapsed": true
   },
   "outputs": [],
   "source": [
    "df = pd.DataFrame({\"id\":range(1,7), \"raw_grade\":['a', 'b','c', 'a', 'a', 'e']})"
   ]
  },
  {
   "cell_type": "code",
   "execution_count": 105,
   "metadata": {
    "collapsed": false
   },
   "outputs": [
    {
     "data": {
      "text/html": [
       "<div>\n",
       "<table border=\"1\" class=\"dataframe\">\n",
       "  <thead>\n",
       "    <tr style=\"text-align: right;\">\n",
       "      <th></th>\n",
       "      <th>id</th>\n",
       "      <th>raw_grade</th>\n",
       "    </tr>\n",
       "  </thead>\n",
       "  <tbody>\n",
       "    <tr>\n",
       "      <th>0</th>\n",
       "      <td>1</td>\n",
       "      <td>a</td>\n",
       "    </tr>\n",
       "    <tr>\n",
       "      <th>1</th>\n",
       "      <td>2</td>\n",
       "      <td>b</td>\n",
       "    </tr>\n",
       "    <tr>\n",
       "      <th>2</th>\n",
       "      <td>3</td>\n",
       "      <td>c</td>\n",
       "    </tr>\n",
       "    <tr>\n",
       "      <th>3</th>\n",
       "      <td>4</td>\n",
       "      <td>a</td>\n",
       "    </tr>\n",
       "    <tr>\n",
       "      <th>4</th>\n",
       "      <td>5</td>\n",
       "      <td>a</td>\n",
       "    </tr>\n",
       "    <tr>\n",
       "      <th>5</th>\n",
       "      <td>6</td>\n",
       "      <td>e</td>\n",
       "    </tr>\n",
       "  </tbody>\n",
       "</table>\n",
       "</div>"
      ],
      "text/plain": [
       "   id raw_grade\n",
       "0   1         a\n",
       "1   2         b\n",
       "2   3         c\n",
       "3   4         a\n",
       "4   5         a\n",
       "5   6         e"
      ]
     },
     "execution_count": 105,
     "metadata": {},
     "output_type": "execute_result"
    }
   ],
   "source": [
    "df"
   ]
  },
  {
   "cell_type": "code",
   "execution_count": 106,
   "metadata": {
    "collapsed": true
   },
   "outputs": [],
   "source": [
    "df[\"grade\"] = df[\"raw_grade\"].astype(\"category\")"
   ]
  },
  {
   "cell_type": "code",
   "execution_count": 107,
   "metadata": {
    "collapsed": false
   },
   "outputs": [
    {
     "data": {
      "text/html": [
       "<div>\n",
       "<table border=\"1\" class=\"dataframe\">\n",
       "  <thead>\n",
       "    <tr style=\"text-align: right;\">\n",
       "      <th></th>\n",
       "      <th>id</th>\n",
       "      <th>raw_grade</th>\n",
       "      <th>grade</th>\n",
       "    </tr>\n",
       "  </thead>\n",
       "  <tbody>\n",
       "    <tr>\n",
       "      <th>0</th>\n",
       "      <td>1</td>\n",
       "      <td>a</td>\n",
       "      <td>a</td>\n",
       "    </tr>\n",
       "    <tr>\n",
       "      <th>1</th>\n",
       "      <td>2</td>\n",
       "      <td>b</td>\n",
       "      <td>b</td>\n",
       "    </tr>\n",
       "    <tr>\n",
       "      <th>2</th>\n",
       "      <td>3</td>\n",
       "      <td>c</td>\n",
       "      <td>c</td>\n",
       "    </tr>\n",
       "    <tr>\n",
       "      <th>3</th>\n",
       "      <td>4</td>\n",
       "      <td>a</td>\n",
       "      <td>a</td>\n",
       "    </tr>\n",
       "    <tr>\n",
       "      <th>4</th>\n",
       "      <td>5</td>\n",
       "      <td>a</td>\n",
       "      <td>a</td>\n",
       "    </tr>\n",
       "    <tr>\n",
       "      <th>5</th>\n",
       "      <td>6</td>\n",
       "      <td>e</td>\n",
       "      <td>e</td>\n",
       "    </tr>\n",
       "  </tbody>\n",
       "</table>\n",
       "</div>"
      ],
      "text/plain": [
       "   id raw_grade grade\n",
       "0   1         a     a\n",
       "1   2         b     b\n",
       "2   3         c     c\n",
       "3   4         a     a\n",
       "4   5         a     a\n",
       "5   6         e     e"
      ]
     },
     "execution_count": 107,
     "metadata": {},
     "output_type": "execute_result"
    }
   ],
   "source": [
    "df"
   ]
  },
  {
   "cell_type": "code",
   "execution_count": 109,
   "metadata": {
    "collapsed": false
   },
   "outputs": [],
   "source": [
    "df[\"grade\"].cat.categories = [\"excellent\", \"very good\", \"good\", \"very bad\"]"
   ]
  },
  {
   "cell_type": "code",
   "execution_count": 110,
   "metadata": {
    "collapsed": false
   },
   "outputs": [
    {
     "data": {
      "text/html": [
       "<div>\n",
       "<table border=\"1\" class=\"dataframe\">\n",
       "  <thead>\n",
       "    <tr style=\"text-align: right;\">\n",
       "      <th></th>\n",
       "      <th>id</th>\n",
       "      <th>raw_grade</th>\n",
       "      <th>grade</th>\n",
       "    </tr>\n",
       "  </thead>\n",
       "  <tbody>\n",
       "    <tr>\n",
       "      <th>0</th>\n",
       "      <td>1</td>\n",
       "      <td>a</td>\n",
       "      <td>excellent</td>\n",
       "    </tr>\n",
       "    <tr>\n",
       "      <th>1</th>\n",
       "      <td>2</td>\n",
       "      <td>b</td>\n",
       "      <td>very good</td>\n",
       "    </tr>\n",
       "    <tr>\n",
       "      <th>2</th>\n",
       "      <td>3</td>\n",
       "      <td>c</td>\n",
       "      <td>good</td>\n",
       "    </tr>\n",
       "    <tr>\n",
       "      <th>3</th>\n",
       "      <td>4</td>\n",
       "      <td>a</td>\n",
       "      <td>excellent</td>\n",
       "    </tr>\n",
       "    <tr>\n",
       "      <th>4</th>\n",
       "      <td>5</td>\n",
       "      <td>a</td>\n",
       "      <td>excellent</td>\n",
       "    </tr>\n",
       "    <tr>\n",
       "      <th>5</th>\n",
       "      <td>6</td>\n",
       "      <td>e</td>\n",
       "      <td>very bad</td>\n",
       "    </tr>\n",
       "  </tbody>\n",
       "</table>\n",
       "</div>"
      ],
      "text/plain": [
       "   id raw_grade      grade\n",
       "0   1         a  excellent\n",
       "1   2         b  very good\n",
       "2   3         c       good\n",
       "3   4         a  excellent\n",
       "4   5         a  excellent\n",
       "5   6         e   very bad"
      ]
     },
     "execution_count": 110,
     "metadata": {},
     "output_type": "execute_result"
    }
   ],
   "source": [
    "df"
   ]
  },
  {
   "cell_type": "markdown",
   "metadata": {},
   "source": [
    " ### Plotting"
   ]
  },
  {
   "cell_type": "code",
   "execution_count": 117,
   "metadata": {
    "collapsed": true
   },
   "outputs": [],
   "source": [
    "ts = pd.Series(np.random.randn(1000), index=pd.date_range('1/1/2000', \n",
    "                                                             periods=1000))"
   ]
  },
  {
   "cell_type": "code",
   "execution_count": 118,
   "metadata": {
    "collapsed": false
   },
   "outputs": [
    {
     "data": {
      "text/plain": [
       "2000-01-01   -0.077738\n",
       "2000-01-02    1.746385\n",
       "2000-01-03    0.236740\n",
       "2000-01-04   -1.404616\n",
       "2000-01-05    0.172435\n",
       "Freq: D, dtype: float64"
      ]
     },
     "execution_count": 118,
     "metadata": {},
     "output_type": "execute_result"
    }
   ],
   "source": [
    "ts.head()"
   ]
  },
  {
   "cell_type": "code",
   "execution_count": 119,
   "metadata": {
    "collapsed": false
   },
   "outputs": [
    {
     "data": {
      "text/plain": [
       "2000-01-01   -0.077738\n",
       "2000-01-02    1.668647\n",
       "2000-01-03    1.905387\n",
       "2000-01-04    0.500771\n",
       "2000-01-05    0.673206\n",
       "Freq: D, dtype: float64"
      ]
     },
     "execution_count": 119,
     "metadata": {},
     "output_type": "execute_result"
    }
   ],
   "source": [
    "ts = ts.cumsum()\n",
    "ts.head()"
   ]
  },
  {
   "cell_type": "code",
   "execution_count": 120,
   "metadata": {
    "collapsed": false
   },
   "outputs": [
    {
     "data": {
      "text/plain": [
       "<matplotlib.axes._subplots.AxesSubplot at 0xa55d940>"
      ]
     },
     "execution_count": 120,
     "metadata": {},
     "output_type": "execute_result"
    },
    {
     "data": {
      "image/png": "[encoded data removed]",
      "text/plain": [
       "<matplotlib.figure.Figure at 0xa31ac88>"
      ]
     },
     "metadata": {},
     "output_type": "display_data"
    }
   ],
   "source": [
    "ts.plot()"
   ]
  },
  {
   "cell_type": "code",
   "execution_count": 121,
   "metadata": {
    "collapsed": true
   },
   "outputs": [],
   "source": [
    "df = pd.DataFrame(np.random.randn(1000, 4), index=ts.index, \n",
    "                  columns=['A', 'B', 'C', 'D'])"
   ]
  },
  {
   "cell_type": "code",
   "execution_count": 122,
   "metadata": {
    "collapsed": false
   },
   "outputs": [
    {
     "data": {
      "text/html": [
       "<div>\n",
       "<table border=\"1\" class=\"dataframe\">\n",
       "  <thead>\n",
       "    <tr style=\"text-align: right;\">\n",
       "      <th></th>\n",
       "      <th>A</th>\n",
       "      <th>B</th>\n",
       "      <th>C</th>\n",
       "      <th>D</th>\n",
       "    </tr>\n",
       "  </thead>\n",
       "  <tbody>\n",
       "    <tr>\n",
       "      <th>2000-01-01</th>\n",
       "      <td>-0.000713</td>\n",
       "      <td>-2.574034</td>\n",
       "      <td>-0.388043</td>\n",
       "      <td>0.586309</td>\n",
       "    </tr>\n",
       "    <tr>\n",
       "      <th>2000-01-02</th>\n",
       "      <td>0.563826</td>\n",
       "      <td>1.106371</td>\n",
       "      <td>-0.301467</td>\n",
       "      <td>-0.714620</td>\n",
       "    </tr>\n",
       "    <tr>\n",
       "      <th>2000-01-03</th>\n",
       "      <td>0.446526</td>\n",
       "      <td>0.014063</td>\n",
       "      <td>1.901294</td>\n",
       "      <td>0.011860</td>\n",
       "    </tr>\n",
       "    <tr>\n",
       "      <th>2000-01-04</th>\n",
       "      <td>0.910683</td>\n",
       "      <td>0.860130</td>\n",
       "      <td>1.732056</td>\n",
       "      <td>-0.173511</td>\n",
       "    </tr>\n",
       "    <tr>\n",
       "      <th>2000-01-05</th>\n",
       "      <td>1.711845</td>\n",
       "      <td>1.513547</td>\n",
       "      <td>-1.144574</td>\n",
       "      <td>-0.843210</td>\n",
       "    </tr>\n",
       "  </tbody>\n",
       "</table>\n",
       "</div>"
      ],
      "text/plain": [
       "                   A         B         C         D\n",
       "2000-01-01 -0.000713 -2.574034 -0.388043  0.586309\n",
       "2000-01-02  0.563826  1.106371 -0.301467 -0.714620\n",
       "2000-01-03  0.446526  0.014063  1.901294  0.011860\n",
       "2000-01-04  0.910683  0.860130  1.732056 -0.173511\n",
       "2000-01-05  1.711845  1.513547 -1.144574 -0.843210"
      ]
     },
     "execution_count": 122,
     "metadata": {},
     "output_type": "execute_result"
    }
   ],
   "source": [
    "df.head()"
   ]
  },
  {
   "cell_type": "code",
   "execution_count": 123,
   "metadata": {
    "collapsed": false
   },
   "outputs": [
    {
     "data": {
      "text/html": [
       "<div>\n",
       "<table border=\"1\" class=\"dataframe\">\n",
       "  <thead>\n",
       "    <tr style=\"text-align: right;\">\n",
       "      <th></th>\n",
       "      <th>A</th>\n",
       "      <th>B</th>\n",
       "      <th>C</th>\n",
       "      <th>D</th>\n",
       "    </tr>\n",
       "  </thead>\n",
       "  <tbody>\n",
       "    <tr>\n",
       "      <th>2000-01-01</th>\n",
       "      <td>-0.000713</td>\n",
       "      <td>-2.574034</td>\n",
       "      <td>-0.388043</td>\n",
       "      <td>0.586309</td>\n",
       "    </tr>\n",
       "    <tr>\n",
       "      <th>2000-01-02</th>\n",
       "      <td>0.563112</td>\n",
       "      <td>-1.467662</td>\n",
       "      <td>-0.689511</td>\n",
       "      <td>-0.128311</td>\n",
       "    </tr>\n",
       "    <tr>\n",
       "      <th>2000-01-03</th>\n",
       "      <td>1.009638</td>\n",
       "      <td>-1.453600</td>\n",
       "      <td>1.211783</td>\n",
       "      <td>-0.116451</td>\n",
       "    </tr>\n",
       "    <tr>\n",
       "      <th>2000-01-04</th>\n",
       "      <td>1.920321</td>\n",
       "      <td>-0.593469</td>\n",
       "      <td>2.943840</td>\n",
       "      <td>-0.289962</td>\n",
       "    </tr>\n",
       "    <tr>\n",
       "      <th>2000-01-05</th>\n",
       "      <td>3.632166</td>\n",
       "      <td>0.920077</td>\n",
       "      <td>1.799266</td>\n",
       "      <td>-1.133172</td>\n",
       "    </tr>\n",
       "  </tbody>\n",
       "</table>\n",
       "</div>"
      ],
      "text/plain": [
       "                   A         B         C         D\n",
       "2000-01-01 -0.000713 -2.574034 -0.388043  0.586309\n",
       "2000-01-02  0.563112 -1.467662 -0.689511 -0.128311\n",
       "2000-01-03  1.009638 -1.453600  1.211783 -0.116451\n",
       "2000-01-04  1.920321 -0.593469  2.943840 -0.289962\n",
       "2000-01-05  3.632166  0.920077  1.799266 -1.133172"
      ]
     },
     "execution_count": 123,
     "metadata": {},
     "output_type": "execute_result"
    }
   ],
   "source": [
    "df = df.cumsum()\n",
    "df.head()"
   ]
  },
  {
   "cell_type": "code",
   "execution_count": 125,
   "metadata": {
    "collapsed": false
   },
   "outputs": [
    {
     "data": {
      "text/plain": [
       "<matplotlib.figure.Figure at 0xb120ac8>"
      ]
     },
     "metadata": {},
     "output_type": "display_data"
    },
    {
     "data": {
      "image/png": "[encoded data removed]",
      "text/plain": [
       "<matplotlib.figure.Figure at 0xb1a1eb8>"
      ]
     },
     "metadata": {},
     "output_type": "display_data"
    }
   ],
   "source": [
    "plt.figure()\n",
    "df.plot()\n",
    "plt.legend(loc='best')\n",
    "plt.show()"
   ]
  },
  {
   "cell_type": "markdown",
   "metadata": {},
   "source": [
    "### Getting Data In/Out"
   ]
  },
  {
   "cell_type": "code",
   "execution_count": 126,
   "metadata": {
    "collapsed": true
   },
   "outputs": [],
   "source": [
    "# CSV\n",
    "# writing to a csv file\n",
    "df.to_csv('foo.csv')"
   ]
  },
  {
   "cell_type": "code",
   "execution_count": 127,
   "metadata": {
    "collapsed": false
   },
   "outputs": [
    {
     "data": {
      "text/html": [
       "<div>\n",
       "<table border=\"1\" class=\"dataframe\">\n",
       "  <thead>\n",
       "    <tr style=\"text-align: right;\">\n",
       "      <th></th>\n",
       "      <th>Unnamed: 0</th>\n",
       "      <th>A</th>\n",
       "      <th>B</th>\n",
       "      <th>C</th>\n",
       "      <th>D</th>\n",
       "    </tr>\n",
       "  </thead>\n",
       "  <tbody>\n",
       "    <tr>\n",
       "      <th>0</th>\n",
       "      <td>2000-01-01</td>\n",
       "      <td>-0.000713</td>\n",
       "      <td>-2.574034</td>\n",
       "      <td>-0.388043</td>\n",
       "      <td>0.586309</td>\n",
       "    </tr>\n",
       "    <tr>\n",
       "      <th>1</th>\n",
       "      <td>2000-01-02</td>\n",
       "      <td>0.563112</td>\n",
       "      <td>-1.467662</td>\n",
       "      <td>-0.689511</td>\n",
       "      <td>-0.128311</td>\n",
       "    </tr>\n",
       "    <tr>\n",
       "      <th>2</th>\n",
       "      <td>2000-01-03</td>\n",
       "      <td>1.009638</td>\n",
       "      <td>-1.453600</td>\n",
       "      <td>1.211783</td>\n",
       "      <td>-0.116451</td>\n",
       "    </tr>\n",
       "    <tr>\n",
       "      <th>3</th>\n",
       "      <td>2000-01-04</td>\n",
       "      <td>1.920321</td>\n",
       "      <td>-0.593469</td>\n",
       "      <td>2.943840</td>\n",
       "      <td>-0.289962</td>\n",
       "    </tr>\n",
       "    <tr>\n",
       "      <th>4</th>\n",
       "      <td>2000-01-05</td>\n",
       "      <td>3.632166</td>\n",
       "      <td>0.920077</td>\n",
       "      <td>1.799266</td>\n",
       "      <td>-1.133172</td>\n",
       "    </tr>\n",
       "    <tr>\n",
       "      <th>5</th>\n",
       "      <td>2000-01-06</td>\n",
       "      <td>2.748270</td>\n",
       "      <td>2.232159</td>\n",
       "      <td>1.863808</td>\n",
       "      <td>-1.337885</td>\n",
       "    </tr>\n",
       "    <tr>\n",
       "      <th>6</th>\n",
       "      <td>2000-01-07</td>\n",
       "      <td>1.938135</td>\n",
       "      <td>2.435185</td>\n",
       "      <td>0.954061</td>\n",
       "      <td>-2.719192</td>\n",
       "    </tr>\n",
       "    <tr>\n",
       "      <th>7</th>\n",
       "      <td>2000-01-08</td>\n",
       "      <td>1.872872</td>\n",
       "      <td>1.011073</td>\n",
       "      <td>1.963047</td>\n",
       "      <td>-2.542641</td>\n",
       "    </tr>\n",
       "    <tr>\n",
       "      <th>8</th>\n",
       "      <td>2000-01-09</td>\n",
       "      <td>2.520290</td>\n",
       "      <td>0.242781</td>\n",
       "      <td>2.294733</td>\n",
       "      <td>-2.257144</td>\n",
       "    </tr>\n",
       "    <tr>\n",
       "      <th>9</th>\n",
       "      <td>2000-01-10</td>\n",
       "      <td>3.134156</td>\n",
       "      <td>-1.042070</td>\n",
       "      <td>2.817005</td>\n",
       "      <td>-3.297181</td>\n",
       "    </tr>\n",
       "    <tr>\n",
       "      <th>10</th>\n",
       "      <td>2000-01-11</td>\n",
       "      <td>6.000732</td>\n",
       "      <td>-0.416614</td>\n",
       "      <td>1.229306</td>\n",
       "      <td>-2.317008</td>\n",
       "    </tr>\n",
       "    <tr>\n",
       "      <th>11</th>\n",
       "      <td>2000-01-12</td>\n",
       "      <td>5.424606</td>\n",
       "      <td>-1.840183</td>\n",
       "      <td>2.325112</td>\n",
       "      <td>-1.671192</td>\n",
       "    </tr>\n",
       "    <tr>\n",
       "      <th>12</th>\n",
       "      <td>2000-01-13</td>\n",
       "      <td>5.640006</td>\n",
       "      <td>-1.537954</td>\n",
       "      <td>0.905919</td>\n",
       "      <td>-2.166955</td>\n",
       "    </tr>\n",
       "    <tr>\n",
       "      <th>13</th>\n",
       "      <td>2000-01-14</td>\n",
       "      <td>4.999150</td>\n",
       "      <td>-1.286859</td>\n",
       "      <td>0.330575</td>\n",
       "      <td>-1.674750</td>\n",
       "    </tr>\n",
       "    <tr>\n",
       "      <th>14</th>\n",
       "      <td>2000-01-15</td>\n",
       "      <td>5.891912</td>\n",
       "      <td>-1.178763</td>\n",
       "      <td>0.277715</td>\n",
       "      <td>-3.135234</td>\n",
       "    </tr>\n",
       "    <tr>\n",
       "      <th>15</th>\n",
       "      <td>2000-01-16</td>\n",
       "      <td>6.051004</td>\n",
       "      <td>-0.262298</td>\n",
       "      <td>-0.548422</td>\n",
       "      <td>-4.158701</td>\n",
       "    </tr>\n",
       "    <tr>\n",
       "      <th>16</th>\n",
       "      <td>2000-01-17</td>\n",
       "      <td>5.771180</td>\n",
       "      <td>-0.583857</td>\n",
       "      <td>-1.718665</td>\n",
       "      <td>-5.207557</td>\n",
       "    </tr>\n",
       "    <tr>\n",
       "      <th>17</th>\n",
       "      <td>2000-01-18</td>\n",
       "      <td>5.696732</td>\n",
       "      <td>-0.906279</td>\n",
       "      <td>-2.511204</td>\n",
       "      <td>-3.053395</td>\n",
       "    </tr>\n",
       "    <tr>\n",
       "      <th>18</th>\n",
       "      <td>2000-01-19</td>\n",
       "      <td>5.585920</td>\n",
       "      <td>0.906328</td>\n",
       "      <td>-3.090704</td>\n",
       "      <td>-4.761608</td>\n",
       "    </tr>\n",
       "    <tr>\n",
       "      <th>19</th>\n",
       "      <td>2000-01-20</td>\n",
       "      <td>4.823650</td>\n",
       "      <td>-0.290444</td>\n",
       "      <td>-3.877792</td>\n",
       "      <td>-3.792484</td>\n",
       "    </tr>\n",
       "    <tr>\n",
       "      <th>20</th>\n",
       "      <td>2000-01-21</td>\n",
       "      <td>5.031050</td>\n",
       "      <td>-0.143654</td>\n",
       "      <td>-2.873880</td>\n",
       "      <td>-3.690589</td>\n",
       "    </tr>\n",
       "    <tr>\n",
       "      <th>21</th>\n",
       "      <td>2000-01-22</td>\n",
       "      <td>5.595274</td>\n",
       "      <td>-1.879647</td>\n",
       "      <td>-3.670037</td>\n",
       "      <td>-3.627506</td>\n",
       "    </tr>\n",
       "    <tr>\n",
       "      <th>22</th>\n",
       "      <td>2000-01-23</td>\n",
       "      <td>5.219194</td>\n",
       "      <td>-1.201844</td>\n",
       "      <td>-4.211468</td>\n",
       "      <td>-2.448740</td>\n",
       "    </tr>\n",
       "    <tr>\n",
       "      <th>23</th>\n",
       "      <td>2000-01-24</td>\n",
       "      <td>6.188993</td>\n",
       "      <td>-0.827698</td>\n",
       "      <td>-4.059234</td>\n",
       "      <td>-2.465247</td>\n",
       "    </tr>\n",
       "    <tr>\n",
       "      <th>24</th>\n",
       "      <td>2000-01-25</td>\n",
       "      <td>6.621478</td>\n",
       "      <td>-0.306019</td>\n",
       "      <td>-1.495305</td>\n",
       "      <td>-2.492248</td>\n",
       "    </tr>\n",
       "    <tr>\n",
       "      <th>25</th>\n",
       "      <td>2000-01-26</td>\n",
       "      <td>7.971622</td>\n",
       "      <td>-0.820890</td>\n",
       "      <td>-0.658597</td>\n",
       "      <td>-4.302025</td>\n",
       "    </tr>\n",
       "    <tr>\n",
       "      <th>26</th>\n",
       "      <td>2000-01-27</td>\n",
       "      <td>6.757538</td>\n",
       "      <td>-2.749994</td>\n",
       "      <td>0.978701</td>\n",
       "      <td>-5.941282</td>\n",
       "    </tr>\n",
       "    <tr>\n",
       "      <th>27</th>\n",
       "      <td>2000-01-28</td>\n",
       "      <td>7.359760</td>\n",
       "      <td>-3.502269</td>\n",
       "      <td>0.605322</td>\n",
       "      <td>-4.919171</td>\n",
       "    </tr>\n",
       "    <tr>\n",
       "      <th>28</th>\n",
       "      <td>2000-01-29</td>\n",
       "      <td>7.173023</td>\n",
       "      <td>-3.945499</td>\n",
       "      <td>1.207049</td>\n",
       "      <td>-4.802079</td>\n",
       "    </tr>\n",
       "    <tr>\n",
       "      <th>29</th>\n",
       "      <td>2000-01-30</td>\n",
       "      <td>8.590637</td>\n",
       "      <td>-3.969867</td>\n",
       "      <td>0.786948</td>\n",
       "      <td>-4.328872</td>\n",
       "    </tr>\n",
       "    <tr>\n",
       "      <th>...</th>\n",
       "      <td>...</td>\n",
       "      <td>...</td>\n",
       "      <td>...</td>\n",
       "      <td>...</td>\n",
       "      <td>...</td>\n",
       "    </tr>\n",
       "    <tr>\n",
       "      <th>970</th>\n",
       "      <td>2002-08-28</td>\n",
       "      <td>16.262451</td>\n",
       "      <td>-17.363413</td>\n",
       "      <td>10.142119</td>\n",
       "      <td>-10.396031</td>\n",
       "    </tr>\n",
       "    <tr>\n",
       "      <th>971</th>\n",
       "      <td>2002-08-29</td>\n",
       "      <td>18.383112</td>\n",
       "      <td>-17.727842</td>\n",
       "      <td>9.349033</td>\n",
       "      <td>-7.800556</td>\n",
       "    </tr>\n",
       "    <tr>\n",
       "      <th>972</th>\n",
       "      <td>2002-08-30</td>\n",
       "      <td>18.105975</td>\n",
       "      <td>-17.668181</td>\n",
       "      <td>9.257913</td>\n",
       "      <td>-8.178654</td>\n",
       "    </tr>\n",
       "    <tr>\n",
       "      <th>973</th>\n",
       "      <td>2002-08-31</td>\n",
       "      <td>18.115062</td>\n",
       "      <td>-18.148306</td>\n",
       "      <td>9.059461</td>\n",
       "      <td>-7.377117</td>\n",
       "    </tr>\n",
       "    <tr>\n",
       "      <th>974</th>\n",
       "      <td>2002-09-01</td>\n",
       "      <td>18.694477</td>\n",
       "      <td>-17.468275</td>\n",
       "      <td>9.798150</td>\n",
       "      <td>-6.118435</td>\n",
       "    </tr>\n",
       "    <tr>\n",
       "      <th>975</th>\n",
       "      <td>2002-09-02</td>\n",
       "      <td>18.431395</td>\n",
       "      <td>-16.404862</td>\n",
       "      <td>9.693754</td>\n",
       "      <td>-6.268456</td>\n",
       "    </tr>\n",
       "    <tr>\n",
       "      <th>976</th>\n",
       "      <td>2002-09-03</td>\n",
       "      <td>20.281180</td>\n",
       "      <td>-14.013050</td>\n",
       "      <td>8.629462</td>\n",
       "      <td>-8.154330</td>\n",
       "    </tr>\n",
       "    <tr>\n",
       "      <th>977</th>\n",
       "      <td>2002-09-04</td>\n",
       "      <td>21.462887</td>\n",
       "      <td>-12.238188</td>\n",
       "      <td>7.650900</td>\n",
       "      <td>-8.384186</td>\n",
       "    </tr>\n",
       "    <tr>\n",
       "      <th>978</th>\n",
       "      <td>2002-09-05</td>\n",
       "      <td>21.381275</td>\n",
       "      <td>-12.068280</td>\n",
       "      <td>6.455082</td>\n",
       "      <td>-7.631823</td>\n",
       "    </tr>\n",
       "    <tr>\n",
       "      <th>979</th>\n",
       "      <td>2002-09-06</td>\n",
       "      <td>21.902208</td>\n",
       "      <td>-12.621636</td>\n",
       "      <td>8.220414</td>\n",
       "      <td>-8.473132</td>\n",
       "    </tr>\n",
       "    <tr>\n",
       "      <th>980</th>\n",
       "      <td>2002-09-07</td>\n",
       "      <td>20.351107</td>\n",
       "      <td>-13.044852</td>\n",
       "      <td>8.792677</td>\n",
       "      <td>-8.387069</td>\n",
       "    </tr>\n",
       "    <tr>\n",
       "      <th>981</th>\n",
       "      <td>2002-09-08</td>\n",
       "      <td>21.776543</td>\n",
       "      <td>-13.728361</td>\n",
       "      <td>7.903156</td>\n",
       "      <td>-7.710349</td>\n",
       "    </tr>\n",
       "    <tr>\n",
       "      <th>982</th>\n",
       "      <td>2002-09-09</td>\n",
       "      <td>22.287273</td>\n",
       "      <td>-12.807818</td>\n",
       "      <td>8.332953</td>\n",
       "      <td>-6.659086</td>\n",
       "    </tr>\n",
       "    <tr>\n",
       "      <th>983</th>\n",
       "      <td>2002-09-10</td>\n",
       "      <td>22.230138</td>\n",
       "      <td>-13.438762</td>\n",
       "      <td>8.055074</td>\n",
       "      <td>-7.379499</td>\n",
       "    </tr>\n",
       "    <tr>\n",
       "      <th>984</th>\n",
       "      <td>2002-09-11</td>\n",
       "      <td>22.081296</td>\n",
       "      <td>-12.778291</td>\n",
       "      <td>8.730018</td>\n",
       "      <td>-7.771634</td>\n",
       "    </tr>\n",
       "    <tr>\n",
       "      <th>985</th>\n",
       "      <td>2002-09-12</td>\n",
       "      <td>21.652292</td>\n",
       "      <td>-12.975789</td>\n",
       "      <td>10.265700</td>\n",
       "      <td>-7.817193</td>\n",
       "    </tr>\n",
       "    <tr>\n",
       "      <th>986</th>\n",
       "      <td>2002-09-13</td>\n",
       "      <td>21.350884</td>\n",
       "      <td>-14.726632</td>\n",
       "      <td>9.769734</td>\n",
       "      <td>-6.611030</td>\n",
       "    </tr>\n",
       "    <tr>\n",
       "      <th>987</th>\n",
       "      <td>2002-09-14</td>\n",
       "      <td>21.879169</td>\n",
       "      <td>-16.368178</td>\n",
       "      <td>9.826283</td>\n",
       "      <td>-6.289285</td>\n",
       "    </tr>\n",
       "    <tr>\n",
       "      <th>988</th>\n",
       "      <td>2002-09-15</td>\n",
       "      <td>21.153484</td>\n",
       "      <td>-18.612815</td>\n",
       "      <td>9.544231</td>\n",
       "      <td>-4.710337</td>\n",
       "    </tr>\n",
       "    <tr>\n",
       "      <th>989</th>\n",
       "      <td>2002-09-16</td>\n",
       "      <td>21.996352</td>\n",
       "      <td>-17.333632</td>\n",
       "      <td>7.172020</td>\n",
       "      <td>-4.207681</td>\n",
       "    </tr>\n",
       "    <tr>\n",
       "      <th>990</th>\n",
       "      <td>2002-09-17</td>\n",
       "      <td>22.016100</td>\n",
       "      <td>-19.594507</td>\n",
       "      <td>8.742788</td>\n",
       "      <td>-5.196592</td>\n",
       "    </tr>\n",
       "    <tr>\n",
       "      <th>991</th>\n",
       "      <td>2002-09-18</td>\n",
       "      <td>22.063928</td>\n",
       "      <td>-19.692414</td>\n",
       "      <td>8.884960</td>\n",
       "      <td>-6.221493</td>\n",
       "    </tr>\n",
       "    <tr>\n",
       "      <th>992</th>\n",
       "      <td>2002-09-19</td>\n",
       "      <td>21.494334</td>\n",
       "      <td>-19.036155</td>\n",
       "      <td>8.926345</td>\n",
       "      <td>-5.984265</td>\n",
       "    </tr>\n",
       "    <tr>\n",
       "      <th>993</th>\n",
       "      <td>2002-09-20</td>\n",
       "      <td>21.930664</td>\n",
       "      <td>-19.410695</td>\n",
       "      <td>9.505338</td>\n",
       "      <td>-7.733004</td>\n",
       "    </tr>\n",
       "    <tr>\n",
       "      <th>994</th>\n",
       "      <td>2002-09-21</td>\n",
       "      <td>22.520016</td>\n",
       "      <td>-20.617534</td>\n",
       "      <td>8.315873</td>\n",
       "      <td>-7.780911</td>\n",
       "    </tr>\n",
       "    <tr>\n",
       "      <th>995</th>\n",
       "      <td>2002-09-22</td>\n",
       "      <td>21.707475</td>\n",
       "      <td>-20.300805</td>\n",
       "      <td>7.300183</td>\n",
       "      <td>-7.826618</td>\n",
       "    </tr>\n",
       "    <tr>\n",
       "      <th>996</th>\n",
       "      <td>2002-09-23</td>\n",
       "      <td>20.379143</td>\n",
       "      <td>-20.964530</td>\n",
       "      <td>6.309843</td>\n",
       "      <td>-7.466371</td>\n",
       "    </tr>\n",
       "    <tr>\n",
       "      <th>997</th>\n",
       "      <td>2002-09-24</td>\n",
       "      <td>19.498527</td>\n",
       "      <td>-21.278822</td>\n",
       "      <td>5.879059</td>\n",
       "      <td>-8.682913</td>\n",
       "    </tr>\n",
       "    <tr>\n",
       "      <th>998</th>\n",
       "      <td>2002-09-25</td>\n",
       "      <td>18.860748</td>\n",
       "      <td>-21.304048</td>\n",
       "      <td>5.309150</td>\n",
       "      <td>-9.849771</td>\n",
       "    </tr>\n",
       "    <tr>\n",
       "      <th>999</th>\n",
       "      <td>2002-09-26</td>\n",
       "      <td>17.579889</td>\n",
       "      <td>-21.911977</td>\n",
       "      <td>6.325207</td>\n",
       "      <td>-11.936463</td>\n",
       "    </tr>\n",
       "  </tbody>\n",
       "</table>\n",
       "<p>1000 rows × 5 columns</p>\n",
       "</div>"
      ],
      "text/plain": [
       "     Unnamed: 0          A          B          C          D\n",
       "0    2000-01-01  -0.000713  -2.574034  -0.388043   0.586309\n",
       "1    2000-01-02   0.563112  -1.467662  -0.689511  -0.128311\n",
       "2    2000-01-03   1.009638  -1.453600   1.211783  -0.116451\n",
       "3    2000-01-04   1.920321  -0.593469   2.943840  -0.289962\n",
       "4    2000-01-05   3.632166   0.920077   1.799266  -1.133172\n",
       "5    2000-01-06   2.748270   2.232159   1.863808  -1.337885\n",
       "6    2000-01-07   1.938135   2.435185   0.954061  -2.719192\n",
       "7    2000-01-08   1.872872   1.011073   1.963047  -2.542641\n",
       "8    2000-01-09   2.520290   0.242781   2.294733  -2.257144\n",
       "9    2000-01-10   3.134156  -1.042070   2.817005  -3.297181\n",
       "10   2000-01-11   6.000732  -0.416614   1.229306  -2.317008\n",
       "11   2000-01-12   5.424606  -1.840183   2.325112  -1.671192\n",
       "12   2000-01-13   5.640006  -1.537954   0.905919  -2.166955\n",
       "13   2000-01-14   4.999150  -1.286859   0.330575  -1.674750\n",
       "14   2000-01-15   5.891912  -1.178763   0.277715  -3.135234\n",
       "15   2000-01-16   6.051004  -0.262298  -0.548422  -4.158701\n",
       "16   2000-01-17   5.771180  -0.583857  -1.718665  -5.207557\n",
       "17   2000-01-18   5.696732  -0.906279  -2.511204  -3.053395\n",
       "18   2000-01-19   5.585920   0.906328  -3.090704  -4.761608\n",
       "19   2000-01-20   4.823650  -0.290444  -3.877792  -3.792484\n",
       "20   2000-01-21   5.031050  -0.143654  -2.873880  -3.690589\n",
       "21   2000-01-22   5.595274  -1.879647  -3.670037  -3.627506\n",
       "22   2000-01-23   5.219194  -1.201844  -4.211468  -2.448740\n",
       "23   2000-01-24   6.188993  -0.827698  -4.059234  -2.465247\n",
       "24   2000-01-25   6.621478  -0.306019  -1.495305  -2.492248\n",
       "25   2000-01-26   7.971622  -0.820890  -0.658597  -4.302025\n",
       "26   2000-01-27   6.757538  -2.749994   0.978701  -5.941282\n",
       "27   2000-01-28   7.359760  -3.502269   0.605322  -4.919171\n",
       "28   2000-01-29   7.173023  -3.945499   1.207049  -4.802079\n",
       "29   2000-01-30   8.590637  -3.969867   0.786948  -4.328872\n",
       "..          ...        ...        ...        ...        ...\n",
       "970  2002-08-28  16.262451 -17.363413  10.142119 -10.396031\n",
       "971  2002-08-29  18.383112 -17.727842   9.349033  -7.800556\n",
       "972  2002-08-30  18.105975 -17.668181   9.257913  -8.178654\n",
       "973  2002-08-31  18.115062 -18.148306   9.059461  -7.377117\n",
       "974  2002-09-01  18.694477 -17.468275   9.798150  -6.118435\n",
       "975  2002-09-02  18.431395 -16.404862   9.693754  -6.268456\n",
       "976  2002-09-03  20.281180 -14.013050   8.629462  -8.154330\n",
       "977  2002-09-04  21.462887 -12.238188   7.650900  -8.384186\n",
       "978  2002-09-05  21.381275 -12.068280   6.455082  -7.631823\n",
       "979  2002-09-06  21.902208 -12.621636   8.220414  -8.473132\n",
       "980  2002-09-07  20.351107 -13.044852   8.792677  -8.387069\n",
       "981  2002-09-08  21.776543 -13.728361   7.903156  -7.710349\n",
       "982  2002-09-09  22.287273 -12.807818   8.332953  -6.659086\n",
       "983  2002-09-10  22.230138 -13.438762   8.055074  -7.379499\n",
       "984  2002-09-11  22.081296 -12.778291   8.730018  -7.771634\n",
       "985  2002-09-12  21.652292 -12.975789  10.265700  -7.817193\n",
       "986  2002-09-13  21.350884 -14.726632   9.769734  -6.611030\n",
       "987  2002-09-14  21.879169 -16.368178   9.826283  -6.289285\n",
       "988  2002-09-15  21.153484 -18.612815   9.544231  -4.710337\n",
       "989  2002-09-16  21.996352 -17.333632   7.172020  -4.207681\n",
       "990  2002-09-17  22.016100 -19.594507   8.742788  -5.196592\n",
       "991  2002-09-18  22.063928 -19.692414   8.884960  -6.221493\n",
       "992  2002-09-19  21.494334 -19.036155   8.926345  -5.984265\n",
       "993  2002-09-20  21.930664 -19.410695   9.505338  -7.733004\n",
       "994  2002-09-21  22.520016 -20.617534   8.315873  -7.780911\n",
       "995  2002-09-22  21.707475 -20.300805   7.300183  -7.826618\n",
       "996  2002-09-23  20.379143 -20.964530   6.309843  -7.466371\n",
       "997  2002-09-24  19.498527 -21.278822   5.879059  -8.682913\n",
       "998  2002-09-25  18.860748 -21.304048   5.309150  -9.849771\n",
       "999  2002-09-26  17.579889 -21.911977   6.325207 -11.936463\n",
       "\n",
       "[1000 rows x 5 columns]"
      ]
     },
     "execution_count": 127,
     "metadata": {},
     "output_type": "execute_result"
    }
   ],
   "source": [
    "# readubg a csv file\n",
    "pd.read_csv('foo.csv')"
   ]
  },
  {
   "cell_type": "code",
   "execution_count": 128,
   "metadata": {
    "collapsed": true
   },
   "outputs": [],
   "source": [
    "# HDF5\n",
    "# Writing to a HDF5 store\n",
    "df.to_hdf('foo.h5', 'df')"
   ]
  },
  {
   "cell_type": "code",
   "execution_count": 129,
   "metadata": {
    "collapsed": false
   },
   "outputs": [
    {
     "data": {
      "text/html": [
       "<div>\n",
       "<table border=\"1\" class=\"dataframe\">\n",
       "  <thead>\n",
       "    <tr style=\"text-align: right;\">\n",
       "      <th></th>\n",
       "      <th>A</th>\n",
       "      <th>B</th>\n",
       "      <th>C</th>\n",
       "      <th>D</th>\n",
       "    </tr>\n",
       "  </thead>\n",
       "  <tbody>\n",
       "    <tr>\n",
       "      <th>2000-01-01</th>\n",
       "      <td>-0.000713</td>\n",
       "      <td>-2.574034</td>\n",
       "      <td>-0.388043</td>\n",
       "      <td>0.586309</td>\n",
       "    </tr>\n",
       "    <tr>\n",
       "      <th>2000-01-02</th>\n",
       "      <td>0.563112</td>\n",
       "      <td>-1.467662</td>\n",
       "      <td>-0.689511</td>\n",
       "      <td>-0.128311</td>\n",
       "    </tr>\n",
       "    <tr>\n",
       "      <th>2000-01-03</th>\n",
       "      <td>1.009638</td>\n",
       "      <td>-1.453600</td>\n",
       "      <td>1.211783</td>\n",
       "      <td>-0.116451</td>\n",
       "    </tr>\n",
       "    <tr>\n",
       "      <th>2000-01-04</th>\n",
       "      <td>1.920321</td>\n",
       "      <td>-0.593469</td>\n",
       "      <td>2.943840</td>\n",
       "      <td>-0.289962</td>\n",
       "    </tr>\n",
       "    <tr>\n",
       "      <th>2000-01-05</th>\n",
       "      <td>3.632166</td>\n",
       "      <td>0.920077</td>\n",
       "      <td>1.799266</td>\n",
       "      <td>-1.133172</td>\n",
       "    </tr>\n",
       "    <tr>\n",
       "      <th>2000-01-06</th>\n",
       "      <td>2.748270</td>\n",
       "      <td>2.232159</td>\n",
       "      <td>1.863808</td>\n",
       "      <td>-1.337885</td>\n",
       "    </tr>\n",
       "    <tr>\n",
       "      <th>2000-01-07</th>\n",
       "      <td>1.938135</td>\n",
       "      <td>2.435185</td>\n",
       "      <td>0.954061</td>\n",
       "      <td>-2.719192</td>\n",
       "    </tr>\n",
       "    <tr>\n",
       "      <th>2000-01-08</th>\n",
       "      <td>1.872872</td>\n",
       "      <td>1.011073</td>\n",
       "      <td>1.963047</td>\n",
       "      <td>-2.542641</td>\n",
       "    </tr>\n",
       "    <tr>\n",
       "      <th>2000-01-09</th>\n",
       "      <td>2.520290</td>\n",
       "      <td>0.242781</td>\n",
       "      <td>2.294733</td>\n",
       "      <td>-2.257144</td>\n",
       "    </tr>\n",
       "    <tr>\n",
       "      <th>2000-01-10</th>\n",
       "      <td>3.134156</td>\n",
       "      <td>-1.042070</td>\n",
       "      <td>2.817005</td>\n",
       "      <td>-3.297181</td>\n",
       "    </tr>\n",
       "    <tr>\n",
       "      <th>2000-01-11</th>\n",
       "      <td>6.000732</td>\n",
       "      <td>-0.416614</td>\n",
       "      <td>1.229306</td>\n",
       "      <td>-2.317008</td>\n",
       "    </tr>\n",
       "    <tr>\n",
       "      <th>2000-01-12</th>\n",
       "      <td>5.424606</td>\n",
       "      <td>-1.840183</td>\n",
       "      <td>2.325112</td>\n",
       "      <td>-1.671192</td>\n",
       "    </tr>\n",
       "    <tr>\n",
       "      <th>2000-01-13</th>\n",
       "      <td>5.640006</td>\n",
       "      <td>-1.537954</td>\n",
       "      <td>0.905919</td>\n",
       "      <td>-2.166955</td>\n",
       "    </tr>\n",
       "    <tr>\n",
       "      <th>2000-01-14</th>\n",
       "      <td>4.999150</td>\n",
       "      <td>-1.286859</td>\n",
       "      <td>0.330575</td>\n",
       "      <td>-1.674750</td>\n",
       "    </tr>\n",
       "    <tr>\n",
       "      <th>2000-01-15</th>\n",
       "      <td>5.891912</td>\n",
       "      <td>-1.178763</td>\n",
       "      <td>0.277715</td>\n",
       "      <td>-3.135234</td>\n",
       "    </tr>\n",
       "    <tr>\n",
       "      <th>2000-01-16</th>\n",
       "      <td>6.051004</td>\n",
       "      <td>-0.262298</td>\n",
       "      <td>-0.548422</td>\n",
       "      <td>-4.158701</td>\n",
       "    </tr>\n",
       "    <tr>\n",
       "      <th>2000-01-17</th>\n",
       "      <td>5.771180</td>\n",
       "      <td>-0.583857</td>\n",
       "      <td>-1.718665</td>\n",
       "      <td>-5.207557</td>\n",
       "    </tr>\n",
       "    <tr>\n",
       "      <th>2000-01-18</th>\n",
       "      <td>5.696732</td>\n",
       "      <td>-0.906279</td>\n",
       "      <td>-2.511204</td>\n",
       "      <td>-3.053395</td>\n",
       "    </tr>\n",
       "    <tr>\n",
       "      <th>2000-01-19</th>\n",
       "      <td>5.585920</td>\n",
       "      <td>0.906328</td>\n",
       "      <td>-3.090704</td>\n",
       "      <td>-4.761608</td>\n",
       "    </tr>\n",
       "    <tr>\n",
       "      <th>2000-01-20</th>\n",
       "      <td>4.823650</td>\n",
       "      <td>-0.290444</td>\n",
       "      <td>-3.877792</td>\n",
       "      <td>-3.792484</td>\n",
       "    </tr>\n",
       "    <tr>\n",
       "      <th>2000-01-21</th>\n",
       "      <td>5.031050</td>\n",
       "      <td>-0.143654</td>\n",
       "      <td>-2.873880</td>\n",
       "      <td>-3.690589</td>\n",
       "    </tr>\n",
       "    <tr>\n",
       "      <th>2000-01-22</th>\n",
       "      <td>5.595274</td>\n",
       "      <td>-1.879647</td>\n",
       "      <td>-3.670037</td>\n",
       "      <td>-3.627506</td>\n",
       "    </tr>\n",
       "    <tr>\n",
       "      <th>2000-01-23</th>\n",
       "      <td>5.219194</td>\n",
       "      <td>-1.201844</td>\n",
       "      <td>-4.211468</td>\n",
       "      <td>-2.448740</td>\n",
       "    </tr>\n",
       "    <tr>\n",
       "      <th>2000-01-24</th>\n",
       "      <td>6.188993</td>\n",
       "      <td>-0.827698</td>\n",
       "      <td>-4.059234</td>\n",
       "      <td>-2.465247</td>\n",
       "    </tr>\n",
       "    <tr>\n",
       "      <th>2000-01-25</th>\n",
       "      <td>6.621478</td>\n",
       "      <td>-0.306019</td>\n",
       "      <td>-1.495305</td>\n",
       "      <td>-2.492248</td>\n",
       "    </tr>\n",
       "    <tr>\n",
       "      <th>2000-01-26</th>\n",
       "      <td>7.971622</td>\n",
       "      <td>-0.820890</td>\n",
       "      <td>-0.658597</td>\n",
       "      <td>-4.302025</td>\n",
       "    </tr>\n",
       "    <tr>\n",
       "      <th>2000-01-27</th>\n",
       "      <td>6.757538</td>\n",
       "      <td>-2.749994</td>\n",
       "      <td>0.978701</td>\n",
       "      <td>-5.941282</td>\n",
       "    </tr>\n",
       "    <tr>\n",
       "      <th>2000-01-28</th>\n",
       "      <td>7.359760</td>\n",
       "      <td>-3.502269</td>\n",
       "      <td>0.605322</td>\n",
       "      <td>-4.919171</td>\n",
       "    </tr>\n",
       "    <tr>\n",
       "      <th>2000-01-29</th>\n",
       "      <td>7.173023</td>\n",
       "      <td>-3.945499</td>\n",
       "      <td>1.207049</td>\n",
       "      <td>-4.802079</td>\n",
       "    </tr>\n",
       "    <tr>\n",
       "      <th>2000-01-30</th>\n",
       "      <td>8.590637</td>\n",
       "      <td>-3.969867</td>\n",
       "      <td>0.786948</td>\n",
       "      <td>-4.328872</td>\n",
       "    </tr>\n",
       "    <tr>\n",
       "      <th>...</th>\n",
       "      <td>...</td>\n",
       "      <td>...</td>\n",
       "      <td>...</td>\n",
       "      <td>...</td>\n",
       "    </tr>\n",
       "    <tr>\n",
       "      <th>2002-08-28</th>\n",
       "      <td>16.262451</td>\n",
       "      <td>-17.363413</td>\n",
       "      <td>10.142119</td>\n",
       "      <td>-10.396031</td>\n",
       "    </tr>\n",
       "    <tr>\n",
       "      <th>2002-08-29</th>\n",
       "      <td>18.383112</td>\n",
       "      <td>-17.727842</td>\n",
       "      <td>9.349033</td>\n",
       "      <td>-7.800556</td>\n",
       "    </tr>\n",
       "    <tr>\n",
       "      <th>2002-08-30</th>\n",
       "      <td>18.105975</td>\n",
       "      <td>-17.668181</td>\n",
       "      <td>9.257913</td>\n",
       "      <td>-8.178654</td>\n",
       "    </tr>\n",
       "    <tr>\n",
       "      <th>2002-08-31</th>\n",
       "      <td>18.115062</td>\n",
       "      <td>-18.148306</td>\n",
       "      <td>9.059461</td>\n",
       "      <td>-7.377117</td>\n",
       "    </tr>\n",
       "    <tr>\n",
       "      <th>2002-09-01</th>\n",
       "      <td>18.694477</td>\n",
       "      <td>-17.468275</td>\n",
       "      <td>9.798150</td>\n",
       "      <td>-6.118435</td>\n",
       "    </tr>\n",
       "    <tr>\n",
       "      <th>2002-09-02</th>\n",
       "      <td>18.431395</td>\n",
       "      <td>-16.404862</td>\n",
       "      <td>9.693754</td>\n",
       "      <td>-6.268456</td>\n",
       "    </tr>\n",
       "    <tr>\n",
       "      <th>2002-09-03</th>\n",
       "      <td>20.281180</td>\n",
       "      <td>-14.013050</td>\n",
       "      <td>8.629462</td>\n",
       "      <td>-8.154330</td>\n",
       "    </tr>\n",
       "    <tr>\n",
       "      <th>2002-09-04</th>\n",
       "      <td>21.462887</td>\n",
       "      <td>-12.238188</td>\n",
       "      <td>7.650900</td>\n",
       "      <td>-8.384186</td>\n",
       "    </tr>\n",
       "    <tr>\n",
       "      <th>2002-09-05</th>\n",
       "      <td>21.381275</td>\n",
       "      <td>-12.068280</td>\n",
       "      <td>6.455082</td>\n",
       "      <td>-7.631823</td>\n",
       "    </tr>\n",
       "    <tr>\n",
       "      <th>2002-09-06</th>\n",
       "      <td>21.902208</td>\n",
       "      <td>-12.621636</td>\n",
       "      <td>8.220414</td>\n",
       "      <td>-8.473132</td>\n",
       "    </tr>\n",
       "    <tr>\n",
       "      <th>2002-09-07</th>\n",
       "      <td>20.351107</td>\n",
       "      <td>-13.044852</td>\n",
       "      <td>8.792677</td>\n",
       "      <td>-8.387069</td>\n",
       "    </tr>\n",
       "    <tr>\n",
       "      <th>2002-09-08</th>\n",
       "      <td>21.776543</td>\n",
       "      <td>-13.728361</td>\n",
       "      <td>7.903156</td>\n",
       "      <td>-7.710349</td>\n",
       "    </tr>\n",
       "    <tr>\n",
       "      <th>2002-09-09</th>\n",
       "      <td>22.287273</td>\n",
       "      <td>-12.807818</td>\n",
       "      <td>8.332953</td>\n",
       "      <td>-6.659086</td>\n",
       "    </tr>\n",
       "    <tr>\n",
       "      <th>2002-09-10</th>\n",
       "      <td>22.230138</td>\n",
       "      <td>-13.438762</td>\n",
       "      <td>8.055074</td>\n",
       "      <td>-7.379499</td>\n",
       "    </tr>\n",
       "    <tr>\n",
       "      <th>2002-09-11</th>\n",
       "      <td>22.081296</td>\n",
       "      <td>-12.778291</td>\n",
       "      <td>8.730018</td>\n",
       "      <td>-7.771634</td>\n",
       "    </tr>\n",
       "    <tr>\n",
       "      <th>2002-09-12</th>\n",
       "      <td>21.652292</td>\n",
       "      <td>-12.975789</td>\n",
       "      <td>10.265700</td>\n",
       "      <td>-7.817193</td>\n",
       "    </tr>\n",
       "    <tr>\n",
       "      <th>2002-09-13</th>\n",
       "      <td>21.350884</td>\n",
       "      <td>-14.726632</td>\n",
       "      <td>9.769734</td>\n",
       "      <td>-6.611030</td>\n",
       "    </tr>\n",
       "    <tr>\n",
       "      <th>2002-09-14</th>\n",
       "      <td>21.879169</td>\n",
       "      <td>-16.368178</td>\n",
       "      <td>9.826283</td>\n",
       "      <td>-6.289285</td>\n",
       "    </tr>\n",
       "    <tr>\n",
       "      <th>2002-09-15</th>\n",
       "      <td>21.153484</td>\n",
       "      <td>-18.612815</td>\n",
       "      <td>9.544231</td>\n",
       "      <td>-4.710337</td>\n",
       "    </tr>\n",
       "    <tr>\n",
       "      <th>2002-09-16</th>\n",
       "      <td>21.996352</td>\n",
       "      <td>-17.333632</td>\n",
       "      <td>7.172020</td>\n",
       "      <td>-4.207681</td>\n",
       "    </tr>\n",
       "    <tr>\n",
       "      <th>2002-09-17</th>\n",
       "      <td>22.016100</td>\n",
       "      <td>-19.594507</td>\n",
       "      <td>8.742788</td>\n",
       "      <td>-5.196592</td>\n",
       "    </tr>\n",
       "    <tr>\n",
       "      <th>2002-09-18</th>\n",
       "      <td>22.063928</td>\n",
       "      <td>-19.692414</td>\n",
       "      <td>8.884960</td>\n",
       "      <td>-6.221493</td>\n",
       "    </tr>\n",
       "    <tr>\n",
       "      <th>2002-09-19</th>\n",
       "      <td>21.494334</td>\n",
       "      <td>-19.036155</td>\n",
       "      <td>8.926345</td>\n",
       "      <td>-5.984265</td>\n",
       "    </tr>\n",
       "    <tr>\n",
       "      <th>2002-09-20</th>\n",
       "      <td>21.930664</td>\n",
       "      <td>-19.410695</td>\n",
       "      <td>9.505338</td>\n",
       "      <td>-7.733004</td>\n",
       "    </tr>\n",
       "    <tr>\n",
       "      <th>2002-09-21</th>\n",
       "      <td>22.520016</td>\n",
       "      <td>-20.617534</td>\n",
       "      <td>8.315873</td>\n",
       "      <td>-7.780911</td>\n",
       "    </tr>\n",
       "    <tr>\n",
       "      <th>2002-09-22</th>\n",
       "      <td>21.707475</td>\n",
       "      <td>-20.300805</td>\n",
       "      <td>7.300183</td>\n",
       "      <td>-7.826618</td>\n",
       "    </tr>\n",
       "    <tr>\n",
       "      <th>2002-09-23</th>\n",
       "      <td>20.379143</td>\n",
       "      <td>-20.964530</td>\n",
       "      <td>6.309843</td>\n",
       "      <td>-7.466371</td>\n",
       "    </tr>\n",
       "    <tr>\n",
       "      <th>2002-09-24</th>\n",
       "      <td>19.498527</td>\n",
       "      <td>-21.278822</td>\n",
       "      <td>5.879059</td>\n",
       "      <td>-8.682913</td>\n",
       "    </tr>\n",
       "    <tr>\n",
       "      <th>2002-09-25</th>\n",
       "      <td>18.860748</td>\n",
       "      <td>-21.304048</td>\n",
       "      <td>5.309150</td>\n",
       "      <td>-9.849771</td>\n",
       "    </tr>\n",
       "    <tr>\n",
       "      <th>2002-09-26</th>\n",
       "      <td>17.579889</td>\n",
       "      <td>-21.911977</td>\n",
       "      <td>6.325207</td>\n",
       "      <td>-11.936463</td>\n",
       "    </tr>\n",
       "  </tbody>\n",
       "</table>\n",
       "<p>1000 rows × 4 columns</p>\n",
       "</div>"
      ],
      "text/plain": [
       "                    A          B          C          D\n",
       "2000-01-01  -0.000713  -2.574034  -0.388043   0.586309\n",
       "2000-01-02   0.563112  -1.467662  -0.689511  -0.128311\n",
       "2000-01-03   1.009638  -1.453600   1.211783  -0.116451\n",
       "2000-01-04   1.920321  -0.593469   2.943840  -0.289962\n",
       "2000-01-05   3.632166   0.920077   1.799266  -1.133172\n",
       "2000-01-06   2.748270   2.232159   1.863808  -1.337885\n",
       "2000-01-07   1.938135   2.435185   0.954061  -2.719192\n",
       "2000-01-08   1.872872   1.011073   1.963047  -2.542641\n",
       "2000-01-09   2.520290   0.242781   2.294733  -2.257144\n",
       "2000-01-10   3.134156  -1.042070   2.817005  -3.297181\n",
       "2000-01-11   6.000732  -0.416614   1.229306  -2.317008\n",
       "2000-01-12   5.424606  -1.840183   2.325112  -1.671192\n",
       "2000-01-13   5.640006  -1.537954   0.905919  -2.166955\n",
       "2000-01-14   4.999150  -1.286859   0.330575  -1.674750\n",
       "2000-01-15   5.891912  -1.178763   0.277715  -3.135234\n",
       "2000-01-16   6.051004  -0.262298  -0.548422  -4.158701\n",
       "2000-01-17   5.771180  -0.583857  -1.718665  -5.207557\n",
       "2000-01-18   5.696732  -0.906279  -2.511204  -3.053395\n",
       "2000-01-19   5.585920   0.906328  -3.090704  -4.761608\n",
       "2000-01-20   4.823650  -0.290444  -3.877792  -3.792484\n",
       "2000-01-21   5.031050  -0.143654  -2.873880  -3.690589\n",
       "2000-01-22   5.595274  -1.879647  -3.670037  -3.627506\n",
       "2000-01-23   5.219194  -1.201844  -4.211468  -2.448740\n",
       "2000-01-24   6.188993  -0.827698  -4.059234  -2.465247\n",
       "2000-01-25   6.621478  -0.306019  -1.495305  -2.492248\n",
       "2000-01-26   7.971622  -0.820890  -0.658597  -4.302025\n",
       "2000-01-27   6.757538  -2.749994   0.978701  -5.941282\n",
       "2000-01-28   7.359760  -3.502269   0.605322  -4.919171\n",
       "2000-01-29   7.173023  -3.945499   1.207049  -4.802079\n",
       "2000-01-30   8.590637  -3.969867   0.786948  -4.328872\n",
       "...               ...        ...        ...        ...\n",
       "2002-08-28  16.262451 -17.363413  10.142119 -10.396031\n",
       "2002-08-29  18.383112 -17.727842   9.349033  -7.800556\n",
       "2002-08-30  18.105975 -17.668181   9.257913  -8.178654\n",
       "2002-08-31  18.115062 -18.148306   9.059461  -7.377117\n",
       "2002-09-01  18.694477 -17.468275   9.798150  -6.118435\n",
       "2002-09-02  18.431395 -16.404862   9.693754  -6.268456\n",
       "2002-09-03  20.281180 -14.013050   8.629462  -8.154330\n",
       "2002-09-04  21.462887 -12.238188   7.650900  -8.384186\n",
       "2002-09-05  21.381275 -12.068280   6.455082  -7.631823\n",
       "2002-09-06  21.902208 -12.621636   8.220414  -8.473132\n",
       "2002-09-07  20.351107 -13.044852   8.792677  -8.387069\n",
       "2002-09-08  21.776543 -13.728361   7.903156  -7.710349\n",
       "2002-09-09  22.287273 -12.807818   8.332953  -6.659086\n",
       "2002-09-10  22.230138 -13.438762   8.055074  -7.379499\n",
       "2002-09-11  22.081296 -12.778291   8.730018  -7.771634\n",
       "2002-09-12  21.652292 -12.975789  10.265700  -7.817193\n",
       "2002-09-13  21.350884 -14.726632   9.769734  -6.611030\n",
       "2002-09-14  21.879169 -16.368178   9.826283  -6.289285\n",
       "2002-09-15  21.153484 -18.612815   9.544231  -4.710337\n",
       "2002-09-16  21.996352 -17.333632   7.172020  -4.207681\n",
       "2002-09-17  22.016100 -19.594507   8.742788  -5.196592\n",
       "2002-09-18  22.063928 -19.692414   8.884960  -6.221493\n",
       "2002-09-19  21.494334 -19.036155   8.926345  -5.984265\n",
       "2002-09-20  21.930664 -19.410695   9.505338  -7.733004\n",
       "2002-09-21  22.520016 -20.617534   8.315873  -7.780911\n",
       "2002-09-22  21.707475 -20.300805   7.300183  -7.826618\n",
       "2002-09-23  20.379143 -20.964530   6.309843  -7.466371\n",
       "2002-09-24  19.498527 -21.278822   5.879059  -8.682913\n",
       "2002-09-25  18.860748 -21.304048   5.309150  -9.849771\n",
       "2002-09-26  17.579889 -21.911977   6.325207 -11.936463\n",
       "\n",
       "[1000 rows x 4 columns]"
      ]
     },
     "execution_count": 129,
     "metadata": {},
     "output_type": "execute_result"
    }
   ],
   "source": [
    "# Reading from a HDF5 store\n",
    "pd.read_hdf('foo.h5', 'df')"
   ]
  },
  {
   "cell_type": "code",
   "execution_count": null,
   "metadata": {
    "collapsed": true
   },
   "outputs": [],
   "source": []
  }
 ],
 "metadata": {
  "anaconda-cloud": {},
  "kernelspec": {
   "display_name": "Python [conda root]",
   "language": "python",
   "name": "conda-root-py"
  },
  "language_info": {
   "codemirror_mode": {
    "name": "ipython",
    "version": 2
   },
   "file_extension": ".py",
   "mimetype": "text/x-python",
   "name": "python",
   "nbconvert_exporter": "python",
   "pygments_lexer": "ipython2",
   "version": "2.7.12"
  }
 },
 "nbformat": 4,
 "nbformat_minor": 1
}
