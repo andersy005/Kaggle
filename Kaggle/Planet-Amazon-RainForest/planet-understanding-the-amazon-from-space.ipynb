{
 "cells": [
  {
   "cell_type": "markdown",
   "metadata": {},
   "source": [
    "<h1 align=\"center\">Planet: Understanding the Amazon from Space</h1>\n",
    "![](https://kaggle2.blob.core.windows.net/competitions/kaggle/6322/logos/header.png)\n",
    "<h2 align=\"center\">Using satellite data to track the human footprint in the Amazon rainforest</h2>\n"
   ]
  },
  {
   "cell_type": "code",
   "execution_count": 1,
   "metadata": {
    "collapsed": false
   },
   "outputs": [
    {
     "data": {
      "application/javascript": [
       "IPython.notebook.set_autosave_interval(1800000)"
      ]
     },
     "metadata": {},
     "output_type": "display_data"
    },
    {
     "name": "stdout",
     "output_type": "stream",
     "text": [
      "Autosaving every 1800 seconds\n"
     ]
    }
   ],
   "source": [
    "%autosave 1800"
   ]
  },
  {
   "cell_type": "code",
   "execution_count": 2,
   "metadata": {
    "collapsed": false
   },
   "outputs": [
    {
     "data": {
      "text/html": [
       "<script>requirejs.config({paths: { 'plotly': ['https://cdn.plot.ly/plotly-latest.min']},});if(!window.Plotly) {{require(['plotly'],function(plotly) {window.Plotly=plotly;});}}</script>"
      ],
      "text/vnd.plotly.v1+html": [
       "<script>requirejs.config({paths: { 'plotly': ['https://cdn.plot.ly/plotly-latest.min']},});if(!window.Plotly) {{require(['plotly'],function(plotly) {window.Plotly=plotly;});}}</script>"
      ]
     },
     "metadata": {},
     "output_type": "display_data"
    }
   ],
   "source": [
    "import sys\n",
    "import subprocess\n",
    "import numpy as np \n",
    "import pandas as pd # data processing, CSV file I/O (e.g. pd.read_csv)\n",
    "import os\n",
    "import gc\n",
    "import matplotlib\n",
    "matplotlib.rcParams['font.sans-serif'].insert(0, 'Liberation Sans')\n",
    "matplotlib.rcParams['font.sans-serif'].insert(0, 'Arial')\n",
    "matplotlib.rcParams['font.family'] = 'sans-serif'\n",
    "import matplotlib.pyplot as plt\n",
    "import seaborn as sns\n",
    "%matplotlib inline\n",
    "\n",
    "pal = sns.color_palette()\n",
    "\n",
    "import plotly.offline as py\n",
    "py.init_notebook_mode(connected=True)\n",
    "import plotly.graph_objs as go\n",
    "import plotly.tools as tls\n",
    "from skimage import io\n",
    "import scipy\n",
    "from scipy import ndimage\n",
    "from IPython.display import display\n",
    "import rasterio # reads and writes geospatial raster datasets"
   ]
  },
  {
   "cell_type": "markdown",
   "metadata": {},
   "source": [
    "# Time to get straight into data:\n",
    "Set PLANET_KAGGLE_ROOT to the directory where you've downloaded the TIFF and JPEG zip files, and accompanying CSVs."
   ]
  },
  {
   "cell_type": "code",
   "execution_count": 3,
   "metadata": {
    "collapsed": false
   },
   "outputs": [
    {
     "name": "stdout",
     "output_type": "stream",
     "text": [
      "# File sizes\n",
      "test-tif.tar                  21958.48MB\n",
      "test-tif                      21930.25MB (40669 files)\n",
      "test-jpg                      637.8MB (40669 files)\n",
      "train-tif                     21819.98MB (40479 files)\n",
      "train.csv                     1.43MB\n",
      "sample_submission.csv         1.94MB\n",
      "train-jpg                     634.68MB (40479 files)\n",
      "train-tif.tar                 21848.07MB\n"
     ]
    }
   ],
   "source": [
    "PLANET_KAGGLE_ROOT = os.path.abspath('/resources/data/Kaggle/amazon/')\n",
    "\n",
    "print('# File sizes')\n",
    "for f in os.listdir('/resources/data/Kaggle/amazon/'):\n",
    "    if not os.path.isdir('/resources/data/Kaggle/amazon/' + f):\n",
    "        print(f.ljust(30) + str(round(os.path.getsize('/resources/data/Kaggle/amazon/' + f) / 1000000, 2)) + 'MB')\n",
    "    else:\n",
    "        sizes = [os.path.getsize('/resources/data/Kaggle/amazon/'+f+'/'+x)/1000000 for x in os.listdir('/resources/data/Kaggle/amazon/' + f)]\n",
    "        print(f.ljust(30) + str(round(sum(sizes), 2)) + 'MB' + ' ({} files)'.format(len(sizes)))"
   ]
  },
  {
   "cell_type": "code",
   "execution_count": 4,
   "metadata": {
    "collapsed": true
   },
   "outputs": [],
   "source": [
    "label_csv = os.path.join('/resources/data/Kaggle/amazon/test-tif', '/resources/data/Kaggle/amazon/train.csv')"
   ]
  },
  {
   "cell_type": "code",
   "execution_count": 5,
   "metadata": {
    "collapsed": false
   },
   "outputs": [
    {
     "data": {
      "text/plain": [
       "'/resources/data/Kaggle/amazon/train.csv'"
      ]
     },
     "execution_count": 5,
     "metadata": {},
     "output_type": "execute_result"
    }
   ],
   "source": [
    "label_csv"
   ]
  },
  {
   "cell_type": "code",
   "execution_count": 6,
   "metadata": {
    "collapsed": false
   },
   "outputs": [
    {
     "data": {
      "text/html": [
       "<div>\n",
       "<table border=\"1\" class=\"dataframe\">\n",
       "  <thead>\n",
       "    <tr style=\"text-align: right;\">\n",
       "      <th></th>\n",
       "      <th>image_name</th>\n",
       "      <th>tags</th>\n",
       "    </tr>\n",
       "  </thead>\n",
       "  <tbody>\n",
       "    <tr>\n",
       "      <th>0</th>\n",
       "      <td>train_0</td>\n",
       "      <td>haze primary</td>\n",
       "    </tr>\n",
       "    <tr>\n",
       "      <th>1</th>\n",
       "      <td>train_1</td>\n",
       "      <td>agriculture clear primary water</td>\n",
       "    </tr>\n",
       "    <tr>\n",
       "      <th>2</th>\n",
       "      <td>train_2</td>\n",
       "      <td>clear primary</td>\n",
       "    </tr>\n",
       "    <tr>\n",
       "      <th>3</th>\n",
       "      <td>train_3</td>\n",
       "      <td>clear primary</td>\n",
       "    </tr>\n",
       "    <tr>\n",
       "      <th>4</th>\n",
       "      <td>train_4</td>\n",
       "      <td>agriculture clear habitation primary road</td>\n",
       "    </tr>\n",
       "  </tbody>\n",
       "</table>\n",
       "</div>"
      ],
      "text/plain": [
       "  image_name                                       tags\n",
       "0    train_0                               haze primary\n",
       "1    train_1            agriculture clear primary water\n",
       "2    train_2                              clear primary\n",
       "3    train_3                              clear primary\n",
       "4    train_4  agriculture clear habitation primary road"
      ]
     },
     "execution_count": 6,
     "metadata": {},
     "output_type": "execute_result"
    }
   ],
   "source": [
    "labels_df =  pd.read_csv(label_csv)\n",
    "labels_df.head()"
   ]
  },
  {
   "cell_type": "markdown",
   "metadata": {},
   "source": [
    "- we have 40k images for training, and 40k images for testing. \n",
    "- The jpegs are on average **15KB**, and the tifs are on average **538KB**. \n",
    "- The JPEGs seem a little on the small side, but TIFFs look like they will retain most of the quality.\n",
    "\n",
    "Let's take a look at the train.csv:"
   ]
  },
  {
   "cell_type": "markdown",
   "metadata": {},
   "source": [
    "# Training data"
   ]
  },
  {
   "cell_type": "code",
   "execution_count": 7,
   "metadata": {
    "collapsed": false
   },
   "outputs": [
    {
     "data": {
      "text/html": [
       "<div>\n",
       "<table border=\"1\" class=\"dataframe\">\n",
       "  <thead>\n",
       "    <tr style=\"text-align: right;\">\n",
       "      <th></th>\n",
       "      <th>image_name</th>\n",
       "      <th>tags</th>\n",
       "    </tr>\n",
       "  </thead>\n",
       "  <tbody>\n",
       "    <tr>\n",
       "      <th>0</th>\n",
       "      <td>train_0</td>\n",
       "      <td>haze primary</td>\n",
       "    </tr>\n",
       "    <tr>\n",
       "      <th>1</th>\n",
       "      <td>train_1</td>\n",
       "      <td>agriculture clear primary water</td>\n",
       "    </tr>\n",
       "    <tr>\n",
       "      <th>2</th>\n",
       "      <td>train_2</td>\n",
       "      <td>clear primary</td>\n",
       "    </tr>\n",
       "    <tr>\n",
       "      <th>3</th>\n",
       "      <td>train_3</td>\n",
       "      <td>clear primary</td>\n",
       "    </tr>\n",
       "    <tr>\n",
       "      <th>4</th>\n",
       "      <td>train_4</td>\n",
       "      <td>agriculture clear habitation primary road</td>\n",
       "    </tr>\n",
       "  </tbody>\n",
       "</table>\n",
       "</div>"
      ],
      "text/plain": [
       "  image_name                                       tags\n",
       "0    train_0                               haze primary\n",
       "1    train_1            agriculture clear primary water\n",
       "2    train_2                              clear primary\n",
       "3    train_3                              clear primary\n",
       "4    train_4  agriculture clear habitation primary road"
      ]
     },
     "execution_count": 7,
     "metadata": {},
     "output_type": "execute_result"
    }
   ],
   "source": [
    "labels_df = pd.read_csv(\"/resources/data/Kaggle/amazon/train.csv\")\n",
    "labels_df.head()"
   ]
  },
  {
   "cell_type": "code",
   "execution_count": 8,
   "metadata": {
    "collapsed": false
   },
   "outputs": [
    {
     "data": {
      "text/html": [
       "<div>\n",
       "<table border=\"1\" class=\"dataframe\">\n",
       "  <thead>\n",
       "    <tr style=\"text-align: right;\">\n",
       "      <th></th>\n",
       "      <th>image_name</th>\n",
       "      <th>tags</th>\n",
       "    </tr>\n",
       "  </thead>\n",
       "  <tbody>\n",
       "    <tr>\n",
       "      <th>40474</th>\n",
       "      <td>train_40474</td>\n",
       "      <td>clear primary</td>\n",
       "    </tr>\n",
       "    <tr>\n",
       "      <th>40475</th>\n",
       "      <td>train_40475</td>\n",
       "      <td>cloudy</td>\n",
       "    </tr>\n",
       "    <tr>\n",
       "      <th>40476</th>\n",
       "      <td>train_40476</td>\n",
       "      <td>agriculture clear primary</td>\n",
       "    </tr>\n",
       "    <tr>\n",
       "      <th>40477</th>\n",
       "      <td>train_40477</td>\n",
       "      <td>agriculture clear primary road</td>\n",
       "    </tr>\n",
       "    <tr>\n",
       "      <th>40478</th>\n",
       "      <td>train_40478</td>\n",
       "      <td>agriculture cultivation partly_cloudy primary</td>\n",
       "    </tr>\n",
       "  </tbody>\n",
       "</table>\n",
       "</div>"
      ],
      "text/plain": [
       "        image_name                                           tags\n",
       "40474  train_40474                                  clear primary\n",
       "40475  train_40475                                         cloudy\n",
       "40476  train_40476                      agriculture clear primary\n",
       "40477  train_40477                 agriculture clear primary road\n",
       "40478  train_40478  agriculture cultivation partly_cloudy primary"
      ]
     },
     "execution_count": 8,
     "metadata": {},
     "output_type": "execute_result"
    }
   ],
   "source": [
    "labels_df.tail()"
   ]
  },
  {
   "cell_type": "code",
   "execution_count": 9,
   "metadata": {
    "collapsed": false
   },
   "outputs": [
    {
     "data": {
      "text/html": [
       "<div>\n",
       "<table border=\"1\" class=\"dataframe\">\n",
       "  <thead>\n",
       "    <tr style=\"text-align: right;\">\n",
       "      <th></th>\n",
       "      <th>image_name</th>\n",
       "      <th>tags</th>\n",
       "    </tr>\n",
       "  </thead>\n",
       "  <tbody>\n",
       "    <tr>\n",
       "      <th>count</th>\n",
       "      <td>40479</td>\n",
       "      <td>40479</td>\n",
       "    </tr>\n",
       "    <tr>\n",
       "      <th>unique</th>\n",
       "      <td>40479</td>\n",
       "      <td>458</td>\n",
       "    </tr>\n",
       "    <tr>\n",
       "      <th>top</th>\n",
       "      <td>train_21968</td>\n",
       "      <td>clear primary</td>\n",
       "    </tr>\n",
       "    <tr>\n",
       "      <th>freq</th>\n",
       "      <td>1</td>\n",
       "      <td>13636</td>\n",
       "    </tr>\n",
       "  </tbody>\n",
       "</table>\n",
       "</div>"
      ],
      "text/plain": [
       "         image_name           tags\n",
       "count         40479          40479\n",
       "unique        40479            458\n",
       "top     train_21968  clear primary\n",
       "freq              1          13636"
      ]
     },
     "execution_count": 9,
     "metadata": {},
     "output_type": "execute_result"
    }
   ],
   "source": [
    "labels_df.describe()"
   ]
  },
  {
   "cell_type": "markdown",
   "metadata": {},
   "source": [
    "The training metadata is super basic. It looks like we are just given names and corresponding tags. Let's parse them and do some analysis"
   ]
  },
  {
   "cell_type": "code",
   "execution_count": 11,
   "metadata": {
    "collapsed": false
   },
   "outputs": [],
   "source": [
    "labels = labels_df['tags'].apply(lambda x: x.split(' '))"
   ]
  },
  {
   "cell_type": "code",
   "execution_count": 13,
   "metadata": {
    "collapsed": false
   },
   "outputs": [
    {
     "data": {
      "text/plain": [
       "['agriculture', 'clear', 'primary', 'water']"
      ]
     },
     "execution_count": 13,
     "metadata": {},
     "output_type": "execute_result"
    }
   ],
   "source": [
    "labels[1]"
   ]
  },
  {
   "cell_type": "code",
   "execution_count": 14,
   "metadata": {
    "collapsed": true
   },
   "outputs": [],
   "source": [
    "from collections import Counter, defaultdict\n",
    "counts = Counter()\n",
    "for label in labels:\n",
    "    counts += Counter(label)"
   ]
  },
  {
   "cell_type": "code",
   "execution_count": 15,
   "metadata": {
    "collapsed": false
   },
   "outputs": [
    {
     "data": {
      "text/plain": [
       "17"
      ]
     },
     "execution_count": 15,
     "metadata": {},
     "output_type": "execute_result"
    }
   ],
   "source": [
    "# Build list with unique labels\n",
    "labels_list = list(counts.keys())\n",
    "len(labels_list)"
   ]
  },
  {
   "cell_type": "code",
   "execution_count": 16,
   "metadata": {
    "collapsed": false
   },
   "outputs": [
    {
     "data": {
      "text/html": [
       "<div>\n",
       "<table border=\"1\" class=\"dataframe\">\n",
       "  <thead>\n",
       "    <tr style=\"text-align: right;\">\n",
       "      <th></th>\n",
       "      <th>image_name</th>\n",
       "      <th>tags</th>\n",
       "      <th>slash_burn</th>\n",
       "      <th>agriculture</th>\n",
       "      <th>habitation</th>\n",
       "      <th>artisinal_mine</th>\n",
       "      <th>cultivation</th>\n",
       "      <th>clear</th>\n",
       "      <th>blooming</th>\n",
       "      <th>water</th>\n",
       "      <th>road</th>\n",
       "      <th>selective_logging</th>\n",
       "      <th>haze</th>\n",
       "      <th>partly_cloudy</th>\n",
       "      <th>primary</th>\n",
       "      <th>cloudy</th>\n",
       "      <th>bare_ground</th>\n",
       "      <th>blow_down</th>\n",
       "      <th>conventional_mine</th>\n",
       "    </tr>\n",
       "  </thead>\n",
       "  <tbody>\n",
       "    <tr>\n",
       "      <th>0</th>\n",
       "      <td>train_0</td>\n",
       "      <td>haze primary</td>\n",
       "      <td>0</td>\n",
       "      <td>0</td>\n",
       "      <td>0</td>\n",
       "      <td>0</td>\n",
       "      <td>0</td>\n",
       "      <td>0</td>\n",
       "      <td>0</td>\n",
       "      <td>0</td>\n",
       "      <td>0</td>\n",
       "      <td>0</td>\n",
       "      <td>1</td>\n",
       "      <td>0</td>\n",
       "      <td>1</td>\n",
       "      <td>0</td>\n",
       "      <td>0</td>\n",
       "      <td>0</td>\n",
       "      <td>0</td>\n",
       "    </tr>\n",
       "    <tr>\n",
       "      <th>1</th>\n",
       "      <td>train_1</td>\n",
       "      <td>agriculture clear primary water</td>\n",
       "      <td>0</td>\n",
       "      <td>1</td>\n",
       "      <td>0</td>\n",
       "      <td>0</td>\n",
       "      <td>0</td>\n",
       "      <td>1</td>\n",
       "      <td>0</td>\n",
       "      <td>1</td>\n",
       "      <td>0</td>\n",
       "      <td>0</td>\n",
       "      <td>0</td>\n",
       "      <td>0</td>\n",
       "      <td>1</td>\n",
       "      <td>0</td>\n",
       "      <td>0</td>\n",
       "      <td>0</td>\n",
       "      <td>0</td>\n",
       "    </tr>\n",
       "    <tr>\n",
       "      <th>2</th>\n",
       "      <td>train_2</td>\n",
       "      <td>clear primary</td>\n",
       "      <td>0</td>\n",
       "      <td>0</td>\n",
       "      <td>0</td>\n",
       "      <td>0</td>\n",
       "      <td>0</td>\n",
       "      <td>1</td>\n",
       "      <td>0</td>\n",
       "      <td>0</td>\n",
       "      <td>0</td>\n",
       "      <td>0</td>\n",
       "      <td>0</td>\n",
       "      <td>0</td>\n",
       "      <td>1</td>\n",
       "      <td>0</td>\n",
       "      <td>0</td>\n",
       "      <td>0</td>\n",
       "      <td>0</td>\n",
       "    </tr>\n",
       "    <tr>\n",
       "      <th>3</th>\n",
       "      <td>train_3</td>\n",
       "      <td>clear primary</td>\n",
       "      <td>0</td>\n",
       "      <td>0</td>\n",
       "      <td>0</td>\n",
       "      <td>0</td>\n",
       "      <td>0</td>\n",
       "      <td>1</td>\n",
       "      <td>0</td>\n",
       "      <td>0</td>\n",
       "      <td>0</td>\n",
       "      <td>0</td>\n",
       "      <td>0</td>\n",
       "      <td>0</td>\n",
       "      <td>1</td>\n",
       "      <td>0</td>\n",
       "      <td>0</td>\n",
       "      <td>0</td>\n",
       "      <td>0</td>\n",
       "    </tr>\n",
       "    <tr>\n",
       "      <th>4</th>\n",
       "      <td>train_4</td>\n",
       "      <td>agriculture clear habitation primary road</td>\n",
       "      <td>0</td>\n",
       "      <td>1</td>\n",
       "      <td>1</td>\n",
       "      <td>0</td>\n",
       "      <td>0</td>\n",
       "      <td>1</td>\n",
       "      <td>0</td>\n",
       "      <td>0</td>\n",
       "      <td>1</td>\n",
       "      <td>0</td>\n",
       "      <td>0</td>\n",
       "      <td>0</td>\n",
       "      <td>1</td>\n",
       "      <td>0</td>\n",
       "      <td>0</td>\n",
       "      <td>0</td>\n",
       "      <td>0</td>\n",
       "    </tr>\n",
       "  </tbody>\n",
       "</table>\n",
       "</div>"
      ],
      "text/plain": [
       "  image_name                                       tags  slash_burn  \\\n",
       "0    train_0                               haze primary           0   \n",
       "1    train_1            agriculture clear primary water           0   \n",
       "2    train_2                              clear primary           0   \n",
       "3    train_3                              clear primary           0   \n",
       "4    train_4  agriculture clear habitation primary road           0   \n",
       "\n",
       "   agriculture  habitation  artisinal_mine  cultivation  clear  blooming  \\\n",
       "0            0           0               0            0      0         0   \n",
       "1            1           0               0            0      1         0   \n",
       "2            0           0               0            0      1         0   \n",
       "3            0           0               0            0      1         0   \n",
       "4            1           1               0            0      1         0   \n",
       "\n",
       "   water  road  selective_logging  haze  partly_cloudy  primary  cloudy  \\\n",
       "0      0     0                  0     1              0        1       0   \n",
       "1      1     0                  0     0              0        1       0   \n",
       "2      0     0                  0     0              0        1       0   \n",
       "3      0     0                  0     0              0        1       0   \n",
       "4      0     1                  0     0              0        1       0   \n",
       "\n",
       "   bare_ground  blow_down  conventional_mine  \n",
       "0            0          0                  0  \n",
       "1            0          0                  0  \n",
       "2            0          0                  0  \n",
       "3            0          0                  0  \n",
       "4            0          0                  0  "
      ]
     },
     "execution_count": 16,
     "metadata": {},
     "output_type": "execute_result"
    }
   ],
   "source": [
    "# Add one-hot encoded features for every label\n",
    "for label in labels_list:\n",
    "    labels_df[label] = labels_df['tags'].apply(lambda x: 1 if label in x.split(' ') else 0)\n",
    "    \n",
    "# display head\n",
    "labels_df.head()"
   ]
  },
  {
   "cell_type": "code",
   "execution_count": 17,
   "metadata": {
    "collapsed": false
   },
   "outputs": [
    {
     "data": {
      "application/vnd.plotly.v1+json": {
       "data": [
        {
         "type": "bar",
         "x": [
          "slash_burn",
          "agriculture",
          "habitation",
          "artisinal_mine",
          "cultivation",
          "clear",
          "blooming",
          "water",
          "road",
          "selective_logging",
          "haze",
          "partly_cloudy",
          "primary",
          "cloudy",
          "bare_ground",
          "blow_down",
          "conventional_mine"
         ],
         "y": [
          209,
          12338,
          3662,
          339,
          4547,
          28203,
          332,
          7262,
          8076,
          340,
          2695,
          7251,
          37840,
          2330,
          859,
          101,
          100
         ]
        }
       ],
       "layout": {}
      },
      "text/html": [
       "<div id=\"686c6195-d185-46dc-a0ba-b482a9b85a4d\" style=\"height: 525px; width: 100%;\" class=\"plotly-graph-div\"></div><script type=\"text/javascript\">require([\"plotly\"], function(Plotly) { window.PLOTLYENV=window.PLOTLYENV || {};window.PLOTLYENV.BASE_URL=\"https://plot.ly\";Plotly.newPlot(\"686c6195-d185-46dc-a0ba-b482a9b85a4d\", [{\"type\": \"bar\", \"y\": [209, 12338, 3662, 339, 4547, 28203, 332, 7262, 8076, 340, 2695, 7251, 37840, 2330, 859, 101, 100], \"x\": [\"slash_burn\", \"agriculture\", \"habitation\", \"artisinal_mine\", \"cultivation\", \"clear\", \"blooming\", \"water\", \"road\", \"selective_logging\", \"haze\", \"partly_cloudy\", \"primary\", \"cloudy\", \"bare_ground\", \"blow_down\", \"conventional_mine\"]}], {}, {\"linkText\": \"Export to plot.ly\", \"showLink\": true})});</script>"
      ],
      "text/vnd.plotly.v1+html": [
       "<div id=\"686c6195-d185-46dc-a0ba-b482a9b85a4d\" style=\"height: 525px; width: 100%;\" class=\"plotly-graph-div\"></div><script type=\"text/javascript\">require([\"plotly\"], function(Plotly) { window.PLOTLYENV=window.PLOTLYENV || {};window.PLOTLYENV.BASE_URL=\"https://plot.ly\";Plotly.newPlot(\"686c6195-d185-46dc-a0ba-b482a9b85a4d\", [{\"type\": \"bar\", \"y\": [209, 12338, 3662, 339, 4547, 28203, 332, 7262, 8076, 340, 2695, 7251, 37840, 2330, 859, 101, 100], \"x\": [\"slash_burn\", \"agriculture\", \"habitation\", \"artisinal_mine\", \"cultivation\", \"clear\", \"blooming\", \"water\", \"road\", \"selective_logging\", \"haze\", \"partly_cloudy\", \"primary\", \"cloudy\", \"bare_ground\", \"blow_down\", \"conventional_mine\"]}], {}, {\"linkText\": \"Export to plot.ly\", \"showLink\": true})});</script>"
      ]
     },
     "metadata": {},
     "output_type": "display_data"
    }
   ],
   "source": [
    "data = [go.Bar(x = list(counts.keys()), y=list(counts.values()))]\n",
    "layout = dict(height=800, width=800, title='Distribution of training labels')\n",
    "fig = dict(data=data, layout=layout)\n",
    "py.iplot(data)"
   ]
  },
  {
   "cell_type": "code",
   "execution_count": 18,
   "metadata": {
    "collapsed": false
   },
   "outputs": [
    {
     "data": {
      "text/plain": [
       "<matplotlib.axes._subplots.AxesSubplot at 0x7f5a94fb44a8>"
      ]
     },
     "execution_count": 18,
     "metadata": {},
     "output_type": "execute_result"
    },
    {
     "name": "stderr",
     "output_type": "stream",
     "text": [
      "/resources/common/.virtualenv/python3/lib/python3.4/site-packages/matplotlib/font_manager.py:1297: UserWarning:\n",
      "\n",
      "findfont: Font family ['sans-serif'] not found. Falling back to DejaVu Sans\n",
      "\n"
     ]
    },
    {
     "data": {
      "image/png": "[encoded data removed]",
      "text/plain": [
       "<matplotlib.figure.Figure at 0x7f5a94fbdef0>"
      ]
     },
     "metadata": {},
     "output_type": "display_data"
    }
   ],
   "source": [
    "# Same Histogram of label instances\n",
    "labels_df[labels_list].sum().sort_values().plot.bar()"
   ]
  },
  {
   "cell_type": "markdown",
   "metadata": {},
   "source": [
    "# Co-Occurence Matrix\n",
    "A co-occurrence matrix stores the count of how often a particular pair of things occurred together.   "
   ]
  },
  {
   "cell_type": "code",
   "execution_count": 19,
   "metadata": {
    "collapsed": true
   },
   "outputs": [],
   "source": [
    "from sklearn.preprocessing import MinMaxScaler"
   ]
  },
  {
   "cell_type": "code",
   "execution_count": 20,
   "metadata": {
    "collapsed": false
   },
   "outputs": [
    {
     "data": {
      "application/vnd.plotly.v1+json": {
       "data": [
        {
         "colorscale": "Viridis",
         "type": "heatmap",
         "x": [
          "slash_burn",
          "agriculture",
          "habitation",
          "artisinal_mine",
          "cultivation",
          "clear",
          "blooming",
          "water",
          "road",
          "selective_logging",
          "haze",
          "partly_cloudy",
          "primary",
          "cloudy",
          "bare_ground",
          "blow_down",
          "conventional_mine"
         ],
         "y": [
          "slash_burn",
          "agriculture",
          "habitation",
          "artisinal_mine",
          "cultivation",
          "clear",
          "blooming",
          "water",
          "road",
          "selective_logging",
          "haze",
          "partly_cloudy",
          "primary",
          "cloudy",
          "bare_ground",
          "blow_down",
          "conventional_mine"
         ],
         "z": [
          [
           1,
           0.569377990430622,
           0.19617224880382775,
           0,
           0.6028708133971291,
           0.8277511961722488,
           0.009569377990430622,
           0.11483253588516745,
           0.17224880382775118,
           0.009569377990430622,
           0.014354066985645932,
           0.15789473684210525,
           1,
           0,
           0.04784688995215311,
           0.009569377990430622,
           0
          ],
          [
           0.007875933744722311,
           0.9999999999999999,
           0.22044494965898018,
           0.001299123091912959,
           0.27240987333549854,
           0.7411497239363429,
           0.0008119519324455992,
           0.21890224098733352,
           0.48830789217278336,
           0.0034913933095160766,
           0.05277687560896394,
           0.200552127314063,
           0.9717440727508931,
           0.0001623903864891199,
           0.016482624228645666,
           0,
           0.0001623903864891199
          ],
          [
           0.010655737704918034,
           0.7472677595628415,
           1,
           0.007377049180327869,
           0.24398907103825135,
           0.8437158469945356,
           0.000546448087431694,
           0.2494535519125683,
           0.7609289617486339,
           0.0030054644808743167,
           0.03469945355191257,
           0.11994535519125683,
           0.9478142076502732,
           0,
           0.043989071038251365,
           0.000273224043715847,
           0.009289617486338797
          ],
          [
           0,
           0.11209439528023599,
           0.0855457227138643,
           1,
           0.05309734513274336,
           0.9056047197640118,
           0,
           0.8820058997050148,
           0.32448377581120946,
           0.017699115044247787,
           0.014749262536873156,
           0.07964601769911504,
           0.9557522123893805,
           0,
           0.11799410029498525,
           0,
           0.011799410029498525
          ],
          [
           0.028143846325664506,
           0.7542997542997543,
           0.199910654456109,
           0.0040205494750949295,
           1,
           0.7878043332588787,
           0.007817735090462363,
           0.1938798302434666,
           0.28903283448737993,
           0.012955103864194774,
           0.04511949966495421,
           0.16707616707616707,
           0.995085995085995,
           0,
           0.01987938351574715,
           0.0017869108778199687,
           0.0008934554389099843
          ],
          [
           0.006134099209303975,
           0.3244335708967131,
           0.10956281246675885,
           0.010885366804949828,
           0.1250576179839024,
           1,
           0.011027195688401943,
           0.18710775449420275,
           0.22320320533276602,
           0.010920824025812856,
           0,
           0,
           0.9810303868382796,
           0,
           0.026380172322093394,
           0.0030138637733574444,
           0.002482005460412013
          ],
          [
           0.006024096385542169,
           0.0963855421686747,
           0.012048192771084338,
           0,
           0.10542168674698796,
           0.9367469879518073,
           1,
           0.04819277108433735,
           0.030120481927710843,
           0.021084337349397592,
           0.012048192771084338,
           0.05120481927710844,
           1,
           0,
           0.009036144578313254,
           0.0030120481927710845,
           0
          ],
          [
           0.002892960462873674,
           0.37401845984295357,
           0.1256371401019424,
           0.040776966524314645,
           0.11916241906598704,
           0.7265463562474169,
           0.0017908802865408459,
           0.9999999999999999,
           0.2926022868163659,
           0.006336961013913762,
           0.08403361344537814,
           0.17688386830141892,
           0.9717591954814713,
           0.011296321807411488,
           0.027965284474445518,
           0,
           0.003168480506956881
          ],
          [
           0.004211047807778053,
           0.7473371315333168,
           0.3449343571959375,
           0.013376269507059696,
           0.160019816695566,
           0.7794154074808025,
           0.0009908347783007183,
           0.26319048798612826,
           1,
           0.01845429774585088,
           0.04855090413673519,
           0.1709189992568739,
           0.9575179588803566,
           0.0003715630418627694,
           0.03975724547931632,
           0,
           0.007059697795392617
          ],
          [
           0.0058823529411764705,
           0.19117647058823528,
           0.03823529411764706,
           0.01764705882352941,
           0.17058823529411765,
           0.9058823529411765,
           0.020588235294117647,
           0.14411764705882352,
           0.4441176470588235,
           1,
           0.014705882352941176,
           0.07941176470588235,
           1,
           0,
           0.03823529411764706,
           0.0029411764705882353,
           0
          ],
          [
           0.0011131725417439704,
           0.24935064935064935,
           0.04786641929499072,
           0.0018552875695732837,
           0.07495361781076067,
           0,
           0.001484230055658627,
           0.22745825602968459,
           0.14619666048237476,
           0.0018552875695732837,
           1,
           0,
           0.9899814471243042,
           0,
           0.015213358070500928,
           0,
           0.0007421150278293135
          ],
          [
           0.004551096400496483,
           0.34367673424355266,
           0.06081919735208937,
           0.0037236243276789413,
           0.1031581850779203,
           0,
           0.00234450420631637,
           0.17749275961936287,
           0.19059440077230727,
           0.0037236243276789413,
           0,
           1,
           0.9892428630533721,
           0,
           0.010205488898083023,
           0.001792856157771342,
           0.003861536339815198
          ],
          [
           0.003046680442960844,
           0.31515922216923653,
           0.08946643352938059,
           0.0060933608859216875,
           0.1155354209717586,
           0.7305144916017592,
           0.006305303873258094,
           0.18446987760292483,
           0.20237906003285117,
           0.006517246860594501,
           0.0681926561754888,
           0.1875430509193027,
           1.0000000000000002,
           0.006278810999841044,
           0.015604302442642931,
           0.00010597149366820338,
           0
          ],
          [
           0,
           0.010300429184549355,
           0.0008583690987124463,
           0,
           0,
           0,
           0,
           0.036480686695278965,
           0.002145922746781116,
           0,
           0,
           0,
           0.14206008583690988,
           1,
           0,
           0,
           0
          ],
          [
           0.011641443538998836,
           0.2619324796274738,
           0.18975552968568102,
           0.046565774155995346,
           0.10360884749708964,
           0.8661233993015134,
           0.0034924330616996507,
           0.239813736903376,
           0.3760186263096624,
           0.015133876600698487,
           0.047729918509895226,
           0.08614668218859138,
           0.7951105937136205,
           0,
           1,
           0.004656577415599534,
           0.011641443538998836
          ],
          [
           0.02040816326530612,
           0.22448979591836732,
           0.030612244897959183,
           0,
           0.08163265306122448,
           0.8673469387755102,
           0.01020408163265306,
           0.030612244897959183,
           0.02040816326530612,
           0.01020408163265306,
           0,
           0.13265306122448978,
           0.9999999999999999,
           0,
           0.04081632653061224,
           0.9999999999999999,
           0
          ],
          [
           0,
           0.24,
           0.36,
           0.04,
           0.04,
           0.7000000000000001,
           0,
           0.26,
           0.59,
           0,
           0.02,
           0.28,
           0.9400000000000001,
           0,
           0.1,
           0,
           1
          ]
         ]
        }
       ],
       "layout": {}
      },
      "text/html": [
       "<div id=\"adc73351-030a-4fab-bb07-4e77b5b98148\" style=\"height: 525px; width: 100%;\" class=\"plotly-graph-div\"></div><script type=\"text/javascript\">require([\"plotly\"], function(Plotly) { window.PLOTLYENV=window.PLOTLYENV || {};window.PLOTLYENV.BASE_URL=\"https://plot.ly\";Plotly.newPlot(\"adc73351-030a-4fab-bb07-4e77b5b98148\", [{\"type\": \"heatmap\", \"colorscale\": \"Viridis\", \"y\": [\"slash_burn\", \"agriculture\", \"habitation\", \"artisinal_mine\", \"cultivation\", \"clear\", \"blooming\", \"water\", \"road\", \"selective_logging\", \"haze\", \"partly_cloudy\", \"primary\", \"cloudy\", \"bare_ground\", \"blow_down\", \"conventional_mine\"], \"z\": [[1.0, 0.569377990430622, 0.19617224880382775, 0.0, 0.6028708133971291, 0.8277511961722488, 0.009569377990430622, 0.11483253588516745, 0.17224880382775118, 0.009569377990430622, 0.014354066985645932, 0.15789473684210525, 1.0, 0.0, 0.04784688995215311, 0.009569377990430622, 0.0], [0.007875933744722311, 0.9999999999999999, 0.22044494965898018, 0.001299123091912959, 0.27240987333549854, 0.7411497239363429, 0.0008119519324455992, 0.21890224098733352, 0.48830789217278336, 0.0034913933095160766, 0.05277687560896394, 0.200552127314063, 0.9717440727508931, 0.0001623903864891199, 0.016482624228645666, 0.0, 0.0001623903864891199], [0.010655737704918034, 0.7472677595628415, 1.0, 0.007377049180327869, 0.24398907103825135, 0.8437158469945356, 0.000546448087431694, 0.2494535519125683, 0.7609289617486339, 0.0030054644808743167, 0.03469945355191257, 0.11994535519125683, 0.9478142076502732, 0.0, 0.043989071038251365, 0.000273224043715847, 0.009289617486338797], [0.0, 0.11209439528023599, 0.0855457227138643, 1.0, 0.05309734513274336, 0.9056047197640118, 0.0, 0.8820058997050148, 0.32448377581120946, 0.017699115044247787, 0.014749262536873156, 0.07964601769911504, 0.9557522123893805, 0.0, 0.11799410029498525, 0.0, 0.011799410029498525], [0.028143846325664506, 0.7542997542997543, 0.199910654456109, 0.0040205494750949295, 1.0, 0.7878043332588787, 0.007817735090462363, 0.1938798302434666, 0.28903283448737993, 0.012955103864194774, 0.04511949966495421, 0.16707616707616707, 0.995085995085995, 0.0, 0.01987938351574715, 0.0017869108778199687, 0.0008934554389099843], [0.006134099209303975, 0.3244335708967131, 0.10956281246675885, 0.010885366804949828, 0.1250576179839024, 1.0, 0.011027195688401943, 0.18710775449420275, 0.22320320533276602, 0.010920824025812856, 0.0, 0.0, 0.9810303868382796, 0.0, 0.026380172322093394, 0.0030138637733574444, 0.002482005460412013], [0.006024096385542169, 0.0963855421686747, 0.012048192771084338, 0.0, 0.10542168674698796, 0.9367469879518073, 1.0, 0.04819277108433735, 0.030120481927710843, 0.021084337349397592, 0.012048192771084338, 0.05120481927710844, 1.0, 0.0, 0.009036144578313254, 0.0030120481927710845, 0.0], [0.002892960462873674, 0.37401845984295357, 0.1256371401019424, 0.040776966524314645, 0.11916241906598704, 0.7265463562474169, 0.0017908802865408459, 0.9999999999999999, 0.2926022868163659, 0.006336961013913762, 0.08403361344537814, 0.17688386830141892, 0.9717591954814713, 0.011296321807411488, 0.027965284474445518, 0.0, 0.003168480506956881], [0.004211047807778053, 0.7473371315333168, 0.3449343571959375, 0.013376269507059696, 0.160019816695566, 0.7794154074808025, 0.0009908347783007183, 0.26319048798612826, 1.0, 0.01845429774585088, 0.04855090413673519, 0.1709189992568739, 0.9575179588803566, 0.0003715630418627694, 0.03975724547931632, 0.0, 0.007059697795392617], [0.0058823529411764705, 0.19117647058823528, 0.03823529411764706, 0.01764705882352941, 0.17058823529411765, 0.9058823529411765, 0.020588235294117647, 0.14411764705882352, 0.4441176470588235, 1.0, 0.014705882352941176, 0.07941176470588235, 1.0, 0.0, 0.03823529411764706, 0.0029411764705882353, 0.0], [0.0011131725417439704, 0.24935064935064935, 0.04786641929499072, 0.0018552875695732837, 0.07495361781076067, 0.0, 0.001484230055658627, 0.22745825602968459, 0.14619666048237476, 0.0018552875695732837, 1.0, 0.0, 0.9899814471243042, 0.0, 0.015213358070500928, 0.0, 0.0007421150278293135], [0.004551096400496483, 0.34367673424355266, 0.06081919735208937, 0.0037236243276789413, 0.1031581850779203, 0.0, 0.00234450420631637, 0.17749275961936287, 0.19059440077230727, 0.0037236243276789413, 0.0, 1.0, 0.9892428630533721, 0.0, 0.010205488898083023, 0.001792856157771342, 0.003861536339815198], [0.003046680442960844, 0.31515922216923653, 0.08946643352938059, 0.0060933608859216875, 0.1155354209717586, 0.7305144916017592, 0.006305303873258094, 0.18446987760292483, 0.20237906003285117, 0.006517246860594501, 0.0681926561754888, 0.1875430509193027, 1.0000000000000002, 0.006278810999841044, 0.015604302442642931, 0.00010597149366820338, 0.0], [0.0, 0.010300429184549355, 0.0008583690987124463, 0.0, 0.0, 0.0, 0.0, 0.036480686695278965, 0.002145922746781116, 0.0, 0.0, 0.0, 0.14206008583690988, 1.0, 0.0, 0.0, 0.0], [0.011641443538998836, 0.2619324796274738, 0.18975552968568102, 0.046565774155995346, 0.10360884749708964, 0.8661233993015134, 0.0034924330616996507, 0.239813736903376, 0.3760186263096624, 0.015133876600698487, 0.047729918509895226, 0.08614668218859138, 0.7951105937136205, 0.0, 1.0, 0.004656577415599534, 0.011641443538998836], [0.02040816326530612, 0.22448979591836732, 0.030612244897959183, 0.0, 0.08163265306122448, 0.8673469387755102, 0.01020408163265306, 0.030612244897959183, 0.02040816326530612, 0.01020408163265306, 0.0, 0.13265306122448978, 0.9999999999999999, 0.0, 0.04081632653061224, 0.9999999999999999, 0.0], [0.0, 0.24, 0.36, 0.04, 0.04, 0.7000000000000001, 0.0, 0.26, 0.59, 0.0, 0.02, 0.28, 0.9400000000000001, 0.0, 0.1, 0.0, 1.0]], \"x\": [\"slash_burn\", \"agriculture\", \"habitation\", \"artisinal_mine\", \"cultivation\", \"clear\", \"blooming\", \"water\", \"road\", \"selective_logging\", \"haze\", \"partly_cloudy\", \"primary\", \"cloudy\", \"bare_ground\", \"blow_down\", \"conventional_mine\"]}], {}, {\"linkText\": \"Export to plot.ly\", \"showLink\": true})});</script>"
      ],
      "text/vnd.plotly.v1+html": [
       "<div id=\"adc73351-030a-4fab-bb07-4e77b5b98148\" style=\"height: 525px; width: 100%;\" class=\"plotly-graph-div\"></div><script type=\"text/javascript\">require([\"plotly\"], function(Plotly) { window.PLOTLYENV=window.PLOTLYENV || {};window.PLOTLYENV.BASE_URL=\"https://plot.ly\";Plotly.newPlot(\"adc73351-030a-4fab-bb07-4e77b5b98148\", [{\"type\": \"heatmap\", \"colorscale\": \"Viridis\", \"y\": [\"slash_burn\", \"agriculture\", \"habitation\", \"artisinal_mine\", \"cultivation\", \"clear\", \"blooming\", \"water\", \"road\", \"selective_logging\", \"haze\", \"partly_cloudy\", \"primary\", \"cloudy\", \"bare_ground\", \"blow_down\", \"conventional_mine\"], \"z\": [[1.0, 0.569377990430622, 0.19617224880382775, 0.0, 0.6028708133971291, 0.8277511961722488, 0.009569377990430622, 0.11483253588516745, 0.17224880382775118, 0.009569377990430622, 0.014354066985645932, 0.15789473684210525, 1.0, 0.0, 0.04784688995215311, 0.009569377990430622, 0.0], [0.007875933744722311, 0.9999999999999999, 0.22044494965898018, 0.001299123091912959, 0.27240987333549854, 0.7411497239363429, 0.0008119519324455992, 0.21890224098733352, 0.48830789217278336, 0.0034913933095160766, 0.05277687560896394, 0.200552127314063, 0.9717440727508931, 0.0001623903864891199, 0.016482624228645666, 0.0, 0.0001623903864891199], [0.010655737704918034, 0.7472677595628415, 1.0, 0.007377049180327869, 0.24398907103825135, 0.8437158469945356, 0.000546448087431694, 0.2494535519125683, 0.7609289617486339, 0.0030054644808743167, 0.03469945355191257, 0.11994535519125683, 0.9478142076502732, 0.0, 0.043989071038251365, 0.000273224043715847, 0.009289617486338797], [0.0, 0.11209439528023599, 0.0855457227138643, 1.0, 0.05309734513274336, 0.9056047197640118, 0.0, 0.8820058997050148, 0.32448377581120946, 0.017699115044247787, 0.014749262536873156, 0.07964601769911504, 0.9557522123893805, 0.0, 0.11799410029498525, 0.0, 0.011799410029498525], [0.028143846325664506, 0.7542997542997543, 0.199910654456109, 0.0040205494750949295, 1.0, 0.7878043332588787, 0.007817735090462363, 0.1938798302434666, 0.28903283448737993, 0.012955103864194774, 0.04511949966495421, 0.16707616707616707, 0.995085995085995, 0.0, 0.01987938351574715, 0.0017869108778199687, 0.0008934554389099843], [0.006134099209303975, 0.3244335708967131, 0.10956281246675885, 0.010885366804949828, 0.1250576179839024, 1.0, 0.011027195688401943, 0.18710775449420275, 0.22320320533276602, 0.010920824025812856, 0.0, 0.0, 0.9810303868382796, 0.0, 0.026380172322093394, 0.0030138637733574444, 0.002482005460412013], [0.006024096385542169, 0.0963855421686747, 0.012048192771084338, 0.0, 0.10542168674698796, 0.9367469879518073, 1.0, 0.04819277108433735, 0.030120481927710843, 0.021084337349397592, 0.012048192771084338, 0.05120481927710844, 1.0, 0.0, 0.009036144578313254, 0.0030120481927710845, 0.0], [0.002892960462873674, 0.37401845984295357, 0.1256371401019424, 0.040776966524314645, 0.11916241906598704, 0.7265463562474169, 0.0017908802865408459, 0.9999999999999999, 0.2926022868163659, 0.006336961013913762, 0.08403361344537814, 0.17688386830141892, 0.9717591954814713, 0.011296321807411488, 0.027965284474445518, 0.0, 0.003168480506956881], [0.004211047807778053, 0.7473371315333168, 0.3449343571959375, 0.013376269507059696, 0.160019816695566, 0.7794154074808025, 0.0009908347783007183, 0.26319048798612826, 1.0, 0.01845429774585088, 0.04855090413673519, 0.1709189992568739, 0.9575179588803566, 0.0003715630418627694, 0.03975724547931632, 0.0, 0.007059697795392617], [0.0058823529411764705, 0.19117647058823528, 0.03823529411764706, 0.01764705882352941, 0.17058823529411765, 0.9058823529411765, 0.020588235294117647, 0.14411764705882352, 0.4441176470588235, 1.0, 0.014705882352941176, 0.07941176470588235, 1.0, 0.0, 0.03823529411764706, 0.0029411764705882353, 0.0], [0.0011131725417439704, 0.24935064935064935, 0.04786641929499072, 0.0018552875695732837, 0.07495361781076067, 0.0, 0.001484230055658627, 0.22745825602968459, 0.14619666048237476, 0.0018552875695732837, 1.0, 0.0, 0.9899814471243042, 0.0, 0.015213358070500928, 0.0, 0.0007421150278293135], [0.004551096400496483, 0.34367673424355266, 0.06081919735208937, 0.0037236243276789413, 0.1031581850779203, 0.0, 0.00234450420631637, 0.17749275961936287, 0.19059440077230727, 0.0037236243276789413, 0.0, 1.0, 0.9892428630533721, 0.0, 0.010205488898083023, 0.001792856157771342, 0.003861536339815198], [0.003046680442960844, 0.31515922216923653, 0.08946643352938059, 0.0060933608859216875, 0.1155354209717586, 0.7305144916017592, 0.006305303873258094, 0.18446987760292483, 0.20237906003285117, 0.006517246860594501, 0.0681926561754888, 0.1875430509193027, 1.0000000000000002, 0.006278810999841044, 0.015604302442642931, 0.00010597149366820338, 0.0], [0.0, 0.010300429184549355, 0.0008583690987124463, 0.0, 0.0, 0.0, 0.0, 0.036480686695278965, 0.002145922746781116, 0.0, 0.0, 0.0, 0.14206008583690988, 1.0, 0.0, 0.0, 0.0], [0.011641443538998836, 0.2619324796274738, 0.18975552968568102, 0.046565774155995346, 0.10360884749708964, 0.8661233993015134, 0.0034924330616996507, 0.239813736903376, 0.3760186263096624, 0.015133876600698487, 0.047729918509895226, 0.08614668218859138, 0.7951105937136205, 0.0, 1.0, 0.004656577415599534, 0.011641443538998836], [0.02040816326530612, 0.22448979591836732, 0.030612244897959183, 0.0, 0.08163265306122448, 0.8673469387755102, 0.01020408163265306, 0.030612244897959183, 0.02040816326530612, 0.01020408163265306, 0.0, 0.13265306122448978, 0.9999999999999999, 0.0, 0.04081632653061224, 0.9999999999999999, 0.0], [0.0, 0.24, 0.36, 0.04, 0.04, 0.7000000000000001, 0.0, 0.26, 0.59, 0.0, 0.02, 0.28, 0.9400000000000001, 0.0, 0.1, 0.0, 1.0]], \"x\": [\"slash_burn\", \"agriculture\", \"habitation\", \"artisinal_mine\", \"cultivation\", \"clear\", \"blooming\", \"water\", \"road\", \"selective_logging\", \"haze\", \"partly_cloudy\", \"primary\", \"cloudy\", \"bare_ground\", \"blow_down\", \"conventional_mine\"]}], {}, {\"linkText\": \"Export to plot.ly\", \"showLink\": true})});</script>"
      ]
     },
     "metadata": {},
     "output_type": "display_data"
    },
    {
     "data": {
      "text/html": [
       "<div>\n",
       "<table border=\"1\" class=\"dataframe\">\n",
       "  <thead>\n",
       "    <tr style=\"text-align: right;\">\n",
       "      <th></th>\n",
       "      <th>slash_burn</th>\n",
       "      <th>agriculture</th>\n",
       "      <th>habitation</th>\n",
       "      <th>artisinal_mine</th>\n",
       "      <th>cultivation</th>\n",
       "      <th>clear</th>\n",
       "      <th>blooming</th>\n",
       "      <th>water</th>\n",
       "      <th>road</th>\n",
       "      <th>selective_logging</th>\n",
       "      <th>haze</th>\n",
       "      <th>partly_cloudy</th>\n",
       "      <th>primary</th>\n",
       "      <th>cloudy</th>\n",
       "      <th>bare_ground</th>\n",
       "      <th>blow_down</th>\n",
       "      <th>conventional_mine</th>\n",
       "    </tr>\n",
       "  </thead>\n",
       "  <tbody>\n",
       "    <tr>\n",
       "      <th>slash_burn</th>\n",
       "      <td>1.000000</td>\n",
       "      <td>0.007876</td>\n",
       "      <td>0.010656</td>\n",
       "      <td>0.000000</td>\n",
       "      <td>0.028144</td>\n",
       "      <td>0.006134</td>\n",
       "      <td>0.006024</td>\n",
       "      <td>0.002893</td>\n",
       "      <td>0.004211</td>\n",
       "      <td>0.005882</td>\n",
       "      <td>0.001113</td>\n",
       "      <td>0.004551</td>\n",
       "      <td>0.003047</td>\n",
       "      <td>0.000000</td>\n",
       "      <td>0.011641</td>\n",
       "      <td>0.020408</td>\n",
       "      <td>0.00</td>\n",
       "    </tr>\n",
       "    <tr>\n",
       "      <th>agriculture</th>\n",
       "      <td>0.569378</td>\n",
       "      <td>1.000000</td>\n",
       "      <td>0.747268</td>\n",
       "      <td>0.112094</td>\n",
       "      <td>0.754300</td>\n",
       "      <td>0.324434</td>\n",
       "      <td>0.096386</td>\n",
       "      <td>0.374018</td>\n",
       "      <td>0.747337</td>\n",
       "      <td>0.191176</td>\n",
       "      <td>0.249351</td>\n",
       "      <td>0.343677</td>\n",
       "      <td>0.315159</td>\n",
       "      <td>0.010300</td>\n",
       "      <td>0.261932</td>\n",
       "      <td>0.224490</td>\n",
       "      <td>0.24</td>\n",
       "    </tr>\n",
       "    <tr>\n",
       "      <th>habitation</th>\n",
       "      <td>0.196172</td>\n",
       "      <td>0.220445</td>\n",
       "      <td>1.000000</td>\n",
       "      <td>0.085546</td>\n",
       "      <td>0.199911</td>\n",
       "      <td>0.109563</td>\n",
       "      <td>0.012048</td>\n",
       "      <td>0.125637</td>\n",
       "      <td>0.344934</td>\n",
       "      <td>0.038235</td>\n",
       "      <td>0.047866</td>\n",
       "      <td>0.060819</td>\n",
       "      <td>0.089466</td>\n",
       "      <td>0.000858</td>\n",
       "      <td>0.189756</td>\n",
       "      <td>0.030612</td>\n",
       "      <td>0.36</td>\n",
       "    </tr>\n",
       "    <tr>\n",
       "      <th>artisinal_mine</th>\n",
       "      <td>0.000000</td>\n",
       "      <td>0.001299</td>\n",
       "      <td>0.007377</td>\n",
       "      <td>1.000000</td>\n",
       "      <td>0.004021</td>\n",
       "      <td>0.010885</td>\n",
       "      <td>0.000000</td>\n",
       "      <td>0.040777</td>\n",
       "      <td>0.013376</td>\n",
       "      <td>0.017647</td>\n",
       "      <td>0.001855</td>\n",
       "      <td>0.003724</td>\n",
       "      <td>0.006093</td>\n",
       "      <td>0.000000</td>\n",
       "      <td>0.046566</td>\n",
       "      <td>0.000000</td>\n",
       "      <td>0.04</td>\n",
       "    </tr>\n",
       "    <tr>\n",
       "      <th>cultivation</th>\n",
       "      <td>0.602871</td>\n",
       "      <td>0.272410</td>\n",
       "      <td>0.243989</td>\n",
       "      <td>0.053097</td>\n",
       "      <td>1.000000</td>\n",
       "      <td>0.125058</td>\n",
       "      <td>0.105422</td>\n",
       "      <td>0.119162</td>\n",
       "      <td>0.160020</td>\n",
       "      <td>0.170588</td>\n",
       "      <td>0.074954</td>\n",
       "      <td>0.103158</td>\n",
       "      <td>0.115535</td>\n",
       "      <td>0.000000</td>\n",
       "      <td>0.103609</td>\n",
       "      <td>0.081633</td>\n",
       "      <td>0.04</td>\n",
       "    </tr>\n",
       "    <tr>\n",
       "      <th>clear</th>\n",
       "      <td>0.827751</td>\n",
       "      <td>0.741150</td>\n",
       "      <td>0.843716</td>\n",
       "      <td>0.905605</td>\n",
       "      <td>0.787804</td>\n",
       "      <td>1.000000</td>\n",
       "      <td>0.936747</td>\n",
       "      <td>0.726546</td>\n",
       "      <td>0.779415</td>\n",
       "      <td>0.905882</td>\n",
       "      <td>0.000000</td>\n",
       "      <td>0.000000</td>\n",
       "      <td>0.730514</td>\n",
       "      <td>0.000000</td>\n",
       "      <td>0.866123</td>\n",
       "      <td>0.867347</td>\n",
       "      <td>0.70</td>\n",
       "    </tr>\n",
       "    <tr>\n",
       "      <th>blooming</th>\n",
       "      <td>0.009569</td>\n",
       "      <td>0.000812</td>\n",
       "      <td>0.000546</td>\n",
       "      <td>0.000000</td>\n",
       "      <td>0.007818</td>\n",
       "      <td>0.011027</td>\n",
       "      <td>1.000000</td>\n",
       "      <td>0.001791</td>\n",
       "      <td>0.000991</td>\n",
       "      <td>0.020588</td>\n",
       "      <td>0.001484</td>\n",
       "      <td>0.002345</td>\n",
       "      <td>0.006305</td>\n",
       "      <td>0.000000</td>\n",
       "      <td>0.003492</td>\n",
       "      <td>0.010204</td>\n",
       "      <td>0.00</td>\n",
       "    </tr>\n",
       "    <tr>\n",
       "      <th>water</th>\n",
       "      <td>0.114833</td>\n",
       "      <td>0.218902</td>\n",
       "      <td>0.249454</td>\n",
       "      <td>0.882006</td>\n",
       "      <td>0.193880</td>\n",
       "      <td>0.187108</td>\n",
       "      <td>0.048193</td>\n",
       "      <td>1.000000</td>\n",
       "      <td>0.263190</td>\n",
       "      <td>0.144118</td>\n",
       "      <td>0.227458</td>\n",
       "      <td>0.177493</td>\n",
       "      <td>0.184470</td>\n",
       "      <td>0.036481</td>\n",
       "      <td>0.239814</td>\n",
       "      <td>0.030612</td>\n",
       "      <td>0.26</td>\n",
       "    </tr>\n",
       "    <tr>\n",
       "      <th>road</th>\n",
       "      <td>0.172249</td>\n",
       "      <td>0.488308</td>\n",
       "      <td>0.760929</td>\n",
       "      <td>0.324484</td>\n",
       "      <td>0.289033</td>\n",
       "      <td>0.223203</td>\n",
       "      <td>0.030120</td>\n",
       "      <td>0.292602</td>\n",
       "      <td>1.000000</td>\n",
       "      <td>0.444118</td>\n",
       "      <td>0.146197</td>\n",
       "      <td>0.190594</td>\n",
       "      <td>0.202379</td>\n",
       "      <td>0.002146</td>\n",
       "      <td>0.376019</td>\n",
       "      <td>0.020408</td>\n",
       "      <td>0.59</td>\n",
       "    </tr>\n",
       "    <tr>\n",
       "      <th>selective_logging</th>\n",
       "      <td>0.009569</td>\n",
       "      <td>0.003491</td>\n",
       "      <td>0.003005</td>\n",
       "      <td>0.017699</td>\n",
       "      <td>0.012955</td>\n",
       "      <td>0.010921</td>\n",
       "      <td>0.021084</td>\n",
       "      <td>0.006337</td>\n",
       "      <td>0.018454</td>\n",
       "      <td>1.000000</td>\n",
       "      <td>0.001855</td>\n",
       "      <td>0.003724</td>\n",
       "      <td>0.006517</td>\n",
       "      <td>0.000000</td>\n",
       "      <td>0.015134</td>\n",
       "      <td>0.010204</td>\n",
       "      <td>0.00</td>\n",
       "    </tr>\n",
       "    <tr>\n",
       "      <th>haze</th>\n",
       "      <td>0.014354</td>\n",
       "      <td>0.052777</td>\n",
       "      <td>0.034699</td>\n",
       "      <td>0.014749</td>\n",
       "      <td>0.045119</td>\n",
       "      <td>0.000000</td>\n",
       "      <td>0.012048</td>\n",
       "      <td>0.084034</td>\n",
       "      <td>0.048551</td>\n",
       "      <td>0.014706</td>\n",
       "      <td>1.000000</td>\n",
       "      <td>0.000000</td>\n",
       "      <td>0.068193</td>\n",
       "      <td>0.000000</td>\n",
       "      <td>0.047730</td>\n",
       "      <td>0.000000</td>\n",
       "      <td>0.02</td>\n",
       "    </tr>\n",
       "    <tr>\n",
       "      <th>partly_cloudy</th>\n",
       "      <td>0.157895</td>\n",
       "      <td>0.200552</td>\n",
       "      <td>0.119945</td>\n",
       "      <td>0.079646</td>\n",
       "      <td>0.167076</td>\n",
       "      <td>0.000000</td>\n",
       "      <td>0.051205</td>\n",
       "      <td>0.176884</td>\n",
       "      <td>0.170919</td>\n",
       "      <td>0.079412</td>\n",
       "      <td>0.000000</td>\n",
       "      <td>1.000000</td>\n",
       "      <td>0.187543</td>\n",
       "      <td>0.000000</td>\n",
       "      <td>0.086147</td>\n",
       "      <td>0.132653</td>\n",
       "      <td>0.28</td>\n",
       "    </tr>\n",
       "    <tr>\n",
       "      <th>primary</th>\n",
       "      <td>1.000000</td>\n",
       "      <td>0.971744</td>\n",
       "      <td>0.947814</td>\n",
       "      <td>0.955752</td>\n",
       "      <td>0.995086</td>\n",
       "      <td>0.981030</td>\n",
       "      <td>1.000000</td>\n",
       "      <td>0.971759</td>\n",
       "      <td>0.957518</td>\n",
       "      <td>1.000000</td>\n",
       "      <td>0.989981</td>\n",
       "      <td>0.989243</td>\n",
       "      <td>1.000000</td>\n",
       "      <td>0.142060</td>\n",
       "      <td>0.795111</td>\n",
       "      <td>1.000000</td>\n",
       "      <td>0.94</td>\n",
       "    </tr>\n",
       "    <tr>\n",
       "      <th>cloudy</th>\n",
       "      <td>0.000000</td>\n",
       "      <td>0.000162</td>\n",
       "      <td>0.000000</td>\n",
       "      <td>0.000000</td>\n",
       "      <td>0.000000</td>\n",
       "      <td>0.000000</td>\n",
       "      <td>0.000000</td>\n",
       "      <td>0.011296</td>\n",
       "      <td>0.000372</td>\n",
       "      <td>0.000000</td>\n",
       "      <td>0.000000</td>\n",
       "      <td>0.000000</td>\n",
       "      <td>0.006279</td>\n",
       "      <td>1.000000</td>\n",
       "      <td>0.000000</td>\n",
       "      <td>0.000000</td>\n",
       "      <td>0.00</td>\n",
       "    </tr>\n",
       "    <tr>\n",
       "      <th>bare_ground</th>\n",
       "      <td>0.047847</td>\n",
       "      <td>0.016483</td>\n",
       "      <td>0.043989</td>\n",
       "      <td>0.117994</td>\n",
       "      <td>0.019879</td>\n",
       "      <td>0.026380</td>\n",
       "      <td>0.009036</td>\n",
       "      <td>0.027965</td>\n",
       "      <td>0.039757</td>\n",
       "      <td>0.038235</td>\n",
       "      <td>0.015213</td>\n",
       "      <td>0.010205</td>\n",
       "      <td>0.015604</td>\n",
       "      <td>0.000000</td>\n",
       "      <td>1.000000</td>\n",
       "      <td>0.040816</td>\n",
       "      <td>0.10</td>\n",
       "    </tr>\n",
       "    <tr>\n",
       "      <th>blow_down</th>\n",
       "      <td>0.009569</td>\n",
       "      <td>0.000000</td>\n",
       "      <td>0.000273</td>\n",
       "      <td>0.000000</td>\n",
       "      <td>0.001787</td>\n",
       "      <td>0.003014</td>\n",
       "      <td>0.003012</td>\n",
       "      <td>0.000000</td>\n",
       "      <td>0.000000</td>\n",
       "      <td>0.002941</td>\n",
       "      <td>0.000000</td>\n",
       "      <td>0.001793</td>\n",
       "      <td>0.000106</td>\n",
       "      <td>0.000000</td>\n",
       "      <td>0.004657</td>\n",
       "      <td>1.000000</td>\n",
       "      <td>0.00</td>\n",
       "    </tr>\n",
       "    <tr>\n",
       "      <th>conventional_mine</th>\n",
       "      <td>0.000000</td>\n",
       "      <td>0.000162</td>\n",
       "      <td>0.009290</td>\n",
       "      <td>0.011799</td>\n",
       "      <td>0.000893</td>\n",
       "      <td>0.002482</td>\n",
       "      <td>0.000000</td>\n",
       "      <td>0.003168</td>\n",
       "      <td>0.007060</td>\n",
       "      <td>0.000000</td>\n",
       "      <td>0.000742</td>\n",
       "      <td>0.003862</td>\n",
       "      <td>0.000000</td>\n",
       "      <td>0.000000</td>\n",
       "      <td>0.011641</td>\n",
       "      <td>0.000000</td>\n",
       "      <td>1.00</td>\n",
       "    </tr>\n",
       "  </tbody>\n",
       "</table>\n",
       "</div>"
      ],
      "text/plain": [
       "                   slash_burn  agriculture  habitation  artisinal_mine  \\\n",
       "slash_burn           1.000000     0.007876    0.010656        0.000000   \n",
       "agriculture          0.569378     1.000000    0.747268        0.112094   \n",
       "habitation           0.196172     0.220445    1.000000        0.085546   \n",
       "artisinal_mine       0.000000     0.001299    0.007377        1.000000   \n",
       "cultivation          0.602871     0.272410    0.243989        0.053097   \n",
       "clear                0.827751     0.741150    0.843716        0.905605   \n",
       "blooming             0.009569     0.000812    0.000546        0.000000   \n",
       "water                0.114833     0.218902    0.249454        0.882006   \n",
       "road                 0.172249     0.488308    0.760929        0.324484   \n",
       "selective_logging    0.009569     0.003491    0.003005        0.017699   \n",
       "haze                 0.014354     0.052777    0.034699        0.014749   \n",
       "partly_cloudy        0.157895     0.200552    0.119945        0.079646   \n",
       "primary              1.000000     0.971744    0.947814        0.955752   \n",
       "cloudy               0.000000     0.000162    0.000000        0.000000   \n",
       "bare_ground          0.047847     0.016483    0.043989        0.117994   \n",
       "blow_down            0.009569     0.000000    0.000273        0.000000   \n",
       "conventional_mine    0.000000     0.000162    0.009290        0.011799   \n",
       "\n",
       "                   cultivation     clear  blooming     water      road  \\\n",
       "slash_burn            0.028144  0.006134  0.006024  0.002893  0.004211   \n",
       "agriculture           0.754300  0.324434  0.096386  0.374018  0.747337   \n",
       "habitation            0.199911  0.109563  0.012048  0.125637  0.344934   \n",
       "artisinal_mine        0.004021  0.010885  0.000000  0.040777  0.013376   \n",
       "cultivation           1.000000  0.125058  0.105422  0.119162  0.160020   \n",
       "clear                 0.787804  1.000000  0.936747  0.726546  0.779415   \n",
       "blooming              0.007818  0.011027  1.000000  0.001791  0.000991   \n",
       "water                 0.193880  0.187108  0.048193  1.000000  0.263190   \n",
       "road                  0.289033  0.223203  0.030120  0.292602  1.000000   \n",
       "selective_logging     0.012955  0.010921  0.021084  0.006337  0.018454   \n",
       "haze                  0.045119  0.000000  0.012048  0.084034  0.048551   \n",
       "partly_cloudy         0.167076  0.000000  0.051205  0.176884  0.170919   \n",
       "primary               0.995086  0.981030  1.000000  0.971759  0.957518   \n",
       "cloudy                0.000000  0.000000  0.000000  0.011296  0.000372   \n",
       "bare_ground           0.019879  0.026380  0.009036  0.027965  0.039757   \n",
       "blow_down             0.001787  0.003014  0.003012  0.000000  0.000000   \n",
       "conventional_mine     0.000893  0.002482  0.000000  0.003168  0.007060   \n",
       "\n",
       "                   selective_logging      haze  partly_cloudy   primary  \\\n",
       "slash_burn                  0.005882  0.001113       0.004551  0.003047   \n",
       "agriculture                 0.191176  0.249351       0.343677  0.315159   \n",
       "habitation                  0.038235  0.047866       0.060819  0.089466   \n",
       "artisinal_mine              0.017647  0.001855       0.003724  0.006093   \n",
       "cultivation                 0.170588  0.074954       0.103158  0.115535   \n",
       "clear                       0.905882  0.000000       0.000000  0.730514   \n",
       "blooming                    0.020588  0.001484       0.002345  0.006305   \n",
       "water                       0.144118  0.227458       0.177493  0.184470   \n",
       "road                        0.444118  0.146197       0.190594  0.202379   \n",
       "selective_logging           1.000000  0.001855       0.003724  0.006517   \n",
       "haze                        0.014706  1.000000       0.000000  0.068193   \n",
       "partly_cloudy               0.079412  0.000000       1.000000  0.187543   \n",
       "primary                     1.000000  0.989981       0.989243  1.000000   \n",
       "cloudy                      0.000000  0.000000       0.000000  0.006279   \n",
       "bare_ground                 0.038235  0.015213       0.010205  0.015604   \n",
       "blow_down                   0.002941  0.000000       0.001793  0.000106   \n",
       "conventional_mine           0.000000  0.000742       0.003862  0.000000   \n",
       "\n",
       "                     cloudy  bare_ground  blow_down  conventional_mine  \n",
       "slash_burn         0.000000     0.011641   0.020408               0.00  \n",
       "agriculture        0.010300     0.261932   0.224490               0.24  \n",
       "habitation         0.000858     0.189756   0.030612               0.36  \n",
       "artisinal_mine     0.000000     0.046566   0.000000               0.04  \n",
       "cultivation        0.000000     0.103609   0.081633               0.04  \n",
       "clear              0.000000     0.866123   0.867347               0.70  \n",
       "blooming           0.000000     0.003492   0.010204               0.00  \n",
       "water              0.036481     0.239814   0.030612               0.26  \n",
       "road               0.002146     0.376019   0.020408               0.59  \n",
       "selective_logging  0.000000     0.015134   0.010204               0.00  \n",
       "haze               0.000000     0.047730   0.000000               0.02  \n",
       "partly_cloudy      0.000000     0.086147   0.132653               0.28  \n",
       "primary            0.142060     0.795111   1.000000               0.94  \n",
       "cloudy             1.000000     0.000000   0.000000               0.00  \n",
       "bare_ground        0.000000     1.000000   0.040816               0.10  \n",
       "blow_down          0.000000     0.004657   1.000000               0.00  \n",
       "conventional_mine  0.000000     0.011641   0.000000               1.00  "
      ]
     },
     "execution_count": 20,
     "metadata": {},
     "output_type": "execute_result"
    }
   ],
   "source": [
    "def make_coocurence_matrix(labels):\n",
    "    numeric_df = labels_df[labels];\n",
    "    c_matrix = numeric_df.T.dot(numeric_df)\n",
    "    scaler = MinMaxScaler()\n",
    "    c_matrix.loc[:,:] = scaler.fit_transform(c_matrix) \n",
    "    data = [go.Heatmap(z=c_matrix.T.values.tolist(), x = list(c_matrix[:0][:]), y=list(c_matrix[:0][:]), colorscale='Viridis')]\n",
    "    layout = go.Layout(height = 600, width =500, title='Co-occurence matrix of training labels')\n",
    "    fig = dict(data=data, layout=layout)\n",
    "    py.iplot(data)\n",
    "    return c_matrix\n",
    "\n",
    "\n",
    "# Compute the occurence matrix\n",
    "make_coocurence_matrix(labels_list)\n"
   ]
  },
  {
   "cell_type": "code",
   "execution_count": 21,
   "metadata": {
    "collapsed": false
   },
   "outputs": [
    {
     "data": {
      "application/vnd.plotly.v1+json": {
       "data": [
        {
         "colorscale": "Viridis",
         "type": "heatmap",
         "x": [
          "clear",
          "partly_cloudy",
          "haze",
          "cloudy"
         ],
         "y": [
          "clear",
          "partly_cloudy",
          "haze",
          "cloudy"
         ],
         "z": [
          [
           1,
           0,
           0,
           0
          ],
          [
           0,
           1,
           0,
           0
          ],
          [
           0,
           0,
           1,
           0
          ],
          [
           0,
           0,
           0,
           1
          ]
         ]
        }
       ],
       "layout": {}
      },
      "text/html": [
       "<div id=\"d7a6cdae-4091-4835-a814-b051559bd2c8\" style=\"height: 525px; width: 100%;\" class=\"plotly-graph-div\"></div><script type=\"text/javascript\">require([\"plotly\"], function(Plotly) { window.PLOTLYENV=window.PLOTLYENV || {};window.PLOTLYENV.BASE_URL=\"https://plot.ly\";Plotly.newPlot(\"d7a6cdae-4091-4835-a814-b051559bd2c8\", [{\"type\": \"heatmap\", \"colorscale\": \"Viridis\", \"y\": [\"clear\", \"partly_cloudy\", \"haze\", \"cloudy\"], \"z\": [[1.0, 0.0, 0.0, 0.0], [0.0, 1.0, 0.0, 0.0], [0.0, 0.0, 1.0, 0.0], [0.0, 0.0, 0.0, 1.0]], \"x\": [\"clear\", \"partly_cloudy\", \"haze\", \"cloudy\"]}], {}, {\"linkText\": \"Export to plot.ly\", \"showLink\": true})});</script>"
      ],
      "text/vnd.plotly.v1+html": [
       "<div id=\"d7a6cdae-4091-4835-a814-b051559bd2c8\" style=\"height: 525px; width: 100%;\" class=\"plotly-graph-div\"></div><script type=\"text/javascript\">require([\"plotly\"], function(Plotly) { window.PLOTLYENV=window.PLOTLYENV || {};window.PLOTLYENV.BASE_URL=\"https://plot.ly\";Plotly.newPlot(\"d7a6cdae-4091-4835-a814-b051559bd2c8\", [{\"type\": \"heatmap\", \"colorscale\": \"Viridis\", \"y\": [\"clear\", \"partly_cloudy\", \"haze\", \"cloudy\"], \"z\": [[1.0, 0.0, 0.0, 0.0], [0.0, 1.0, 0.0, 0.0], [0.0, 0.0, 1.0, 0.0], [0.0, 0.0, 0.0, 1.0]], \"x\": [\"clear\", \"partly_cloudy\", \"haze\", \"cloudy\"]}], {}, {\"linkText\": \"Export to plot.ly\", \"showLink\": true})});</script>"
      ]
     },
     "metadata": {},
     "output_type": "display_data"
    },
    {
     "data": {
      "text/html": [
       "<div>\n",
       "<table border=\"1\" class=\"dataframe\">\n",
       "  <thead>\n",
       "    <tr style=\"text-align: right;\">\n",
       "      <th></th>\n",
       "      <th>clear</th>\n",
       "      <th>partly_cloudy</th>\n",
       "      <th>haze</th>\n",
       "      <th>cloudy</th>\n",
       "    </tr>\n",
       "  </thead>\n",
       "  <tbody>\n",
       "    <tr>\n",
       "      <th>clear</th>\n",
       "      <td>1.0</td>\n",
       "      <td>0.0</td>\n",
       "      <td>0.0</td>\n",
       "      <td>0.0</td>\n",
       "    </tr>\n",
       "    <tr>\n",
       "      <th>partly_cloudy</th>\n",
       "      <td>0.0</td>\n",
       "      <td>1.0</td>\n",
       "      <td>0.0</td>\n",
       "      <td>0.0</td>\n",
       "    </tr>\n",
       "    <tr>\n",
       "      <th>haze</th>\n",
       "      <td>0.0</td>\n",
       "      <td>0.0</td>\n",
       "      <td>1.0</td>\n",
       "      <td>0.0</td>\n",
       "    </tr>\n",
       "    <tr>\n",
       "      <th>cloudy</th>\n",
       "      <td>0.0</td>\n",
       "      <td>0.0</td>\n",
       "      <td>0.0</td>\n",
       "      <td>1.0</td>\n",
       "    </tr>\n",
       "  </tbody>\n",
       "</table>\n",
       "</div>"
      ],
      "text/plain": [
       "               clear  partly_cloudy  haze  cloudy\n",
       "clear            1.0            0.0   0.0     0.0\n",
       "partly_cloudy    0.0            1.0   0.0     0.0\n",
       "haze             0.0            0.0   1.0     0.0\n",
       "cloudy           0.0            0.0   0.0     1.0"
      ]
     },
     "execution_count": 21,
     "metadata": {},
     "output_type": "execute_result"
    }
   ],
   "source": [
    "weather_labels = ['clear', 'partly_cloudy', 'haze', 'cloudy']\n",
    "make_coocurence_matrix(weather_labels)"
   ]
  },
  {
   "cell_type": "code",
   "execution_count": 22,
   "metadata": {
    "collapsed": false
   },
   "outputs": [
    {
     "data": {
      "application/vnd.plotly.v1+json": {
       "data": [
        {
         "colorscale": "Viridis",
         "type": "heatmap",
         "x": [
          "primary",
          "agriculture",
          "water",
          "cultivation",
          "habitation"
         ],
         "y": [
          "primary",
          "agriculture",
          "water",
          "cultivation",
          "habitation"
         ],
         "z": [
          [
           1,
           0.2478687189036632,
           0.10433821176059822,
           0.028630451860688425,
           0
          ],
          [
           0.9638253638253639,
           1,
           0,
           0.06850311850311847,
           0.0019750519750519335
          ],
          [
           0.9679386925242415,
           0.2893337503909915,
           1,
           0,
           0.007350641226149507
          ],
          [
           0.9939041285674702,
           0.6952064283735108,
           0,
           1,
           0.007481296758104716
          ],
          [
           0.9309721720274666,
           0.6657029273581496,
           0.007228044813877843,
           0,
           1
          ]
         ]
        }
       ],
       "layout": {}
      },
      "text/html": [
       "<div id=\"bc7697b8-868b-42a7-b770-5d7ed893992a\" style=\"height: 525px; width: 100%;\" class=\"plotly-graph-div\"></div><script type=\"text/javascript\">require([\"plotly\"], function(Plotly) { window.PLOTLYENV=window.PLOTLYENV || {};window.PLOTLYENV.BASE_URL=\"https://plot.ly\";Plotly.newPlot(\"bc7697b8-868b-42a7-b770-5d7ed893992a\", [{\"type\": \"heatmap\", \"colorscale\": \"Viridis\", \"y\": [\"primary\", \"agriculture\", \"water\", \"cultivation\", \"habitation\"], \"z\": [[1.0, 0.2478687189036632, 0.10433821176059822, 0.028630451860688425, 0.0], [0.9638253638253639, 1.0, 0.0, 0.06850311850311847, 0.0019750519750519335], [0.9679386925242415, 0.2893337503909915, 1.0, 0.0, 0.007350641226149507], [0.9939041285674702, 0.6952064283735108, 0.0, 1.0, 0.007481296758104716], [0.9309721720274666, 0.6657029273581496, 0.007228044813877843, 0.0, 1.0]], \"x\": [\"primary\", \"agriculture\", \"water\", \"cultivation\", \"habitation\"]}], {}, {\"linkText\": \"Export to plot.ly\", \"showLink\": true})});</script>"
      ],
      "text/vnd.plotly.v1+html": [
       "<div id=\"bc7697b8-868b-42a7-b770-5d7ed893992a\" style=\"height: 525px; width: 100%;\" class=\"plotly-graph-div\"></div><script type=\"text/javascript\">require([\"plotly\"], function(Plotly) { window.PLOTLYENV=window.PLOTLYENV || {};window.PLOTLYENV.BASE_URL=\"https://plot.ly\";Plotly.newPlot(\"bc7697b8-868b-42a7-b770-5d7ed893992a\", [{\"type\": \"heatmap\", \"colorscale\": \"Viridis\", \"y\": [\"primary\", \"agriculture\", \"water\", \"cultivation\", \"habitation\"], \"z\": [[1.0, 0.2478687189036632, 0.10433821176059822, 0.028630451860688425, 0.0], [0.9638253638253639, 1.0, 0.0, 0.06850311850311847, 0.0019750519750519335], [0.9679386925242415, 0.2893337503909915, 1.0, 0.0, 0.007350641226149507], [0.9939041285674702, 0.6952064283735108, 0.0, 1.0, 0.007481296758104716], [0.9309721720274666, 0.6657029273581496, 0.007228044813877843, 0.0, 1.0]], \"x\": [\"primary\", \"agriculture\", \"water\", \"cultivation\", \"habitation\"]}], {}, {\"linkText\": \"Export to plot.ly\", \"showLink\": true})});</script>"
      ]
     },
     "metadata": {},
     "output_type": "display_data"
    },
    {
     "data": {
      "text/html": [
       "<div>\n",
       "<table border=\"1\" class=\"dataframe\">\n",
       "  <thead>\n",
       "    <tr style=\"text-align: right;\">\n",
       "      <th></th>\n",
       "      <th>primary</th>\n",
       "      <th>agriculture</th>\n",
       "      <th>water</th>\n",
       "      <th>cultivation</th>\n",
       "      <th>habitation</th>\n",
       "    </tr>\n",
       "  </thead>\n",
       "  <tbody>\n",
       "    <tr>\n",
       "      <th>primary</th>\n",
       "      <td>1.000000</td>\n",
       "      <td>0.963825</td>\n",
       "      <td>0.967939</td>\n",
       "      <td>0.993904</td>\n",
       "      <td>0.930972</td>\n",
       "    </tr>\n",
       "    <tr>\n",
       "      <th>agriculture</th>\n",
       "      <td>0.247869</td>\n",
       "      <td>1.000000</td>\n",
       "      <td>0.289334</td>\n",
       "      <td>0.695206</td>\n",
       "      <td>0.665703</td>\n",
       "    </tr>\n",
       "    <tr>\n",
       "      <th>water</th>\n",
       "      <td>0.104338</td>\n",
       "      <td>0.000000</td>\n",
       "      <td>1.000000</td>\n",
       "      <td>0.000000</td>\n",
       "      <td>0.007228</td>\n",
       "    </tr>\n",
       "    <tr>\n",
       "      <th>cultivation</th>\n",
       "      <td>0.028630</td>\n",
       "      <td>0.068503</td>\n",
       "      <td>0.000000</td>\n",
       "      <td>1.000000</td>\n",
       "      <td>0.000000</td>\n",
       "    </tr>\n",
       "    <tr>\n",
       "      <th>habitation</th>\n",
       "      <td>0.000000</td>\n",
       "      <td>0.001975</td>\n",
       "      <td>0.007351</td>\n",
       "      <td>0.007481</td>\n",
       "      <td>1.000000</td>\n",
       "    </tr>\n",
       "  </tbody>\n",
       "</table>\n",
       "</div>"
      ],
      "text/plain": [
       "              primary  agriculture     water  cultivation  habitation\n",
       "primary      1.000000     0.963825  0.967939     0.993904    0.930972\n",
       "agriculture  0.247869     1.000000  0.289334     0.695206    0.665703\n",
       "water        0.104338     0.000000  1.000000     0.000000    0.007228\n",
       "cultivation  0.028630     0.068503  0.000000     1.000000    0.000000\n",
       "habitation   0.000000     0.001975  0.007351     0.007481    1.000000"
      ]
     },
     "execution_count": 22,
     "metadata": {},
     "output_type": "execute_result"
    }
   ],
   "source": [
    "land_labels = ['primary', 'agriculture', 'water', 'cultivation', 'habitation']\n",
    "make_coocurence_matrix(land_labels)"
   ]
  },
  {
   "cell_type": "code",
   "execution_count": 23,
   "metadata": {
    "collapsed": false
   },
   "outputs": [
    {
     "data": {
      "application/vnd.plotly.v1+json": {
       "data": [
        {
         "colorscale": "Viridis",
         "type": "heatmap",
         "x": [
          "slash_burn",
          "artisinal_mine",
          "blooming",
          "selective_logging",
          "bare_ground",
          "blow_down",
          "conventional_mine"
         ],
         "y": [
          "slash_burn",
          "artisinal_mine",
          "blooming",
          "selective_logging",
          "bare_ground",
          "blow_down",
          "conventional_mine"
         ],
         "z": [
          [
           1,
           0,
           0.009569377990430622,
           0.009569377990430622,
           0.04784688995215311,
           0.009569377990430622,
           0
          ],
          [
           0,
           1,
           0,
           0.017699115044247787,
           0.11799410029498525,
           0,
           0.011799410029498525
          ],
          [
           0.006024096385542169,
           0,
           1,
           0.021084337349397592,
           0.009036144578313254,
           0.0030120481927710845,
           0
          ],
          [
           0.0058823529411764705,
           0.01764705882352941,
           0.020588235294117647,
           1,
           0.03823529411764706,
           0.0029411764705882353,
           0
          ],
          [
           0.008177570093457945,
           0.04322429906542056,
           0,
           0.011682242990654203,
           0.9999999999999999,
           0.0011682242990654207,
           0.008177570093457945
          ],
          [
           0.02040816326530612,
           0,
           0.01020408163265306,
           0.01020408163265306,
           0.04081632653061224,
           0.9999999999999999,
           0
          ],
          [
           0,
           0.04,
           0,
           0,
           0.1,
           0,
           1
          ]
         ]
        }
       ],
       "layout": {}
      },
      "text/html": [
       "<div id=\"91f2324c-3efe-4f3c-a499-acd5d77c895f\" style=\"height: 525px; width: 100%;\" class=\"plotly-graph-div\"></div><script type=\"text/javascript\">require([\"plotly\"], function(Plotly) { window.PLOTLYENV=window.PLOTLYENV || {};window.PLOTLYENV.BASE_URL=\"https://plot.ly\";Plotly.newPlot(\"91f2324c-3efe-4f3c-a499-acd5d77c895f\", [{\"type\": \"heatmap\", \"colorscale\": \"Viridis\", \"y\": [\"slash_burn\", \"artisinal_mine\", \"blooming\", \"selective_logging\", \"bare_ground\", \"blow_down\", \"conventional_mine\"], \"z\": [[1.0, 0.0, 0.009569377990430622, 0.009569377990430622, 0.04784688995215311, 0.009569377990430622, 0.0], [0.0, 1.0, 0.0, 0.017699115044247787, 0.11799410029498525, 0.0, 0.011799410029498525], [0.006024096385542169, 0.0, 1.0, 0.021084337349397592, 0.009036144578313254, 0.0030120481927710845, 0.0], [0.0058823529411764705, 0.01764705882352941, 0.020588235294117647, 1.0, 0.03823529411764706, 0.0029411764705882353, 0.0], [0.008177570093457945, 0.04322429906542056, 0.0, 0.011682242990654203, 0.9999999999999999, 0.0011682242990654207, 0.008177570093457945], [0.02040816326530612, 0.0, 0.01020408163265306, 0.01020408163265306, 0.04081632653061224, 0.9999999999999999, 0.0], [0.0, 0.04, 0.0, 0.0, 0.1, 0.0, 1.0]], \"x\": [\"slash_burn\", \"artisinal_mine\", \"blooming\", \"selective_logging\", \"bare_ground\", \"blow_down\", \"conventional_mine\"]}], {}, {\"linkText\": \"Export to plot.ly\", \"showLink\": true})});</script>"
      ],
      "text/vnd.plotly.v1+html": [
       "<div id=\"91f2324c-3efe-4f3c-a499-acd5d77c895f\" style=\"height: 525px; width: 100%;\" class=\"plotly-graph-div\"></div><script type=\"text/javascript\">require([\"plotly\"], function(Plotly) { window.PLOTLYENV=window.PLOTLYENV || {};window.PLOTLYENV.BASE_URL=\"https://plot.ly\";Plotly.newPlot(\"91f2324c-3efe-4f3c-a499-acd5d77c895f\", [{\"type\": \"heatmap\", \"colorscale\": \"Viridis\", \"y\": [\"slash_burn\", \"artisinal_mine\", \"blooming\", \"selective_logging\", \"bare_ground\", \"blow_down\", \"conventional_mine\"], \"z\": [[1.0, 0.0, 0.009569377990430622, 0.009569377990430622, 0.04784688995215311, 0.009569377990430622, 0.0], [0.0, 1.0, 0.0, 0.017699115044247787, 0.11799410029498525, 0.0, 0.011799410029498525], [0.006024096385542169, 0.0, 1.0, 0.021084337349397592, 0.009036144578313254, 0.0030120481927710845, 0.0], [0.0058823529411764705, 0.01764705882352941, 0.020588235294117647, 1.0, 0.03823529411764706, 0.0029411764705882353, 0.0], [0.008177570093457945, 0.04322429906542056, 0.0, 0.011682242990654203, 0.9999999999999999, 0.0011682242990654207, 0.008177570093457945], [0.02040816326530612, 0.0, 0.01020408163265306, 0.01020408163265306, 0.04081632653061224, 0.9999999999999999, 0.0], [0.0, 0.04, 0.0, 0.0, 0.1, 0.0, 1.0]], \"x\": [\"slash_burn\", \"artisinal_mine\", \"blooming\", \"selective_logging\", \"bare_ground\", \"blow_down\", \"conventional_mine\"]}], {}, {\"linkText\": \"Export to plot.ly\", \"showLink\": true})});</script>"
      ]
     },
     "metadata": {},
     "output_type": "display_data"
    },
    {
     "data": {
      "text/html": [
       "<div>\n",
       "<table border=\"1\" class=\"dataframe\">\n",
       "  <thead>\n",
       "    <tr style=\"text-align: right;\">\n",
       "      <th></th>\n",
       "      <th>slash_burn</th>\n",
       "      <th>artisinal_mine</th>\n",
       "      <th>blooming</th>\n",
       "      <th>selective_logging</th>\n",
       "      <th>bare_ground</th>\n",
       "      <th>blow_down</th>\n",
       "      <th>conventional_mine</th>\n",
       "    </tr>\n",
       "  </thead>\n",
       "  <tbody>\n",
       "    <tr>\n",
       "      <th>slash_burn</th>\n",
       "      <td>1.000000</td>\n",
       "      <td>0.000000</td>\n",
       "      <td>0.006024</td>\n",
       "      <td>0.005882</td>\n",
       "      <td>0.008178</td>\n",
       "      <td>0.020408</td>\n",
       "      <td>0.00</td>\n",
       "    </tr>\n",
       "    <tr>\n",
       "      <th>artisinal_mine</th>\n",
       "      <td>0.000000</td>\n",
       "      <td>1.000000</td>\n",
       "      <td>0.000000</td>\n",
       "      <td>0.017647</td>\n",
       "      <td>0.043224</td>\n",
       "      <td>0.000000</td>\n",
       "      <td>0.04</td>\n",
       "    </tr>\n",
       "    <tr>\n",
       "      <th>blooming</th>\n",
       "      <td>0.009569</td>\n",
       "      <td>0.000000</td>\n",
       "      <td>1.000000</td>\n",
       "      <td>0.020588</td>\n",
       "      <td>0.000000</td>\n",
       "      <td>0.010204</td>\n",
       "      <td>0.00</td>\n",
       "    </tr>\n",
       "    <tr>\n",
       "      <th>selective_logging</th>\n",
       "      <td>0.009569</td>\n",
       "      <td>0.017699</td>\n",
       "      <td>0.021084</td>\n",
       "      <td>1.000000</td>\n",
       "      <td>0.011682</td>\n",
       "      <td>0.010204</td>\n",
       "      <td>0.00</td>\n",
       "    </tr>\n",
       "    <tr>\n",
       "      <th>bare_ground</th>\n",
       "      <td>0.047847</td>\n",
       "      <td>0.117994</td>\n",
       "      <td>0.009036</td>\n",
       "      <td>0.038235</td>\n",
       "      <td>1.000000</td>\n",
       "      <td>0.040816</td>\n",
       "      <td>0.10</td>\n",
       "    </tr>\n",
       "    <tr>\n",
       "      <th>blow_down</th>\n",
       "      <td>0.009569</td>\n",
       "      <td>0.000000</td>\n",
       "      <td>0.003012</td>\n",
       "      <td>0.002941</td>\n",
       "      <td>0.001168</td>\n",
       "      <td>1.000000</td>\n",
       "      <td>0.00</td>\n",
       "    </tr>\n",
       "    <tr>\n",
       "      <th>conventional_mine</th>\n",
       "      <td>0.000000</td>\n",
       "      <td>0.011799</td>\n",
       "      <td>0.000000</td>\n",
       "      <td>0.000000</td>\n",
       "      <td>0.008178</td>\n",
       "      <td>0.000000</td>\n",
       "      <td>1.00</td>\n",
       "    </tr>\n",
       "  </tbody>\n",
       "</table>\n",
       "</div>"
      ],
      "text/plain": [
       "                   slash_burn  artisinal_mine  blooming  selective_logging  \\\n",
       "slash_burn           1.000000        0.000000  0.006024           0.005882   \n",
       "artisinal_mine       0.000000        1.000000  0.000000           0.017647   \n",
       "blooming             0.009569        0.000000  1.000000           0.020588   \n",
       "selective_logging    0.009569        0.017699  0.021084           1.000000   \n",
       "bare_ground          0.047847        0.117994  0.009036           0.038235   \n",
       "blow_down            0.009569        0.000000  0.003012           0.002941   \n",
       "conventional_mine    0.000000        0.011799  0.000000           0.000000   \n",
       "\n",
       "                   bare_ground  blow_down  conventional_mine  \n",
       "slash_burn            0.008178   0.020408               0.00  \n",
       "artisinal_mine        0.043224   0.000000               0.04  \n",
       "blooming              0.000000   0.010204               0.00  \n",
       "selective_logging     0.011682   0.010204               0.00  \n",
       "bare_ground           1.000000   0.040816               0.10  \n",
       "blow_down             0.001168   1.000000               0.00  \n",
       "conventional_mine     0.008178   0.000000               1.00  "
      ]
     },
     "execution_count": 23,
     "metadata": {},
     "output_type": "execute_result"
    }
   ],
   "source": [
    "rare_labels = [label for label in labels_list if labels_df[labels_list].sum()[label] < 2000]\n",
    "make_coocurence_matrix(rare_labels)"
   ]
  },
  {
   "cell_type": "markdown",
   "metadata": {},
   "source": [
    "In this context, **this co-occurence matrix shows what percentage of the X label also has the Y label**.\n",
    "# Images\n",
    "\n",
    "## Helper function to select sample images"
   ]
  },
  {
   "cell_type": "code",
   "execution_count": 24,
   "metadata": {
    "collapsed": true
   },
   "outputs": [],
   "source": [
    "from six import string_types\n",
    "def sample_images(tags, n=None):\n",
    "    \"\"\"Randomly sample n images with the specified tags\"\"\"\n",
    "    condition = True\n",
    "    if isinstance(tags, string_types):\n",
    "        raise ValueError(\"Pass a list of tags, not a single tag.\")\n",
    "    for tag in tags:\n",
    "        condition = condition & labels_df[tag] == 1\n",
    "        \n",
    "    if n is not None:\n",
    "        return labels_df[condition].sample(n)\n",
    "    \n",
    "    else:\n",
    "        return labels_df[condition]"
   ]
  },
  {
   "cell_type": "markdown",
   "metadata": {},
   "source": [
    "## Helper function to find image"
   ]
  },
  {
   "cell_type": "code",
   "execution_count": 25,
   "metadata": {
    "collapsed": true
   },
   "outputs": [],
   "source": [
    "def find_image(filename):\n",
    "    \n",
    "    \n",
    "    for dirname in os.listdir('/resources/data/Kaggle/amazon/'):\n",
    "        path = os.path.abspath(os.path.join('/resources/data/Kaggle/amazon/', dirname, filename))\n",
    "        if os.path.exists(path):\n",
    "            print('Found Image {}'.format(path))\n",
    "            return path\n",
    "        else:\n",
    "            print('Oops! Imag not found at {}'.format(path))\n",
    "            "
   ]
  },
  {
   "cell_type": "markdown",
   "metadata": {},
   "source": [
    "## Helper function to load an image"
   ]
  },
  {
   "cell_type": "code",
   "execution_count": 26,
   "metadata": {
    "collapsed": true
   },
   "outputs": [],
   "source": [
    "def load_image(filename):\n",
    "    \"\"\"Return a 4D (r, g, b, nir) numpy array with the data in the specified TIFF filename.\"\"\"\n",
    "    path = find_image(filename)\n",
    "    if path:\n",
    "        with rasterio.open(path) as src:\n",
    "            b, g, r, nir = src.read()\n",
    "            return np.dstack([r, g, b, nir])\n",
    "    else:\n",
    "        print('Load Failed: could not find image {}'.format(path))"
   ]
  },
  {
   "cell_type": "markdown",
   "metadata": {},
   "source": [
    "Let's plot some images and look at their histogram of pixel values in each channel."
   ]
  },
  {
   "cell_type": "code",
   "execution_count": 27,
   "metadata": {
    "collapsed": false
   },
   "outputs": [
    {
     "name": "stdout",
     "output_type": "stream",
     "text": [
      "Oops! Imag not found at /resources/data/Kaggle/amazon/test-tif.tar/train_37616.tif\n",
      "Oops! Imag not found at /resources/data/Kaggle/amazon/test-tif/train_37616.tif\n",
      "Oops! Imag not found at /resources/data/Kaggle/amazon/test-jpg/train_37616.tif\n",
      "Found Image /resources/data/Kaggle/amazon/train-tif/train_37616.tif\n"
     ]
    },
    {
     "name": "stderr",
     "output_type": "stream",
     "text": [
      "/resources/common/.virtualenv/python3/lib/python3.4/site-packages/rasterio/__init__.py:193: UserWarning:\n",
      "\n",
      "Dataset has no geotransform set.  Default transform will be applied (Affine.identity())\n",
      "\n"
     ]
    }
   ],
   "source": [
    "image_path = sample_images(['primary', 'water', 'road'], n=1)['image_name'].iloc[0]\n",
    "rgbn_image = load_image(image_path+'.tif')\n",
    "rgb_image = rgbn_image[:, :, :3]"
   ]
  },
  {
   "cell_type": "code",
   "execution_count": 28,
   "metadata": {
    "collapsed": true
   },
   "outputs": [],
   "source": [
    "r, g, b, nir = rgbn_image[:, :, 0], rgbn_image[:, :, 1], rgbn_image[:, :, 2], rgbn_image[:, :, 3]"
   ]
  },
  {
   "cell_type": "code",
   "execution_count": 52,
   "metadata": {
    "collapsed": false
   },
   "outputs": [
    {
     "name": "stderr",
     "output_type": "stream",
     "text": [
      "/resources/common/.virtualenv/python3/lib/python3.4/site-packages/matplotlib/font_manager.py:1297: UserWarning:\n",
      "\n",
      "findfont: Font family ['sans-serif'] not found. Falling back to DejaVu Sans\n",
      "\n"
     ]
    },
    {
     "data": {
      "image/png": "[encoded data removed]",
      "text/plain": [
       "<matplotlib.figure.Figure at 0x7f5a89fdcef0>"
      ]
     },
     "metadata": {},
     "output_type": "display_data"
    }
   ],
   "source": [
    "for slice_, name, color in ((r, 'r', 'red'), (g,'g', 'green'), (b, 'b', 'blue'), (nir, 'nir', 'magenta')):\n",
    "    plt.hist(slice_.ravel(), bins=100, range=[0, rgb_image.max()], label=name, histtype='step')\n",
    "    \n",
    "plt.legend()\n",
    "plt.show()"
   ]
  },
  {
   "cell_type": "markdown",
   "metadata": {},
   "source": [
    "Let's look at each channel individually:\n"
   ]
  },
  {
   "cell_type": "code",
   "execution_count": 55,
   "metadata": {
    "collapsed": false
   },
   "outputs": [
    {
     "name": "stderr",
     "output_type": "stream",
     "text": [
      "/resources/common/.virtualenv/python3/lib/python3.4/site-packages/matplotlib/font_manager.py:1297: UserWarning:\n",
      "\n",
      "findfont: Font family ['sans-serif'] not found. Falling back to DejaVu Sans\n",
      "\n"
     ]
    },
    {
     "data": {
      "image/png": "[encoded data removed]",
      "text/plain": [
       "<matplotlib.figure.Figure at 0x7f5a89f88470>"
      ]
     },
     "metadata": {},
     "output_type": "display_data"
    }
   ],
   "source": [
    "fig = plt.figure(figsize=(12, 8))\n",
    "for i, (x, c) in enumerate (((r, 'r'), (g, 'g'), (b, 'b'), (nir, 'near-ir'))):\n",
    "    a = fig.add_subplot(1, 4, i+1)\n",
    "    a.set_title(c)\n",
    "    plt.imshow(x)"
   ]
  },
  {
   "cell_type": "code",
   "execution_count": 56,
   "metadata": {
    "collapsed": false
   },
   "outputs": [
    {
     "data": {
      "text/plain": [
       "<matplotlib.image.AxesImage at 0x7f5a886b1160>"
      ]
     },
     "execution_count": 56,
     "metadata": {},
     "output_type": "execute_result"
    },
    {
     "name": "stderr",
     "output_type": "stream",
     "text": [
      "/resources/common/.virtualenv/python3/lib/python3.4/site-packages/matplotlib/font_manager.py:1297: UserWarning:\n",
      "\n",
      "findfont: Font family ['sans-serif'] not found. Falling back to DejaVu Sans\n",
      "\n"
     ]
    },
    {
     "data": {
      "image/png": "[encoded data removed]",
      "text/plain": [
       "<matplotlib.figure.Figure at 0x7f5a89f6be10>"
      ]
     },
     "metadata": {},
     "output_type": "display_data"
    }
   ],
   "source": [
    "plt.imshow(rgb_image)"
   ]
  },
  {
   "cell_type": "code",
   "execution_count": null,
   "metadata": {
    "collapsed": true
   },
   "outputs": [],
   "source": []
  }
 ],
 "metadata": {
  "kernelspec": {
   "display_name": "Python 3",
   "language": "python",
   "name": "python3"
  },
  "language_info": {
   "codemirror_mode": {
    "name": "ipython",
    "version": 3
   },
   "file_extension": ".py",
   "mimetype": "text/x-python",
   "name": "python",
   "nbconvert_exporter": "python",
   "pygments_lexer": "ipython3",
   "version": "3.4.3"
  },
  "widgets": {
   "state": {},
   "version": "1.1.2"
  }
 },
 "nbformat": 4,
 "nbformat_minor": 0
}
