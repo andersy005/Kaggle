{
 "cells": [
  {
   "cell_type": "markdown",
   "metadata": {
    "toc": true
   },
   "source": [
    "<h1>Table of Contents<span class=\"tocSkip\"></span></h1>\n",
    "<div class=\"toc\" style=\"margin-top: 1em;\"><ul class=\"toc-item\"><li><span><a href=\"#Initialize-Random-Number-Generator\" data-toc-modified-id=\"Initialize-Random-Number-Generator-1\"><span class=\"toc-item-num\">1&nbsp;&nbsp;</span>Initialize Random Number Generator</a></span></li><li><span><a href=\"#Load-the-Dataset\" data-toc-modified-id=\"Load-the-Dataset-2\"><span class=\"toc-item-num\">2&nbsp;&nbsp;</span>Load the Dataset</a></span><ul class=\"toc-item\"><li><span><a href=\"#Prepare-the-data\" data-toc-modified-id=\"Prepare-the-data-2.1\"><span class=\"toc-item-num\">2.1&nbsp;&nbsp;</span>Prepare the data</a></span></li></ul></li><li><span><a href=\"#Neural-Network-Model\" data-toc-modified-id=\"Neural-Network-Model-3\"><span class=\"toc-item-num\">3&nbsp;&nbsp;</span>Neural Network Model</a></span></li><li><span><a href=\"#XGBOOST\" data-toc-modified-id=\"XGBOOST-4\"><span class=\"toc-item-num\">4&nbsp;&nbsp;</span>XGBOOST</a></span><ul class=\"toc-item\"><li><span><a href=\"#Baseline-Model\" data-toc-modified-id=\"Baseline-Model-4.1\"><span class=\"toc-item-num\">4.1&nbsp;&nbsp;</span>Baseline Model</a></span></li><li><span><a href=\"#XGBOOST-extended\" data-toc-modified-id=\"XGBOOST-extended-4.2\"><span class=\"toc-item-num\">4.2&nbsp;&nbsp;</span>XGBOOST extended</a></span><ul class=\"toc-item\"><li><span><a href=\"#Split-data-into-training-and-validation-sets\" data-toc-modified-id=\"Split-data-into-training-and-validation-sets-4.2.1\"><span class=\"toc-item-num\">4.2.1&nbsp;&nbsp;</span>Split data into training and validation sets</a></span></li><li><span><a href=\"#Fit-model-on-training-data\" data-toc-modified-id=\"Fit-model-on-training-data-4.2.2\"><span class=\"toc-item-num\">4.2.2&nbsp;&nbsp;</span>Fit model on training data</a></span></li><li><span><a href=\"#Make-predictions-for-validation-data\" data-toc-modified-id=\"Make-predictions-for-validation-data-4.2.3\"><span class=\"toc-item-num\">4.2.3&nbsp;&nbsp;</span>Make predictions for validation data</a></span></li><li><span><a href=\"#evaluate-predictions\" data-toc-modified-id=\"evaluate-predictions-4.2.4\"><span class=\"toc-item-num\">4.2.4&nbsp;&nbsp;</span>evaluate predictions</a></span></li></ul></li><li><span><a href=\"#Monitoring-performance-and-Early-Stopping\" data-toc-modified-id=\"Monitoring-performance-and-Early-Stopping-4.3\"><span class=\"toc-item-num\">4.3&nbsp;&nbsp;</span>Monitoring performance and Early Stopping</a></span></li></ul></li></ul></div>"
   ]
  },
  {
   "cell_type": "markdown",
   "metadata": {},
   "source": [
    "# Initialize Random Number Generator"
   ]
  },
  {
   "cell_type": "code",
   "execution_count": 1,
   "metadata": {},
   "outputs": [],
   "source": [
    "import numpy as np"
   ]
  },
  {
   "cell_type": "code",
   "execution_count": 2,
   "metadata": {},
   "outputs": [],
   "source": [
    "seed = 4242\n",
    "np.random.seed(seed)"
   ]
  },
  {
   "cell_type": "markdown",
   "metadata": {},
   "source": [
    "# Load the Dataset"
   ]
  },
  {
   "cell_type": "code",
   "execution_count": 3,
   "metadata": {},
   "outputs": [],
   "source": [
    "import pandas as pd\n",
    "%matplotlib inline\n",
    "import matplotlib.pyplot as plt"
   ]
  },
  {
   "cell_type": "code",
   "execution_count": 4,
   "metadata": {},
   "outputs": [
    {
     "data": {
      "text/html": [
       "<div>\n",
       "<style scoped>\n",
       "    .dataframe tbody tr th:only-of-type {\n",
       "        vertical-align: middle;\n",
       "    }\n",
       "\n",
       "    .dataframe tbody tr th {\n",
       "        vertical-align: top;\n",
       "    }\n",
       "\n",
       "    .dataframe thead th {\n",
       "        text-align: right;\n",
       "    }\n",
       "</style>\n",
       "<table border=\"1\" class=\"dataframe\">\n",
       "  <thead>\n",
       "    <tr style=\"text-align: right;\">\n",
       "      <th></th>\n",
       "      <th>camera</th>\n",
       "      <th>fname</th>\n",
       "      <th>a0</th>\n",
       "      <th>a1</th>\n",
       "      <th>a2</th>\n",
       "      <th>s0</th>\n",
       "      <th>s1</th>\n",
       "      <th>s2</th>\n",
       "    </tr>\n",
       "  </thead>\n",
       "  <tbody>\n",
       "    <tr>\n",
       "      <th>0</th>\n",
       "      <td>HTC-1-M7</td>\n",
       "      <td>(HTC-1-M7)1.jpg</td>\n",
       "      <td>118.223227</td>\n",
       "      <td>115.003896</td>\n",
       "      <td>111.967798</td>\n",
       "      <td>57.210818</td>\n",
       "      <td>54.533104</td>\n",
       "      <td>64.853878</td>\n",
       "    </tr>\n",
       "    <tr>\n",
       "      <th>1</th>\n",
       "      <td>HTC-1-M7</td>\n",
       "      <td>(HTC-1-M7)10.jpg</td>\n",
       "      <td>128.141141</td>\n",
       "      <td>122.825341</td>\n",
       "      <td>107.254211</td>\n",
       "      <td>56.619943</td>\n",
       "      <td>55.002498</td>\n",
       "      <td>59.375556</td>\n",
       "    </tr>\n",
       "    <tr>\n",
       "      <th>2</th>\n",
       "      <td>HTC-1-M7</td>\n",
       "      <td>(HTC-1-M7)100.jpg</td>\n",
       "      <td>98.610660</td>\n",
       "      <td>89.714463</td>\n",
       "      <td>82.452863</td>\n",
       "      <td>68.868366</td>\n",
       "      <td>73.298074</td>\n",
       "      <td>73.463918</td>\n",
       "    </tr>\n",
       "    <tr>\n",
       "      <th>3</th>\n",
       "      <td>HTC-1-M7</td>\n",
       "      <td>(HTC-1-M7)101.jpg</td>\n",
       "      <td>109.477162</td>\n",
       "      <td>104.011235</td>\n",
       "      <td>102.435257</td>\n",
       "      <td>46.961676</td>\n",
       "      <td>50.286467</td>\n",
       "      <td>54.133753</td>\n",
       "    </tr>\n",
       "    <tr>\n",
       "      <th>4</th>\n",
       "      <td>HTC-1-M7</td>\n",
       "      <td>(HTC-1-M7)102.jpg</td>\n",
       "      <td>105.730427</td>\n",
       "      <td>70.830199</td>\n",
       "      <td>103.631270</td>\n",
       "      <td>17.310780</td>\n",
       "      <td>18.811962</td>\n",
       "      <td>15.008880</td>\n",
       "    </tr>\n",
       "  </tbody>\n",
       "</table>\n",
       "</div>"
      ],
      "text/plain": [
       "     camera              fname          a0          a1          a2         s0  \\\n",
       "0  HTC-1-M7    (HTC-1-M7)1.jpg  118.223227  115.003896  111.967798  57.210818   \n",
       "1  HTC-1-M7   (HTC-1-M7)10.jpg  128.141141  122.825341  107.254211  56.619943   \n",
       "2  HTC-1-M7  (HTC-1-M7)100.jpg   98.610660   89.714463   82.452863  68.868366   \n",
       "3  HTC-1-M7  (HTC-1-M7)101.jpg  109.477162  104.011235  102.435257  46.961676   \n",
       "4  HTC-1-M7  (HTC-1-M7)102.jpg  105.730427   70.830199  103.631270  17.310780   \n",
       "\n",
       "          s1         s2  \n",
       "0  54.533104  64.853878  \n",
       "1  55.002498  59.375556  \n",
       "2  73.298074  73.463918  \n",
       "3  50.286467  54.133753  \n",
       "4  18.811962  15.008880  "
      ]
     },
     "execution_count": 4,
     "metadata": {},
     "output_type": "execute_result"
    }
   ],
   "source": [
    "train_data = pd.read_csv('../post-data/train.csv').drop(columns=['Unnamed: 0'])\n",
    "train_data.head()"
   ]
  },
  {
   "cell_type": "code",
   "execution_count": 5,
   "metadata": {},
   "outputs": [
    {
     "data": {
      "text/html": [
       "<div>\n",
       "<style scoped>\n",
       "    .dataframe tbody tr th:only-of-type {\n",
       "        vertical-align: middle;\n",
       "    }\n",
       "\n",
       "    .dataframe tbody tr th {\n",
       "        vertical-align: top;\n",
       "    }\n",
       "\n",
       "    .dataframe thead th {\n",
       "        text-align: right;\n",
       "    }\n",
       "</style>\n",
       "<table border=\"1\" class=\"dataframe\">\n",
       "  <thead>\n",
       "    <tr style=\"text-align: right;\">\n",
       "      <th></th>\n",
       "      <th>fname</th>\n",
       "      <th>a0</th>\n",
       "      <th>a1</th>\n",
       "      <th>a2</th>\n",
       "      <th>s0</th>\n",
       "      <th>s1</th>\n",
       "      <th>s2</th>\n",
       "    </tr>\n",
       "  </thead>\n",
       "  <tbody>\n",
       "    <tr>\n",
       "      <th>0</th>\n",
       "      <td>img_0002a04_manip.tif</td>\n",
       "      <td>187.380531</td>\n",
       "      <td>181.926029</td>\n",
       "      <td>173.161304</td>\n",
       "      <td>34.441726</td>\n",
       "      <td>34.237523</td>\n",
       "      <td>28.067430</td>\n",
       "    </tr>\n",
       "    <tr>\n",
       "      <th>1</th>\n",
       "      <td>img_001e31c_unalt.tif</td>\n",
       "      <td>171.232990</td>\n",
       "      <td>140.817070</td>\n",
       "      <td>121.201546</td>\n",
       "      <td>66.119656</td>\n",
       "      <td>69.017232</td>\n",
       "      <td>71.617331</td>\n",
       "    </tr>\n",
       "    <tr>\n",
       "      <th>2</th>\n",
       "      <td>img_00275cf_manip.tif</td>\n",
       "      <td>86.310349</td>\n",
       "      <td>85.689690</td>\n",
       "      <td>79.065269</td>\n",
       "      <td>52.221585</td>\n",
       "      <td>54.244189</td>\n",
       "      <td>53.314759</td>\n",
       "    </tr>\n",
       "    <tr>\n",
       "      <th>3</th>\n",
       "      <td>img_0034113_unalt.tif</td>\n",
       "      <td>152.006332</td>\n",
       "      <td>140.768970</td>\n",
       "      <td>132.285995</td>\n",
       "      <td>70.564771</td>\n",
       "      <td>65.590737</td>\n",
       "      <td>58.753384</td>\n",
       "    </tr>\n",
       "    <tr>\n",
       "      <th>4</th>\n",
       "      <td>img_00344b7_unalt.tif</td>\n",
       "      <td>95.538319</td>\n",
       "      <td>100.303024</td>\n",
       "      <td>92.712677</td>\n",
       "      <td>70.115464</td>\n",
       "      <td>65.860571</td>\n",
       "      <td>64.039072</td>\n",
       "    </tr>\n",
       "  </tbody>\n",
       "</table>\n",
       "</div>"
      ],
      "text/plain": [
       "                   fname          a0          a1          a2         s0  \\\n",
       "0  img_0002a04_manip.tif  187.380531  181.926029  173.161304  34.441726   \n",
       "1  img_001e31c_unalt.tif  171.232990  140.817070  121.201546  66.119656   \n",
       "2  img_00275cf_manip.tif   86.310349   85.689690   79.065269  52.221585   \n",
       "3  img_0034113_unalt.tif  152.006332  140.768970  132.285995  70.564771   \n",
       "4  img_00344b7_unalt.tif   95.538319  100.303024   92.712677  70.115464   \n",
       "\n",
       "          s1         s2  \n",
       "0  34.237523  28.067430  \n",
       "1  69.017232  71.617331  \n",
       "2  54.244189  53.314759  \n",
       "3  65.590737  58.753384  \n",
       "4  65.860571  64.039072  "
      ]
     },
     "execution_count": 5,
     "metadata": {},
     "output_type": "execute_result"
    }
   ],
   "source": [
    "test_data = pd.read_csv('../post-data/test.csv').drop(columns=['Unnamed: 0'])\n",
    "test_data.head()"
   ]
  },
  {
   "cell_type": "code",
   "execution_count": 6,
   "metadata": {},
   "outputs": [],
   "source": [
    "cols = ['a0', 'a1', 'a2', 's0', 's1', 's2']\n"
   ]
  },
  {
   "cell_type": "code",
   "execution_count": 7,
   "metadata": {},
   "outputs": [
    {
     "name": "stdout",
     "output_type": "stream",
     "text": [
      "(2750, 6)\n",
      "(2640, 6)\n"
     ]
    }
   ],
   "source": [
    "X_train = train_data[cols].values\n",
    "X_test = test_data[cols].values\n",
    "print(X_train.shape)\n",
    "print(X_test.shape)"
   ]
  },
  {
   "cell_type": "code",
   "execution_count": 8,
   "metadata": {},
   "outputs": [
    {
     "data": {
      "text/plain": [
       "array(['HTC-1-M7', 'HTC-1-M7', 'HTC-1-M7', ..., 'Motorola-X', 'Motorola-X',\n",
       "       'Motorola-X'], dtype=object)"
      ]
     },
     "execution_count": 8,
     "metadata": {},
     "output_type": "execute_result"
    }
   ],
   "source": [
    "train_labels = train_data['camera'].values\n",
    "train_labels"
   ]
  },
  {
   "cell_type": "code",
   "execution_count": 9,
   "metadata": {},
   "outputs": [
    {
     "data": {
      "text/plain": [
       "(2750,)"
      ]
     },
     "execution_count": 9,
     "metadata": {},
     "output_type": "execute_result"
    }
   ],
   "source": [
    "train_labels.shape"
   ]
  },
  {
   "cell_type": "markdown",
   "metadata": {},
   "source": [
    "## Prepare the data"
   ]
  },
  {
   "cell_type": "code",
   "execution_count": 10,
   "metadata": {},
   "outputs": [
    {
     "name": "stderr",
     "output_type": "stream",
     "text": [
      "Using TensorFlow backend.\n"
     ]
    }
   ],
   "source": [
    "from sklearn.model_selection import train_test_split\n",
    "from sklearn.preprocessing import LabelEncoder\n",
    "from sklearn.utils import shuffle\n",
    "from keras.utils import np_utils"
   ]
  },
  {
   "cell_type": "code",
   "execution_count": 11,
   "metadata": {},
   "outputs": [],
   "source": [
    "# encode class values as integers\n",
    "encoder = LabelEncoder()\n",
    "encoder.fit(train_labels)\n",
    "encoded_Y = encoder.transform(train_labels)"
   ]
  },
  {
   "cell_type": "code",
   "execution_count": 12,
   "metadata": {},
   "outputs": [
    {
     "data": {
      "text/plain": [
       "array([0, 0, 0, 0])"
      ]
     },
     "execution_count": 12,
     "metadata": {},
     "output_type": "execute_result"
    }
   ],
   "source": [
    "encoded_Y[:4]"
   ]
  },
  {
   "cell_type": "code",
   "execution_count": 13,
   "metadata": {},
   "outputs": [],
   "source": [
    "# convert integers to dummy variables (i.e one hot encoded)\n",
    "# dummy_y = np_utils.to_categorical(encoded_Y)"
   ]
  },
  {
   "cell_type": "code",
   "execution_count": 14,
   "metadata": {},
   "outputs": [],
   "source": [
    "x_train, y_train = shuffle(X_train, encoded_Y, random_state=seed)"
   ]
  },
  {
   "cell_type": "code",
   "execution_count": 15,
   "metadata": {},
   "outputs": [
    {
     "data": {
      "text/plain": [
       "array([[  58.84471296,   49.93487104,   38.90922862,   42.87861481,\n",
       "          40.24568119,   37.57830517],\n",
       "       [ 114.54920658,  129.65230923,  129.65298077,   66.03141506,\n",
       "          63.74333362,   81.53580846],\n",
       "       [ 116.17599433,  128.95713377,  142.21829793,   59.62550104,\n",
       "          61.02571382,   72.62387086],\n",
       "       [ 140.24306599,  143.70790006,  144.47462227,   64.46722264,\n",
       "          63.8214634 ,   69.86607987],\n",
       "       [ 109.5898624 ,  117.45532843,  108.18150496,   66.5807312 ,\n",
       "          60.25748265,   66.96279974]])"
      ]
     },
     "execution_count": 15,
     "metadata": {},
     "output_type": "execute_result"
    }
   ],
   "source": [
    "x_train[:5]"
   ]
  },
  {
   "cell_type": "code",
   "execution_count": 16,
   "metadata": {},
   "outputs": [
    {
     "data": {
      "text/plain": [
       "array([7, 4, 1, 5, 8])"
      ]
     },
     "execution_count": 16,
     "metadata": {},
     "output_type": "execute_result"
    }
   ],
   "source": [
    "y_train[:5]"
   ]
  },
  {
   "cell_type": "code",
   "execution_count": 17,
   "metadata": {},
   "outputs": [],
   "source": [
    "X_train, X_valid, Y_train, Y_valid = train_test_split(\n",
    "    X_train, y_train, test_size=0.33, random_state=42)"
   ]
  },
  {
   "cell_type": "markdown",
   "metadata": {},
   "source": [
    "# Neural Network Model"
   ]
  },
  {
   "cell_type": "code",
   "execution_count": 18,
   "metadata": {},
   "outputs": [],
   "source": [
    "from sklearn.model_selection import cross_val_score\n",
    "from sklearn.model_selection import KFold\n",
    "from sklearn.pipeline import Pipeline\n",
    "from sklearn.metrics import classification_report\n",
    "from sklearn.metrics import accuracy_score"
   ]
  },
  {
   "cell_type": "code",
   "execution_count": 19,
   "metadata": {},
   "outputs": [],
   "source": [
    "#clf = KerasClassifier(build_fn=baseline_model, epochs=200, batch_size=32, verbose=0)"
   ]
  },
  {
   "cell_type": "code",
   "execution_count": 20,
   "metadata": {},
   "outputs": [],
   "source": [
    "#clf.fit(x_train, y_train, )"
   ]
  },
  {
   "cell_type": "code",
   "execution_count": 21,
   "metadata": {},
   "outputs": [],
   "source": [
    "#kfold = KFold(n_splits=5, shuffle=True, random_state=seed)"
   ]
  },
  {
   "cell_type": "code",
   "execution_count": 22,
   "metadata": {},
   "outputs": [],
   "source": [
    "#results = cross_val_score(clf, x_train, y_train, cv=kfold)"
   ]
  },
  {
   "cell_type": "code",
   "execution_count": 23,
   "metadata": {},
   "outputs": [],
   "source": [
    "#results"
   ]
  },
  {
   "cell_type": "code",
   "execution_count": 24,
   "metadata": {},
   "outputs": [],
   "source": [
    "#preds = clf.predict(X_test)"
   ]
  },
  {
   "cell_type": "code",
   "execution_count": 25,
   "metadata": {},
   "outputs": [],
   "source": [
    "#preds[1]"
   ]
  },
  {
   "cell_type": "code",
   "execution_count": 26,
   "metadata": {},
   "outputs": [],
   "source": [
    "#predictions = [encoder.inverse_transform(pred) for pred in preds]"
   ]
  },
  {
   "cell_type": "code",
   "execution_count": 27,
   "metadata": {},
   "outputs": [],
   "source": [
    "#predictions"
   ]
  },
  {
   "cell_type": "markdown",
   "metadata": {},
   "source": [
    "# XGBOOST"
   ]
  },
  {
   "cell_type": "markdown",
   "metadata": {},
   "source": [
    "The most important XGBoost parameters are as follows:\n",
    "\n",
    "- ```eta (default=0.3)```: This is the equivalent of the learning rate in Scikit-learn's GBM\n",
    "- ```min_child_weight (default=1)```: Higher values prevent overfitting and tree complexity\n",
    "- ```max_depth (default=6)```: This is the number of interactions in the trees\n",
    "- ```subsample (default=1)```: This is a fraction of samples of the training data that we take in each iteration\n",
    "- ```colsample_bytree (default=1)```: This is the fraction of features in each iteration\n",
    "- ```lambda (default=1)```: This is the L2 regularization (Boolean)\n",
    "- ```seed (default=0)```: This is the equivalent of Scikit-learn's random_state parameter, allowing reproducibility of learning processes across multiple tests and different machines\n",
    "\n"
   ]
  },
  {
   "cell_type": "markdown",
   "metadata": {},
   "source": [
    "![](subm1.png)"
   ]
  },
  {
   "cell_type": "markdown",
   "metadata": {},
   "source": [
    "## Monitoring performance and Early Stopping"
   ]
  },
  {
   "cell_type": "code",
   "execution_count": 28,
   "metadata": {},
   "outputs": [],
   "source": [
    "import xgboost as xgb"
   ]
  },
  {
   "cell_type": "code",
   "execution_count": 45,
   "metadata": {},
   "outputs": [],
   "source": [
    "params = {}\n",
    "params['objective'] = 'multi:softmax'\n",
    "params['eval_metric'] = 'mlogloss'\n",
    "params['num_class'] = 10\n",
    "params['tree_method'] = 'exact'\n",
    "params['silent'] = 0\n",
    "params['max_bin'] = 12\n",
    "params['eta'] = 0.1\n",
    "params['max_depth'] = 6\n",
    "params['subsample'] = 0.5"
   ]
  },
  {
   "cell_type": "code",
   "execution_count": 46,
   "metadata": {},
   "outputs": [],
   "source": [
    "d_train = xgb.DMatrix(X_train, label=Y_train)\n",
    "d_valid = xgb.DMatrix(X_valid, label=Y_valid)\n",
    "watchlist = [(d_valid,'eval'),(d_train,'train')]"
   ]
  },
  {
   "cell_type": "code",
   "execution_count": 31,
   "metadata": {},
   "outputs": [
    {
     "name": "stdout",
     "output_type": "stream",
     "text": [
      "[0]\teval-mlogloss:2.30257\ttrain-mlogloss:2.25779\n",
      "Multiple eval metrics have been passed: 'train-mlogloss' will be used for early stopping.\n",
      "\n",
      "Will train until train-mlogloss hasn't improved in 50 rounds.\n",
      "[1]\teval-mlogloss:2.30357\ttrain-mlogloss:2.21177\n",
      "[2]\teval-mlogloss:2.30613\ttrain-mlogloss:2.17443\n",
      "[3]\teval-mlogloss:2.30981\ttrain-mlogloss:2.13706\n",
      "[4]\teval-mlogloss:2.31731\ttrain-mlogloss:2.09706\n",
      "[5]\teval-mlogloss:2.31981\ttrain-mlogloss:2.05894\n",
      "[6]\teval-mlogloss:2.32491\ttrain-mlogloss:2.02145\n",
      "[7]\teval-mlogloss:2.32559\ttrain-mlogloss:1.98303\n",
      "[8]\teval-mlogloss:2.32918\ttrain-mlogloss:1.94497\n",
      "[9]\teval-mlogloss:2.33375\ttrain-mlogloss:1.90829\n",
      "[10]\teval-mlogloss:2.33737\ttrain-mlogloss:1.87301\n",
      "[11]\teval-mlogloss:2.34306\ttrain-mlogloss:1.84446\n",
      "[12]\teval-mlogloss:2.34565\ttrain-mlogloss:1.81225\n",
      "[13]\teval-mlogloss:2.34841\ttrain-mlogloss:1.78402\n",
      "[14]\teval-mlogloss:2.35372\ttrain-mlogloss:1.7513\n",
      "[15]\teval-mlogloss:2.35814\ttrain-mlogloss:1.72244\n",
      "[16]\teval-mlogloss:2.36236\ttrain-mlogloss:1.69233\n",
      "[17]\teval-mlogloss:2.36417\ttrain-mlogloss:1.66443\n",
      "[18]\teval-mlogloss:2.36983\ttrain-mlogloss:1.63562\n",
      "[19]\teval-mlogloss:2.37472\ttrain-mlogloss:1.60694\n",
      "[20]\teval-mlogloss:2.37852\ttrain-mlogloss:1.58045\n",
      "[21]\teval-mlogloss:2.38252\ttrain-mlogloss:1.55497\n",
      "[22]\teval-mlogloss:2.38661\ttrain-mlogloss:1.53314\n",
      "[23]\teval-mlogloss:2.38928\ttrain-mlogloss:1.50989\n",
      "[24]\teval-mlogloss:2.393\ttrain-mlogloss:1.49063\n",
      "[25]\teval-mlogloss:2.39745\ttrain-mlogloss:1.46847\n",
      "[26]\teval-mlogloss:2.4021\ttrain-mlogloss:1.44931\n",
      "[27]\teval-mlogloss:2.40791\ttrain-mlogloss:1.42712\n",
      "[28]\teval-mlogloss:2.41122\ttrain-mlogloss:1.40654\n",
      "[29]\teval-mlogloss:2.41649\ttrain-mlogloss:1.38191\n",
      "[30]\teval-mlogloss:2.42184\ttrain-mlogloss:1.35995\n",
      "[31]\teval-mlogloss:2.42611\ttrain-mlogloss:1.34385\n",
      "[32]\teval-mlogloss:2.43137\ttrain-mlogloss:1.32693\n",
      "[33]\teval-mlogloss:2.43623\ttrain-mlogloss:1.30664\n",
      "[34]\teval-mlogloss:2.43909\ttrain-mlogloss:1.2874\n",
      "[35]\teval-mlogloss:2.44157\ttrain-mlogloss:1.27091\n",
      "[36]\teval-mlogloss:2.44578\ttrain-mlogloss:1.25634\n",
      "[37]\teval-mlogloss:2.45044\ttrain-mlogloss:1.23771\n",
      "[38]\teval-mlogloss:2.45585\ttrain-mlogloss:1.22277\n",
      "[39]\teval-mlogloss:2.45901\ttrain-mlogloss:1.20596\n",
      "[40]\teval-mlogloss:2.4628\ttrain-mlogloss:1.18791\n",
      "[41]\teval-mlogloss:2.46372\ttrain-mlogloss:1.17367\n",
      "[42]\teval-mlogloss:2.46737\ttrain-mlogloss:1.15675\n",
      "[43]\teval-mlogloss:2.46911\ttrain-mlogloss:1.14058\n",
      "[44]\teval-mlogloss:2.47227\ttrain-mlogloss:1.12488\n",
      "[45]\teval-mlogloss:2.47801\ttrain-mlogloss:1.10928\n",
      "[46]\teval-mlogloss:2.48114\ttrain-mlogloss:1.09251\n",
      "[47]\teval-mlogloss:2.48254\ttrain-mlogloss:1.0773\n",
      "[48]\teval-mlogloss:2.48717\ttrain-mlogloss:1.06116\n",
      "[49]\teval-mlogloss:2.49094\ttrain-mlogloss:1.04695\n",
      "[50]\teval-mlogloss:2.4962\ttrain-mlogloss:1.03245\n",
      "[51]\teval-mlogloss:2.49872\ttrain-mlogloss:1.01816\n",
      "[52]\teval-mlogloss:2.50062\ttrain-mlogloss:1.00379\n",
      "[53]\teval-mlogloss:2.50305\ttrain-mlogloss:0.991079\n",
      "[54]\teval-mlogloss:2.50747\ttrain-mlogloss:0.978415\n",
      "[55]\teval-mlogloss:2.51131\ttrain-mlogloss:0.963994\n",
      "[56]\teval-mlogloss:2.51446\ttrain-mlogloss:0.953267\n",
      "[57]\teval-mlogloss:2.51845\ttrain-mlogloss:0.940062\n",
      "[58]\teval-mlogloss:2.52286\ttrain-mlogloss:0.926931\n",
      "[59]\teval-mlogloss:2.52634\ttrain-mlogloss:0.914273\n",
      "[60]\teval-mlogloss:2.52933\ttrain-mlogloss:0.904001\n",
      "[61]\teval-mlogloss:2.53457\ttrain-mlogloss:0.892946\n",
      "[62]\teval-mlogloss:2.53799\ttrain-mlogloss:0.880442\n",
      "[63]\teval-mlogloss:2.53891\ttrain-mlogloss:0.870092\n",
      "[64]\teval-mlogloss:2.542\ttrain-mlogloss:0.859012\n",
      "[65]\teval-mlogloss:2.54598\ttrain-mlogloss:0.849806\n",
      "[66]\teval-mlogloss:2.54799\ttrain-mlogloss:0.83905\n",
      "[67]\teval-mlogloss:2.55071\ttrain-mlogloss:0.828416\n",
      "[68]\teval-mlogloss:2.55319\ttrain-mlogloss:0.817928\n",
      "[69]\teval-mlogloss:2.55452\ttrain-mlogloss:0.807912\n",
      "[70]\teval-mlogloss:2.55801\ttrain-mlogloss:0.799565\n",
      "[71]\teval-mlogloss:2.55962\ttrain-mlogloss:0.789889\n",
      "[72]\teval-mlogloss:2.56445\ttrain-mlogloss:0.780926\n",
      "[73]\teval-mlogloss:2.56693\ttrain-mlogloss:0.770097\n",
      "[74]\teval-mlogloss:2.57071\ttrain-mlogloss:0.759631\n",
      "[75]\teval-mlogloss:2.57173\ttrain-mlogloss:0.749209\n",
      "[76]\teval-mlogloss:2.57577\ttrain-mlogloss:0.740594\n",
      "[77]\teval-mlogloss:2.57753\ttrain-mlogloss:0.730352\n",
      "[78]\teval-mlogloss:2.58036\ttrain-mlogloss:0.720044\n",
      "[79]\teval-mlogloss:2.5829\ttrain-mlogloss:0.711162\n",
      "[80]\teval-mlogloss:2.58584\ttrain-mlogloss:0.701846\n",
      "[81]\teval-mlogloss:2.58876\ttrain-mlogloss:0.693594\n",
      "[82]\teval-mlogloss:2.58964\ttrain-mlogloss:0.686193\n",
      "[83]\teval-mlogloss:2.59206\ttrain-mlogloss:0.677174\n",
      "[84]\teval-mlogloss:2.59598\ttrain-mlogloss:0.668362\n",
      "[85]\teval-mlogloss:2.60075\ttrain-mlogloss:0.660318\n",
      "[86]\teval-mlogloss:2.60374\ttrain-mlogloss:0.651776\n",
      "[87]\teval-mlogloss:2.60772\ttrain-mlogloss:0.644988\n",
      "[88]\teval-mlogloss:2.61042\ttrain-mlogloss:0.637725\n",
      "[89]\teval-mlogloss:2.6128\ttrain-mlogloss:0.630571\n",
      "[90]\teval-mlogloss:2.6168\ttrain-mlogloss:0.622646\n",
      "[91]\teval-mlogloss:2.62204\ttrain-mlogloss:0.614901\n",
      "[92]\teval-mlogloss:2.62616\ttrain-mlogloss:0.60857\n",
      "[93]\teval-mlogloss:2.62748\ttrain-mlogloss:0.601663\n",
      "[94]\teval-mlogloss:2.63016\ttrain-mlogloss:0.594496\n",
      "[95]\teval-mlogloss:2.63513\ttrain-mlogloss:0.587608\n",
      "[96]\teval-mlogloss:2.6377\ttrain-mlogloss:0.581326\n",
      "[97]\teval-mlogloss:2.64185\ttrain-mlogloss:0.574881\n",
      "[98]\teval-mlogloss:2.64485\ttrain-mlogloss:0.568169\n",
      "[99]\teval-mlogloss:2.64864\ttrain-mlogloss:0.56225\n",
      "[100]\teval-mlogloss:2.652\ttrain-mlogloss:0.555533\n",
      "[101]\teval-mlogloss:2.65379\ttrain-mlogloss:0.548988\n",
      "[102]\teval-mlogloss:2.65765\ttrain-mlogloss:0.542195\n",
      "[103]\teval-mlogloss:2.66066\ttrain-mlogloss:0.536162\n",
      "[104]\teval-mlogloss:2.66463\ttrain-mlogloss:0.530375\n",
      "[105]\teval-mlogloss:2.66646\ttrain-mlogloss:0.524791\n",
      "[106]\teval-mlogloss:2.66782\ttrain-mlogloss:0.519244\n",
      "[107]\teval-mlogloss:2.67022\ttrain-mlogloss:0.514024\n",
      "[108]\teval-mlogloss:2.67337\ttrain-mlogloss:0.508698\n",
      "[109]\teval-mlogloss:2.67732\ttrain-mlogloss:0.502731\n",
      "[110]\teval-mlogloss:2.68\ttrain-mlogloss:0.497459\n",
      "[111]\teval-mlogloss:2.68176\ttrain-mlogloss:0.491369\n",
      "[112]\teval-mlogloss:2.68411\ttrain-mlogloss:0.486177\n",
      "[113]\teval-mlogloss:2.68564\ttrain-mlogloss:0.481812\n",
      "[114]\teval-mlogloss:2.68838\ttrain-mlogloss:0.476767\n",
      "[115]\teval-mlogloss:2.6921\ttrain-mlogloss:0.471848\n",
      "[116]\teval-mlogloss:2.69412\ttrain-mlogloss:0.46668\n",
      "[117]\teval-mlogloss:2.6972\ttrain-mlogloss:0.462204\n",
      "[118]\teval-mlogloss:2.70055\ttrain-mlogloss:0.456283\n",
      "[119]\teval-mlogloss:2.70361\ttrain-mlogloss:0.451402\n",
      "[120]\teval-mlogloss:2.70695\ttrain-mlogloss:0.447\n",
      "[121]\teval-mlogloss:2.70838\ttrain-mlogloss:0.442157\n",
      "[122]\teval-mlogloss:2.71102\ttrain-mlogloss:0.437201\n",
      "[123]\teval-mlogloss:2.71668\ttrain-mlogloss:0.432034\n",
      "[124]\teval-mlogloss:2.71929\ttrain-mlogloss:0.427397\n",
      "[125]\teval-mlogloss:2.71993\ttrain-mlogloss:0.423077\n",
      "[126]\teval-mlogloss:2.72261\ttrain-mlogloss:0.418458\n",
      "[127]\teval-mlogloss:2.72607\ttrain-mlogloss:0.413722\n",
      "[128]\teval-mlogloss:2.72823\ttrain-mlogloss:0.408941\n",
      "[129]\teval-mlogloss:2.73183\ttrain-mlogloss:0.404471\n",
      "[130]\teval-mlogloss:2.73495\ttrain-mlogloss:0.400004\n",
      "[131]\teval-mlogloss:2.73854\ttrain-mlogloss:0.395858\n",
      "[132]\teval-mlogloss:2.74054\ttrain-mlogloss:0.392239\n",
      "[133]\teval-mlogloss:2.74184\ttrain-mlogloss:0.38824\n",
      "[134]\teval-mlogloss:2.74441\ttrain-mlogloss:0.38424\n",
      "[135]\teval-mlogloss:2.74777\ttrain-mlogloss:0.379852\n",
      "[136]\teval-mlogloss:2.74965\ttrain-mlogloss:0.375932\n",
      "[137]\teval-mlogloss:2.75232\ttrain-mlogloss:0.371566\n",
      "[138]\teval-mlogloss:2.75347\ttrain-mlogloss:0.368383\n",
      "[139]\teval-mlogloss:2.75482\ttrain-mlogloss:0.364019\n",
      "[140]\teval-mlogloss:2.75624\ttrain-mlogloss:0.360349\n",
      "[141]\teval-mlogloss:2.75915\ttrain-mlogloss:0.35669\n",
      "[142]\teval-mlogloss:2.76106\ttrain-mlogloss:0.353115\n",
      "[143]\teval-mlogloss:2.76257\ttrain-mlogloss:0.349842\n",
      "[144]\teval-mlogloss:2.76686\ttrain-mlogloss:0.34647\n",
      "[145]\teval-mlogloss:2.76805\ttrain-mlogloss:0.342867\n",
      "[146]\teval-mlogloss:2.77073\ttrain-mlogloss:0.340003\n",
      "[147]\teval-mlogloss:2.77274\ttrain-mlogloss:0.336637\n",
      "[148]\teval-mlogloss:2.77549\ttrain-mlogloss:0.333179\n",
      "[149]\teval-mlogloss:2.77649\ttrain-mlogloss:0.329504\n",
      "[150]\teval-mlogloss:2.77934\ttrain-mlogloss:0.326549\n",
      "[151]\teval-mlogloss:2.78307\ttrain-mlogloss:0.323189\n",
      "[152]\teval-mlogloss:2.78515\ttrain-mlogloss:0.320099\n",
      "[153]\teval-mlogloss:2.7866\ttrain-mlogloss:0.316885\n",
      "[154]\teval-mlogloss:2.7894\ttrain-mlogloss:0.313932\n",
      "[155]\teval-mlogloss:2.79085\ttrain-mlogloss:0.310868\n",
      "[156]\teval-mlogloss:2.79292\ttrain-mlogloss:0.307851\n",
      "[157]\teval-mlogloss:2.79574\ttrain-mlogloss:0.305241\n",
      "[158]\teval-mlogloss:2.79867\ttrain-mlogloss:0.302819\n"
     ]
    },
    {
     "name": "stdout",
     "output_type": "stream",
     "text": [
      "[159]\teval-mlogloss:2.80221\ttrain-mlogloss:0.299681\n",
      "[160]\teval-mlogloss:2.80508\ttrain-mlogloss:0.297035\n",
      "[161]\teval-mlogloss:2.80644\ttrain-mlogloss:0.294706\n",
      "[162]\teval-mlogloss:2.80779\ttrain-mlogloss:0.292083\n",
      "[163]\teval-mlogloss:2.81192\ttrain-mlogloss:0.289162\n",
      "[164]\teval-mlogloss:2.81429\ttrain-mlogloss:0.286868\n",
      "[165]\teval-mlogloss:2.81699\ttrain-mlogloss:0.284361\n",
      "[166]\teval-mlogloss:2.82018\ttrain-mlogloss:0.281952\n",
      "[167]\teval-mlogloss:2.82214\ttrain-mlogloss:0.279374\n",
      "[168]\teval-mlogloss:2.82522\ttrain-mlogloss:0.276733\n",
      "[169]\teval-mlogloss:2.8272\ttrain-mlogloss:0.274281\n",
      "[170]\teval-mlogloss:2.82844\ttrain-mlogloss:0.27192\n",
      "[171]\teval-mlogloss:2.8291\ttrain-mlogloss:0.269713\n",
      "[172]\teval-mlogloss:2.82953\ttrain-mlogloss:0.267475\n",
      "[173]\teval-mlogloss:2.831\ttrain-mlogloss:0.265164\n",
      "[174]\teval-mlogloss:2.8336\ttrain-mlogloss:0.263038\n",
      "[175]\teval-mlogloss:2.83513\ttrain-mlogloss:0.260478\n",
      "[176]\teval-mlogloss:2.83711\ttrain-mlogloss:0.258153\n",
      "[177]\teval-mlogloss:2.83748\ttrain-mlogloss:0.255893\n",
      "[178]\teval-mlogloss:2.84124\ttrain-mlogloss:0.253748\n",
      "[179]\teval-mlogloss:2.84104\ttrain-mlogloss:0.251486\n",
      "[180]\teval-mlogloss:2.84398\ttrain-mlogloss:0.249451\n",
      "[181]\teval-mlogloss:2.8465\ttrain-mlogloss:0.247499\n",
      "[182]\teval-mlogloss:2.8498\ttrain-mlogloss:0.24541\n",
      "[183]\teval-mlogloss:2.85286\ttrain-mlogloss:0.243207\n",
      "[184]\teval-mlogloss:2.85426\ttrain-mlogloss:0.241259\n",
      "[185]\teval-mlogloss:2.85686\ttrain-mlogloss:0.239202\n",
      "[186]\teval-mlogloss:2.85882\ttrain-mlogloss:0.237459\n",
      "[187]\teval-mlogloss:2.86063\ttrain-mlogloss:0.235462\n",
      "[188]\teval-mlogloss:2.86225\ttrain-mlogloss:0.233624\n",
      "[189]\teval-mlogloss:2.86305\ttrain-mlogloss:0.23176\n",
      "[190]\teval-mlogloss:2.86503\ttrain-mlogloss:0.229851\n",
      "[191]\teval-mlogloss:2.86582\ttrain-mlogloss:0.2281\n",
      "[192]\teval-mlogloss:2.86824\ttrain-mlogloss:0.226597\n",
      "[193]\teval-mlogloss:2.87026\ttrain-mlogloss:0.224852\n",
      "[194]\teval-mlogloss:2.87152\ttrain-mlogloss:0.223028\n",
      "[195]\teval-mlogloss:2.87327\ttrain-mlogloss:0.221227\n",
      "[196]\teval-mlogloss:2.87523\ttrain-mlogloss:0.219614\n",
      "[197]\teval-mlogloss:2.87764\ttrain-mlogloss:0.218104\n",
      "[198]\teval-mlogloss:2.87951\ttrain-mlogloss:0.216496\n",
      "[199]\teval-mlogloss:2.88381\ttrain-mlogloss:0.214646\n"
     ]
    }
   ],
   "source": [
    "clf = xgb.train(params, d_train, 200, watchlist, early_stopping_rounds=50, verbose_eval=True)"
   ]
  },
  {
   "cell_type": "code",
   "execution_count": 47,
   "metadata": {},
   "outputs": [
    {
     "name": "stdout",
     "output_type": "stream",
     "text": [
      "[0]\teval-mlogloss:2.30414\ttrain-mlogloss:2.27112\n",
      "Multiple eval metrics have been passed: 'train-mlogloss' will be used for early stopping.\n",
      "\n",
      "Will train until train-mlogloss hasn't improved in 50 rounds.\n",
      "[1]\teval-mlogloss:2.30661\ttrain-mlogloss:2.23889\n",
      "[2]\teval-mlogloss:2.30655\ttrain-mlogloss:2.21185\n",
      "[3]\teval-mlogloss:2.30835\ttrain-mlogloss:2.18429\n",
      "[4]\teval-mlogloss:2.31377\ttrain-mlogloss:2.15648\n",
      "[5]\teval-mlogloss:2.31475\ttrain-mlogloss:2.12835\n",
      "[6]\teval-mlogloss:2.31719\ttrain-mlogloss:2.0999\n",
      "[7]\teval-mlogloss:2.31895\ttrain-mlogloss:2.07\n",
      "[8]\teval-mlogloss:2.32138\ttrain-mlogloss:2.04404\n",
      "[9]\teval-mlogloss:2.32544\ttrain-mlogloss:2.01706\n",
      "[10]\teval-mlogloss:2.32918\ttrain-mlogloss:1.98926\n",
      "[11]\teval-mlogloss:2.3321\ttrain-mlogloss:1.96854\n",
      "[12]\teval-mlogloss:2.33448\ttrain-mlogloss:1.94285\n",
      "[13]\teval-mlogloss:2.33776\ttrain-mlogloss:1.92225\n",
      "[14]\teval-mlogloss:2.34201\ttrain-mlogloss:1.89983\n",
      "[15]\teval-mlogloss:2.34424\ttrain-mlogloss:1.87813\n",
      "[16]\teval-mlogloss:2.34718\ttrain-mlogloss:1.85488\n",
      "[17]\teval-mlogloss:2.3494\ttrain-mlogloss:1.83317\n",
      "[18]\teval-mlogloss:2.35158\ttrain-mlogloss:1.81495\n",
      "[19]\teval-mlogloss:2.35696\ttrain-mlogloss:1.79465\n",
      "[20]\teval-mlogloss:2.3616\ttrain-mlogloss:1.77667\n",
      "[21]\teval-mlogloss:2.36587\ttrain-mlogloss:1.75808\n",
      "[22]\teval-mlogloss:2.36744\ttrain-mlogloss:1.74393\n",
      "[23]\teval-mlogloss:2.37021\ttrain-mlogloss:1.7281\n",
      "[24]\teval-mlogloss:2.37215\ttrain-mlogloss:1.71161\n",
      "[25]\teval-mlogloss:2.37659\ttrain-mlogloss:1.69318\n",
      "[26]\teval-mlogloss:2.37873\ttrain-mlogloss:1.67824\n",
      "[27]\teval-mlogloss:2.38163\ttrain-mlogloss:1.65998\n",
      "[28]\teval-mlogloss:2.38594\ttrain-mlogloss:1.6455\n",
      "[29]\teval-mlogloss:2.39074\ttrain-mlogloss:1.62538\n",
      "[30]\teval-mlogloss:2.39453\ttrain-mlogloss:1.60616\n",
      "[31]\teval-mlogloss:2.39937\ttrain-mlogloss:1.59348\n",
      "[32]\teval-mlogloss:2.40437\ttrain-mlogloss:1.58073\n",
      "[33]\teval-mlogloss:2.40746\ttrain-mlogloss:1.56392\n",
      "[34]\teval-mlogloss:2.41\ttrain-mlogloss:1.549\n",
      "[35]\teval-mlogloss:2.41212\ttrain-mlogloss:1.53589\n",
      "[36]\teval-mlogloss:2.41425\ttrain-mlogloss:1.52415\n",
      "[37]\teval-mlogloss:2.41702\ttrain-mlogloss:1.50919\n",
      "[38]\teval-mlogloss:2.42119\ttrain-mlogloss:1.49634\n",
      "[39]\teval-mlogloss:2.42302\ttrain-mlogloss:1.48399\n",
      "[40]\teval-mlogloss:2.42581\ttrain-mlogloss:1.46806\n",
      "[41]\teval-mlogloss:2.42735\ttrain-mlogloss:1.45683\n",
      "[42]\teval-mlogloss:2.43187\ttrain-mlogloss:1.442\n",
      "[43]\teval-mlogloss:2.43291\ttrain-mlogloss:1.42796\n",
      "[44]\teval-mlogloss:2.43382\ttrain-mlogloss:1.41363\n",
      "[45]\teval-mlogloss:2.43755\ttrain-mlogloss:1.40072\n",
      "[46]\teval-mlogloss:2.43954\ttrain-mlogloss:1.38681\n",
      "[47]\teval-mlogloss:2.44137\ttrain-mlogloss:1.37401\n",
      "[48]\teval-mlogloss:2.44497\ttrain-mlogloss:1.35925\n",
      "[49]\teval-mlogloss:2.44578\ttrain-mlogloss:1.34763\n",
      "[50]\teval-mlogloss:2.44728\ttrain-mlogloss:1.33373\n",
      "[51]\teval-mlogloss:2.45041\ttrain-mlogloss:1.32113\n",
      "[52]\teval-mlogloss:2.45341\ttrain-mlogloss:1.30677\n",
      "[53]\teval-mlogloss:2.45602\ttrain-mlogloss:1.29523\n",
      "[54]\teval-mlogloss:2.45836\ttrain-mlogloss:1.28357\n",
      "[55]\teval-mlogloss:2.46158\ttrain-mlogloss:1.27043\n",
      "[56]\teval-mlogloss:2.46397\ttrain-mlogloss:1.26139\n",
      "[57]\teval-mlogloss:2.46853\ttrain-mlogloss:1.2493\n",
      "[58]\teval-mlogloss:2.47136\ttrain-mlogloss:1.23649\n",
      "[59]\teval-mlogloss:2.47368\ttrain-mlogloss:1.22356\n",
      "[60]\teval-mlogloss:2.4756\ttrain-mlogloss:1.21328\n",
      "[61]\teval-mlogloss:2.47928\ttrain-mlogloss:1.20348\n",
      "[62]\teval-mlogloss:2.47966\ttrain-mlogloss:1.19159\n",
      "[63]\teval-mlogloss:2.48084\ttrain-mlogloss:1.18163\n",
      "[64]\teval-mlogloss:2.48332\ttrain-mlogloss:1.17254\n",
      "[65]\teval-mlogloss:2.48694\ttrain-mlogloss:1.16324\n",
      "[66]\teval-mlogloss:2.49107\ttrain-mlogloss:1.15206\n",
      "[67]\teval-mlogloss:2.49305\ttrain-mlogloss:1.1421\n",
      "[68]\teval-mlogloss:2.49386\ttrain-mlogloss:1.13174\n",
      "[69]\teval-mlogloss:2.49581\ttrain-mlogloss:1.12102\n",
      "[70]\teval-mlogloss:2.49871\ttrain-mlogloss:1.11147\n",
      "[71]\teval-mlogloss:2.5019\ttrain-mlogloss:1.10221\n",
      "[72]\teval-mlogloss:2.50429\ttrain-mlogloss:1.09376\n",
      "[73]\teval-mlogloss:2.50557\ttrain-mlogloss:1.08356\n",
      "[74]\teval-mlogloss:2.51079\ttrain-mlogloss:1.07279\n",
      "[75]\teval-mlogloss:2.51379\ttrain-mlogloss:1.06231\n",
      "[76]\teval-mlogloss:2.5167\ttrain-mlogloss:1.05396\n",
      "[77]\teval-mlogloss:2.51813\ttrain-mlogloss:1.04363\n",
      "[78]\teval-mlogloss:2.52193\ttrain-mlogloss:1.03185\n",
      "[79]\teval-mlogloss:2.52328\ttrain-mlogloss:1.02354\n",
      "[80]\teval-mlogloss:2.52481\ttrain-mlogloss:1.01438\n",
      "[81]\teval-mlogloss:2.52702\ttrain-mlogloss:1.00588\n",
      "[82]\teval-mlogloss:2.53071\ttrain-mlogloss:0.996695\n",
      "[83]\teval-mlogloss:2.53141\ttrain-mlogloss:0.988103\n",
      "[84]\teval-mlogloss:2.53235\ttrain-mlogloss:0.979874\n",
      "[85]\teval-mlogloss:2.53663\ttrain-mlogloss:0.970367\n",
      "[86]\teval-mlogloss:2.5399\ttrain-mlogloss:0.96266\n",
      "[87]\teval-mlogloss:2.54258\ttrain-mlogloss:0.955796\n",
      "[88]\teval-mlogloss:2.54658\ttrain-mlogloss:0.948104\n",
      "[89]\teval-mlogloss:2.54792\ttrain-mlogloss:0.940424\n",
      "[90]\teval-mlogloss:2.54975\ttrain-mlogloss:0.931792\n",
      "[91]\teval-mlogloss:2.55262\ttrain-mlogloss:0.923459\n",
      "[92]\teval-mlogloss:2.55487\ttrain-mlogloss:0.916735\n",
      "[93]\teval-mlogloss:2.55746\ttrain-mlogloss:0.910158\n",
      "[94]\teval-mlogloss:2.5589\ttrain-mlogloss:0.903177\n",
      "[95]\teval-mlogloss:2.56288\ttrain-mlogloss:0.895474\n",
      "[96]\teval-mlogloss:2.56512\ttrain-mlogloss:0.889096\n",
      "[97]\teval-mlogloss:2.56825\ttrain-mlogloss:0.882164\n",
      "[98]\teval-mlogloss:2.57079\ttrain-mlogloss:0.874919\n",
      "[99]\teval-mlogloss:2.57276\ttrain-mlogloss:0.867757\n",
      "[100]\teval-mlogloss:2.57356\ttrain-mlogloss:0.861003\n",
      "[101]\teval-mlogloss:2.57685\ttrain-mlogloss:0.854118\n",
      "[102]\teval-mlogloss:2.58062\ttrain-mlogloss:0.846423\n",
      "[103]\teval-mlogloss:2.58069\ttrain-mlogloss:0.839852\n",
      "[104]\teval-mlogloss:2.58231\ttrain-mlogloss:0.832735\n",
      "[105]\teval-mlogloss:2.58638\ttrain-mlogloss:0.825503\n",
      "[106]\teval-mlogloss:2.58687\ttrain-mlogloss:0.817893\n",
      "[107]\teval-mlogloss:2.58749\ttrain-mlogloss:0.811915\n",
      "[108]\teval-mlogloss:2.59068\ttrain-mlogloss:0.805015\n",
      "[109]\teval-mlogloss:2.59393\ttrain-mlogloss:0.798598\n",
      "[110]\teval-mlogloss:2.59747\ttrain-mlogloss:0.791543\n",
      "[111]\teval-mlogloss:2.60003\ttrain-mlogloss:0.783642\n",
      "[112]\teval-mlogloss:2.60217\ttrain-mlogloss:0.777424\n",
      "[113]\teval-mlogloss:2.60553\ttrain-mlogloss:0.772092\n",
      "[114]\teval-mlogloss:2.60747\ttrain-mlogloss:0.766084\n",
      "[115]\teval-mlogloss:2.60927\ttrain-mlogloss:0.7601\n",
      "[116]\teval-mlogloss:2.61234\ttrain-mlogloss:0.753917\n",
      "[117]\teval-mlogloss:2.61318\ttrain-mlogloss:0.747084\n",
      "[118]\teval-mlogloss:2.61576\ttrain-mlogloss:0.740245\n",
      "[119]\teval-mlogloss:2.61855\ttrain-mlogloss:0.734912\n",
      "[120]\teval-mlogloss:2.62327\ttrain-mlogloss:0.728302\n",
      "[121]\teval-mlogloss:2.62521\ttrain-mlogloss:0.722276\n",
      "[122]\teval-mlogloss:2.62667\ttrain-mlogloss:0.716199\n",
      "[123]\teval-mlogloss:2.63068\ttrain-mlogloss:0.71006\n",
      "[124]\teval-mlogloss:2.63219\ttrain-mlogloss:0.704145\n",
      "[125]\teval-mlogloss:2.63328\ttrain-mlogloss:0.698908\n",
      "[126]\teval-mlogloss:2.63549\ttrain-mlogloss:0.693005\n",
      "[127]\teval-mlogloss:2.63889\ttrain-mlogloss:0.687543\n",
      "[128]\teval-mlogloss:2.64102\ttrain-mlogloss:0.682148\n",
      "[129]\teval-mlogloss:2.64214\ttrain-mlogloss:0.676559\n",
      "[130]\teval-mlogloss:2.64616\ttrain-mlogloss:0.670207\n",
      "[131]\teval-mlogloss:2.64834\ttrain-mlogloss:0.665099\n",
      "[132]\teval-mlogloss:2.64927\ttrain-mlogloss:0.66\n",
      "[133]\teval-mlogloss:2.65142\ttrain-mlogloss:0.654936\n",
      "[134]\teval-mlogloss:2.65393\ttrain-mlogloss:0.649472\n",
      "[135]\teval-mlogloss:2.65625\ttrain-mlogloss:0.643718\n",
      "[136]\teval-mlogloss:2.65746\ttrain-mlogloss:0.638501\n",
      "[137]\teval-mlogloss:2.6602\ttrain-mlogloss:0.63333\n",
      "[138]\teval-mlogloss:2.65857\ttrain-mlogloss:0.628759\n",
      "[139]\teval-mlogloss:2.66056\ttrain-mlogloss:0.623384\n",
      "[140]\teval-mlogloss:2.66115\ttrain-mlogloss:0.619004\n",
      "[141]\teval-mlogloss:2.66365\ttrain-mlogloss:0.614744\n",
      "[142]\teval-mlogloss:2.66592\ttrain-mlogloss:0.610321\n",
      "[143]\teval-mlogloss:2.66967\ttrain-mlogloss:0.605714\n",
      "[144]\teval-mlogloss:2.67357\ttrain-mlogloss:0.600857\n",
      "[145]\teval-mlogloss:2.67444\ttrain-mlogloss:0.595644\n",
      "[146]\teval-mlogloss:2.6771\ttrain-mlogloss:0.592101\n",
      "[147]\teval-mlogloss:2.6794\ttrain-mlogloss:0.587485\n",
      "[148]\teval-mlogloss:2.68198\ttrain-mlogloss:0.582517\n",
      "[149]\teval-mlogloss:2.68372\ttrain-mlogloss:0.577749\n",
      "[150]\teval-mlogloss:2.68734\ttrain-mlogloss:0.572751\n",
      "[151]\teval-mlogloss:2.69021\ttrain-mlogloss:0.56725\n",
      "[152]\teval-mlogloss:2.69268\ttrain-mlogloss:0.562631\n",
      "[153]\teval-mlogloss:2.6941\ttrain-mlogloss:0.557686\n",
      "[154]\teval-mlogloss:2.69558\ttrain-mlogloss:0.55344\n",
      "[155]\teval-mlogloss:2.69735\ttrain-mlogloss:0.548937\n",
      "[156]\teval-mlogloss:2.69869\ttrain-mlogloss:0.545178\n",
      "[157]\teval-mlogloss:2.70091\ttrain-mlogloss:0.542497\n",
      "[158]\teval-mlogloss:2.70363\ttrain-mlogloss:0.53875\n",
      "[159]\teval-mlogloss:2.70793\ttrain-mlogloss:0.534115\n"
     ]
    },
    {
     "name": "stdout",
     "output_type": "stream",
     "text": [
      "[160]\teval-mlogloss:2.7107\ttrain-mlogloss:0.529508\n",
      "[161]\teval-mlogloss:2.71248\ttrain-mlogloss:0.52527\n",
      "[162]\teval-mlogloss:2.71365\ttrain-mlogloss:0.520977\n",
      "[163]\teval-mlogloss:2.71604\ttrain-mlogloss:0.516573\n",
      "[164]\teval-mlogloss:2.71784\ttrain-mlogloss:0.512558\n",
      "[165]\teval-mlogloss:2.71966\ttrain-mlogloss:0.509358\n",
      "[166]\teval-mlogloss:2.72279\ttrain-mlogloss:0.505374\n",
      "[167]\teval-mlogloss:2.72482\ttrain-mlogloss:0.501836\n",
      "[168]\teval-mlogloss:2.7275\ttrain-mlogloss:0.497718\n",
      "[169]\teval-mlogloss:2.73091\ttrain-mlogloss:0.49389\n",
      "[170]\teval-mlogloss:2.73218\ttrain-mlogloss:0.490181\n",
      "[171]\teval-mlogloss:2.73296\ttrain-mlogloss:0.486663\n",
      "[172]\teval-mlogloss:2.73327\ttrain-mlogloss:0.482827\n",
      "[173]\teval-mlogloss:2.73545\ttrain-mlogloss:0.479385\n",
      "[174]\teval-mlogloss:2.73633\ttrain-mlogloss:0.47588\n",
      "[175]\teval-mlogloss:2.73825\ttrain-mlogloss:0.472246\n",
      "[176]\teval-mlogloss:2.73951\ttrain-mlogloss:0.468377\n",
      "[177]\teval-mlogloss:2.74077\ttrain-mlogloss:0.464368\n",
      "[178]\teval-mlogloss:2.74289\ttrain-mlogloss:0.461193\n",
      "[179]\teval-mlogloss:2.7436\ttrain-mlogloss:0.457949\n",
      "[180]\teval-mlogloss:2.74634\ttrain-mlogloss:0.454443\n",
      "[181]\teval-mlogloss:2.74831\ttrain-mlogloss:0.450902\n",
      "[182]\teval-mlogloss:2.7511\ttrain-mlogloss:0.447015\n",
      "[183]\teval-mlogloss:2.75419\ttrain-mlogloss:0.443273\n",
      "[184]\teval-mlogloss:2.75506\ttrain-mlogloss:0.440145\n",
      "[185]\teval-mlogloss:2.75831\ttrain-mlogloss:0.436324\n",
      "[186]\teval-mlogloss:2.76074\ttrain-mlogloss:0.433072\n",
      "[187]\teval-mlogloss:2.76291\ttrain-mlogloss:0.429854\n",
      "[188]\teval-mlogloss:2.76453\ttrain-mlogloss:0.426278\n",
      "[189]\teval-mlogloss:2.76624\ttrain-mlogloss:0.422836\n",
      "[190]\teval-mlogloss:2.7688\ttrain-mlogloss:0.41984\n",
      "[191]\teval-mlogloss:2.77057\ttrain-mlogloss:0.417043\n",
      "[192]\teval-mlogloss:2.772\ttrain-mlogloss:0.414424\n",
      "[193]\teval-mlogloss:2.77422\ttrain-mlogloss:0.411496\n",
      "[194]\teval-mlogloss:2.77534\ttrain-mlogloss:0.408286\n",
      "[195]\teval-mlogloss:2.77566\ttrain-mlogloss:0.405377\n",
      "[196]\teval-mlogloss:2.77835\ttrain-mlogloss:0.402306\n",
      "[197]\teval-mlogloss:2.77972\ttrain-mlogloss:0.399827\n",
      "[198]\teval-mlogloss:2.78245\ttrain-mlogloss:0.396785\n",
      "[199]\teval-mlogloss:2.78633\ttrain-mlogloss:0.393795\n"
     ]
    }
   ],
   "source": [
    "clf = xgb.train(params, d_train, 200, watchlist, early_stopping_rounds=50, verbose_eval=True)"
   ]
  },
  {
   "cell_type": "code",
   "execution_count": 32,
   "metadata": {},
   "outputs": [],
   "source": [
    "d_test = xgb.DMatrix(X_test)"
   ]
  },
  {
   "cell_type": "code",
   "execution_count": 33,
   "metadata": {},
   "outputs": [],
   "source": [
    "predictions = clf.predict(d_test).astype('int32')"
   ]
  },
  {
   "cell_type": "code",
   "execution_count": 34,
   "metadata": {},
   "outputs": [
    {
     "data": {
      "text/plain": [
       "array([0, 1, 2, 3, 4, 5, 6, 7, 8, 9], dtype=int32)"
      ]
     },
     "execution_count": 34,
     "metadata": {},
     "output_type": "execute_result"
    }
   ],
   "source": [
    "np.unique(predictions)"
   ]
  },
  {
   "cell_type": "code",
   "execution_count": 35,
   "metadata": {},
   "outputs": [
    {
     "data": {
      "text/plain": [
       "array([7, 9, 7, 0, 0, 8, 7, 7, 1, 7], dtype=int32)"
      ]
     },
     "execution_count": 35,
     "metadata": {},
     "output_type": "execute_result"
    }
   ],
   "source": [
    "predictions[:10]"
   ]
  },
  {
   "cell_type": "code",
   "execution_count": 36,
   "metadata": {},
   "outputs": [
    {
     "data": {
      "text/plain": [
       "'Sony-NEX-7'"
      ]
     },
     "execution_count": 36,
     "metadata": {},
     "output_type": "execute_result"
    }
   ],
   "source": [
    "encoder.inverse_transform(predictions[0])"
   ]
  },
  {
   "cell_type": "code",
   "execution_count": 37,
   "metadata": {},
   "outputs": [],
   "source": [
    "from xgboost import plot_importance"
   ]
  },
  {
   "cell_type": "code",
   "execution_count": 38,
   "metadata": {},
   "outputs": [
    {
     "data": {
      "image/png": "[encoded data removed]",
      "text/plain": [
       "<matplotlib.figure.Figure at 0x7f6ea40814e0>"
      ]
     },
     "metadata": {},
     "output_type": "display_data"
    }
   ],
   "source": [
    "plot_importance(clf)\n",
    "plt.show()"
   ]
  },
  {
   "cell_type": "code",
   "execution_count": 39,
   "metadata": {},
   "outputs": [],
   "source": [
    "preds = [encoder.inverse_transform(pred) for pred in predictions]"
   ]
  },
  {
   "cell_type": "code",
   "execution_count": 40,
   "metadata": {},
   "outputs": [
    {
     "data": {
      "text/plain": [
       "['Sony-NEX-7',\n",
       " 'iPhone-6',\n",
       " 'Sony-NEX-7',\n",
       " 'HTC-1-M7',\n",
       " 'HTC-1-M7',\n",
       " 'iPhone-4s',\n",
       " 'Sony-NEX-7',\n",
       " 'Sony-NEX-7',\n",
       " 'LG-Nexus-5x',\n",
       " 'Sony-NEX-7']"
      ]
     },
     "execution_count": 40,
     "metadata": {},
     "output_type": "execute_result"
    }
   ],
   "source": [
    "preds[:10]"
   ]
  },
  {
   "cell_type": "code",
   "execution_count": 41,
   "metadata": {},
   "outputs": [
    {
     "data": {
      "text/html": [
       "<div>\n",
       "<style scoped>\n",
       "    .dataframe tbody tr th:only-of-type {\n",
       "        vertical-align: middle;\n",
       "    }\n",
       "\n",
       "    .dataframe tbody tr th {\n",
       "        vertical-align: top;\n",
       "    }\n",
       "\n",
       "    .dataframe thead th {\n",
       "        text-align: right;\n",
       "    }\n",
       "</style>\n",
       "<table border=\"1\" class=\"dataframe\">\n",
       "  <thead>\n",
       "    <tr style=\"text-align: right;\">\n",
       "      <th></th>\n",
       "      <th>camera</th>\n",
       "    </tr>\n",
       "    <tr>\n",
       "      <th>fname</th>\n",
       "      <th></th>\n",
       "    </tr>\n",
       "  </thead>\n",
       "  <tbody>\n",
       "    <tr>\n",
       "      <th>img_0002a04_manip.tif</th>\n",
       "      <td>iPhone-6</td>\n",
       "    </tr>\n",
       "    <tr>\n",
       "      <th>img_001e31c_unalt.tif</th>\n",
       "      <td>iPhone-6</td>\n",
       "    </tr>\n",
       "    <tr>\n",
       "      <th>img_00275cf_manip.tif</th>\n",
       "      <td>iPhone-6</td>\n",
       "    </tr>\n",
       "    <tr>\n",
       "      <th>img_0034113_unalt.tif</th>\n",
       "      <td>iPhone-6</td>\n",
       "    </tr>\n",
       "    <tr>\n",
       "      <th>img_00344b7_unalt.tif</th>\n",
       "      <td>iPhone-6</td>\n",
       "    </tr>\n",
       "  </tbody>\n",
       "</table>\n",
       "</div>"
      ],
      "text/plain": [
       "                         camera\n",
       "fname                          \n",
       "img_0002a04_manip.tif  iPhone-6\n",
       "img_001e31c_unalt.tif  iPhone-6\n",
       "img_00275cf_manip.tif  iPhone-6\n",
       "img_0034113_unalt.tif  iPhone-6\n",
       "img_00344b7_unalt.tif  iPhone-6"
      ]
     },
     "execution_count": 41,
     "metadata": {},
     "output_type": "execute_result"
    }
   ],
   "source": [
    "subm = pd.read_csv('../submissions/sample_submission.csv', index_col='fname')\n",
    "subm.head()"
   ]
  },
  {
   "cell_type": "code",
   "execution_count": 42,
   "metadata": {},
   "outputs": [
    {
     "data": {
      "text/html": [
       "<div>\n",
       "<style scoped>\n",
       "    .dataframe tbody tr th:only-of-type {\n",
       "        vertical-align: middle;\n",
       "    }\n",
       "\n",
       "    .dataframe tbody tr th {\n",
       "        vertical-align: top;\n",
       "    }\n",
       "\n",
       "    .dataframe thead th {\n",
       "        text-align: right;\n",
       "    }\n",
       "</style>\n",
       "<table border=\"1\" class=\"dataframe\">\n",
       "  <thead>\n",
       "    <tr style=\"text-align: right;\">\n",
       "      <th></th>\n",
       "      <th>camera</th>\n",
       "    </tr>\n",
       "    <tr>\n",
       "      <th>fname</th>\n",
       "      <th></th>\n",
       "    </tr>\n",
       "  </thead>\n",
       "  <tbody>\n",
       "    <tr>\n",
       "      <th>img_0002a04_manip.tif</th>\n",
       "      <td>Sony-NEX-7</td>\n",
       "    </tr>\n",
       "    <tr>\n",
       "      <th>img_001e31c_unalt.tif</th>\n",
       "      <td>iPhone-6</td>\n",
       "    </tr>\n",
       "    <tr>\n",
       "      <th>img_00275cf_manip.tif</th>\n",
       "      <td>Sony-NEX-7</td>\n",
       "    </tr>\n",
       "    <tr>\n",
       "      <th>img_0034113_unalt.tif</th>\n",
       "      <td>HTC-1-M7</td>\n",
       "    </tr>\n",
       "    <tr>\n",
       "      <th>img_00344b7_unalt.tif</th>\n",
       "      <td>HTC-1-M7</td>\n",
       "    </tr>\n",
       "  </tbody>\n",
       "</table>\n",
       "</div>"
      ],
      "text/plain": [
       "                           camera\n",
       "fname                            \n",
       "img_0002a04_manip.tif  Sony-NEX-7\n",
       "img_001e31c_unalt.tif    iPhone-6\n",
       "img_00275cf_manip.tif  Sony-NEX-7\n",
       "img_0034113_unalt.tif    HTC-1-M7\n",
       "img_00344b7_unalt.tif    HTC-1-M7"
      ]
     },
     "execution_count": 42,
     "metadata": {},
     "output_type": "execute_result"
    }
   ],
   "source": [
    "subm['camera'] = preds\n",
    "subm.head()"
   ]
  },
  {
   "cell_type": "code",
   "execution_count": 43,
   "metadata": {},
   "outputs": [],
   "source": [
    "subm.to_csv('../submissions/xgboost-3.csv')"
   ]
  },
  {
   "cell_type": "code",
   "execution_count": 44,
   "metadata": {},
   "outputs": [
    {
     "data": {
      "text/plain": [
       "'/home/abanihi/devel/myprojects/Kaggle-Quest/Competitions/IEEE-Camera-Model-Identification/notebooks'"
      ]
     },
     "execution_count": 44,
     "metadata": {},
     "output_type": "execute_result"
    }
   ],
   "source": [
    "pwd"
   ]
  },
  {
   "cell_type": "code",
   "execution_count": null,
   "metadata": {},
   "outputs": [],
   "source": []
  }
 ],
 "metadata": {
  "kernelspec": {
   "display_name": "Python [conda env:dl-gpu]",
   "language": "python",
   "name": "conda-env-dl-gpu-py"
  },
  "language_info": {
   "codemirror_mode": {
    "name": "ipython",
    "version": 3
   },
   "file_extension": ".py",
   "mimetype": "text/x-python",
   "name": "python",
   "nbconvert_exporter": "python",
   "pygments_lexer": "ipython3",
   "version": "3.6.4"
  },
  "toc": {
   "nav_menu": {},
   "number_sections": true,
   "sideBar": true,
   "skip_h1_title": false,
   "toc_cell": true,
   "toc_position": {},
   "toc_section_display": "block",
   "toc_window_display": false
  }
 },
 "nbformat": 4,
 "nbformat_minor": 2
}
